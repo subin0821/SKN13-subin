{
 "cells": [
  {
   "cell_type": "markdown",
   "id": "da193321",
   "metadata": {
    "slideshow": {
     "slide_type": "slide"
    }
   },
   "source": [
    "# 자료구조란\n",
    "\n",
    "-   **여러 개의 값들을 모아서 관리**하는 데이터 타입.\n",
    "    -   한 개의 변수는 한 개의 값 밖에는 가지지 못한다. 그러나 하나의 변수로 여러 개의 값 관리해야 할 경우가 있다.\n",
    "    -   하나의 값이 여러개의 값들로 구성된 경우\n",
    "        -   한명의 고객 정보의 경우 이름, 나이, 주소, 전화번호 등 여러개의 값이 모여서 하나의 값이 된다.\n",
    "        -   한 반의 학생들의 이름들은 여러개의 이름들로 구성된다.\n",
    "-   파이썬은 데이터를 모으는 방식에 따라 다음과 같이 4개의 타입을 제공한다.\n",
    "    -   **List:** 순서가 있으며 중복된 값들을 모으는 것을 허용하고 구성하는 값들(원소)을 변경할 수 있다.\n",
    "    -   **Tuple:** 순서가 있으며 중복된 값들을 모으는 것을 허용하는데 구성하는 값들을 변경할 수 없다.\n",
    "    -   **Dictionary:** key-value 형태로 값들을 저장해 관리한다.\n",
    "    -   **Set:** 중복을 허용하지 않고 값들의 순서가 없다.\n",
    "-   **원소, 성분, 요소, element**\n",
    "    -   자료구조의 값들을 구성하는 개별 값들을 말한다.\n",
    "    -   len(자료구조) 함수\n",
    "        -   자료구조 내의 원소의 개수를 반환한다.\n",
    "ㅁ"
   ]
  },
  {
   "cell_type": "markdown",
   "id": "84431cfd",
   "metadata": {
    "slideshow": {
     "slide_type": "slide"
    }
   },
   "source": [
    "# List (리스트)\n",
    "\n",
    "-   값들을 순서대로 모아서 관리하는 자료구조. 원소(element)들을 순번을 이용해 식별한다.\n",
    "    -   각각의 원소가 어떤 값인지를 index(순번)을 가지고 식별하기 때문에 **순서가 있고 그 순서가 매우 중요하다.** 즉 같은 값에 대해 순서가 바뀌면 안된다.\n",
    "-   각각의 원소들은 index를 이용해 식별한다.\n",
    "    -   index는 문자열과 마찮가지로 양수 index와 음수 index 두개가 각 값에 생긴다.\n",
    "    -   양수 index는 앞에서부터 음수 index는 뒤에서 부터 값을 식별할 때 사용하는 것이 편리하다.\n",
    "    -   **index를 가지고 각 원소값의 의미를 식별할 수 있으면 List나 Tuple을 사용한다.**\n",
    "-   중복된 값들을 저장할 수 있다.\n",
    "-   각 원소들의 데이터 타입은 달라도 상관없다.\n",
    "    -   보통은 같은 타입의 데이터를 모은다.\n",
    "-   리스트를 구성하는 **원소들을 변경할 수 있다.** (추가, 삭제, 변경이 가능)\n",
    "    -   원소 변경 여부가 List와 Tuple의 차이이다.\n",
    "\n",
    "## List 생성 구문\n",
    "\n",
    "```python\n",
    "[값, 값, 값, ..]\n",
    "```\n"
   ]
  },
  {
   "cell_type": "code",
   "execution_count": 2,
   "id": "6eef6bd9",
   "metadata": {},
   "outputs": [
    {
     "name": "stdout",
     "output_type": "stream",
     "text": [
      "[10, 20, 30, 40, 50]\n"
     ]
    },
    {
     "data": {
      "text/plain": [
       "[10, 20, 30, 40, 50]"
      ]
     },
     "execution_count": 2,
     "metadata": {},
     "output_type": "execute_result"
    }
   ],
   "source": [
    "l1=[10, 20, 30, 40, 50]\n",
    "print(l1)\n",
    "l1"
   ]
  },
  {
   "cell_type": "code",
   "execution_count": 5,
   "id": "efc59691",
   "metadata": {
    "ExecuteTime": {
     "end_time": "2022-12-18T00:22:24.071490Z",
     "start_time": "2022-12-18T00:22:23.651455Z"
    },
    "slideshow": {
     "slide_type": "fragment"
    }
   },
   "outputs": [
    {
     "name": "stdout",
     "output_type": "stream",
     "text": [
      "<class 'list'>\n"
     ]
    },
    {
     "data": {
      "text/plain": [
       "True"
      ]
     },
     "execution_count": 5,
     "metadata": {},
     "output_type": "execute_result"
    }
   ],
   "source": [
    "type(l1)\n",
    "print(type(l1))\n",
    "type(l1)==list"
   ]
  },
  {
   "cell_type": "code",
   "execution_count": 103,
   "id": "d7edae74-74e6-498f-986e-7d90471c6128",
   "metadata": {},
   "outputs": [
    {
     "data": {
      "text/plain": [
       "['이순신', 30, '서울', 180.56, 79.21, 'O형', '010-1111-2234', 'true']"
      ]
     },
     "execution_count": 103,
     "metadata": {},
     "output_type": "execute_result"
    }
   ],
   "source": [
    "person1=[\"이순신\", 30, \"서울\", 180.56, 79.21, \"O형\", \"010-1111-2234\", \"true\"]\n",
    "person1"
   ]
  },
  {
   "cell_type": "code",
   "execution_count": 8,
   "id": "f51959ce-b1a7-4400-bb6f-3ad0c4663885",
   "metadata": {},
   "outputs": [],
   "source": [
    "l2=[100, 200, [300, 400], [500, [600, 700]]]\n",
    "# 리스트(자료구조)안에 원소로 리스트(자료구조)"
   ]
  },
  {
   "cell_type": "markdown",
   "id": "08d634bf",
   "metadata": {
    "slideshow": {
     "slide_type": "subslide"
    }
   },
   "source": [
    "## Indexing과 Slicing을 이용한 원소(element) 조회 및 변경\n",
    "\n",
    "### Indexing\n",
    "\n",
    "-   하나의 원소를 조회하거나 변경할 때 사용\n",
    "-   리스트\\[index\\]\n",
    "    -   index의 원소를 조회\n",
    "-   리스트\\[index\\] = 값\n",
    "    -   index의 원소를 변경\n"
   ]
  },
  {
   "cell_type": "markdown",
   "id": "ab5a40cb",
   "metadata": {
    "slideshow": {
     "slide_type": "fragment"
    }
   },
   "source": [
    "### Slicing\n",
    "\n",
    "-   범위로 조회하거나 그 범위의 값들을 변경한다.\n",
    "-   기본구문: **리스트\\[ 시작 index : 종료 index : 간격\\]**\n",
    "    -   시작 index ~ (종료 index – 1)\n",
    "    -   간격을 지정하면 간격만큼 index를 증/감한다. (생략 시 1이 기본 간격)\n",
    "-   **0번 index 부터 조회 할 경우 시작 index는 생략가능**\n",
    "    -   리스트 \\[ : 5\\] => 0 ~ 4 까지 조회\n",
    "-   **마지막 index까지 (끝까지) 조회 할 경우 종료 index는 생략 가능**\n",
    "    -   리스트\\[2 : \\] => 2번 index 에서 끝까지\n",
    "-   **명시적으로 간격을 줄 경우**\n",
    "    -   리스트\\[ : : 3 \\] => 0, 3, 6, 9.. index의 값 조회\n",
    "    -   리스트\\[1 : 9 : 2\\] => 1, 3, 5, 7 index의 값 조회\n",
    "-   **시작 index > 종료 index, 간격을 음수로 하면 역으로 반환한다.(Reverse)**\n",
    "    -   리스트\\[5: 1: -1\\] => 5, 4, 3, 2 index의 값 조회\n",
    "    -   리스트\\[: : -1\\] => 마지막 index ~ 0번 index 까지 의미. Reverse 한다.\n",
    "\n",
    "#### slicing을 이용한 값 변경\n",
    "\n",
    "-   slicing 을 이용할 경우 slicing된 원소 개수와 동일한 개수의 값들을 대입한다.\n",
    "    -   `리스트[1:5] = 10,20,30,40` : index 1, 2, 3, 4의 값을 각각 10, 20, 30, 40 으로 변경\n"
   ]
  },
  {
   "cell_type": "code",
   "execution_count": 18,
   "id": "a758ab6d",
   "metadata": {},
   "outputs": [
    {
     "name": "stdout",
     "output_type": "stream",
     "text": [
      "[0, 1, 2, 3, 4, 5, 6, 7, 8, 9]\n"
     ]
    }
   ],
   "source": [
    "l=[0, 1, 2, 3, 4, 5, 6, 7, 8, 9]\n",
    "#indexing\n",
    "print(l)"
   ]
  },
  {
   "cell_type": "code",
   "execution_count": 20,
   "id": "5d462776",
   "metadata": {
    "slideshow": {
     "slide_type": "fragment"
    }
   },
   "outputs": [
    {
     "name": "stdout",
     "output_type": "stream",
     "text": [
      "[0, 1, 2, 3, 4, 5, 6, 7, 8, 9]\n",
      "[10000, 1, 2, 3, 4, 5, 6, 7, 8, 9]\n"
     ]
    }
   ],
   "source": [
    "#변경\n",
    "print(l)\n",
    "l[0]=10_000\n",
    "print(l)"
   ]
  },
  {
   "cell_type": "code",
   "execution_count": 21,
   "id": "6e076820-49f8-4bc6-92a7-3f00e8677ba9",
   "metadata": {},
   "outputs": [
    {
     "name": "stdout",
     "output_type": "stream",
     "text": [
      "[10000, 1, 2, 3, 4, 5, 6, 7, 8, 9]\n"
     ]
    },
    {
     "data": {
      "text/plain": [
       "[1, 2, 3, 4, 5, 6, 7]"
      ]
     },
     "execution_count": 21,
     "metadata": {},
     "output_type": "execute_result"
    }
   ],
   "source": [
    "#slicing\n",
    "print(l)\n",
    "l[1:8]#간격:1"
   ]
  },
  {
   "cell_type": "code",
   "execution_count": 22,
   "id": "f391866a-f2b0-4c25-9153-6ca293a70e30",
   "metadata": {},
   "outputs": [
    {
     "data": {
      "text/plain": [
       "[1, 3, 5, 7]"
      ]
     },
     "execution_count": 22,
     "metadata": {},
     "output_type": "execute_result"
    }
   ],
   "source": [
    "l[1:8:2]"
   ]
  },
  {
   "cell_type": "code",
   "execution_count": 23,
   "id": "aaa3bbd8-c820-4e28-8bf3-1a66598496f3",
   "metadata": {},
   "outputs": [
    {
     "data": {
      "text/plain": [
       "[10000, 1, 2, 3, 4, 5, 6, 7]"
      ]
     },
     "execution_count": 23,
     "metadata": {},
     "output_type": "execute_result"
    }
   ],
   "source": [
    "l[:8]#0~8-1"
   ]
  },
  {
   "cell_type": "code",
   "execution_count": 24,
   "id": "0739f729-fdcb-4b39-8abf-3b3c6b669a90",
   "metadata": {},
   "outputs": [
    {
     "data": {
      "text/plain": [
       "[10000, 1, 2]"
      ]
     },
     "execution_count": 24,
     "metadata": {},
     "output_type": "execute_result"
    }
   ],
   "source": [
    "l[:3]#3~끝까지"
   ]
  },
  {
   "cell_type": "code",
   "execution_count": 25,
   "id": "1400fde2-17d4-4512-bb79-dd0f3e6338a4",
   "metadata": {},
   "outputs": [
    {
     "data": {
      "text/plain": [
       "[9, 8, 7, 6, 5, 4, 3, 2, 1, 0]"
      ]
     },
     "execution_count": 25,
     "metadata": {},
     "output_type": "execute_result"
    }
   ],
   "source": [
    "ㅣ[::-1]"
   ]
  },
  {
   "cell_type": "code",
   "execution_count": 26,
   "id": "d8da2ef8-ce67-4845-9fa6-d3a2619da286",
   "metadata": {},
   "outputs": [
    {
     "data": {
      "text/plain": [
       "[10000, 500, 600, 700, 4, 5, 6, 7, 8, 9]"
      ]
     },
     "execution_count": 26,
     "metadata": {},
     "output_type": "execute_result"
    }
   ],
   "source": [
    "#slicing변경\n",
    "l[1:4]=500, 600, 700 #개수가 맞아야 한다.\n",
    "l"
   ]
  },
  {
   "cell_type": "markdown",
   "id": "a4f9fe12",
   "metadata": {
    "slideshow": {
     "slide_type": "slide"
    }
   },
   "source": [
    "## List 연산자\n",
    "\n",
    "-   **리스트 + 리스트**\n",
    "    -   두 리스트의 원소들을 합친 리스트를 반환한다.\n",
    "-   **리스트 \\* 정수**\n",
    "    -   같은 리스트의 원소들을 정수번 합친 리스트를 반환한다.\n",
    "-   **in, not in 연산자**\n",
    "    -   값 in 리스트\n",
    "        -   리스트의 원소로 값이 **있으면** True, 없으면 False 반환\n",
    "    -   값 not in 리스트\n",
    "        -   리스트의 원소로 값이 **없으면** True, 있으면 False 반환\n",
    "-   **len(리스트)**\n",
    "    -   리스트 내의 원소수를 반환.\n"
   ]
  },
  {
   "cell_type": "code",
   "execution_count": 27,
   "id": "db069ee7",
   "metadata": {},
   "outputs": [
    {
     "name": "stdout",
     "output_type": "stream",
     "text": [
      "[1, 2, 3, 100, 200, 300, 400]\n"
     ]
    },
    {
     "data": {
      "text/plain": [
       "[100, 200, 300, 400]"
      ]
     },
     "execution_count": 27,
     "metadata": {},
     "output_type": "execute_result"
    }
   ],
   "source": [
    "a=[1, 2, 3]\n",
    "b=[100, 200, 300, 400]\n",
    "c=a+b\n",
    "print(c)\n",
    "b"
   ]
  },
  {
   "cell_type": "code",
   "execution_count": 28,
   "id": "f085e817",
   "metadata": {
    "ExecuteTime": {
     "end_time": "2022-12-17T14:17:03.293505Z",
     "start_time": "2022-12-17T14:17:03.285501Z"
    },
    "slideshow": {
     "slide_type": "fragment"
    }
   },
   "outputs": [
    {
     "data": {
      "text/plain": [
       "[1, 2, 3, 1, 2, 3, 1, 2, 3, 1, 2, 3]"
      ]
     },
     "execution_count": 28,
     "metadata": {},
     "output_type": "execute_result"
    }
   ],
   "source": [
    "d=a*4\n",
    "d"
   ]
  },
  {
   "cell_type": "code",
   "execution_count": 29,
   "id": "955f700f-0513-4d67-b6cc-4216caf4be3d",
   "metadata": {},
   "outputs": [
    {
     "data": {
      "text/plain": [
       "False"
      ]
     },
     "execution_count": 29,
     "metadata": {},
     "output_type": "execute_result"
    }
   ],
   "source": [
    "#원소 in 리스트\n",
    "2 in c\n",
    "40404 in c"
   ]
  },
  {
   "cell_type": "code",
   "execution_count": 30,
   "id": "3e4b991a-c1ad-4ebd-a260-4d04c1682b60",
   "metadata": {},
   "outputs": [
    {
     "data": {
      "text/plain": [
       "True"
      ]
     },
     "execution_count": 30,
     "metadata": {},
     "output_type": "execute_result"
    }
   ],
   "source": [
    "2 not in c\n",
    "40404 not in c"
   ]
  },
  {
   "cell_type": "markdown",
   "id": "f90af754",
   "metadata": {
    "slideshow": {
     "slide_type": "slide"
    }
   },
   "source": [
    "## 중첩 리스트 (Nested List)\n",
    "\n",
    "-   List가 원소로 List를 가지는 것을 말한다.\n",
    "    -   List를 포함한 모든 자료구조 타입들도 다 값이므로 다른 자료구조의 원소로 들어갈 수 있다.\n"
   ]
  },
  {
   "cell_type": "code",
   "execution_count": 34,
   "id": "4f52b717",
   "metadata": {},
   "outputs": [],
   "source": [
    "l= [\n",
    "    [1, 2, 3],\n",
    "    [10, 20, 30],\n",
    "    [100, 200, 300]\n",
    "]"
   ]
  },
  {
   "cell_type": "code",
   "execution_count": 35,
   "id": "01bede57",
   "metadata": {
    "slideshow": {
     "slide_type": "fragment"
    }
   },
   "outputs": [
    {
     "data": {
      "text/plain": [
       "10"
      ]
     },
     "execution_count": 35,
     "metadata": {},
     "output_type": "execute_result"
    }
   ],
   "source": [
    "l[1][0]"
   ]
  },
  {
   "cell_type": "code",
   "execution_count": 36,
   "id": "2dfd6c46",
   "metadata": {
    "slideshow": {
     "slide_type": "fragment"
    }
   },
   "outputs": [
    {
     "data": {
      "text/plain": [
       "10"
      ]
     },
     "execution_count": 36,
     "metadata": {},
     "output_type": "execute_result"
    }
   ],
   "source": [
    "l[1][0]"
   ]
  },
  {
   "cell_type": "code",
   "execution_count": 37,
   "id": "92a929c9-f86b-465a-bea2-fbe77e74b9e7",
   "metadata": {},
   "outputs": [
    {
     "data": {
      "text/plain": [
       "100"
      ]
     },
     "execution_count": 37,
     "metadata": {},
     "output_type": "execute_result"
    }
   ],
   "source": [
    "l[-1][0]"
   ]
  },
  {
   "cell_type": "markdown",
   "id": "826b8780",
   "metadata": {
    "slideshow": {
     "slide_type": "slide"
    }
   },
   "source": [
    "## List 주요 메소드\n",
    "\n",
    "| 메소드                       | 설명                                                                                 |\n",
    "| :--------------------------- | ------------------------------------------------------------------------------------ |\n",
    "| append(value)                | value를 추가한다.                                                                    |\n",
    "| extend(List)                 | List의 원소들을 추가한다.                                                            |\n",
    "| sort(\\[reverse=False\\])      | 원소들을 오름차순 정렬한다. reverse=True로 하면 내림차순정렬 한다.                   |\n",
    "| insert(index, 삽입할값)      | 지정한 index에 '삽입할값'을 삽입한다.                                                |\n",
    "| remove(삭제할값)             | '삭제할값' 값과 같은 원소를 삭제한다.                                                |\n",
    "| index(찾을값\\[, 시작index\\]) | '찾을값'의 index를 반환한다.                                                         |\n",
    "| pop(\\[index\\])               | index의 값을 반환하면서 삭제한다. index 생략하면 가장 마지막 값을 반환하며 삭제한다. |\n",
    "| count(값)                    | '값'이 리스트의 원소로 몇개 있는지 반환한다.                                         |\n",
    "| clear()                      | 리스트 안의 모든 원소들을 삭제한다.                                                  |\n"
   ]
  },
  {
   "cell_type": "code",
   "execution_count": 38,
   "id": "041be1da",
   "metadata": {},
   "outputs": [
    {
     "data": {
      "text/plain": [
       "[10, 20, 30, 100]"
      ]
     },
     "execution_count": 38,
     "metadata": {},
     "output_type": "execute_result"
    }
   ],
   "source": [
    "l=[10, 20, 30]\n",
    "l.append(100) #한개씩 추가.\n",
    "l"
   ]
  },
  {
   "cell_type": "code",
   "execution_count": 39,
   "id": "4b14d8e8",
   "metadata": {
    "slideshow": {
     "slide_type": "fragment"
    }
   },
   "outputs": [
    {
     "data": {
      "text/plain": [
       "[10, 20, 30, 100, 1, 2, 3, 4]"
      ]
     },
     "execution_count": 39,
     "metadata": {},
     "output_type": "execute_result"
    }
   ],
   "source": [
    "l.extend([1, 2, 3, 4]) #여러개 값 추가\n",
    "l"
   ]
  },
  {
   "cell_type": "code",
   "execution_count": 41,
   "id": "74360ef8-6803-452c-9394-235aab061c1b",
   "metadata": {},
   "outputs": [],
   "source": [
    "#뒤가 아닌 중간 삽입\n",
    "l.insert(2,5000)"
   ]
  },
  {
   "cell_type": "code",
   "execution_count": 42,
   "id": "356b4f5a-f4fc-42f4-99e5-7ea3e600428b",
   "metadata": {},
   "outputs": [
    {
     "data": {
      "text/plain": [
       "[10, 20, 5000, 30, 100, 1, 2, 3, 4]"
      ]
     },
     "execution_count": 42,
     "metadata": {},
     "output_type": "execute_result"
    }
   ],
   "source": [
    "l"
   ]
  },
  {
   "cell_type": "code",
   "execution_count": null,
   "id": "e18b01cb-a75a-48c9-b7b6-a76a10e67f5a",
   "metadata": {},
   "outputs": [],
   "source": [
    "#정렬- sorted() 함수, sort() list의 메소드\n",
    "#sorted() 함수 - 모든 자료구조를 받아서 정렬 한 결과를 list로 반환. (원본을 정렬하지 않는다.)\n",
    "#sort()메소드 -  list용. List 자체를 정렬."
   ]
  },
  {
   "cell_type": "code",
   "execution_count": 43,
   "id": "e24bffb4-12e7-492d-baad-d7075ccdd2d7",
   "metadata": {},
   "outputs": [
    {
     "data": {
      "text/plain": [
       "[1, 2, 3, 4, 10, 20, 30, 100, 5000]"
      ]
     },
     "execution_count": 43,
     "metadata": {},
     "output_type": "execute_result"
    }
   ],
   "source": [
    "sorted(l) #오름차순 (보여주고 끝)"
   ]
  },
  {
   "cell_type": "code",
   "execution_count": 44,
   "id": "390b7534-5b12-4fb2-8761-8ed3453249fc",
   "metadata": {},
   "outputs": [
    {
     "data": {
      "text/plain": [
       "[1, 2, 3, 4, 10, 20, 30, 100, 5000]"
      ]
     },
     "execution_count": 44,
     "metadata": {},
     "output_type": "execute_result"
    }
   ],
   "source": [
    "result =sorted(l)\n",
    "result"
   ]
  },
  {
   "cell_type": "code",
   "execution_count": 45,
   "id": "309f2af5-dd79-480c-bd7b-b84c1f1ebfd8",
   "metadata": {},
   "outputs": [
    {
     "data": {
      "text/plain": [
       "[5000, 100, 30, 20, 10, 4, 3, 2, 1]"
      ]
     },
     "execution_count": 45,
     "metadata": {},
     "output_type": "execute_result"
    }
   ],
   "source": [
    "sorted(l, reverse=True) #내림차순"
   ]
  },
  {
   "cell_type": "code",
   "execution_count": 46,
   "id": "815f88d7-f61e-4b74-9fd5-de0172cf22ba",
   "metadata": {},
   "outputs": [],
   "source": [
    "l.sort() #오름차순"
   ]
  },
  {
   "cell_type": "code",
   "execution_count": 47,
   "id": "0785e712-7a0f-47d5-b7d6-86c651f1b18b",
   "metadata": {},
   "outputs": [
    {
     "data": {
      "text/plain": [
       "[1, 2, 3, 4, 10, 20, 30, 100, 5000]"
      ]
     },
     "execution_count": 47,
     "metadata": {},
     "output_type": "execute_result"
    }
   ],
   "source": [
    "l"
   ]
  },
  {
   "cell_type": "code",
   "execution_count": 48,
   "id": "f9072025-6784-451f-ad39-f5680200288e",
   "metadata": {},
   "outputs": [],
   "source": [
    "l.sort(reverse=True)"
   ]
  },
  {
   "cell_type": "code",
   "execution_count": 49,
   "id": "ff0879ea-9ad2-4f79-9b97-d543c2f11bc3",
   "metadata": {},
   "outputs": [
    {
     "data": {
      "text/plain": [
       "[5000, 100, 30, 20, 10, 4, 3, 2, 1]"
      ]
     },
     "execution_count": 49,
     "metadata": {},
     "output_type": "execute_result"
    }
   ],
   "source": [
    "l"
   ]
  },
  {
   "cell_type": "code",
   "execution_count": 50,
   "id": "a75f28f1-d63a-4f37-b4cb-8673dab167a1",
   "metadata": {},
   "outputs": [],
   "source": [
    "#삭제\n",
    "##값으로 삭제\n",
    "l.remove(100)"
   ]
  },
  {
   "cell_type": "code",
   "execution_count": 51,
   "id": "ed306ec8-6182-4c4c-89a8-d8df245738e6",
   "metadata": {},
   "outputs": [
    {
     "data": {
      "text/plain": [
       "[5000, 30, 20, 10, 4, 3, 2, 1]"
      ]
     },
     "execution_count": 51,
     "metadata": {},
     "output_type": "execute_result"
    }
   ],
   "source": [
    "l"
   ]
  },
  {
   "cell_type": "code",
   "execution_count": 52,
   "id": "a3d71808-1d64-4092-9ab7-b0a73571fc93",
   "metadata": {},
   "outputs": [
    {
     "data": {
      "text/plain": [
       "5000"
      ]
     },
     "execution_count": 52,
     "metadata": {},
     "output_type": "execute_result"
    }
   ],
   "source": [
    "#index로 삭제 - 삭제한 값을 반환해줌,\n",
    "l.pop(0)"
   ]
  },
  {
   "cell_type": "code",
   "execution_count": 53,
   "id": "4125542e-8997-4f7e-8016-7d4085ab67d4",
   "metadata": {},
   "outputs": [
    {
     "data": {
      "text/plain": [
       "[30, 20, 10, 4, 3, 2, 1]"
      ]
     },
     "execution_count": 53,
     "metadata": {},
     "output_type": "execute_result"
    }
   ],
   "source": [
    "l"
   ]
  },
  {
   "cell_type": "code",
   "execution_count": 54,
   "id": "e0f5078d-1340-43a9-8f04-6e544f098c12",
   "metadata": {},
   "outputs": [
    {
     "data": {
      "text/plain": [
       "1"
      ]
     },
     "execution_count": 54,
     "metadata": {},
     "output_type": "execute_result"
    }
   ],
   "source": [
    "l.pop() #마지막 index값을 삭제"
   ]
  },
  {
   "cell_type": "code",
   "execution_count": 55,
   "id": "362c6ddd-093e-4d56-a548-2a94909f948f",
   "metadata": {},
   "outputs": [
    {
     "data": {
      "text/plain": [
       "[30, 20, 10, 4, 3, 2]"
      ]
     },
     "execution_count": 55,
     "metadata": {},
     "output_type": "execute_result"
    }
   ],
   "source": [
    "l"
   ]
  },
  {
   "cell_type": "code",
   "execution_count": 56,
   "id": "b142c73e-924d-49bc-9759-fe9b2d46959f",
   "metadata": {},
   "outputs": [
    {
     "data": {
      "text/plain": [
       "[]"
      ]
     },
     "execution_count": 56,
     "metadata": {},
     "output_type": "execute_result"
    }
   ],
   "source": [
    "l.clear()#모두 삭제\n",
    "l"
   ]
  },
  {
   "cell_type": "code",
   "execution_count": 57,
   "id": "144a854d-5018-40db-b868-36822bab0115",
   "metadata": {},
   "outputs": [
    {
     "data": {
      "text/plain": [
       "False"
      ]
     },
     "execution_count": 57,
     "metadata": {},
     "output_type": "execute_result"
    }
   ],
   "source": [
    "bool(l) #원소가 없음."
   ]
  },
  {
   "cell_type": "code",
   "execution_count": 58,
   "id": "309a2bc8-0a1d-4e1f-902c-a2ec4cfda343",
   "metadata": {},
   "outputs": [
    {
     "data": {
      "text/plain": [
       "True"
      ]
     },
     "execution_count": 58,
     "metadata": {},
     "output_type": "execute_result"
    }
   ],
   "source": [
    "bool(l1) #하나라도 값이 있음."
   ]
  },
  {
   "cell_type": "markdown",
   "id": "5b28f033",
   "metadata": {
    "slideshow": {
     "slide_type": "slide"
    }
   },
   "source": [
    "# Tuple (튜플)\n",
    "\n",
    "-   List와 같이 순서대로 원소들을 관리한다. 단 저장된 원소를 변경할 수 없다.\n",
    "-   Tuple 은 각 위치(Index) 마다 정해진 의미가 있고 그 값이 한번 설정되면 바뀌지 않는 경우에 사용한다.\n",
    "    -   Tuple은 값의 변경되지 않으므로 안전하다.\n",
    "\n",
    "## Tuple 생성\n",
    "\n",
    "-   `(value, value, value, ...)`\n",
    "-   소괄호를 생략할 수 있다.\n",
    "-   원소가 하나인 Tuple 표현식\n",
    "    -   `(value,)` 또는 `value,`\n",
    "        -   값 뒤에 `,` 를 붙여준다. `,`를 붙이지 않으면 ( )가 연산자 우선순위 괄호가 된다.\n"
   ]
  },
  {
   "cell_type": "code",
   "execution_count": 59,
   "id": "f7f96391",
   "metadata": {},
   "outputs": [
    {
     "data": {
      "text/plain": [
       "(1, 2, 3, 4, 5)"
      ]
     },
     "execution_count": 59,
     "metadata": {},
     "output_type": "execute_result"
    }
   ],
   "source": [
    "t1=(1, 2, 3, 4, 5)\n",
    "t1"
   ]
  },
  {
   "cell_type": "code",
   "execution_count": 60,
   "id": "17099a9e",
   "metadata": {
    "slideshow": {
     "slide_type": "fragment"
    }
   },
   "outputs": [
    {
     "data": {
      "text/plain": [
       "(10, 20, 30, 40, 50)"
      ]
     },
     "execution_count": 60,
     "metadata": {},
     "output_type": "execute_result"
    }
   ],
   "source": [
    "t2=10, 20, 30, 40, 50 #괄호 생략 가능\n",
    "t2"
   ]
  },
  {
   "cell_type": "code",
   "execution_count": 61,
   "id": "0f540e95-b4f6-4a12-ab22-03876a88a64d",
   "metadata": {},
   "outputs": [
    {
     "data": {
      "text/plain": [
       "100"
      ]
     },
     "execution_count": 61,
     "metadata": {},
     "output_type": "execute_result"
    }
   ],
   "source": [
    "t3=(100) #원소가 하나\n",
    "t3"
   ]
  },
  {
   "cell_type": "code",
   "execution_count": 62,
   "id": "c318a5c4-8b2a-4de6-bfa0-09eac98a6db7",
   "metadata": {},
   "outputs": [
    {
     "data": {
      "text/plain": [
       "int"
      ]
     },
     "execution_count": 62,
     "metadata": {},
     "output_type": "execute_result"
    }
   ],
   "source": [
    "type(t3) #연산자 우선순위와 관련하여 소괄호를 사용하므로 위의 경우는 연산자 우선순위로 인식."
   ]
  },
  {
   "cell_type": "code",
   "execution_count": 63,
   "id": "034fceb7-5743-4711-9f8a-cf7a417433b3",
   "metadata": {},
   "outputs": [
    {
     "data": {
      "text/plain": [
       "tuple"
      ]
     },
     "execution_count": 63,
     "metadata": {},
     "output_type": "execute_result"
    }
   ],
   "source": [
    "t3=(100,)\n",
    "type(t3) #원소가 하나일 경우인데 tuple로 묶어주고 싶을때 쉼표 사용(정수 표시할때 실수로 ,표기하여 tuple되지 않게 주의!)"
   ]
  },
  {
   "cell_type": "code",
   "execution_count": 64,
   "id": "28e817a6-b3d6-4956-902e-3bef9d10ef50",
   "metadata": {},
   "outputs": [
    {
     "data": {
      "text/plain": [
       "tuple"
      ]
     },
     "execution_count": 64,
     "metadata": {},
     "output_type": "execute_result"
    }
   ],
   "source": [
    "t4=200,\n",
    "type(t4)"
   ]
  },
  {
   "cell_type": "code",
   "execution_count": 68,
   "id": "85c144f7-e3ae-4ce2-a171-267372c8510b",
   "metadata": {},
   "outputs": [
    {
     "data": {
      "text/plain": [
       "('A', 100, 30.2, True)"
      ]
     },
     "execution_count": 68,
     "metadata": {},
     "output_type": "execute_result"
    }
   ],
   "source": [
    "t5=(\"A\", 100, 30.2, True)\n",
    "t5"
   ]
  },
  {
   "cell_type": "code",
   "execution_count": null,
   "id": "c87c5a29-0ee6-42da-9621-089814091fe7",
   "metadata": {},
   "outputs": [],
   "source": []
  },
  {
   "cell_type": "code",
   "execution_count": null,
   "id": "ef212ef5-c6a9-4497-8188-8be53597c219",
   "metadata": {},
   "outputs": [],
   "source": []
  },
  {
   "cell_type": "markdown",
   "id": "16954356",
   "metadata": {
    "slideshow": {
     "slide_type": "slide"
    }
   },
   "source": [
    "## Indexing과 Slicing을 이용한 원소(element) 조회\n",
    "\n",
    "-   리스트와 동일하다.\n",
    "-   단 튜플은 조회만 가능하고 원소를 변경할 수 없다.\n"
   ]
  },
  {
   "cell_type": "code",
   "execution_count": 65,
   "id": "fa92bc45",
   "metadata": {},
   "outputs": [
    {
     "data": {
      "text/plain": [
       "1"
      ]
     },
     "execution_count": 65,
     "metadata": {},
     "output_type": "execute_result"
    }
   ],
   "source": [
    "t1[0]"
   ]
  },
  {
   "cell_type": "code",
   "execution_count": 66,
   "id": "6c5b9b2c",
   "metadata": {
    "slideshow": {
     "slide_type": "fragment"
    }
   },
   "outputs": [
    {
     "ename": "TypeError",
     "evalue": "'tuple' object does not support item assignment",
     "output_type": "error",
     "traceback": [
      "\u001b[31m---------------------------------------------------------------------------\u001b[39m",
      "\u001b[31mTypeError\u001b[39m                                 Traceback (most recent call last)",
      "\u001b[36mCell\u001b[39m\u001b[36m \u001b[39m\u001b[32mIn[66]\u001b[39m\u001b[32m, line 1\u001b[39m\n\u001b[32m----> \u001b[39m\u001b[32m1\u001b[39m \u001b[43mt1\u001b[49m\u001b[43m[\u001b[49m\u001b[32;43m0\u001b[39;49m\u001b[43m]\u001b[49m=\u001b[32m1000\u001b[39m\n",
      "\u001b[31mTypeError\u001b[39m: 'tuple' object does not support item assignment"
     ]
    }
   ],
   "source": [
    "t1[0]=1000"
   ]
  },
  {
   "cell_type": "code",
   "execution_count": 67,
   "id": "af299fc5-3fd0-4770-9296-342130bfd7bf",
   "metadata": {},
   "outputs": [
    {
     "data": {
      "text/plain": [
       "(2, 3, 4)"
      ]
     },
     "execution_count": 67,
     "metadata": {},
     "output_type": "execute_result"
    }
   ],
   "source": [
    "t1[1:4]"
   ]
  },
  {
   "cell_type": "markdown",
   "id": "135101f3",
   "metadata": {
    "slideshow": {
     "slide_type": "slide"
    }
   },
   "source": [
    "## Tuple 연산자\n",
    "\n",
    "-   **tuple + tuple**\n",
    "    -   두 tuple의 원소들을 합친 tuple을 반환한다.\n",
    "-   **tuple \\* 정수**\n",
    "    -   같은 tuple의 원소들을 정수번 합친 tuple를 반환한다.\n",
    "-   **in, not in 연산자**\n",
    "    -   값 in tuple\n",
    "        -   tuple의 원소로 값이 **있으면** True, 없으면 False 반환\n",
    "    -   값 not in tuple\n",
    "        -   tuple의 원소로 값이 **없으면** True, 있으면 False 반환\n",
    "-   **len(tuple)**\n",
    "    -   tuple의 원소 개수 반환\n"
   ]
  },
  {
   "cell_type": "code",
   "execution_count": 69,
   "id": "c39c878c",
   "metadata": {},
   "outputs": [
    {
     "data": {
      "text/plain": [
       "5"
      ]
     },
     "execution_count": 69,
     "metadata": {},
     "output_type": "execute_result"
    }
   ],
   "source": [
    "len(t1)"
   ]
  },
  {
   "cell_type": "code",
   "execution_count": 70,
   "id": "b5235f9e-52bc-4c6a-8b51-5982fe9021de",
   "metadata": {},
   "outputs": [
    {
     "data": {
      "text/plain": [
       "(1, 2, 3, 4, 5, 10, 20, 30, 40, 50)"
      ]
     },
     "execution_count": 70,
     "metadata": {},
     "output_type": "execute_result"
    }
   ],
   "source": [
    "t1+t2 #기존 tuple원소 조회 후 새로운 tuple 생성(기존 tuple은 바뀌지 않음)"
   ]
  },
  {
   "cell_type": "code",
   "execution_count": 71,
   "id": "4e42a7e7-d9fb-44a3-8a3a-25a18bda0bc8",
   "metadata": {},
   "outputs": [
    {
     "data": {
      "text/plain": [
       "(1, 2, 3, 4, 5, 10, 20, 30, 40, 50)"
      ]
     },
     "execution_count": 71,
     "metadata": {},
     "output_type": "execute_result"
    }
   ],
   "source": [
    "t6=t1+t2\n",
    "t6"
   ]
  },
  {
   "cell_type": "code",
   "execution_count": 72,
   "id": "a7fb8865-5ea6-4afc-a0a1-7af2cb7197d9",
   "metadata": {},
   "outputs": [
    {
     "data": {
      "text/plain": [
       "(1, 2, 3, 4, 5, 1, 2, 3, 4, 5, 1, 2, 3, 4, 5)"
      ]
     },
     "execution_count": 72,
     "metadata": {},
     "output_type": "execute_result"
    }
   ],
   "source": [
    "t1*3"
   ]
  },
  {
   "cell_type": "code",
   "execution_count": 74,
   "id": "757a7edf-43f1-45b5-8eba-9250781c3445",
   "metadata": {},
   "outputs": [
    {
     "data": {
      "text/plain": [
       "True"
      ]
     },
     "execution_count": 74,
     "metadata": {},
     "output_type": "execute_result"
    }
   ],
   "source": [
    "1 in t1"
   ]
  },
  {
   "cell_type": "code",
   "execution_count": 75,
   "id": "f8e2d977-139e-488c-bf80-6fa1614c04a6",
   "metadata": {},
   "outputs": [
    {
     "data": {
      "text/plain": [
       "False"
      ]
     },
     "execution_count": 75,
     "metadata": {},
     "output_type": "execute_result"
    }
   ],
   "source": [
    "1 not in t1"
   ]
  },
  {
   "cell_type": "markdown",
   "id": "89803fdd",
   "metadata": {
    "slideshow": {
     "slide_type": "subslide"
    }
   },
   "source": [
    "## Tuple의 주요 메소드\n",
    "\n",
    "| 메소드                        | 설명                                |\n",
    "| :---------------------------- | ----------------------------------- |\n",
    "| index(찾을값 \\[, 시작index\\]) | '찾을값'이 몇번 index인지 반환한다. |\n",
    "| count(값)                     | 원소로 '값'이 몇개 있는지 반환한다. |\n"
   ]
  },
  {
   "cell_type": "code",
   "execution_count": 76,
   "id": "e8e4d78e",
   "metadata": {},
   "outputs": [
    {
     "data": {
      "text/plain": [
       "0"
      ]
     },
     "execution_count": 76,
     "metadata": {},
     "output_type": "execute_result"
    }
   ],
   "source": [
    "t10=(100, 2, 500, 100, 20, 4, 2)\n",
    "t10.index(100) #다 찾아 주지는 않고 순서대로 찾다가 찾으면 반환 따라서, 어러개일 경우 앞쪽에 있는것만 반환,"
   ]
  },
  {
   "cell_type": "code",
   "execution_count": 77,
   "id": "93a527af",
   "metadata": {
    "slideshow": {
     "slide_type": "fragment"
    }
   },
   "outputs": [
    {
     "data": {
      "text/plain": [
       "3"
      ]
     },
     "execution_count": 77,
     "metadata": {},
     "output_type": "execute_result"
    }
   ],
   "source": [
    "t10.index(100, 1) #1번부터 찾음"
   ]
  },
  {
   "cell_type": "code",
   "execution_count": 80,
   "id": "99b3b784-e6f3-4d8d-a27a-4306b33e1e26",
   "metadata": {},
   "outputs": [
    {
     "data": {
      "text/plain": [
       "3"
      ]
     },
     "execution_count": 80,
     "metadata": {},
     "output_type": "execute_result"
    }
   ],
   "source": [
    "t10[::-1].index(100) #역순으로 "
   ]
  },
  {
   "cell_type": "code",
   "execution_count": 79,
   "id": "a95629ea-2cfc-4887-8f1b-ad50f7b63089",
   "metadata": {},
   "outputs": [
    {
     "data": {
      "text/plain": [
       "2"
      ]
     },
     "execution_count": 79,
     "metadata": {},
     "output_type": "execute_result"
    }
   ],
   "source": [
    "t10.count(100) #원소중에 100이 몇개 있는지"
   ]
  },
  {
   "cell_type": "code",
   "execution_count": 81,
   "id": "911b7221-ec24-4306-b28a-217cedbf6335",
   "metadata": {},
   "outputs": [
    {
     "data": {
      "text/plain": [
       "[2, 2, 4, 20, 100, 100, 500]"
      ]
     },
     "execution_count": 81,
     "metadata": {},
     "output_type": "execute_result"
    }
   ],
   "source": [
    "#정렬 -> sorted() 함수 --> sorted()는 반환타입이 list\n",
    "sorted(t10) #값을 바꾸지 못하므로 값들을 정렬한 새로운 리스트를 받는것."
   ]
  },
  {
   "cell_type": "code",
   "execution_count": 131,
   "id": "bce3d532-699f-486e-b2fc-3cb421fdba09",
   "metadata": {},
   "outputs": [
    {
     "data": {
      "text/plain": [
       "{}"
      ]
     },
     "execution_count": 131,
     "metadata": {},
     "output_type": "execute_result"
    }
   ],
   "source": [
    "d1.clear()\n",
    "d1"
   ]
  },
  {
   "cell_type": "code",
   "execution_count": 132,
   "id": "50f02c7d-94ab-4115-aa87-1a90faf04680",
   "metadata": {},
   "outputs": [
    {
     "name": "stdout",
     "output_type": "stream",
     "text": [
      "dict_keys(['이름', '나이', '결혼여부', '취미', '주소', '전화번호'])\n"
     ]
    }
   ],
   "source": [
    "#키값들만 모아서 조회\n",
    "keys=d2.keys()\n",
    "print(keys)"
   ]
  },
  {
   "cell_type": "code",
   "execution_count": 134,
   "id": "fd4579d1-94fe-4753-bfa0-3622673abba5",
   "metadata": {},
   "outputs": [
    {
     "data": {
      "text/plain": [
       "dict_values(['홍길동', 25, False, ['영화감상', '독서', '음악감상'], {'시': '서울시', '구': '금천구', '동': '독산동'}, '010-2345-3422'])"
      ]
     },
     "execution_count": 134,
     "metadata": {},
     "output_type": "execute_result"
    }
   ],
   "source": [
    "#값들만 모아서 조회\n",
    "values=d2.values()\n",
    "values  #list와 비슷한 역할"
   ]
  },
  {
   "cell_type": "code",
   "execution_count": 135,
   "id": "12dc1e35-d16c-4052-bf6a-e85ea216130e",
   "metadata": {},
   "outputs": [
    {
     "data": {
      "text/plain": [
       "dict_items([('이름', '홍길동'), ('나이', 25), ('결혼여부', False), ('취미', ['영화감상', '독서', '음악감상']), ('주소', {'시': '서울시', '구': '금천구', '동': '독산동'}), ('전화번호', '010-2345-3422')])"
      ]
     },
     "execution_count": 135,
     "metadata": {},
     "output_type": "execute_result"
    }
   ],
   "source": [
    "#key-value 모아서 반환. item: (key,value)\n",
    "items = d2.items()\n",
    "items"
   ]
  },
  {
   "cell_type": "markdown",
   "id": "e6c196f5",
   "metadata": {
    "slideshow": {
     "slide_type": "slide"
    }
   },
   "source": [
    "# Dictionary\n",
    "\n",
    "-   값을 키(key)-값(value) 쌍으로 묶어서 저장하는 자료구조이다.\n",
    "    -   리스트나 튜플의 index의 역할을 하는 key를 직접 지정한다.\n",
    "    -   서로 의미가 다른 값들을 하나로 묶을 때 그 값의 의미를 key로 가질 수 있는 dictionary를 사용한다.\n",
    "        -   cf) 값의 의미가 같을 경우 List나 Tuple을 사용한다.\n",
    "    -   key-value 쌍으로 묶은 데이터 한개를 **item 또는 entry**라고 한다.\n",
    "    -   key는 중복을 허용하지 않고 value는 중복을 허용한다.\n",
    "\n",
    "## Dictionary 생성\n",
    "\n",
    "-   구문\n",
    "    1. `{ 키 : 값, 키 : 값, 키 : 값 }`\n",
    "    2. dict(key=value, key=value) 함수 이용\n",
    "    -   키(key)는 불변(Immutable)의 값들만 사용 가능하다. (숫자, 문자열, 튜플) 일반적으로 문자열을 사용한다.\n",
    "    -   dict() 함수를 사용할 경우 key는 변수로 정의한다\n"
   ]
  },
  {
   "cell_type": "code",
   "execution_count": 82,
   "id": "18611386",
   "metadata": {},
   "outputs": [],
   "source": [
    "d1={\"이름\":\"홍길동\", \"나이\":20, \"결혼여부\":False}"
   ]
  },
  {
   "cell_type": "code",
   "execution_count": 88,
   "id": "d9d37f28",
   "metadata": {
    "slideshow": {
     "slide_type": "fragment"
    }
   },
   "outputs": [],
   "source": [
    "d2={\n",
    "    \"이름\":\"홍길동\", \n",
    "    \"나이\":20, \n",
    "    \"결혼여부\":False,\n",
    "    \"취미\":[\"영화감상\", \"독서\", \"음악감상\"],\n",
    "    \"주소\":{\"시\":\"서울시\", \"구\":\"금천구\"}\n",
    "}"
   ]
  },
  {
   "cell_type": "code",
   "execution_count": 89,
   "id": "f2afd17c-a8ed-4aa4-8189-fb812a2829be",
   "metadata": {},
   "outputs": [
    {
     "data": {
      "text/plain": [
       "{'이름': '홍길동',\n",
       " '나이': 20,\n",
       " '결혼여부': False,\n",
       " '취미': ['영화감상', '독서', '음악감상'],\n",
       " '주소': {'시': '서울시', '구': '금천구'}}"
      ]
     },
     "execution_count": 89,
     "metadata": {},
     "output_type": "execute_result"
    }
   ],
   "source": [
    "d2"
   ]
  },
  {
   "cell_type": "code",
   "execution_count": 90,
   "id": "a96dc949-6085-4dad-a2de-5cf8ac9cc192",
   "metadata": {},
   "outputs": [
    {
     "data": {
      "text/plain": [
       "{'이름': '홍길동', '나이': 30, '주소': '서울시 금천구', '취미': ['게임', '야구']}"
      ]
     },
     "execution_count": 90,
     "metadata": {},
     "output_type": "execute_result"
    }
   ],
   "source": [
    "d3=dict(이름=\"홍길동\", 나이=30, 주소=\"서울시 금천구\", 취미=[\"게임\", \"야구\"])\n",
    "d3"
   ]
  },
  {
   "cell_type": "markdown",
   "id": "f8c87bd3",
   "metadata": {
    "slideshow": {
     "slide_type": "subslide"
    }
   },
   "source": [
    "## Dictionary 원소 조회 및 변경\n",
    "\n",
    "-   조회: index에 key값을 식별자로 지정한다.\n",
    "    -   dictionary\\[ key \\]\n",
    "    -   없는 키로 조회 시 KeyError 발생\n",
    "-   변경\n",
    "    -   dictionary\\[ key \\] = 값\n",
    "    -   있는 key값에 값을 대입하면 변경이고 없는 key 일 경우는 새로운 item을 추가하는 것이다.\n"
   ]
  },
  {
   "cell_type": "code",
   "execution_count": 91,
   "id": "5c8cec2f",
   "metadata": {},
   "outputs": [
    {
     "data": {
      "text/plain": [
       "{'이름': '홍길동',\n",
       " '나이': 20,\n",
       " '결혼여부': False,\n",
       " '취미': ['영화감상', '독서', '음악감상'],\n",
       " '주소': {'시': '서울시', '구': '금천구'}}"
      ]
     },
     "execution_count": 91,
     "metadata": {},
     "output_type": "execute_result"
    }
   ],
   "source": [
    "d2"
   ]
  },
  {
   "cell_type": "code",
   "execution_count": 92,
   "id": "5ed1729d-b7f9-4f63-a78e-a7962840e8ec",
   "metadata": {},
   "outputs": [
    {
     "data": {
      "text/plain": [
       "'홍길동'"
      ]
     },
     "execution_count": 92,
     "metadata": {},
     "output_type": "execute_result"
    }
   ],
   "source": [
    "d2[\"이름\"]"
   ]
  },
  {
   "cell_type": "code",
   "execution_count": 93,
   "id": "ffaf4eb1-7e06-4414-8730-39341c3b06f3",
   "metadata": {},
   "outputs": [
    {
     "data": {
      "text/plain": [
       "30"
      ]
     },
     "execution_count": 93,
     "metadata": {},
     "output_type": "execute_result"
    }
   ],
   "source": [
    "d3[\"나이\"]"
   ]
  },
  {
   "cell_type": "code",
   "execution_count": 94,
   "id": "459db630",
   "metadata": {
    "slideshow": {
     "slide_type": "fragment"
    }
   },
   "outputs": [
    {
     "data": {
      "text/plain": [
       "['영화감상', '독서', '음악감상']"
      ]
     },
     "execution_count": 94,
     "metadata": {},
     "output_type": "execute_result"
    }
   ],
   "source": [
    "d2[\"취미\"]"
   ]
  },
  {
   "cell_type": "code",
   "execution_count": 95,
   "id": "fa648ca8-fa72-4a75-8462-1f6ddc19a8ea",
   "metadata": {},
   "outputs": [
    {
     "data": {
      "text/plain": [
       "'독서'"
      ]
     },
     "execution_count": 95,
     "metadata": {},
     "output_type": "execute_result"
    }
   ],
   "source": [
    "d2[\"취미\"][1]"
   ]
  },
  {
   "cell_type": "code",
   "execution_count": 96,
   "id": "79e6aa40-0578-453a-8faa-adf232a93256",
   "metadata": {},
   "outputs": [
    {
     "data": {
      "text/plain": [
       "{'시': '서울시', '구': '금천구'}"
      ]
     },
     "execution_count": 96,
     "metadata": {},
     "output_type": "execute_result"
    }
   ],
   "source": [
    "d2['주소']"
   ]
  },
  {
   "cell_type": "code",
   "execution_count": 97,
   "id": "304c77f0-0bfc-4d82-b87c-98ad5153dbc0",
   "metadata": {},
   "outputs": [
    {
     "data": {
      "text/plain": [
       "'금천구'"
      ]
     },
     "execution_count": 97,
     "metadata": {},
     "output_type": "execute_result"
    }
   ],
   "source": [
    "d2['주소']['구']"
   ]
  },
  {
   "cell_type": "code",
   "execution_count": 98,
   "id": "2444e9a9-48dd-474c-87c2-64dada63d61b",
   "metadata": {},
   "outputs": [
    {
     "data": {
      "text/plain": [
       "{'이름': '홍길동',\n",
       " '나이': 25,\n",
       " '결혼여부': False,\n",
       " '취미': ['영화감상', '독서', '음악감상'],\n",
       " '주소': {'시': '서울시', '구': '금천구'}}"
      ]
     },
     "execution_count": 98,
     "metadata": {},
     "output_type": "execute_result"
    }
   ],
   "source": [
    "d2['나이']=25\n",
    "d2"
   ]
  },
  {
   "cell_type": "code",
   "execution_count": 99,
   "id": "bd674683-6be8-4288-9608-562f0e26adc8",
   "metadata": {},
   "outputs": [
    {
     "data": {
      "text/plain": [
       "{'이름': '홍길동',\n",
       " '나이': 25,\n",
       " '결혼여부': False,\n",
       " '취미': ['영화감상', '독서', '음악감상'],\n",
       " '주소': {'시': '서울시', '구': '금천구'},\n",
       " '전화번호': '010-2345-3422'}"
      ]
     },
     "execution_count": 99,
     "metadata": {},
     "output_type": "execute_result"
    }
   ],
   "source": [
    "d2['전화번호']=\"010-2345-3422\"\n",
    "d2"
   ]
  },
  {
   "cell_type": "code",
   "execution_count": 101,
   "id": "6591a079-1db9-4780-81b7-ff7ca2b33ed5",
   "metadata": {},
   "outputs": [
    {
     "data": {
      "text/plain": [
       "{'이름': '홍길동',\n",
       " '나이': 25,\n",
       " '결혼여부': False,\n",
       " '취미': ['영화감상', '독서', '음악감상'],\n",
       " '주소': {'시': '서울시', '구': '금천구', '동': '독산동'},\n",
       " '전화번호': '010-2345-3422'}"
      ]
     },
     "execution_count": 101,
     "metadata": {},
     "output_type": "execute_result"
    }
   ],
   "source": [
    "d2['주소']['동']=\"독산동\"\n",
    "d2"
   ]
  },
  {
   "cell_type": "markdown",
   "id": "d5aade1e",
   "metadata": {
    "slideshow": {
     "slide_type": "slide"
    }
   },
   "source": [
    "## Dictionary 연산자\n",
    "\n",
    "-   **in, not in 연산자**\n",
    "    -   값 in dictionary\n",
    "        -   dictionary의 **Key**로 값이 **있으면** True, 없으면 False 반환\n",
    "    -   값 not in dictionary\n",
    "        -   dictionary의 **Key**로 값이 **없으면** True, 있으면 False 반환\n",
    "-   **len(dictionary)**\n",
    "    -   dictionary의 **Item의 개수** 반환\n"
   ]
  },
  {
   "cell_type": "code",
   "execution_count": 104,
   "id": "71449891",
   "metadata": {},
   "outputs": [
    {
     "data": {
      "text/plain": [
       "6"
      ]
     },
     "execution_count": 104,
     "metadata": {},
     "output_type": "execute_result"
    }
   ],
   "source": [
    "len(d2)"
   ]
  },
  {
   "cell_type": "code",
   "execution_count": 105,
   "id": "4a7c9061",
   "metadata": {
    "slideshow": {
     "slide_type": "fragment"
    }
   },
   "outputs": [
    {
     "data": {
      "text/plain": [
       "False"
      ]
     },
     "execution_count": 105,
     "metadata": {},
     "output_type": "execute_result"
    }
   ],
   "source": [
    "'이름 'in d2 #기본적으로 Dictionary는 value가 아닌 key값을 물어봄."
   ]
  },
  {
   "cell_type": "code",
   "execution_count": 106,
   "id": "26cb38b4-04e2-401c-abdd-d993d09ceccb",
   "metadata": {},
   "outputs": [
    {
     "data": {
      "text/plain": [
       "False"
      ]
     },
     "execution_count": 106,
     "metadata": {},
     "output_type": "execute_result"
    }
   ],
   "source": [
    "'홍길동' in d2"
   ]
  },
  {
   "cell_type": "code",
   "execution_count": null,
   "id": "1a6ac8c2-557e-432f-950a-97c30df9720f",
   "metadata": {},
   "outputs": [],
   "source": []
  },
  {
   "cell_type": "markdown",
   "id": "9f620ec1",
   "metadata": {
    "slideshow": {
     "slide_type": "slide"
    }
   },
   "source": [
    "## Dictionary 주요 메소드\n",
    "\n",
    "| 메소드               | 설명                                                                               |\n",
    "| :------------------- | ---------------------------------------------------------------------------------- |\n",
    "| get(key\\[, 기본값\\]) | key의 item의 값을 반환한다. 단 key가 없을 경우 None또는 기본값을 반환한다.         |\n",
    "| pop(key)             | key의 item의 값을 반환하면서 dictionary에서 삭제한다. 없는 key일 경우 KeyError발생 |\n",
    "| clear()              | dictionary의 모든 item들을 삭제한다.                                               |\n",
    "| del dict\\[key\\]      | key의 item을 제거한다.                                                             |\n",
    "| items()              | item의 key, value를 튜플로 묶어 모아 반환한다.                                     |\n",
    "| keys()               | key값들만 모아 반환한다.                                                           |\n",
    "| values()             | value값들만 모아 반환한다.                                                         |\n"
   ]
  },
  {
   "cell_type": "code",
   "execution_count": 107,
   "id": "55f208b6",
   "metadata": {},
   "outputs": [
    {
     "data": {
      "text/plain": [
       "'홍길동'"
      ]
     },
     "execution_count": 107,
     "metadata": {},
     "output_type": "execute_result"
    }
   ],
   "source": [
    "d1['이름']"
   ]
  },
  {
   "cell_type": "code",
   "execution_count": 108,
   "id": "a3545a5b-eab4-48fb-a794-68a08c530a5b",
   "metadata": {},
   "outputs": [
    {
     "ename": "KeyError",
     "evalue": "'키'",
     "output_type": "error",
     "traceback": [
      "\u001b[31m---------------------------------------------------------------------------\u001b[39m",
      "\u001b[31mKeyError\u001b[39m                                  Traceback (most recent call last)",
      "\u001b[36mCell\u001b[39m\u001b[36m \u001b[39m\u001b[32mIn[108]\u001b[39m\u001b[32m, line 1\u001b[39m\n\u001b[32m----> \u001b[39m\u001b[32m1\u001b[39m \u001b[43md2\u001b[49m\u001b[43m[\u001b[49m\u001b[33;43m'\u001b[39;49m\u001b[33;43m키\u001b[39;49m\u001b[33;43m'\u001b[39;49m\u001b[43m]\u001b[49m\n",
      "\u001b[31mKeyError\u001b[39m: '키'"
     ]
    }
   ],
   "source": [
    "d2['키']"
   ]
  },
  {
   "cell_type": "code",
   "execution_count": 109,
   "id": "350e7ad5",
   "metadata": {
    "slideshow": {
     "slide_type": "fragment"
    }
   },
   "outputs": [
    {
     "data": {
      "text/plain": [
       "'홍길동'"
      ]
     },
     "execution_count": 109,
     "metadata": {},
     "output_type": "execute_result"
    }
   ],
   "source": [
    "d1.get(\"이름\")  #key로 value를 조회"
   ]
  },
  {
   "cell_type": "code",
   "execution_count": 113,
   "id": "f7f9615f-b3d2-407b-bf7e-f7d026ba90fc",
   "metadata": {},
   "outputs": [],
   "source": [
    "r=d1.get(\"키\") #없는 key로 조회하면 기본값을 반환. (default 기본값 : None) \n",
    "#print(r)\n",
    "r"
   ]
  },
  {
   "cell_type": "code",
   "execution_count": 114,
   "id": "b1e18624-7db7-42d1-8327-7ee6abc819f3",
   "metadata": {},
   "outputs": [
    {
     "data": {
      "text/plain": [
       "'없는 key'"
      ]
     },
     "execution_count": 114,
     "metadata": {},
     "output_type": "execute_result"
    }
   ],
   "source": [
    "r=d1.get(\"키\")\n",
    "r if r!=None else \"없는 key\""
   ]
  },
  {
   "cell_type": "code",
   "execution_count": 115,
   "id": "a8c5cd7d-391e-49e9-8073-d41da368c9c1",
   "metadata": {},
   "outputs": [
    {
     "data": {
      "text/plain": [
       "'없는 key'"
      ]
     },
     "execution_count": 115,
     "metadata": {},
     "output_type": "execute_result"
    }
   ],
   "source": [
    "#None-bool->False\n",
    "r if r else \"없는 key\""
   ]
  },
  {
   "cell_type": "code",
   "execution_count": 116,
   "id": "2c2abba3-bba3-4be1-b6e6-6fd6be8b6d12",
   "metadata": {},
   "outputs": [
    {
     "data": {
      "text/plain": [
       "'없는 키'"
      ]
     },
     "execution_count": 116,
     "metadata": {},
     "output_type": "execute_result"
    }
   ],
   "source": [
    "r if r is not None else \"없는 키\""
   ]
  },
  {
   "cell_type": "code",
   "execution_count": 118,
   "id": "8977aa03-5b49-4d66-9990-8f1b53c42be9",
   "metadata": {},
   "outputs": [
    {
     "data": {
      "text/plain": [
       "True"
      ]
     },
     "execution_count": 118,
     "metadata": {},
     "output_type": "execute_result"
    }
   ],
   "source": [
    "r is None"
   ]
  },
  {
   "cell_type": "code",
   "execution_count": 119,
   "id": "ea8415a6-b265-4b61-9b68-dc64575bcf40",
   "metadata": {},
   "outputs": [
    {
     "data": {
      "text/plain": [
       "False"
      ]
     },
     "execution_count": 119,
     "metadata": {},
     "output_type": "execute_result"
    }
   ],
   "source": [
    "r is not None"
   ]
  },
  {
   "cell_type": "code",
   "execution_count": 121,
   "id": "2a399185-b114-43e7-81dc-c4c0f14f3ea4",
   "metadata": {},
   "outputs": [
    {
     "data": {
      "text/plain": [
       "True"
      ]
     },
     "execution_count": 121,
     "metadata": {},
     "output_type": "execute_result"
    }
   ],
   "source": [
    "r==None #값이 없는데 ==을 사용하는게 말이 안됨. 없는것을 비교할 수 없음."
   ]
  },
  {
   "cell_type": "code",
   "execution_count": 122,
   "id": "ce5ecaf0-8732-4330-bf6a-4576f994dcd7",
   "metadata": {},
   "outputs": [
    {
     "data": {
      "text/plain": [
       "0"
      ]
     },
     "execution_count": 122,
     "metadata": {},
     "output_type": "execute_result"
    }
   ],
   "source": [
    "d1.get(\"몸무게\", 0) #key가 없으면 지정한 기본값(0)을 반환"
   ]
  },
  {
   "cell_type": "code",
   "execution_count": 124,
   "id": "d90c526f-3dc3-4747-a8f7-58c76c793f7a",
   "metadata": {},
   "outputs": [
    {
     "data": {
      "text/plain": [
       "[]"
      ]
     },
     "execution_count": 124,
     "metadata": {},
     "output_type": "execute_result"
    }
   ],
   "source": [
    "d1.get(\"취미\", [])"
   ]
  },
  {
   "cell_type": "code",
   "execution_count": 125,
   "id": "c9b1ddd4-a290-4eff-8e37-f5137d6069d0",
   "metadata": {},
   "outputs": [
    {
     "data": {
      "text/plain": [
       "['영화감상', '독서', '음악감상']"
      ]
     },
     "execution_count": 125,
     "metadata": {},
     "output_type": "execute_result"
    }
   ],
   "source": [
    "d2.get(\"취미\")"
   ]
  },
  {
   "cell_type": "code",
   "execution_count": 127,
   "id": "50b73579-396a-4f82-b821-6ef5c364d904",
   "metadata": {},
   "outputs": [
    {
     "data": {
      "text/plain": [
       "{'이름': '홍길동', '나이': 20, '결혼여부': False, '주소': '서울'}"
      ]
     },
     "execution_count": 127,
     "metadata": {},
     "output_type": "execute_result"
    }
   ],
   "source": [
    "d1[\"주소\"]=\"서울\"  #추가\n",
    "d1"
   ]
  },
  {
   "cell_type": "code",
   "execution_count": 129,
   "id": "1dbbf79b-4699-4f1a-a7dc-102807b53c57",
   "metadata": {},
   "outputs": [
    {
     "data": {
      "text/plain": [
       "{'이름': '홍길동', '나이': 20, '결혼여부': False}"
      ]
     },
     "execution_count": 129,
     "metadata": {},
     "output_type": "execute_result"
    }
   ],
   "source": [
    "#삭제\n",
    "del d1['주소']\n",
    "d1"
   ]
  },
  {
   "cell_type": "code",
   "execution_count": 130,
   "id": "26184014-7c89-4c08-8167-376160ed952b",
   "metadata": {},
   "outputs": [
    {
     "data": {
      "text/plain": [
       "20"
      ]
     },
     "execution_count": 130,
     "metadata": {},
     "output_type": "execute_result"
    }
   ],
   "source": [
    "v=d1.pop(\"나이\") #삭제만 할거면 pop만 사용. 삭제한 값을 사용하면 velue= 사용\n",
    "v"
   ]
  },
  {
   "cell_type": "code",
   "execution_count": null,
   "id": "6123aa4f-50d5-4612-a83b-550e411512d0",
   "metadata": {},
   "outputs": [],
   "source": []
  },
  {
   "cell_type": "markdown",
   "id": "d97869af",
   "metadata": {
    "slideshow": {
     "slide_type": "slide"
    }
   },
   "source": [
    "# Set\n",
    "\n",
    "-   Set은 중복되는 값을 허용하지 않고 순서를 신경 쓰지 않는다.\n",
    "    -   원소를 식별할 수 있는 식별자가 없기 때문에 Set은 indexing과 slicing을 지원하지 않는다\n",
    "\n",
    "## Set 생성\n",
    "\n",
    "-   구문\n",
    "    -   {값, 값, 값 }\n",
    "\n",
    "> -   빈 Dictionary 만들기\n",
    ">     -   info = {}\n",
    ">     -   중괄호만 사용하면 빈 set이 아니라 빈 dictionary를 생성하는 것임.\n"
   ]
  },
  {
   "cell_type": "code",
   "execution_count": 137,
   "id": "304f16ea",
   "metadata": {},
   "outputs": [
    {
     "data": {
      "text/plain": [
       "{1, 2, 3, 4, 5, 6}"
      ]
     },
     "execution_count": 137,
     "metadata": {},
     "output_type": "execute_result"
    }
   ],
   "source": [
    "s1={1, 2, 3, 4, 5, 6}\n",
    "s1"
   ]
  },
  {
   "cell_type": "code",
   "execution_count": 139,
   "id": "5c88480a",
   "metadata": {
    "slideshow": {
     "slide_type": "fragment"
    }
   },
   "outputs": [
    {
     "data": {
      "text/plain": [
       "{1, 2, 3, 4, 5, 6}"
      ]
     },
     "execution_count": 139,
     "metadata": {},
     "output_type": "execute_result"
    }
   ],
   "source": [
    "s2={1,1,1,1,1,1,1,1,2,2,2,2,2,2,3,4,2,3,4,3,4,3,4,5,5,6,6,5}\n",
    "s2"
   ]
  },
  {
   "cell_type": "code",
   "execution_count": 140,
   "id": "e91b0650-3390-4bf0-beef-287b19c2c519",
   "metadata": {},
   "outputs": [
    {
     "ename": "TypeError",
     "evalue": "'set' object is not subscriptable",
     "output_type": "error",
     "traceback": [
      "\u001b[31m---------------------------------------------------------------------------\u001b[39m",
      "\u001b[31mTypeError\u001b[39m                                 Traceback (most recent call last)",
      "\u001b[36mCell\u001b[39m\u001b[36m \u001b[39m\u001b[32mIn[140]\u001b[39m\u001b[32m, line 1\u001b[39m\n\u001b[32m----> \u001b[39m\u001b[32m1\u001b[39m \u001b[43ms1\u001b[49m\u001b[43m[\u001b[49m\u001b[32;43m0\u001b[39;49m\u001b[43m]\u001b[49m\n\u001b[32m      2\u001b[39m \u001b[38;5;66;03m#TypeError: 'set' object is not subscriptable\u001b[39;00m\n",
      "\u001b[31mTypeError\u001b[39m: 'set' object is not subscriptable"
     ]
    }
   ],
   "source": [
    "s1[0]\n",
    "#TypeError: 'set' object is not subscriptable"
   ]
  },
  {
   "cell_type": "code",
   "execution_count": 142,
   "id": "7f32151e-d487-44ed-b214-d733a7b77df1",
   "metadata": {},
   "outputs": [
    {
     "name": "stdout",
     "output_type": "stream",
     "text": [
      "1\n",
      "2\n",
      "3\n",
      "4\n",
      "5\n",
      "6\n"
     ]
    }
   ],
   "source": [
    "for v in s1:\n",
    "    print(v)"
   ]
  },
  {
   "cell_type": "code",
   "execution_count": null,
   "id": "2ac963e2-701c-4849-90a8-1b1e23c5044e",
   "metadata": {},
   "outputs": [],
   "source": []
  },
  {
   "cell_type": "markdown",
   "id": "79cf0f20",
   "metadata": {
    "slideshow": {
     "slide_type": "slide"
    }
   },
   "source": [
    "## Set 연산자\n",
    "\n",
    "-   **in, not in 연산자**\n",
    "    -   값 in Set\n",
    "        -   Set의 원소로 값이 **있으면** True, 없으면 False 반환\n",
    "    -   값 not in Set\n",
    "        -   Set의 원소로 값이 **없으면** True, 있으면 False 반환\n",
    "-   **len(Set)**\n",
    "    -   Set의 **원소의 개수** 반환\n",
    "-   **[집합연산자](#Set의-집합연산-연산자-및-메소드)**\n"
   ]
  },
  {
   "cell_type": "code",
   "execution_count": 143,
   "id": "1c530013",
   "metadata": {},
   "outputs": [
    {
     "data": {
      "text/plain": [
       "False"
      ]
     },
     "execution_count": 143,
     "metadata": {},
     "output_type": "execute_result"
    }
   ],
   "source": [
    "5 in s1\n",
    "100 in s1"
   ]
  },
  {
   "cell_type": "code",
   "execution_count": 146,
   "id": "80be18ad",
   "metadata": {
    "slideshow": {
     "slide_type": "fragment"
    }
   },
   "outputs": [
    {
     "data": {
      "text/plain": [
       "True"
      ]
     },
     "execution_count": 146,
     "metadata": {},
     "output_type": "execute_result"
    }
   ],
   "source": [
    "5 not in s1\n",
    "100 not in s1"
   ]
  },
  {
   "cell_type": "code",
   "execution_count": 147,
   "id": "eb362d59-0f91-462f-af57-ac10b0a94b26",
   "metadata": {},
   "outputs": [
    {
     "data": {
      "text/plain": [
       "6"
      ]
     },
     "execution_count": 147,
     "metadata": {},
     "output_type": "execute_result"
    }
   ],
   "source": [
    "len(s1)"
   ]
  },
  {
   "cell_type": "code",
   "execution_count": null,
   "id": "500e57b8-0782-40fc-a91c-9e8526c5c244",
   "metadata": {},
   "outputs": [],
   "source": []
  },
  {
   "cell_type": "markdown",
   "id": "080c2a17",
   "metadata": {
    "slideshow": {
     "slide_type": "slide"
    }
   },
   "source": [
    "## Set의 주요 메소드\n",
    "\n",
    "| 메소드           | 설명                                   |\n",
    "| ---------------- | -------------------------------------- |\n",
    "| add(값)          | 집합에 값 추가                         |\n",
    "| update(자료구조) | 자료구조내의 원소들을 모두 집합에 추가 |\n",
    "| pop()            | 원소를 반환하고 Set에서 삭제한다.      |\n",
    "| remove(값)       | 값을 찾아서 Set에서 삭제한다.          |\n"
   ]
  },
  {
   "cell_type": "code",
   "execution_count": 148,
   "id": "6ec0eee0",
   "metadata": {},
   "outputs": [
    {
     "data": {
      "text/plain": [
       "{1, 2, 3, 4, 5, 6}"
      ]
     },
     "execution_count": 148,
     "metadata": {},
     "output_type": "execute_result"
    }
   ],
   "source": [
    "s1"
   ]
  },
  {
   "cell_type": "code",
   "execution_count": 149,
   "id": "b12f08b0",
   "metadata": {
    "slideshow": {
     "slide_type": "fragment"
    }
   },
   "outputs": [
    {
     "data": {
      "text/plain": [
       "{1, 2, 3, 4, 5, 6, 100}"
      ]
     },
     "execution_count": 149,
     "metadata": {},
     "output_type": "execute_result"
    }
   ],
   "source": [
    "s1.add(100)\n",
    "s1"
   ]
  },
  {
   "cell_type": "code",
   "execution_count": 150,
   "id": "f8dd3a00-8b74-4e57-b542-a6342f5bf4c0",
   "metadata": {},
   "outputs": [
    {
     "data": {
      "text/plain": [
       "{1, 2, 3, 4, 5, 6, 100}"
      ]
     },
     "execution_count": 150,
     "metadata": {},
     "output_type": "execute_result"
    }
   ],
   "source": [
    "s1.add(3) #중복된 값은 추가하지 않는다.\n",
    "s1"
   ]
  },
  {
   "cell_type": "code",
   "execution_count": 152,
   "id": "aa8c1281-ede0-4f82-8b3d-133cc8226a22",
   "metadata": {},
   "outputs": [
    {
     "data": {
      "text/plain": [
       "{1, 2, 3, 4, 5, 6, 100, 200, 300, 400}"
      ]
     },
     "execution_count": 152,
     "metadata": {},
     "output_type": "execute_result"
    }
   ],
   "source": [
    "s1.update([200, 300, 400, 400, 400, 100, 100, 100])\n",
    "s1"
   ]
  },
  {
   "cell_type": "code",
   "execution_count": 153,
   "id": "f73f18d0-f46e-4bad-84d1-791d7906e202",
   "metadata": {},
   "outputs": [
    {
     "data": {
      "text/plain": [
       "{1, 2, 3, 4, 5, 6, 200, 300, 400}"
      ]
     },
     "execution_count": 153,
     "metadata": {},
     "output_type": "execute_result"
    }
   ],
   "source": [
    "s1.remove(100) #100을 찾아서 삭제\n",
    "s1"
   ]
  },
  {
   "cell_type": "code",
   "execution_count": 154,
   "id": "80c492d7-bad6-420d-9f90-42fc627b191d",
   "metadata": {},
   "outputs": [
    {
     "ename": "KeyError",
     "evalue": "100",
     "output_type": "error",
     "traceback": [
      "\u001b[31m---------------------------------------------------------------------------\u001b[39m",
      "\u001b[31mKeyError\u001b[39m                                  Traceback (most recent call last)",
      "\u001b[36mCell\u001b[39m\u001b[36m \u001b[39m\u001b[32mIn[154]\u001b[39m\u001b[32m, line 1\u001b[39m\n\u001b[32m----> \u001b[39m\u001b[32m1\u001b[39m \u001b[43ms1\u001b[49m\u001b[43m.\u001b[49m\u001b[43mremove\u001b[49m\u001b[43m(\u001b[49m\u001b[32;43m100\u001b[39;49m\u001b[43m)\u001b[49m\n\u001b[32m      2\u001b[39m s1\n",
      "\u001b[31mKeyError\u001b[39m: 100"
     ]
    }
   ],
   "source": [
    "s1.remove(100) #삭제할 것이 없으면 Error\n",
    "s1"
   ]
  },
  {
   "cell_type": "code",
   "execution_count": 155,
   "id": "9f5b8d73-bada-4312-a5e7-921deeb340e6",
   "metadata": {},
   "outputs": [
    {
     "data": {
      "text/plain": [
       "1"
      ]
     },
     "execution_count": 155,
     "metadata": {},
     "output_type": "execute_result"
    }
   ],
   "source": [
    "s1.pop() #삭제한것을 반환"
   ]
  },
  {
   "cell_type": "code",
   "execution_count": 156,
   "id": "09229bcf-6c21-4e9e-a1f7-5dc3aad087a6",
   "metadata": {},
   "outputs": [],
   "source": [
    "v=s1.pop()"
   ]
  },
  {
   "cell_type": "code",
   "execution_count": 157,
   "id": "59eff005-5beb-4390-8ab5-400147f7b8e6",
   "metadata": {},
   "outputs": [
    {
     "data": {
      "text/plain": [
       "{3, 4, 5, 6, 200, 300, 400}"
      ]
     },
     "execution_count": 157,
     "metadata": {},
     "output_type": "execute_result"
    }
   ],
   "source": [
    "s1 "
   ]
  },
  {
   "cell_type": "code",
   "execution_count": 158,
   "id": "ca45770f-7ef6-4635-bc7b-66485edaa862",
   "metadata": {},
   "outputs": [
    {
     "data": {
      "text/plain": [
       "set()"
      ]
     },
     "execution_count": 158,
     "metadata": {},
     "output_type": "execute_result"
    }
   ],
   "source": [
    "s1.clear()\n",
    "s1"
   ]
  },
  {
   "cell_type": "code",
   "execution_count": 159,
   "id": "1f424cba-9113-451b-b902-245d8756efbd",
   "metadata": {},
   "outputs": [
    {
     "data": {
      "text/plain": [
       "(dict, set)"
      ]
     },
     "execution_count": 159,
     "metadata": {},
     "output_type": "execute_result"
    }
   ],
   "source": [
    "type({}), type(set())"
   ]
  },
  {
   "cell_type": "code",
   "execution_count": 160,
   "id": "74fc6835-c377-47d7-ae54-4759f0eb16fd",
   "metadata": {},
   "outputs": [
    {
     "name": "stdout",
     "output_type": "stream",
     "text": [
      "1 2 3\n"
     ]
    },
    {
     "data": {
      "text/plain": [
       "(1, 2, 30)"
      ]
     },
     "execution_count": 160,
     "metadata": {},
     "output_type": "execute_result"
    }
   ],
   "source": [
    "print(1, 2, 3)\n",
    "1, 2, 30"
   ]
  },
  {
   "cell_type": "markdown",
   "id": "33d115cd",
   "metadata": {
    "slideshow": {
     "slide_type": "subslide"
    }
   },
   "source": [
    "## Set의 집합연산 연산자 및 메소드\n",
    "\n",
    "-   합집합\n",
    "    -   집합A | 집합B\n",
    "    -   집합A.union(집합B)\n",
    "-   교집합\n",
    "    -   집합A & 집합B\n",
    "    -   집합A.intersection(집합B)\n",
    "-   차집합\n",
    "    -   집합A - 집합B\n",
    "    -   집합A.difference(집합B)\n"
   ]
  },
  {
   "cell_type": "code",
   "execution_count": 161,
   "id": "d2a32b55",
   "metadata": {},
   "outputs": [],
   "source": [
    "s1={1, 2, 3, 4}\n",
    "s2={3, 4, 5, 6}"
   ]
  },
  {
   "cell_type": "code",
   "execution_count": 162,
   "id": "e2d43f89",
   "metadata": {},
   "outputs": [
    {
     "data": {
      "text/plain": [
       "{1, 2, 3, 4, 5, 6}"
      ]
     },
     "execution_count": 162,
     "metadata": {},
     "output_type": "execute_result"
    }
   ],
   "source": [
    "s1|s2"
   ]
  },
  {
   "cell_type": "code",
   "execution_count": 163,
   "id": "70aab72d-e7b1-44a1-b1ba-8db09c5c0e30",
   "metadata": {},
   "outputs": [
    {
     "data": {
      "text/plain": [
       "{1, 2, 3, 4, 5, 6}"
      ]
     },
     "execution_count": 163,
     "metadata": {},
     "output_type": "execute_result"
    }
   ],
   "source": [
    "s1.union(s2)"
   ]
  },
  {
   "cell_type": "code",
   "execution_count": 164,
   "id": "3d3d417a-ddca-4708-9d4f-45b1025f8b36",
   "metadata": {},
   "outputs": [
    {
     "data": {
      "text/plain": [
       "{3, 4}"
      ]
     },
     "execution_count": 164,
     "metadata": {},
     "output_type": "execute_result"
    }
   ],
   "source": [
    "s1&s2"
   ]
  },
  {
   "cell_type": "code",
   "execution_count": 165,
   "id": "d1cc93a5-2b56-4171-9b67-e8c7b08fdcf3",
   "metadata": {},
   "outputs": [
    {
     "data": {
      "text/plain": [
       "{3, 4}"
      ]
     },
     "execution_count": 165,
     "metadata": {},
     "output_type": "execute_result"
    }
   ],
   "source": [
    "s1.intersection(s2)"
   ]
  },
  {
   "cell_type": "code",
   "execution_count": 166,
   "id": "c8435e3e-8294-4efa-9484-838c0717e858",
   "metadata": {},
   "outputs": [
    {
     "data": {
      "text/plain": [
       "{1, 2}"
      ]
     },
     "execution_count": 166,
     "metadata": {},
     "output_type": "execute_result"
    }
   ],
   "source": [
    "s1-s2"
   ]
  },
  {
   "cell_type": "code",
   "execution_count": 167,
   "id": "7ba85160-eaa0-4a2c-9a6e-5c552cf69306",
   "metadata": {},
   "outputs": [
    {
     "data": {
      "text/plain": [
       "{1, 2}"
      ]
     },
     "execution_count": 167,
     "metadata": {},
     "output_type": "execute_result"
    }
   ],
   "source": [
    "s1.difference(s2)"
   ]
  },
  {
   "cell_type": "code",
   "execution_count": null,
   "id": "5c98db5d-02e9-4d3e-a326-d5165a61fb9d",
   "metadata": {},
   "outputs": [],
   "source": []
  },
  {
   "cell_type": "markdown",
   "id": "17bf4f71",
   "metadata": {},
   "source": [
    "# 자료구조를 이용한 대입\n",
    "\n",
    "-   리스트, 튜플, 셋의 원소들을 개별 변수에 대입한다. 어느 자료구조에 적용하느냐에 따라 **리스트 대입, 튜플 대입, 셋 대입** 이라고 한다. 이중 리스트대입이나 튜플대입은 많이 사용된다.\n",
    "-   변수의 개수와 리스트 원소의 개수는 동일해야 한다.\n"
   ]
  },
  {
   "cell_type": "code",
   "execution_count": null,
   "id": "73b925bb",
   "metadata": {},
   "outputs": [],
   "source": [
    "a=10\n",
    "b=20\n",
    "c=30\n",
    "d=\"가\""
   ]
  },
  {
   "cell_type": "code",
   "execution_count": 168,
   "id": "64bf5839",
   "metadata": {
    "slideshow": {
     "slide_type": "fragment"
    }
   },
   "outputs": [],
   "source": [
    "a, b, c, d = 10, 20, 30, \"가\"  #튜플대입(튜플을 이용하여 값을 대입하므로.)"
   ]
  },
  {
   "cell_type": "code",
   "execution_count": 169,
   "id": "c03c6b4a-2beb-4114-a342-4358c73756ef",
   "metadata": {},
   "outputs": [
    {
     "name": "stdout",
     "output_type": "stream",
     "text": [
      "10 20 30 가\n"
     ]
    }
   ],
   "source": [
    "print(a, b, c, d)"
   ]
  },
  {
   "cell_type": "code",
   "execution_count": 170,
   "id": "0b9fc986-29dd-4a5c-96dc-2cc1c8715898",
   "metadata": {},
   "outputs": [
    {
     "name": "stdout",
     "output_type": "stream",
     "text": [
      "True False True\n"
     ]
    }
   ],
   "source": [
    "x, y, z = [True, False, True]  #리스트 대입\n",
    "print(x,y,z)"
   ]
  },
  {
   "cell_type": "code",
   "execution_count": 171,
   "id": "3a74aa47-cbb4-4904-b48f-df863746d9ce",
   "metadata": {},
   "outputs": [
    {
     "name": "stdout",
     "output_type": "stream",
     "text": [
      "200 100 400 300\n"
     ]
    }
   ],
   "source": [
    "l, m, n, o ={100, 200, 300, 400} #셋 대입\n",
    "print(l, m, n, o)"
   ]
  },
  {
   "cell_type": "code",
   "execution_count": 172,
   "id": "327ee6b2-f650-4789-9258-50bb7f629442",
   "metadata": {},
   "outputs": [],
   "source": [
    "l1=[10, 20, 30] #동작을 처리해서 만든 값을 변수로 나누고 싶을 때 리스트 또는 셋 대입 사용.\n",
    "#그냥 대입이 목적이면 튜플대입 사용하면 됨."
   ]
  },
  {
   "cell_type": "code",
   "execution_count": 174,
   "id": "77f19f89-3d60-4868-8cbf-38486e9a721e",
   "metadata": {},
   "outputs": [],
   "source": [
    "x1, x2, x3 =l1"
   ]
  },
  {
   "cell_type": "code",
   "execution_count": 175,
   "id": "ffca62ba-9c4f-41d2-9100-d107a5a20559",
   "metadata": {},
   "outputs": [
    {
     "data": {
      "text/plain": [
       "(10, 20, 30)"
      ]
     },
     "execution_count": 175,
     "metadata": {},
     "output_type": "execute_result"
    }
   ],
   "source": [
    "x1, x2, x3"
   ]
  },
  {
   "cell_type": "markdown",
   "id": "a3778f41",
   "metadata": {
    "slideshow": {
     "slide_type": "slide"
    }
   },
   "source": [
    "# 자료구조 변환 함수\n",
    "\n",
    "-   **list(자료구조)**\n",
    "    -   대상 자료구조/Iterable을 List로 변환한다.\n",
    "-   **tuple(자료구조)**\n",
    "    -   대상 자료구조/Iterable을 Tuple로 변환\n",
    "-   **set(자료구조)**\n",
    "    -   대상 자료구조/Iterable을 Set으로 변환\n",
    "    -   다른 자료구조의 원소 중 중복을 빼고 조회할 때 set()를 이용해 Set으로 변환한다.\n",
    "-   Dictionary로 변환하는 함수는 없다.\n",
    "    -   dict(key=value, ..) 는 딕셔너리 생성하는 함수이다.\n",
    "-   변경 대상이 Dictionary 일 경우에는 key값들만 모아서 변환한다.\n",
    "\n",
    "> -   **Iterable**\n",
    ">     -   반복가능한 객체.\n",
    ">     -   여러개의 값을 요청을 받을 때마다 하나씩 제공해주는 타입을 iterable 이라고 함.\n",
    ">         -   Iterable이 제공하는 값을 반복문을 이용해 조회할 경우 **for in문**을 사용한다.\n",
    ">     -   대표적으로 자료구조, 문자열 등이 있다.\n"
   ]
  },
  {
   "cell_type": "code",
   "execution_count": 176,
   "id": "07fd6373",
   "metadata": {
    "slideshow": {
     "slide_type": "fragment"
    }
   },
   "outputs": [
    {
     "name": "stdout",
     "output_type": "stream",
     "text": [
      "<class 'list'>\n"
     ]
    }
   ],
   "source": [
    "l=[1, 2, 3, 4, 5, 6]\n",
    "print(type(l))"
   ]
  },
  {
   "cell_type": "code",
   "execution_count": 177,
   "id": "225f9292-1f29-4216-9a89-37cbe227a289",
   "metadata": {},
   "outputs": [
    {
     "data": {
      "text/plain": [
       "(1, 2, 3, 4, 5, 6)"
      ]
     },
     "execution_count": 177,
     "metadata": {},
     "output_type": "execute_result"
    }
   ],
   "source": [
    "t=tuple(l)\n",
    "t #list가 바뀐게 아니라 l이 가지고 있는 값을 가지고 tuple생성"
   ]
  },
  {
   "cell_type": "code",
   "execution_count": 178,
   "id": "ce5c56ff-3795-4dd3-b20a-d003c08082d9",
   "metadata": {},
   "outputs": [
    {
     "data": {
      "text/plain": [
       "{1, 2, 3, 4, 5, 6}"
      ]
     },
     "execution_count": 178,
     "metadata": {},
     "output_type": "execute_result"
    }
   ],
   "source": [
    "s=set(t)\n",
    "s"
   ]
  },
  {
   "cell_type": "code",
   "execution_count": 179,
   "id": "7d42d85a-49b9-4274-8ff1-e561c3dfa1d6",
   "metadata": {},
   "outputs": [
    {
     "data": {
      "text/plain": [
       "[1, 2, 3, 4, 5, 6]"
      ]
     },
     "execution_count": 179,
     "metadata": {},
     "output_type": "execute_result"
    }
   ],
   "source": [
    "l2=list(s)\n",
    "l2"
   ]
  },
  {
   "cell_type": "code",
   "execution_count": 181,
   "id": "fe7a9fa1-3192-4034-b09b-e1a7518c7a0c",
   "metadata": {},
   "outputs": [
    {
     "data": {
      "text/plain": [
       "{1, 2, 3, 6, 7, 100}"
      ]
     },
     "execution_count": 181,
     "metadata": {},
     "output_type": "execute_result"
    }
   ],
   "source": [
    "l=[1, 2, 3, 2, 1, 1, 2, 6, 7, 100]\n",
    "s=set(l)\n",
    "s #중복된 값으 거르고 보여줌"
   ]
  },
  {
   "cell_type": "code",
   "execution_count": 182,
   "id": "6aa8a24b-b313-43d1-8db7-f342be002196",
   "metadata": {},
   "outputs": [
    {
     "data": {
      "text/plain": [
       "[1, 2, 3, 100, 6, 7]"
      ]
     },
     "execution_count": 182,
     "metadata": {},
     "output_type": "execute_result"
    }
   ],
   "source": [
    "l_unique = list(s)\n",
    "l_unique"
   ]
  },
  {
   "cell_type": "code",
   "execution_count": 184,
   "id": "5a8e4ed6-e677-4435-8c73-19ceac2f45e8",
   "metadata": {},
   "outputs": [
    {
     "data": {
      "text/plain": [
       "['이름', '나이', '주소']"
      ]
     },
     "execution_count": 184,
     "metadata": {},
     "output_type": "execute_result"
    }
   ],
   "source": [
    "d = {\"이름\":\"홍길동\", \"나이\":20, \"주소\":\"서울\"}\n",
    "list(d)"
   ]
  },
  {
   "cell_type": "code",
   "execution_count": 185,
   "id": "f704e2f3-989a-4c24-965b-a93b6037d9ab",
   "metadata": {},
   "outputs": [
    {
     "data": {
      "text/plain": [
       "{'나이', '이름', '주소'}"
      ]
     },
     "execution_count": 185,
     "metadata": {},
     "output_type": "execute_result"
    }
   ],
   "source": [
    "set(d)"
   ]
  },
  {
   "cell_type": "code",
   "execution_count": 186,
   "id": "47656a44-dd04-421b-9f28-9812455333eb",
   "metadata": {},
   "outputs": [
    {
     "data": {
      "text/plain": [
       "('이름', '나이', '주소')"
      ]
     },
     "execution_count": 186,
     "metadata": {},
     "output_type": "execute_result"
    }
   ],
   "source": [
    "tuple(d)"
   ]
  },
  {
   "cell_type": "code",
   "execution_count": 187,
   "id": "fdac659e-0f49-481a-9b04-dc1989e6b147",
   "metadata": {},
   "outputs": [
    {
     "name": "stdout",
     "output_type": "stream",
     "text": [
      "1\n",
      "2\n",
      "3\n",
      "2\n",
      "1\n",
      "1\n",
      "2\n",
      "6\n",
      "7\n",
      "100\n"
     ]
    }
   ],
   "source": [
    "for v in l :\n",
    "    print (v)"
   ]
  },
  {
   "cell_type": "code",
   "execution_count": 188,
   "id": "341afa5e-90b4-4d49-89f5-a21261b0bcdd",
   "metadata": {},
   "outputs": [
    {
     "name": "stdout",
     "output_type": "stream",
     "text": [
      "이름\n",
      "나이\n",
      "주소\n"
     ]
    }
   ],
   "source": [
    "for v in d :\n",
    "    print (v)"
   ]
  },
  {
   "cell_type": "code",
   "execution_count": 189,
   "id": "f340d171-bfa5-4f8b-85cd-37329f3e4d36",
   "metadata": {},
   "outputs": [
    {
     "name": "stdout",
     "output_type": "stream",
     "text": [
      "1\n",
      "2\n",
      "3\n",
      "4\n",
      "5\n",
      "6\n"
     ]
    }
   ],
   "source": [
    "for v in t :\n",
    "    print (v)"
   ]
  },
  {
   "cell_type": "code",
   "execution_count": 190,
   "id": "57c4b19d-9fa5-4743-a90f-b224b42c3d16",
   "metadata": {},
   "outputs": [
    {
     "name": "stdout",
     "output_type": "stream",
     "text": [
      "a\n",
      "b\n",
      "c\n",
      "d\n",
      "e\n",
      "f\n"
     ]
    }
   ],
   "source": [
    "for v in \"abcdef\" :\n",
    "    print (v)"
   ]
  },
  {
   "cell_type": "code",
   "execution_count": 191,
   "id": "0a1e28ae-b250-4d1a-85e7-3ad6362a7d21",
   "metadata": {},
   "outputs": [
    {
     "data": {
      "text/plain": [
       "['a', 'b', 'c', 'd', 'e', 'f', 'g']"
      ]
     },
     "execution_count": 191,
     "metadata": {},
     "output_type": "execute_result"
    }
   ],
   "source": [
    "list(\"abcdefg\")"
   ]
  },
  {
   "cell_type": "code",
   "execution_count": 192,
   "id": "db67dea4-c9ef-4a46-bb0d-eafb820a4e52",
   "metadata": {},
   "outputs": [
    {
     "data": {
      "text/plain": [
       "('가', '나', '다', '라', '마', '바', '사')"
      ]
     },
     "execution_count": 192,
     "metadata": {},
     "output_type": "execute_result"
    }
   ],
   "source": [
    "tuple(\"가나다라마바사\")"
   ]
  },
  {
   "cell_type": "code",
   "execution_count": 194,
   "id": "d302b281-7d49-4b43-b537-7e9596895fca",
   "metadata": {},
   "outputs": [
    {
     "data": {
      "text/plain": [
       "{'.', '녕', '세', '안', '요', '하'}"
      ]
     },
     "execution_count": 194,
     "metadata": {},
     "output_type": "execute_result"
    }
   ],
   "source": [
    "set(\"안녕안녕안녕하세요.\")"
   ]
  },
  {
   "cell_type": "code",
   "execution_count": 196,
   "id": "522fc04f-f974-41e1-8747-a0e33ca25633",
   "metadata": {},
   "outputs": [
    {
     "data": {
      "text/plain": [
       "['a', 'b', 'c', 'd', 'e', 'f', 'g']"
      ]
     },
     "execution_count": 196,
     "metadata": {},
     "output_type": "execute_result"
    }
   ],
   "source": [
    "s = \"abcdefg\"\n",
    "l=list(s)\n",
    "l"
   ]
  },
  {
   "cell_type": "code",
   "execution_count": 197,
   "id": "7b80b30d-370e-411e-88f8-db9ceb915716",
   "metadata": {},
   "outputs": [
    {
     "data": {
      "text/plain": [
       "'abcdefg'"
      ]
     },
     "execution_count": 197,
     "metadata": {},
     "output_type": "execute_result"
    }
   ],
   "source": [
    "# 자료구조의 문자열들을 한 문자열로 합치기\n",
    "##\"구분자\".join(합칠대상_iterable)\n",
    "\"\".join(l)"
   ]
  },
  {
   "cell_type": "code",
   "execution_count": 198,
   "id": "606818ac-e742-4620-ac11-21d37ee69b14",
   "metadata": {},
   "outputs": [
    {
     "data": {
      "text/plain": [
       "'a, b, c, d, e, f, g'"
      ]
     },
     "execution_count": 198,
     "metadata": {},
     "output_type": "execute_result"
    }
   ],
   "source": [
    "\", \".join(l)"
   ]
  },
  {
   "cell_type": "code",
   "execution_count": null,
   "id": "385470f4-efdb-4be3-83a9-d2f6b03be06c",
   "metadata": {},
   "outputs": [],
   "source": []
  },
  {
   "cell_type": "markdown",
   "id": "b4671a5d",
   "metadata": {
    "slideshow": {
     "slide_type": "skip"
    }
   },
   "source": [
    "# TODO\n"
   ]
  },
  {
   "cell_type": "code",
   "execution_count": 1,
   "id": "f902b4aa-58a0-4781-9e42-7c92f7e3e817",
   "metadata": {
    "slideshow": {
     "slide_type": "skip"
    }
   },
   "outputs": [
    {
     "name": "stdout",
     "output_type": "stream",
     "text": [
      "80\n"
     ]
    }
   ],
   "source": [
    "# 문제 1 ~ 7\n",
    "jumsu = [100, 90, 100, 80, 70, 100, 80, 90, 95, 85]\n",
    "# 위 리스트는 학생aa번호 1번 ~ 10번까지 10명의 시험 점수이다.\n",
    "\n",
    "# (1)  7번의 점수를 출력하세요\n",
    "print(jumsu[6])"
   ]
  },
  {
   "cell_type": "code",
   "execution_count": 2,
   "id": "9d572fbb-dbf4-41af-8c3b-1f7de42df4ab",
   "metadata": {
    "slideshow": {
     "slide_type": "skip"
    }
   },
   "outputs": [
    {
     "name": "stdout",
     "output_type": "stream",
     "text": [
      "[100, 90, 100, 80, 70]\n"
     ]
    }
   ],
   "source": [
    "# (2)  1번부터 5번까지의 점수를 출력하세요.\n",
    "print(jumsu[:5])"
   ]
  },
  {
   "cell_type": "code",
   "execution_count": 4,
   "id": "32a13c98-4686-4346-8400-b56fe244d679",
   "metadata": {
    "slideshow": {
     "slide_type": "skip"
    }
   },
   "outputs": [
    {
     "name": "stdout",
     "output_type": "stream",
     "text": [
      "[80, 70, 100, 80]\n",
      "80 70 100 80\n"
     ]
    }
   ],
   "source": [
    "# (3)  4, 5, 6, 7번의 점수를 출력하세요.\n",
    "print(jumsu[3:7])\n",
    "#print(jumsu[3], jumsu[4], jumsu[5], jumsu[6])"
   ]
  },
  {
   "cell_type": "code",
   "execution_count": 5,
   "id": "d3dcb6f3-739f-48b1-9731-5595a5dfb00f",
   "metadata": {
    "slideshow": {
     "slide_type": "skip"
    }
   },
   "outputs": [
    {
     "data": {
      "text/plain": [
       "[90, 80, 100, 90, 85]"
      ]
     },
     "execution_count": 5,
     "metadata": {},
     "output_type": "execute_result"
    }
   ],
   "source": [
    "# (4) 짝수번째 점수를 출력하세요\n",
    "jumsu[1::2]"
   ]
  },
  {
   "cell_type": "code",
   "execution_count": 6,
   "id": "5356372d-d7f2-47ea-b045-0b6eccc6db16",
   "metadata": {
    "slideshow": {
     "slide_type": "skip"
    }
   },
   "outputs": [
    {
     "data": {
      "text/plain": [
       "[100, 100, 70, 80, 95]"
      ]
     },
     "execution_count": 6,
     "metadata": {},
     "output_type": "execute_result"
    }
   ],
   "source": [
    "# (5) 홀수번째 점수를 출력하세요.\n",
    "jumsu[::2]"
   ]
  },
  {
   "cell_type": "code",
   "execution_count": 217,
   "id": "b7b9e563-dabd-457f-b220-a54260f471de",
   "metadata": {
    "slideshow": {
     "slide_type": "skip"
    }
   },
   "outputs": [
    {
     "name": "stdout",
     "output_type": "stream",
     "text": [
      "[100, 90, 100, 80, 70, 100, 80, 90, 20, 85]\n"
     ]
    }
   ],
   "source": [
    "# (6) 9번의 점수를 20으로 변경하고 전체 출력하세요.\n",
    "jumsu[8]=20\n",
    "print(jumsu)"
   ]
  },
  {
   "cell_type": "code",
   "execution_count": 11,
   "id": "9266cd2e-4e67-4678-a910-f213d4d1cfa3",
   "metadata": {
    "slideshow": {
     "slide_type": "skip"
    }
   },
   "outputs": [
    {
     "data": {
      "text/plain": [
       "[100, 70, 80, 85, 90, 95]"
      ]
     },
     "execution_count": 11,
     "metadata": {},
     "output_type": "execute_result"
    }
   ],
   "source": [
    "# (7) 중복된 점수는 제거하고 하나씩만 나오도록 출력하세요.\n",
    "#u_jumsu=list(set(jumsu))\n",
    "#jumsu = {100, 90, 100, 80, 70, 100, 80, 90, 95, 85}\n",
    "set(jumsu)\n",
    "u_jumsu=list(set(jumsu))\n",
    "u_jumsu"
   ]
  },
  {
   "cell_type": "code",
   "execution_count": 17,
   "id": "081920c5-3f58-4ac8-88c3-35c4cac672f9",
   "metadata": {
    "slideshow": {
     "slide_type": "skip"
    }
   },
   "outputs": [
    {
     "data": {
      "text/plain": [
       "['복숭아', '수박', '딸기', '사과', '귤']"
      ]
     },
     "execution_count": 17,
     "metadata": {},
     "output_type": "execute_result"
    }
   ],
   "source": [
    "# 문제 8 ~ 9\n",
    "fruits = [\"복숭아\", \"수박\", \"딸기\"]\n",
    "\n",
    "# (8) fruits 리스트에 마지막 원소로 \"사과\", \"귤\"을 추가하세요.\n",
    "fruits.extend([\"사과\", \"귤\"])\n",
    "fruits\n"
   ]
  },
  {
   "cell_type": "code",
   "execution_count": 18,
   "id": "7d098d60-dc74-4940-8693-fdbf29422254",
   "metadata": {},
   "outputs": [
    {
     "data": {
      "text/plain": [
       "['복숭아', '수박', '딸기', '사과', '귤', '토마토']"
      ]
     },
     "execution_count": 18,
     "metadata": {},
     "output_type": "execute_result"
    }
   ],
   "source": [
    "fruits.append('토마토')\n",
    "fruits"
   ]
  },
  {
   "cell_type": "code",
   "execution_count": 19,
   "id": "7d93a4cd-fa9a-4920-ad47-58f395e900d4",
   "metadata": {
    "slideshow": {
     "slide_type": "skip"
    }
   },
   "outputs": [
    {
     "data": {
      "text/plain": [
       "['수박', '딸기', '사과', '귤', '토마토']"
      ]
     },
     "execution_count": 19,
     "metadata": {},
     "output_type": "execute_result"
    }
   ],
   "source": [
    "# (9) fruits 리스트에서 \"복숭아\"를 제거하세요.\n",
    "fruits.pop(0) #pop() : 마지막 index를 삭제\n",
    "#del fruits[0]\n",
    "#fruits.remove(\"복숭아\")\n",
    "fruits"
   ]
  },
  {
   "cell_type": "code",
   "execution_count": 38,
   "id": "3d8749da-7afc-4d04-b374-68b89ecda25d",
   "metadata": {
    "slideshow": {
     "slide_type": "skip"
    }
   },
   "outputs": [],
   "source": [
    "# 문제 10 ~ 15\n",
    "# (10)본인의 이름, 나이, email주소, 취미, 결혼유무를 사전(딕셔너리)으로 생성.\n",
    "# 취미는 2개 이상의 값을 넣는다..\n",
    "info = {\n",
    "    \"이름\":\"홍길동\",\n",
    "    \"나이\":30,\n",
    "    \"email주소\":\"abc@a.com\",\n",
    "    \"취미\":[\"독서\", \"게임\"],\n",
    "    \"결혼유무\":\"미혼\"\n",
    "}\n",
    "#info2 = dict(이름=\"홍길동\", 나이=30, email주소=\"a@a.com\", 취미=['영화감상', '음악감상']), 결혼유무=\"미혼\")"
   ]
  },
  {
   "cell_type": "code",
   "execution_count": 39,
   "id": "d81d3643-fcec-4e70-9ab5-b7f0e4e55295",
   "metadata": {
    "slideshow": {
     "slide_type": "skip"
    }
   },
   "outputs": [
    {
     "name": "stdout",
     "output_type": "stream",
     "text": [
      "홍길동 abc@a.com\n"
     ]
    }
   ],
   "source": [
    "# (11) 위 딕셔너리에서 이름과 email주소를 조회해서 출력하세요.\n",
    "print(info['이름'], info['email주소'])\n",
    "#print(info2['이름'])"
   ]
  },
  {
   "cell_type": "code",
   "execution_count": 40,
   "id": "02f48728-3ea0-45e9-90ce-ade27558b555",
   "metadata": {
    "slideshow": {
     "slide_type": "skip"
    }
   },
   "outputs": [
    {
     "name": "stdout",
     "output_type": "stream",
     "text": [
      "게임\n"
     ]
    }
   ],
   "source": [
    "# (12) 위 딕셔너리에서 취미중 두번째 취미를 조회해서 출력하세요.\n",
    "print(info['취미'][1])"
   ]
  },
  {
   "cell_type": "code",
   "execution_count": 41,
   "id": "35603503-e1fa-4859-ace9-137b9d248746",
   "metadata": {
    "slideshow": {
     "slide_type": "skip"
    }
   },
   "outputs": [
    {
     "data": {
      "text/plain": [
       "{'이름': '홍길동',\n",
       " '나이': 30,\n",
       " 'email주소': 'abc@a.com',\n",
       " '취미': ['독서', '게임'],\n",
       " '결혼유무': '미혼',\n",
       " '몸무게': 80,\n",
       " '키': 180.56}"
      ]
     },
     "execution_count": 41,
     "metadata": {},
     "output_type": "execute_result"
    }
   ],
   "source": [
    "# (13) 위 딕셔너리에 몸무게와 키 항목을 추가하세요.\n",
    "info['몸무게']=80\n",
    "info['키']=180.56\n",
    "info      #없는 key에 대입 ; 추가"
   ]
  },
  {
   "cell_type": "code",
   "execution_count": 42,
   "id": "29fdc089-a554-478d-9c46-3d5a178d37ec",
   "metadata": {
    "slideshow": {
     "slide_type": "skip"
    }
   },
   "outputs": [
    {
     "data": {
      "text/plain": [
       "{'이름': '홍길동',\n",
       " '나이': 30,\n",
       " 'email주소': 'abc@a.com',\n",
       " '취미': ['독서', '게임'],\n",
       " '결혼유무': '미혼',\n",
       " '몸무게': 80,\n",
       " '키': 180.56,\n",
       " 'email 주소': 'my-email@playdata.io'}"
      ]
     },
     "execution_count": 42,
     "metadata": {},
     "output_type": "execute_result"
    }
   ],
   "source": [
    "# (14) 위 딕셔너리에서 email 주소를 다른 값으로 변경하세요.\n",
    "info['email 주소']= \"my-email@playdata.io\"   #있는 key에 대입: 변경\n",
    "info"
   ]
  },
  {
   "cell_type": "code",
   "execution_count": 43,
   "id": "0b7c6ab0-2030-49be-9031-6ecd7d7b8517",
   "metadata": {
    "slideshow": {
     "slide_type": "skip"
    }
   },
   "outputs": [
    {
     "name": "stdout",
     "output_type": "stream",
     "text": [
      "{'이름': '홍길동', 'email주소': 'abc@a.com', '취미': ['독서', '게임'], '결혼유무': '미혼', '몸무게': 80, '키': 180.56, 'email 주소': 'my-email@playdata.io'}\n"
     ]
    }
   ],
   "source": [
    "# (15) 위 딕셔너리에서 나이를 제거하세요.\n",
    "age= info.pop('나이')\n",
    "print(info)\n",
    "#del info['취미']"
   ]
  },
  {
   "cell_type": "code",
   "execution_count": 44,
   "id": "c8c8544b-7d37-4a7e-a3a6-6279c95fc7a8",
   "metadata": {},
   "outputs": [
    {
     "data": {
      "text/plain": [
       "30"
      ]
     },
     "execution_count": 44,
     "metadata": {},
     "output_type": "execute_result"
    }
   ],
   "source": [
    "age"
   ]
  },
  {
   "cell_type": "code",
   "execution_count": null,
   "id": "4735c160-4428-455d-a35a-11fe956f893a",
   "metadata": {},
   "outputs": [],
   "source": []
  }
 ],
 "metadata": {
  "kernelspec": {
   "display_name": "Python 3 (ipykernel)",
   "language": "python",
   "name": "python3"
  },
  "language_info": {
   "codemirror_mode": {
    "name": "ipython",
    "version": 3
   },
   "file_extension": ".py",
   "mimetype": "text/x-python",
   "name": "python",
   "nbconvert_exporter": "python",
   "pygments_lexer": "ipython3",
   "version": "3.12.9"
  },
  "toc": {
   "base_numbering": 1,
   "nav_menu": {},
   "number_sections": true,
   "sideBar": true,
   "skip_h1_title": false,
   "title_cell": "Table of Contents",
   "title_sidebar": "Contents",
   "toc_cell": false,
   "toc_position": {
    "height": "calc(100% - 180px)",
    "left": "10px",
    "top": "150px",
    "width": "512px"
   },
   "toc_section_display": true,
   "toc_window_display": true
  },
  "varInspector": {
   "cols": {
    "lenName": 16,
    "lenType": 16,
    "lenVar": 40
   },
   "kernels_config": {
    "python": {
     "delete_cmd_postfix": "",
     "delete_cmd_prefix": "del ",
     "library": "var_list.py",
     "varRefreshCmd": "print(var_dic_list())"
    },
    "r": {
     "delete_cmd_postfix": ") ",
     "delete_cmd_prefix": "rm(",
     "library": "var_list.r",
     "varRefreshCmd": "cat(var_dic_list()) "
    }
   },
   "types_to_exclude": [
    "module",
    "function",
    "builtin_function_or_method",
    "instance",
    "_Feature"
   ],
   "window_display": false
  }
 },
 "nbformat": 4,
 "nbformat_minor": 5
}
