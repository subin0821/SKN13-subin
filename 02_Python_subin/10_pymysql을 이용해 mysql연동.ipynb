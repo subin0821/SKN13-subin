{
 "cells": [
  {
   "cell_type": "markdown",
   "id": "a2f58681",
   "metadata": {},
   "source": [
    "# pymysql\n",
    "\n",
    "-   파이썬에서 MySQL, MariaDB DBMS와 연동하는 다양한 함수를 제공하는 모듈\n",
    "-   Python [DB API 2.0](http://www.python.org/dev/peps/pep-0249) 표준을 따른다.\n",
    "-   https://github.com/PyMySQL/PyMySQL/\n",
    "-   https://pymysql.readthedocs.io/en/latest/\n"
   ]
  },
  {
   "cell_type": "markdown",
   "id": "43cccb80",
   "metadata": {},
   "source": [
    "# 설치\n",
    "\n",
    "-   조건\n",
    "    -   python version 3.6 이상\n",
    "    -   mysql version 5.6 이상\n",
    "-   설치\n",
    "    -   `pip install pymysql`\n",
    "    -   `conda install -c conda-forge pymysql`\n"
   ]
  },
  {
   "cell_type": "code",
   "execution_count": 1,
   "id": "16ddb3ec",
   "metadata": {},
   "outputs": [
    {
     "name": "stdout",
     "output_type": "stream",
     "text": [
      "Requirement already satisfied: pymysql in c:\\users\\playdata\\miniconda3\\lib\\site-packages (1.1.1)\n",
      "Note: you may need to restart the kernel to use updated packages.\n"
     ]
    }
   ],
   "source": [
    "%pip install pymysql"
   ]
  },
  {
   "cell_type": "markdown",
   "id": "7572463d",
   "metadata": {},
   "source": [
    "# 기본 작성 절차\n",
    "\n",
    "1. Database 연결\n",
    "    ```python\n",
    "       connection =  pymysql.connect(host:str=\"DBMS 서버 ip\",\n",
    "                                     port:int=port번호,\n",
    "                                     user:str=\"계정명\",\n",
    "                                     password:str=\"비밀번호\",\n",
    "                                     db:str=\"연결할데이터베이스이름\")\n",
    "    ```\n",
    "    - port 번호 기본값: 3306\n",
    "    - ContextManager 타입으로 with 구문을 이용해 작성하면 close() 작업을 자동으로 처리한다.\n",
    "2. Connection을 이용해 Cursor 생성\n",
    "    - Cursor: 연결된 Database에 sql문을 전송하고 select결과 조회 기능을 제공하는 객체\n",
    "    ```python\n",
    "        cursor = connection.cursor()\n",
    "    ```\n",
    "    - ContextManager 타입으로 with 구문을 이용해 작성하면 close() 작업을 자동으로 처리한다.\n",
    "3. Cusror를 이용해 SQL문 실행(DB Server로 전송)\n",
    "    ```python\n",
    "        cursor.execute(\"sql문\")\n",
    "    ```\n",
    "4. Select 결과 조회\n",
    "    - select 문을 실행한 경우 cursor를 의 fetch 메소드들을 이용해 select 결과를 조회한다.\n",
    "    ```python\n",
    "    result = cursor.fetchall()\n",
    "    ```\n",
    "5. 연결 닫기\n",
    "    - cursor, connection 연결을 닫는다.\n",
    "    - with문을 이용할 수 있다.\n",
    "    ```python\n",
    "    cursor.close()\n",
    "    connection.close()\n",
    "    ```\n"
   ]
  },
  {
   "cell_type": "code",
   "execution_count": 1,
   "id": "b064b9ec-3cae-45e2-bdc7-8d351b8b2dd1",
   "metadata": {},
   "outputs": [],
   "source": [
    "import pymysql\n",
    "\n",
    "connection = pymysql.connect(host=\"192.168.0.45\",\n",
    "                            port=3306,\n",
    "                            user=\"3team\",\n",
    "                            password=\"1111\",\n",
    "                            db=\"gas_station\",\n",
    "                            charset=\"utf8\",\n",
    "                           )\n",
    "\n",
    "# try:\n",
    "#     #테이블 생성\n",
    "#     with connection.cursor() as cursor:\n",
    "#         create_table_sql =\"\"\"\n",
    "#         create table if not exists sido_accident_stats(\n",
    "#             id INT AUTO_INCREMENT PRIMARY KEY,\n",
    "#             sido VARCHAR(50),\n",
    "#             accident_count INT,\n",
    "#             death_count INT,\n",
    "#             injury_count INT\n",
    "#         );\n",
    "#         \"\"\"\n",
    "#         cursor.execute(create_table_sql)\n",
    "#     connection.commit()\n",
    "\n",
    "# finally:\n",
    "#     connection.close()"
   ]
  },
  {
   "cell_type": "code",
   "execution_count": 5,
   "id": "6f9d49b4-9b11-40c4-b109-c1c4d4d17ad5",
   "metadata": {},
   "outputs": [
    {
     "name": "stdout",
     "output_type": "stream",
     "text": [
      "   station_id         station_name                  address region brand_name  \\\n",
      "0         422          (주)보성 세곡주유소     서울 강남구 헌릉로 731 (세곡동)    강남구      SK에너지   \n",
      "1         423             오일프러스 셀프  서울 강남구 남부순환로 2651 (도곡동)    강남구      SK에너지   \n",
      "2         424        지에스칼텍스㈜ 은마주유소          서울 강남구 영동대로 235    강남구      GS칼텍스   \n",
      "3         425  HD현대오일뱅크㈜직영 강남셀프주유소           서울 강남구 도곡로 208    강남구   HD현대오일뱅크   \n",
      "4         426  HD현대오일뱅크㈜직영 도곡셀프주유소        서울 강남구 남부순환로 2718    강남구   HD현대오일뱅크   \n",
      "\n",
      "   gasoline_price  diesel_price self_service car_wash convenience_store  \\\n",
      "0            1638          1528            Y        Y                 N   \n",
      "1            1679          1579            Y        Y                 N   \n",
      "2            1679          1659            N        Y                 N   \n",
      "3            1684          1604            Y        Y                 N   \n",
      "4            1684          1589            Y        Y                 N   \n",
      "\n",
      "  hours_24  \n",
      "0        N  \n",
      "1        Y  \n",
      "2        N  \n",
      "3        N  \n",
      "4        N  \n",
      "<class 'pandas.core.frame.DataFrame'>\n",
      "RangeIndex: 421 entries, 0 to 420\n",
      "Data columns (total 11 columns):\n",
      " #   Column             Non-Null Count  Dtype \n",
      "---  ------             --------------  ----- \n",
      " 0   station_id         421 non-null    int64 \n",
      " 1   station_name       421 non-null    object\n",
      " 2   address            421 non-null    object\n",
      " 3   region             421 non-null    object\n",
      " 4   brand_name         421 non-null    object\n",
      " 5   gasoline_price     421 non-null    int64 \n",
      " 6   diesel_price       421 non-null    int64 \n",
      " 7   self_service       421 non-null    object\n",
      " 8   car_wash           421 non-null    object\n",
      " 9   convenience_store  421 non-null    object\n",
      " 10  hours_24           421 non-null    object\n",
      "dtypes: int64(3), object(8)\n",
      "memory usage: 36.3+ KB\n",
      "None\n"
     ]
    },
    {
     "name": "stderr",
     "output_type": "stream",
     "text": [
      "C:\\Users\\Playdata\\AppData\\Local\\Temp\\ipykernel_7812\\2642228225.py:5: UserWarning: pandas only supports SQLAlchemy connectable (engine/connection) or database string URI or sqlite3 DBAPI2 connection. Other DBAPI2 objects are not tested. Please consider using SQLAlchemy.\n",
      "  df = pd.read_sql(query, connection)\n"
     ]
    }
   ],
   "source": [
    "import pandas as pd\n",
    "\n",
    "#sql 쿼리 실행하여 데이터 가져오기\n",
    "query =\"SELECT * FROM gas_station\"\n",
    "df = pd.read_sql(query, connection)\n",
    "\n",
    "#연결종료\n",
    "connection.close()\n",
    "\n",
    "#데이터 확인\n",
    "print(df.head())#처음 5개행 출력\n",
    "print(df.info()) #데이터 프레임 정보출력"
   ]
  },
  {
   "cell_type": "markdown",
   "id": "3262b127",
   "metadata": {},
   "source": [
    "# 예제\n",
    "\n",
    "## 테이블 생성\n"
   ]
  },
  {
   "cell_type": "code",
   "execution_count": 4,
   "id": "1fbddc50-275f-4803-b3f9-2f8f19a86690",
   "metadata": {},
   "outputs": [],
   "source": [
    "create_sql = \"\"\"\n",
    "create table customer(\n",
    "  id  int  auto_increment  primary key,\n",
    "  name  varchar(20) not null,\n",
    "  email  varchar(50) not null unique, \n",
    "  tall   double,\n",
    "  birthday  date,\n",
    "  created_at  datetime  not null\n",
    ")\n",
    "\"\"\"\n",
    "# sql 문 마지막에 `;` 은 붙이지 않는다. --> 한번의 하나의 명령만 수행할 수 있으므로 ;가 필요없음."
   ]
  },
  {
   "cell_type": "code",
   "execution_count": 5,
   "id": "d9b6ce09-4545-4540-aa6a-d73adf5a6c13",
   "metadata": {
    "scrolled": true
   },
   "outputs": [],
   "source": [
    "import pymysql\n",
    "\n",
    "try:\n",
    "    conn = None # connection을 저장할 변수\n",
    "    \n",
    "    # 1. Database와 연결.\n",
    "    conn = pymysql.connect(\n",
    "        host=\"127.0.0.1\",    # DBMS 의 ip(host) : str\n",
    "        port=3306,           # DBMS의 port 번호: int\n",
    "        user='playdata',        # username: str\n",
    "        password=\"1111\",    # password: str\n",
    "        db=\"mydb\"            #  연결할 Database이름: str\n",
    "    )  # 연결 성공하면 연결된 DB와 관련 작업할 수있는 기능을 제공하는 Connection객체를 반환\n",
    "    \n",
    "    # 2. Connection을 사용해서 Cursor 객체 생성\n",
    "    #    Cursor: sql 처리를 하는 기능을 제공.( sql 전송하고 처리결과를 받을 때까지를 관리)\n",
    "    cursor = conn.cursor()\n",
    "        \n",
    "    # 3. SQL 문 전송 (io작업.)\n",
    "    cursor.execute(\"drop table if exists customer\") # 1. drop\n",
    "    cursor.execute(create_sql) # 2. create\n",
    "    \n",
    "finally:\n",
    "    # 4. 연결닫기(끊기)\n",
    "    if conn: # conn != None\n",
    "        cursor.close() # 4-1. cursor 연결 닫기\n",
    "        conn.close()   # 4-2. connection 연결 닫기"
   ]
  },
  {
   "cell_type": "code",
   "execution_count": null,
   "id": "6f676b11-04b4-4591-9601-51973a9415f7",
   "metadata": {},
   "outputs": [],
   "source": []
  },
  {
   "cell_type": "markdown",
   "id": "98b6a836-68da-4dcb-80fc-f0ac22949b8b",
   "metadata": {},
   "source": [
    "## 파이썬 타입과 연결된 sql 데이터타입 \n",
    "- str - 문자열타입(char, varchar, text,...)\n",
    "- int - 정수(tiny int , int, ....)\n",
    "- float - 실수(float, double)\n",
    "- decimal.Decimal - 실수(decimal)\n",
    "- datetime.date - date\n",
    "- datetime.time - time\n",
    "- datetime.datetime - datetime, timestamp"
   ]
  },
  {
   "cell_type": "markdown",
   "id": "6741499c-a897-4092-8f11-df4720345cf7",
   "metadata": {},
   "source": [
    "> ### datetime 모듈\n",
    "> - 파이썬에서 날짜, 시간을 다루는 모듈\n",
    "> - 날짜 type(class): date\n",
    "> - 시간 type: time\n",
    "> - 날짜시간 type: datetime"
   ]
  },
  {
   "cell_type": "code",
   "execution_count": 9,
   "id": "189be399-4c87-44dd-afb6-d6a58d62f85b",
   "metadata": {},
   "outputs": [
    {
     "name": "stdout",
     "output_type": "stream",
     "text": [
      "2025-04-08 10:12:09.843165\n",
      "2025 4 8 10 12 9\n",
      "2025-04-08\n",
      "2000-10-02\n",
      "1990-02-07 10:22:53\n",
      "17:22:33\n"
     ]
    }
   ],
   "source": [
    "from datetime import date, time, datetime\n",
    "#실행시점\n",
    "a = datetime.now()\n",
    "print(a)\n",
    "print(a.year, a.month, a.day, a.hour, a.minute, a.second) #속성 조회\n",
    "b = date.today()\n",
    "print(b)\n",
    "\n",
    "# 특정 시점의 일시\n",
    "c = date(2000, 10, 2)\n",
    "print(c)\n",
    "d = datetime(1990, 2, 7, 10, 22, 53)\n",
    "print(d)\n",
    "e = time(17, 22, 33)\n",
    "print(e)"
   ]
  },
  {
   "cell_type": "markdown",
   "id": "59b4e786",
   "metadata": {},
   "source": [
    "## DML\n",
    "\n",
    "### insert\n"
   ]
  },
  {
   "cell_type": "code",
   "execution_count": null,
   "id": "61deab37",
   "metadata": {},
   "outputs": [],
   "source": [
    "sql = \"insert into customer (name, email, tall, birthday, created_at) values('이순신', 'lee1@naver.com', 185.23, '2000-09-20', now())\""
   ]
  },
  {
   "cell_type": "code",
   "execution_count": null,
   "id": "c78ebebd",
   "metadata": {
    "scrolled": true
   },
   "outputs": [],
   "source": [
    "# with 문을 이용해 connection, cursor 생성: with block을 빠져 나올 때 자동으로 close() 처리한다.\n",
    "#  DML(insert/update/delete) 처리 후 commit을 실행해야 영구적으로 적용된다.\n",
    "with pymysql.connect(host=\"127.0.0.1\", port=3306, user=\"playdata\", password=\"1111\", db=\"mydb\") as conn:\n",
    "    with conn.cursor() as cursor:\n",
    "        result = cursor.execute(sql) # 반환값: 처리행수(insert/delete/update된행수, select 조회행수)\n",
    "        print(\"처리 행수:\", result)\n",
    "        conn.commit() #insert/delete/update를 하고나면 commit을 해주어야 함.\n",
    "   "
   ]
  },
  {
   "cell_type": "markdown",
   "id": "c1d9de83",
   "metadata": {
    "ExecuteTime": {
     "end_time": "2022-04-19T06:23:30.323879Z",
     "start_time": "2022-04-19T06:23:30.304888Z"
    }
   },
   "source": [
    "### Parameterized Query\n",
    "\n",
    "-   Parameterized Query\n",
    "    -   SQL 문에서 컬럼 값이 들어가는 자리에 값대신 `%s` placeholder를 사용한뒤 execute()에서 placeholder에 넣을 값을 list나 tuple로 제공한다.\n",
    "    -   동일한 쿼리문을 값을 바꿔가면서 여러번 실행할 때 유용하다.\n"
   ]
  },
  {
   "cell_type": "code",
   "execution_count": 11,
   "id": "85b23241-9ea0-4d76-8ce4-1502e5d2c49f",
   "metadata": {
    "scrolled": true
   },
   "outputs": [
    {
     "name": "stdin",
     "output_type": "stream",
     "text": [
      "이름: 유관순 \n",
      "이메일주소: r@a.com\n",
      "키: 175.22\n"
     ]
    },
    {
     "name": "stdout",
     "output_type": "stream",
     "text": [
      "처리 행수: 1\n"
     ]
    }
   ],
   "source": [
    "import pymysql\n",
    "\n",
    "# insert할 값 입력받기\n",
    "name = input(\"이름:\")\n",
    "email = input(\"이메일주소:\")\n",
    "tall = float(input(\"키:\"))\n",
    "insert_sql = \"insert into customer (name, email, tall, birthday, created_at) values (%s, %s, %s, %s, now())\"\n",
    "\n",
    "with pymysql.connect(host=\"127.0.0.1\", port=3306, user='playdata', password='1111', db='mydb') as conn:\n",
    "    with conn.cursor() as cursor:\n",
    "        result = cursor.execute(insert_sql, [name, email, tall, \"2010-01-01\"])\n",
    "        conn.commit()\n",
    "        print(\"처리 행수:\", result)"
   ]
  },
  {
   "cell_type": "markdown",
   "id": "7322f3bb",
   "metadata": {},
   "source": [
    "#### Parameterized Query를 이용해 여러개 행 insert\n",
    "\n",
    "- executemany() 사용\n",
    "    - insert할 값들을 가진 리스트를 넣어 한번에 여러 행을 insert한다.\n"
   ]
  },
  {
   "cell_type": "code",
   "execution_count": 12,
   "id": "f72beeb1",
   "metadata": {},
   "outputs": [],
   "source": [
    "from datetime import datetime, date\n",
    "datas = [\n",
    "    [\"김인영\", \"abc2@a.com\", 165, date(2005, 1, 12), datetime.now()],\n",
    "    [\"오수철\", \"def2@a.com\", 175, date(1995, 12, 20), datetime.now()],\n",
    "    [\"최유명\", \"ghi2@a.com\", 183, date(1978, 10, 28), datetime.now()],\n",
    "    [\"김명수\", \"jkl@abc.com\", 177, date(2000, 2, 12), datetime.now()],\n",
    "    [\"이지영\", \"mno@abc.com\", 163, date(1995, 4, 21), datetime.now()],\n",
    "    [\"박명수\", \"pqr@abc.com\", 185, date(2002, 7, 5), datetime.now()],\n",
    "]"
   ]
  },
  {
   "cell_type": "code",
   "execution_count": null,
   "id": "7ec43b93-b2df-48ce-848a-18d655d7fc7a",
   "metadata": {},
   "outputs": [],
   "source": [
    "#for data in datas;\n",
    "#    cursor.execute(insert_sql, data)"
   ]
  },
  {
   "cell_type": "code",
   "execution_count": 13,
   "id": "2792bae6",
   "metadata": {},
   "outputs": [
    {
     "name": "stdout",
     "output_type": "stream",
     "text": [
      "insert된 총 행수: 6\n"
     ]
    }
   ],
   "source": [
    "insert_sql = \"insert into customer(name, email, tall, birthday, created_at) values(%s, %s, %s, %s, %s)\"\n",
    "with pymysql.connect(host=\"127.0.0.1\", port=3306, user='playdata', password='1111', db='mydb') as conn:\n",
    "    with conn.cursor() as cursor:\n",
    "        cnt = cursor.executemany(insert_sql, datas)\n",
    "        conn.commit()\n",
    "\n",
    "print(\"insert된 총 행수:\", cnt)"
   ]
  },
  {
   "cell_type": "markdown",
   "id": "d78f4253",
   "metadata": {},
   "source": [
    "### update/delete\n",
    "\n",
    "-   코딩 절차는 insert 와 동일\n"
   ]
  },
  {
   "cell_type": "code",
   "execution_count": 14,
   "id": "5f056266",
   "metadata": {},
   "outputs": [
    {
     "name": "stdin",
     "output_type": "stream",
     "text": [
      "변경할 키:  190.4\n",
      "변경할 고객 ID:  6\n"
     ]
    },
    {
     "name": "stdout",
     "output_type": "stream",
     "text": [
      "처리 행수:  1\n"
     ]
    }
   ],
   "source": [
    "update_sql = \"update customer set tall=%s where id=%s\" # 키를 변경하는 함수.\n",
    "tall = float(input(\"변경할 키: \"))\n",
    "cust_id = int(input(\"변경할 고객 ID: \"))\n",
    "\n",
    "with pymysql.connect(host=\"127.0.0.1\", port=3306, user='playdata', password='1111', db='mydb') as conn:\n",
    "    with conn.cursor() as cursor:\n",
    "        result = cursor.execute(update_sql, [tall, cust_id]) # (, placeholder들어갈 값.)\n",
    "        print(\"처리 행수: \", result)\n",
    "        conn.commit()"
   ]
  },
  {
   "cell_type": "code",
   "execution_count": 15,
   "id": "c07f1e80-a9a4-4a8b-bd4c-e9d0fc1fcd7e",
   "metadata": {},
   "outputs": [
    {
     "name": "stdin",
     "output_type": "stream",
     "text": [
      "변경할 Email주소:  test@test.com\n",
      "변경할 키:  174.23\n",
      "변경할 고객 ID:  6\n"
     ]
    },
    {
     "name": "stdout",
     "output_type": "stream",
     "text": [
      "처리 행수:  1\n"
     ]
    }
   ],
   "source": [
    "update_sql = \"update customer set email=%s, tall=%s where id=%s\" \n",
    "email = input(\"변경할 Email주소: \")\n",
    "tall = float(input(\"변경할 키: \"))\n",
    "cust_id = int(input(\"변경할 고객 ID: \"))\n",
    "\n",
    "with pymysql.connect(host=\"127.0.0.1\", port=3306, user='playdata', password='1111', db='mydb') as conn:\n",
    "    with conn.cursor() as cursor:\n",
    "        result = cursor.execute(update_sql, [email, tall, cust_id])\n",
    "        print(\"처리 행수: \", result)\n",
    "        conn.commit()"
   ]
  },
  {
   "cell_type": "code",
   "execution_count": 16,
   "id": "55cc6af5",
   "metadata": {},
   "outputs": [
    {
     "name": "stdin",
     "output_type": "stream",
     "text": [
      "삭제기준 키: 180\n"
     ]
    },
    {
     "name": "stdout",
     "output_type": "stream",
     "text": [
      "처리 행수:  3\n"
     ]
    }
   ],
   "source": [
    "delete_sql = \"delete from customer where tall > %s\"\n",
    "\n",
    "tall = float(input(\"삭제기준 키:\"))\n",
    "\n",
    "with pymysql.connect(host=\"127.0.0.1\", port=3306, user='playdata', password='1111', db='mydb') as conn: # 연결\n",
    "    with conn.cursor() as cursor:                # 커서생성\n",
    "        result = cursor.execute(delete_sql, [tall])\n",
    "        print(\"처리 행수: \", result)             # 실행\n",
    "        conn.commit()                           # commit"
   ]
  },
  {
   "cell_type": "code",
   "execution_count": null,
   "id": "ea34cdb7",
   "metadata": {},
   "outputs": [],
   "source": []
  },
  {
   "cell_type": "markdown",
   "id": "096891b8",
   "metadata": {},
   "source": [
    "## select (DQL - Data Query Language)\n",
    "\n",
    "-   조회결과 조회\n",
    "    -   `cursor.execute(\"select문\")` 실행 후 cursor의 결과 조회 메소드(fetch메소드)를 이용해 결과를 받는다.\n",
    "-   fetch메소드\n",
    "    -   **fetchall()**\n",
    "        -   조회한 모든 행을을 반환\n",
    "    -   **fetchmany(size=개수)**\n",
    "        -   전체 조회한 행들 중 지정한 size개수 만큼 반환.\n",
    "        -   연속적으로 실행하면 다음 size개수 만큼씩 반환한다.\n",
    "        -   더 이상 조회한 결과가 없으면 빈 튜플을 반환한다.\n",
    "    -   **fetchone()**\n",
    "        -   조회결과 중 첫번째 행만 반환\n",
    "        -   주로 pk 동등 조건으로 조회한 경우 사용\n"
   ]
  },
  {
   "cell_type": "markdown",
   "id": "524f4cb8",
   "metadata": {},
   "source": [
    "### fetchall()\n"
   ]
  },
  {
   "cell_type": "code",
   "execution_count": 17,
   "id": "93a06bf2",
   "metadata": {},
   "outputs": [
    {
     "name": "stdout",
     "output_type": "stream",
     "text": [
      "조회행수: 5\n"
     ]
    }
   ],
   "source": [
    "sql = \"select id, name, tall from customer\" # db 컬럼 순이 아니라 지정한 순으로 조회.\n",
    "with pymysql.connect(host=\"127.0.0.1\", port=3306, user='playdata', password='1111', db='mydb') as conn: # connection 맺고\n",
    "    with conn.cursor() as cursor:     # cursor생성하고\n",
    "        result = cursor.execute(sql)     # connection 맺고\n",
    "        print(\"조회행수:\", result)       # 쿼리실행\n",
    "        resultset = cursor.fetchall()   # select한 결과물(저장된 것)을 가져옴."
   ]
  },
  {
   "cell_type": "code",
   "execution_count": 19,
   "id": "82a62b01",
   "metadata": {},
   "outputs": [
    {
     "data": {
      "text/plain": [
       "'유관순 '"
      ]
     },
     "execution_count": 19,
     "metadata": {},
     "output_type": "execute_result"
    }
   ],
   "source": [
    "resultset[0][1] # 몇번쨰 데이터에 몇번째 컬럼값\n",
    "# tuple(개별행 - tuple(컬럼값들 ))"
   ]
  },
  {
   "cell_type": "code",
   "execution_count": null,
   "id": "32518037-2b70-444d-8b57-7b4531d79b6f",
   "metadata": {},
   "outputs": [],
   "source": [
    "resultset[0][1]"
   ]
  },
  {
   "cell_type": "markdown",
   "id": "2be0cc74-4dbc-4964-b2f7-d897c9fe5ccd",
   "metadata": {},
   "source": [
    "### 조회결과를 dictionary로 반환\n",
    "- pymysql.cursors.DictCursor 사용\n",
    "    - Connection 생성시 또는 Cursor 생성시 지정한다.\n",
    "- key: 컬럼명, value: 컬럼값"
   ]
  },
  {
   "cell_type": "code",
   "execution_count": 20,
   "id": "bce604d1-9215-4afc-b54a-5ff44c82d488",
   "metadata": {},
   "outputs": [
    {
     "name": "stdout",
     "output_type": "stream",
     "text": [
      "조회행수: 5\n"
     ]
    }
   ],
   "source": [
    "sql = \"select id, name, tall from customer\" \n",
    "with pymysql.connect(host=\"127.0.0.1\", port=3306, user='playdata', password='1111', db='mydb') as conn:\n",
    "    with conn.cursor(pymysql.cursors.DictCursor) as cursor:  \n",
    "        result = cursor.execute(sql)\n",
    "        print(\"조회행수:\", result)\n",
    "        resultset = cursor.fetchall()"
   ]
  },
  {
   "cell_type": "code",
   "execution_count": 21,
   "id": "e04c153c-aad0-4b4a-92d3-a19ae9d9385d",
   "metadata": {},
   "outputs": [
    {
     "data": {
      "text/plain": [
       "[{'id': 2, 'name': '유관순 ', 'tall': 175.22},\n",
       " {'id': 3, 'name': '김인영', 'tall': 165.0},\n",
       " {'id': 4, 'name': '오수철', 'tall': 175.0},\n",
       " {'id': 6, 'name': '김명수', 'tall': 174.23},\n",
       " {'id': 7, 'name': '이지영', 'tall': 163.0}]"
      ]
     },
     "execution_count": 21,
     "metadata": {},
     "output_type": "execute_result"
    }
   ],
   "source": [
    "resultset\n",
    "# list[dictionary{key:컬럼명, value:컬럼값}] #튜플이 아니라 list로 보여줌."
   ]
  },
  {
   "cell_type": "code",
   "execution_count": 22,
   "id": "d4111f61-e598-4faa-8cfb-b5b45e8071b1",
   "metadata": {},
   "outputs": [
    {
     "data": {
      "text/plain": [
       "'김인영'"
      ]
     },
     "execution_count": 22,
     "metadata": {},
     "output_type": "execute_result"
    }
   ],
   "source": [
    "resultset[1]['name']"
   ]
  },
  {
   "cell_type": "markdown",
   "id": "b3a9867d",
   "metadata": {},
   "source": [
    "### fetchone()\n"
   ]
  },
  {
   "cell_type": "code",
   "execution_count": 31,
   "id": "97500b7b",
   "metadata": {},
   "outputs": [
    {
     "name": "stdout",
     "output_type": "stream",
     "text": [
      "조회행수: 1\n"
     ]
    }
   ],
   "source": [
    "sql = \"select * from customer where id = %s\" # 특정 id 사람 조회\n",
    "with pymysql.connect(host=\"127.0.0.1\", port=3306, user='playdata', password='1111', db='mydb') as conn:\n",
    "    with conn.cursor() as cursor:\n",
    "        result = cursor.execute(sql, [2])  #(2, )\n",
    "        print(\"조회행수:\", result)\n",
    "        resultset = cursor.fetchone() #첫번째 행만\n",
    "        #resultset = cursor.fetchall() #튜플안에 데이터를 줌."
   ]
  },
  {
   "cell_type": "code",
   "execution_count": 32,
   "id": "23ccc2aa-29c5-4c65-b969-71aba2f1b05a",
   "metadata": {},
   "outputs": [
    {
     "data": {
      "text/plain": [
       "(2,\n",
       " '유관순 ',\n",
       " 'r@a.com',\n",
       " 175.22,\n",
       " datetime.date(2010, 1, 1),\n",
       " datetime.datetime(2025, 4, 8, 10, 33, 2))"
      ]
     },
     "execution_count": 32,
     "metadata": {},
     "output_type": "execute_result"
    }
   ],
   "source": [
    "resultset"
   ]
  },
  {
   "cell_type": "code",
   "execution_count": null,
   "id": "b0eaf81d",
   "metadata": {},
   "outputs": [],
   "source": [
    "if resultset:  # 조회결과가 없으면 None\n",
    "    print(resultset)\n",
    "else:\n",
    "    print(\"조회결과가 없음.\")"
   ]
  },
  {
   "cell_type": "markdown",
   "id": "cc8054bc",
   "metadata": {},
   "source": [
    "### fetchmany()\n"
   ]
  },
  {
   "cell_type": "code",
   "execution_count": 33,
   "id": "7d72f49c",
   "metadata": {},
   "outputs": [
    {
     "name": "stdout",
     "output_type": "stream",
     "text": [
      "조회행수: 5\n"
     ]
    }
   ],
   "source": [
    "sql = \"select id, name, birthday from customer\" \n",
    "with pymysql.connect(host=\"127.0.0.1\", port=3306, user='playdata', password='1111', db='mydb') as conn:\n",
    "    with conn.cursor() as cursor:\n",
    "        result = cursor.execute(sql)\n",
    "        print(\"조회행수:\", result)\n",
    "        resultset1 = cursor.fetchmany(size=2)  # 처음 두개 --> 나눠서 조회하고 싶을때 사용.\n",
    "        resultset2 = cursor.fetchmany(size=2)  # 다음 두개\n",
    "        resultset3 = cursor.fetchmany(size=2)\n",
    "        resultset4 = cursor.fetchmany(size=2)"
   ]
  },
  {
   "cell_type": "code",
   "execution_count": 34,
   "id": "50fffed5",
   "metadata": {},
   "outputs": [
    {
     "name": "stdout",
     "output_type": "stream",
     "text": [
      "((2, '유관순 ', datetime.date(2010, 1, 1)), (3, '김인영', datetime.date(2005, 1, 12)))\n",
      "((4, '오수철', datetime.date(1995, 12, 20)), (6, '김명수', datetime.date(2000, 2, 12)))\n",
      "((7, '이지영', datetime.date(1995, 4, 21)),)\n",
      "()\n"
     ]
    }
   ],
   "source": [
    "print(resultset1) \n",
    "print(resultset2)\n",
    "print(resultset3)\n",
    "print(resultset4)"
   ]
  },
  {
   "cell_type": "markdown",
   "id": "fca900bd",
   "metadata": {},
   "source": [
    "### select문을 실행한 cursor 는 iterable 타입\n",
    "\n",
    "-   for in 문에 select query를 실행한 cursor를 사용하면 조회결과를 한 행씩 조회할 수 있다.\n"
   ]
  },
  {
   "cell_type": "code",
   "execution_count": 35,
   "id": "8332ff67",
   "metadata": {},
   "outputs": [
    {
     "name": "stdout",
     "output_type": "stream",
     "text": [
      "조회행수: 5\n",
      "2 , 유관순  , r@a.com , 175.22 , 2010-01-01 , 2025-04-08 10:33:02\n",
      "3 , 김인영 , abc2@a.com , 165.0 , 2005-01-12 , 2025-04-08 10:36:43\n",
      "4 , 오수철 , def2@a.com , 175.0 , 1995-12-20 , 2025-04-08 10:36:43\n",
      "6 , 김명수 , test@test.com , 174.23 , 2000-02-12 , 2025-04-08 10:36:43\n",
      "7 , 이지영 , mno@abc.com , 163.0 , 1995-04-21 , 2025-04-08 10:36:43\n"
     ]
    }
   ],
   "source": [
    "sql = \"select * from customer\" \n",
    "with pymysql.connect(host=\"127.0.0.1\", port=3306, user='playdata', password='1111', db='mydb') as conn: # connect\n",
    "    with conn.cursor() as cursor:  # cursor\n",
    "        result = cursor.execute(sql) # 실행\n",
    "        print(\"조회행수:\", result)\n",
    "        for id, name, email, tall, birthday, created_at in cursor: # 조회한 결과의 첫번째 결과를 tuple로 두번째를 tuple로...\n",
    "            print(id, name, email, tall, birthday, created_at, sep=\" , \") # 실행코드에 작성하지 않고 함수화 한다."
   ]
  },
  {
   "cell_type": "code",
   "execution_count": 5,
   "id": "914e736b-1285-4a98-8ee9-e007d8a9e265",
   "metadata": {},
   "outputs": [
    {
     "name": "stdout",
     "output_type": "stream",
     "text": [
      "None\n"
     ]
    }
   ],
   "source": [
    "import customer_db as cdb\n",
    "\n",
    "result = cdb.select_customer_by_id(5)\n",
    "print(result)"
   ]
  },
  {
   "cell_type": "code",
   "execution_count": 4,
   "id": "c420bded-7489-47f2-9c68-0f48b77015b0",
   "metadata": {},
   "outputs": [
    {
     "name": "stdout",
     "output_type": "stream",
     "text": [
      "Overwriting customer_db.py\n"
     ]
    }
   ],
   "source": [
    "%%writefile customer_db.py\n",
    "\n",
    "############################################33\n",
    "# SQL 실행 코드를 함수화\n",
    "############################################33\n",
    "from datetime import date\n",
    "import pymysql\n",
    "def select_customer_by_id(cust_id: int) -> tuple|None: #힌트\n",
    "    \"\"\"\n",
    "    고객 id로 고객정보를 DB에서 조회해서 반환하는 함수.\n",
    "    Args:\n",
    "    Returns:\n",
    "        tuple : 조회결과\n",
    "        None : 조회결과가 없을 경우\n",
    "    Raises:\n",
    "    \"\"\"\n",
    "    sql = \"select * from customer where id = %s\" \n",
    "    with pymysql.connect(host=\"127.0.0.1\", port=3306, user='playdata', password='1111', db='mydb') as conn:\n",
    "        with conn.cursor() as cursor:\n",
    "            result = cursor.execute(sql, [cust_id])  \n",
    "            return  cursor.fetchone()\n",
    "\n",
    "\n",
    "def select_all_customer():\n",
    "    \"\"\"\n",
    "    전체 고객정보를 조회하는 함수\n",
    "    select * from customer;\n",
    "    \"\"\"\n",
    "    pass\n",
    "\n",
    "\n",
    "def update_customer(cust_id:int, name:str, email:str, tall:float, birthday:date|str) -> int:\n",
    "\n",
    "    sql = (\"update customerset \"\n",
    "           \"set name=%s, email=%s, tall=%s, birthday=%s\"\n",
    "           \"where id=%s\")\n",
    "    with pymysql.connect(host=\"127.0.0.1\", port=3306, user='playdata', password='1111', db='mydb') as conn:\n",
    "        with conn.cursor() as cursor:\n",
    "            result = cusor.execute(sql, (name, email, tall, birthday, cust_id))\n",
    "            conn.commit()\n",
    "            return result"
   ]
  },
  {
   "cell_type": "code",
   "execution_count": null,
   "id": "fdb38a9c-7009-40d6-a944-54de7d198bc6",
   "metadata": {},
   "outputs": [],
   "source": [
    "update_customer(5,\"rlaalsdud\")"
   ]
  },
  {
   "cell_type": "code",
   "execution_count": 41,
   "id": "30d08504-e186-4f41-ad73-c5314be5ee72",
   "metadata": {},
   "outputs": [
    {
     "name": "stdout",
     "output_type": "stream",
     "text": [
      "None\n"
     ]
    }
   ],
   "source": [
    "result = select_customer_by_id(5)\n",
    "print(result)"
   ]
  },
  {
   "cell_type": "code",
   "execution_count": 42,
   "id": "07eac061-e1da-4e2f-a992-30312c814427",
   "metadata": {},
   "outputs": [
    {
     "data": {
      "text/plain": [
       "'aaaaaaaaaaaaaaaaaaaaaaaaaaabbbbbbbbbbbbbbbbbbbbbbbbbbbbbbccccccccccccccccccccccccccccccc'"
      ]
     },
     "execution_count": 42,
     "metadata": {},
     "output_type": "execute_result"
    }
   ],
   "source": [
    "\"aaaaaaaaaaaaaaaaaaaaaaaaaaaaaaaaa\\\n",
    "aaaaaaaaaaaaaaaaaaaaaaaaaaaaaaaaaaaaa\" # 두줄이지만 한줄인 것 처럼 '\\'는 연결되어있음을 표시. 공백을 넣으면 공백이 그대로 표시됨.\n",
    "\n",
    "# (\"aaaaaaaaaaaaaaaaaaaaaaaaaaa\"\n",
    "#\"bbbbbbbbbbbbbbbbbbbbbbbbbbbbbb\"\n",
    "#\"ccccccccccccccccccccccccccccccc\") # 한줄이지만 길어서 나눈거니깐 보여줄땐 한줄로 보여줘."
   ]
  },
  {
   "cell_type": "code",
   "execution_count": null,
   "id": "431370ec-87ff-4d38-954d-9b998c0a1db1",
   "metadata": {},
   "outputs": [],
   "source": []
  }
 ],
 "metadata": {
  "kernelspec": {
   "display_name": "Python 3 (ipykernel)",
   "language": "python",
   "name": "python3"
  },
  "language_info": {
   "codemirror_mode": {
    "name": "ipython",
    "version": 3
   },
   "file_extension": ".py",
   "mimetype": "text/x-python",
   "name": "python",
   "nbconvert_exporter": "python",
   "pygments_lexer": "ipython3",
   "version": "3.12.9"
  },
  "toc": {
   "base_numbering": 1,
   "nav_menu": {},
   "number_sections": false,
   "sideBar": true,
   "skip_h1_title": false,
   "title_cell": "Table of Contents",
   "title_sidebar": "Contents",
   "toc_cell": false,
   "toc_position": {},
   "toc_section_display": true,
   "toc_window_display": false
  },
  "varInspector": {
   "cols": {
    "lenName": 16,
    "lenType": 16,
    "lenVar": 40
   },
   "kernels_config": {
    "python": {
     "delete_cmd_postfix": "",
     "delete_cmd_prefix": "del ",
     "library": "var_list.py",
     "varRefreshCmd": "print(var_dic_list())"
    },
    "r": {
     "delete_cmd_postfix": ") ",
     "delete_cmd_prefix": "rm(",
     "library": "var_list.r",
     "varRefreshCmd": "cat(var_dic_list()) "
    }
   },
   "types_to_exclude": [
    "module",
    "function",
    "builtin_function_or_method",
    "instance",
    "_Feature"
   ],
   "window_display": false
  }
 },
 "nbformat": 4,
 "nbformat_minor": 5
}
