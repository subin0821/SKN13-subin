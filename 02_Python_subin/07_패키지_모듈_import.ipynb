{
 "cells": [
  {
   "cell_type": "markdown",
   "id": "9d39c99a",
   "metadata": {
    "slideshow": {
     "slide_type": "slide"
    }
   },
   "source": [
    "# 모듈(Module)\n",
    "\n",
    "- 독립적인 기능을 가지고 재사용 가능한 프로그램 단위를 모듈이라고 한다.\n",
    "- **파이썬에서 모듈**은 재사용 가능한 변수, 함수, 클래스들을 작성한 소스 파일을 말한다.\n",
    "    - 함수나 클래스를 작성한 파이썬 파일 (`.py` 파일)이 모듈이 된다.\n",
    "- 모듈파일에 작성된 함수나 클래스들을 다른 python 프로그램에서 호출 하여 사용할 수 있다.\n",
    "    - 단 사용하기 위해서는 `import` 를 먼저 해야 한다.\n",
    "- 이런 모듈들을 모아 놓으면 라이브러리가 된다.\n",
    "- **모듈의 종류**\n",
    "    - 표준 모듈\n",
    "        - 파이썬에 내장된 모듈\n",
    "    - 사용자 정의 모듈\n",
    "        - 개발자가 재사용을 위해 직접 만든 모듈 \n",
    "    - 3rd Party 모듈\n",
    "        - 특정 개발업체나 개발자들이 만들어 배포하는 모듈\n",
    "        - 사용자 정의 모듈도 배포되어 다른 곳에서 사용되면 3rd party 모듈이 된다.\n",
    "     \n",
    "> ## 파이썬 파일\n",
    "> - script 파일: 파이썬 실행 파일. 처리할 것을 실행 순서대로 작성한 파이썬 파일.\n",
    "> - module파일: 파이썬 라이브러리로 재사용가능한 함수, 클래스들을 작성한 파이썬 파일."
   ]
  },
  {
   "cell_type": "markdown",
   "id": "0ba07092",
   "metadata": {
    "slideshow": {
     "slide_type": "slide"
    }
   },
   "source": [
    "# 패키지 (Package)\n",
    "- 모듈(들)을 저장한 디렉토리를 패키지라고 한다.\n",
    "    - 그래서 파이썬에서는 **라이브러리를 패키지라고 한다.** (재사용가능한 모듈들을 모아 놓은 것이 패키지이므로)\n",
    "- 물리적으로는 모듈 파일(.py)들을 모아놓은 디렉토리(폴더)가 패키지이다.  \n",
    "- python 3.3 이전 버전은 package 디렉토리에 **\\_\\_init\\_\\_.py** 파일을 그 디렉토리에 반드시 위치시켜야 한다.\n",
    "    - 3.3 이후에는 위치시킬 필요는 없지만 package안의 모듈들의 import 관련 설정을 해야 하는 경우에는 `__init__.py`에 작성하고 위치시킨다.\n",
    "- **Root Package**\n",
    "    - 라이브러리를 구성하는 전체 모듈들을 담고 있는 최상위 패키지(디렉토리)\n",
    "    - 패키지 내의 속한 패키지를 통칭 **sub package** 라고 한다.\n",
    "    - Root package를 제외한 모든 package들은 다 sub package가 된다."
   ]
  },
  {
   "cell_type": "code",
   "execution_count": 3,
   "id": "00a662f2",
   "metadata": {},
   "outputs": [
    {
     "name": "stdout",
     "output_type": "stream",
     "text": [
      "Overwriting mypackage/weight_helper.py\n"
     ]
    }
   ],
   "source": [
    "%%writefile mypackage/weight_helper.py\n",
    "# %%writefile 파일경로 -> cell의 작성한 내용을 경로의 파일에 작성(저장.) -> cell의 첫줄에 넣어야 함.\n",
    "def check_bmi(tall, weight):\n",
    "    print()\n",
    "    return weight/tall**2"
   ]
  },
  {
   "cell_type": "code",
   "execution_count": 6,
   "id": "3ec69096-8f54-413e-a05d-500e304f58b2",
   "metadata": {},
   "outputs": [],
   "source": [
    "# %load mypackage/weight_helper.py\n",
    "# %%writefile 파일경로 -> cell의 작성한 내용을 경로의 파일에 작성(저장.) -> cell의 첫줄에 넣어야 함.\n",
    "def check_bmi(tall, weight):\n",
    "    print()\n",
    "    return weight/tall**2\n"
   ]
  },
  {
   "cell_type": "markdown",
   "id": "4a874a76",
   "metadata": {
    "slideshow": {
     "slide_type": "slide"
    }
   },
   "source": [
    "# import\n",
    "\n",
    "## 함수, 클래스 정의란\n",
    "1. 함수, 클래스를 구현한다.\n",
    "2. 구현된 함수, 클래스를 파이썬 실행환경에 등록한다.\n",
    "    - 등록하는 것은 메모리에 올리는(loading) 작업이다.\n",
    "    - 메모리에 올리기 위해서는 구현된 것을 실행시켜서 파이썬 실행환경이 읽도록 해야 한다.\n",
    "- 파이썬 실행환경에 등록된 함수와 클래스만 호출해서 사용할 수 있다."
   ]
  },
  {
   "cell_type": "markdown",
   "id": "654df5d6",
   "metadata": {
    "slideshow": {
     "slide_type": "subslide"
    }
   },
   "source": [
    "## import 란\n",
    "- 파이썬 모듈 파일에 정의된 변수, 함수, 클래스들을 사용하기 위해 **파이썬 실행환경에 등록하는 작업**을 말한다.\n",
    "- 현재 프로그램 모듈의 것들이 아니라 **다른 모듈에 있는 것들은 사용하기 위해 import 작업을 먼저 해야 한다.**\n",
    "- 모듈을 import 하면 모듈의 내용이 실행되면서 그 안에 정의된 변수, 함수, 클래스들이 파이썬 실행환경 등록된다.\n",
    "    - import 된 변수, 함수, 클래스들은 모듈별로 namespace를 만들어 각각 등록된다.\n",
    "        - 현재 실행중인 module(main module) 에 정의된 함수, 클래스, 변수들이 저장되는 namespace와 import 되어 등록된 것들이 저장되는 namespace를 나누어 등록한다.\n",
    "\n",
    "\n",
    "> - **namespace**\n",
    ">    - 여러개의 객체(존재하는 무언가)를 하나로 묶어 주면서 구분자 역할을 하는 이름을 주는 것을 namespace라고 한다.\n",
    ">    - namespace를 이용해 각 그룹들의 객체들을 구분할 수 있다. 그래서 같은 이름의 객체들을 사용할 수 있다.\n",
    ">    - 파이썬에서는 모듈에 정의된 변수, 함수, 클래스 들을 실행환경에 등록할 때 모듈명을 namespace로 묶어서 등록한다.\n",
    ">    - [위키백과 참고](https://ko.wikipedia.org/wiki/%EC%9D%B4%EB%A6%84%EA%B3%B5%EA%B0%84)"
   ]
  },
  {
   "cell_type": "code",
   "execution_count": null,
   "id": "81bf0a02-8183-4c6c-9298-14bfe6d663ce",
   "metadata": {},
   "outputs": [],
   "source": [
    "import mypackage.calculator\n",
    "from mypackage import calcuator\n",
    "from rootpkg.subpkg.mypackage import calculator"
   ]
  },
  {
   "cell_type": "markdown",
   "id": "34083bd0",
   "metadata": {
    "slideshow": {
     "slide_type": "subslide"
    }
   },
   "source": [
    "## import 구문\n",
    "- 기본구문\n",
    "    - `[from 사용할 것의 경로] import 사용할 것 [as 별칭] [, 사용할 것 [as 별칭], ...]`\n",
    "        - \\[ \\] : 생략 가능한 구문\n",
    "    - 사용할 것\n",
    "        - 모듈\n",
    "        - 모듈안에 정의된 변수, 함수, 클래스"
   ]
  },
  {
   "cell_type": "markdown",
   "id": "37a67c0e",
   "metadata": {
    "slideshow": {
     "slide_type": "subslide"
    }
   },
   "source": [
    "<b style='font-size:1.2em'> 1. 모듈 import</b>\n",
    "```python\n",
    "import 모듈   # 하나의 모듈 import.\n",
    "import 모듈 as 별칭 # namespace의 이름을 모듈명이 아니라 별칭으로 지정한다.\n",
    "import 모듈_1, 모듈_2 # 여러개 모듈 import.','를 구분자로 나열한다.\n",
    "```\n",
    "- 모듈을 import 하고 그 안에 함수, 클래스들을 사용할 때는 **모듈명이 namespace 의 이름이** 되므로 `모듈명.함수()`, `모듈명.Class` 구문으로 호출한다.\n",
    "    - namespace의 이름은 **import 뒤에 지정한 이름으로 설정된다.**\n",
    "- 별칭(Alias)를 주면 namespace의 이름으로 지정한 별칭을 사용한다.\n",
    "- **예**\n",
    "```python\n",
    "import test_module\n",
    "import my_module as mm\n",
    "# test_module의 hello() 함수 호출시\n",
    "test_module.hello()\n",
    "# my_module은 mm 별칭을 지정했으므로 mm을 namespace로 사용한다.\n",
    "p = mm.Person('홍길동', 30) # my_module의 Person 클래스 객체 생성\n",
    "```"
   ]
  },
  {
   "cell_type": "code",
   "execution_count": null,
   "id": "5709c926",
   "metadata": {
    "slideshow": {
     "slide_type": "fragment"
    }
   },
   "outputs": [],
   "source": []
  },
  {
   "cell_type": "markdown",
   "id": "63abaa38",
   "metadata": {
    "slideshow": {
     "slide_type": "subslide"
    }
   },
   "source": [
    "<b style='font-size:1.2em'>2. 모듈내의 특정 항목만 import</b>\n",
    "```python \n",
    "from 모듈 import 함수  # 함수/클래스가 있는 모듈과 함수를 분리해서 import한다.\n",
    "from 모듈 import 클래스\n",
    "from 모듈 import 함수_1, 함수_2, 클래스\n",
    "from 모듈 import *   \n",
    "```\n",
    "- 모듈에 정의된 **일부 함수나 클래스만 사용할 경우** 개별적으로 import 할 수있다.\n",
    "- `from 모듈 import 함수` 구문으로 import 하면 import한 **함수나 클래스들이 현재 실행중인 모듈의 namespace로 들어간다. 그래서 모듈명없이 바로 호출 할 수 있다.**\n",
    "- `*`를 이용하면 그 모듈의 모든 함수/클래스들을 현재 실행중인 namespace에 추가해 사용할 수 있게 해준다. 이 방식은 **이름 충돌의 가능성이 있기때문에 추천되지 않는다.**"
   ]
  },
  {
   "cell_type": "code",
   "execution_count": null,
   "id": "fc1ac887",
   "metadata": {
    "slideshow": {
     "slide_type": "fragment"
    }
   },
   "outputs": [],
   "source": []
  },
  {
   "cell_type": "markdown",
   "id": "b8bc6da8",
   "metadata": {
    "slideshow": {
     "slide_type": "subslide"
    }
   },
   "source": [
    "<b style='font-size:1.2em'>3. 패키지에 속한 모듈 import</b>\n",
    "\n",
    "```python\n",
    "import 패키지명.모듈\n",
    "from 패키지명 import 모듈\n",
    "from 패키지명 import 모듈_1, 모듈_2\n",
    "from 패키지명.모듈 import 함수\n",
    "from 패키지명.모듈 import 클래스\n",
    "from 패키지명.모듈 import 함수_1, 함수_2, 클래스\n",
    "from Root패키지.Sub패키지1.Sub패키지2 import 모듈        # 패키지가 계층구조로 되있을 경우 `.` 으로 이용해 나열한다.\n",
    "from Root패키지.Sub패키지1.Sub패키지2.모듈 import 함수\n",
    "from Root패키지.Sub패키지1.Sub패키지2.모듈 import 클래스\n",
    "```\n",
    "\n",
    "- 패키지에 속한 모듈을 import 할 때는 **from 절에 패키지를 import 절에 모듈을** 설정한다.\n",
    "- **import 가능한 것은 모듈, 변수, 함수, 클래스 들이다.**  <b style='color:red'>패키지는 import 할수 없다.</b>\n",
    "    - **모듈 안의 변수, 함수, 클래스들을 import 할 때는 `from 모듈 import 함수, 변수, 클래스` 구문을 사용해야 한다.**"
   ]
  },
  {
   "cell_type": "code",
   "execution_count": 8,
   "id": "6ebd3cdd",
   "metadata": {
    "slideshow": {
     "slide_type": "fragment"
    }
   },
   "outputs": [],
   "source": [
    "#calculator 모듈을 import\n",
    "import mypackage.calculator #as mypackage.calculator"
   ]
  },
  {
   "cell_type": "code",
   "execution_count": 12,
   "id": "f6dafac8-33d2-43ee-9aa0-9f1ebf087314",
   "metadata": {},
   "outputs": [
    {
     "data": {
      "text/plain": [
       "2.0"
      ]
     },
     "execution_count": 12,
     "metadata": {},
     "output_type": "execute_result"
    }
   ],
   "source": [
    "mypackage.calculator.plus(10, 20)\n",
    "mypackage.calculator.divide(10, 5)"
   ]
  },
  {
   "cell_type": "code",
   "execution_count": 14,
   "id": "d9066bda-8587-4327-885c-eefc2e96fa7b",
   "metadata": {},
   "outputs": [],
   "source": [
    "import mypackage.calculator as calc"
   ]
  },
  {
   "cell_type": "code",
   "execution_count": 16,
   "id": "4f49502b-f1ca-4d8e-b7ca-87e21a7ff1ab",
   "metadata": {},
   "outputs": [
    {
     "data": {
      "text/plain": [
       "210"
      ]
     },
     "execution_count": 16,
     "metadata": {},
     "output_type": "execute_result"
    }
   ],
   "source": [
    "calc.plus(10, 200)"
   ]
  },
  {
   "cell_type": "code",
   "execution_count": 25,
   "id": "9cb252d2-12a2-499c-b5ae-e3dfa97db520",
   "metadata": {},
   "outputs": [
    {
     "data": {
      "text/plain": [
       "20"
      ]
     },
     "execution_count": 25,
     "metadata": {},
     "output_type": "execute_result"
    }
   ],
   "source": [
    "from mypackage import calculator as c #as calculator\n",
    "calculator.multiply(10, 2)\n",
    "#c.multiply(10, 2)\n"
   ]
  },
  {
   "cell_type": "code",
   "execution_count": 26,
   "id": "cc4ff6ef-b1fd-468b-bc66-d560ded995f8",
   "metadata": {},
   "outputs": [
    {
     "name": "stdout",
     "output_type": "stream",
     "text": [
      "\n"
     ]
    },
    {
     "data": {
      "text/plain": [
       "30"
      ]
     },
     "execution_count": 26,
     "metadata": {},
     "output_type": "execute_result"
    }
   ],
   "source": [
    "import mypackage.weight_helper, mypackage.calculator\n",
    "\n",
    "mypackage.weight_helper.check_bmi(1.7, 60)\n",
    "mypackage.calculator.plus(10, 20)"
   ]
  },
  {
   "cell_type": "code",
   "execution_count": 27,
   "id": "80ee778c-17c3-4e80-a57e-0f00e24ff628",
   "metadata": {},
   "outputs": [
    {
     "name": "stdout",
     "output_type": "stream",
     "text": [
      "\n"
     ]
    },
    {
     "data": {
      "text/plain": [
       "300"
      ]
     },
     "execution_count": 27,
     "metadata": {},
     "output_type": "execute_result"
    }
   ],
   "source": [
    "from mypackage import weight_helper as wh, calculator as c\n",
    "wh.check_bmi(1.9, 90)\n",
    "c.plus(100, 200)"
   ]
  },
  {
   "cell_type": "code",
   "execution_count": 33,
   "id": "86e08284-db54-4e12-b3ac-416369c6910f",
   "metadata": {},
   "outputs": [],
   "source": [
    "def plus():\n",
    "    print(\"더하기\") #import시 이름이 같은 것이 있으면 안됨. 같은 이름의 함수가 있는 상태에서 import시 덮어씀 ->이전것이 삭제"
   ]
  },
  {
   "cell_type": "code",
   "execution_count": 35,
   "id": "c95c31aa-835f-42c5-9a9a-e245341d43c3",
   "metadata": {},
   "outputs": [
    {
     "name": "stdout",
     "output_type": "stream",
     "text": [
      "30\n"
     ]
    },
    {
     "data": {
      "text/plain": [
       "15"
      ]
     },
     "execution_count": 35,
     "metadata": {},
     "output_type": "execute_result"
    }
   ],
   "source": [
    "## 모듈에 있는 함수, 클래스를 import\n",
    "from mypackage.calculator import plus, minus #from mypackage.calculator import * -> 여기있는 것 다\n",
    "#from package.모듈명 import 함수/클래스 => 현재 실행중인 모듈(__main__)의 namespace에 정의\n",
    "print(plus(10, 20))\n",
    "minus(20, 5)"
   ]
  },
  {
   "cell_type": "code",
   "execution_count": 34,
   "id": "163b50cb-3b0b-4ba2-b20d-4f67c891f1b4",
   "metadata": {},
   "outputs": [
    {
     "name": "stdout",
     "output_type": "stream",
     "text": [
      "더하기\n"
     ]
    }
   ],
   "source": [
    "plus()"
   ]
  },
  {
   "cell_type": "code",
   "execution_count": 36,
   "id": "a7be20bb-6307-4db2-bbd6-5dca2e7de917",
   "metadata": {},
   "outputs": [
    {
     "ename": "TypeError",
     "evalue": "plus() missing 2 required positional arguments: 'num1' and 'num2'",
     "output_type": "error",
     "traceback": [
      "\u001b[31m---------------------------------------------------------------------------\u001b[39m",
      "\u001b[31mTypeError\u001b[39m                                 Traceback (most recent call last)",
      "\u001b[36mCell\u001b[39m\u001b[36m \u001b[39m\u001b[32mIn[36]\u001b[39m\u001b[32m, line 1\u001b[39m\n\u001b[32m----> \u001b[39m\u001b[32m1\u001b[39m \u001b[43mplus\u001b[49m\u001b[43m(\u001b[49m\u001b[43m)\u001b[49m\n",
      "\u001b[31mTypeError\u001b[39m: plus() missing 2 required positional arguments: 'num1' and 'num2'"
     ]
    }
   ],
   "source": [
    "plus()"
   ]
  },
  {
   "cell_type": "code",
   "execution_count": null,
   "id": "2489bfc8-4a71-48ff-ab86-7c575c1e078e",
   "metadata": {},
   "outputs": [],
   "source": [
    "#if 조건:\n",
    "    #from mypackage import calculator as c"
   ]
  },
  {
   "cell_type": "code",
   "execution_count": 2,
   "id": "babe3638-9f8c-4337-8762-e27153dc8fec",
   "metadata": {},
   "outputs": [],
   "source": [
    "from mypackage import calculator # 본인이 실행환경에서 실해될때는 __main__"
   ]
  },
  {
   "cell_type": "code",
   "execution_count": 1,
   "id": "3409d8e1-82ea-4882-894f-dc591dfd7d88",
   "metadata": {},
   "outputs": [
    {
     "name": "stdout",
     "output_type": "stream",
     "text": [
      "__main__\n"
     ]
    }
   ],
   "source": [
    "print(__name__)"
   ]
  },
  {
   "cell_type": "code",
   "execution_count": 3,
   "id": "ecf00f82-f0f2-4dd5-9d4b-4151435819b4",
   "metadata": {},
   "outputs": [
    {
     "name": "stdout",
     "output_type": "stream",
     "text": [
      "<class '__main__.Test'>\n"
     ]
    }
   ],
   "source": [
    "class Test:\n",
    "    pass\n",
    "\n",
    "t = Test()\n",
    "print(type(t)) #메인 모듈에 존재."
   ]
  },
  {
   "cell_type": "code",
   "execution_count": null,
   "id": "d60eb55e-7f10-4ebf-b724-f3074f2f8cf5",
   "metadata": {},
   "outputs": [],
   "source": []
  },
  {
   "cell_type": "markdown",
   "id": "6a263cf2",
   "metadata": {
    "slideshow": {
     "slide_type": "slide"
    }
   },
   "source": [
    "## import 된 모듈 찾는 경로 및 PYTHONPATH\n",
    "\n",
    "- `import 모듈` 구문을 사용하면 파이썬 실행 환경은 모듈을 다음 경로에서 찾는다.\n",
    "    1. 현재 실행중인 모듈(import 구문을 사용한 모듈)이 있는 경로\n",
    "    2. 파이썬 실행환경에 등록된 경로\n",
    "- 모듈을 찾는 순서는 다음에서 확인할 수 있다.\n",
    "```python\n",
    "import sys      # 표준모듈 sys\n",
    "print(sys.path) # 모듈을 찾는 경로를 저장한 list\n",
    "```\n",
    "- 위의 경로 이외에 파이썬 모듈이 있을 경우 PYTHONPATH 환경변수에 그 디렉토리 경로를 등록한다.\n",
    "    1. sys.path 에 추가한다. (사용할 때 마다 추가해야 한다.)\n",
    "    2. 운영체제 환경변수에 등록한다. (한번만 하면된다.)"
   ]
  },
  {
   "cell_type": "code",
   "execution_count": 4,
   "id": "7c356d60",
   "metadata": {
    "slideshow": {
     "slide_type": "fragment"
    }
   },
   "outputs": [
    {
     "name": "stdout",
     "output_type": "stream",
     "text": [
      "Writing c:\\temp\\pkg\\util.py\n"
     ]
    }
   ],
   "source": [
    "%%writefile c:\\temp\\pkg\\util.py\n",
    "\n",
    "def hello():\n",
    "    print(\"안녕하세요\")"
   ]
  },
  {
   "cell_type": "code",
   "execution_count": 5,
   "id": "7eb69248-3a8f-4dd6-a2ab-7bdab0ecb8fa",
   "metadata": {},
   "outputs": [
    {
     "ename": "ModuleNotFoundError",
     "evalue": "No module named 'pkg'",
     "output_type": "error",
     "traceback": [
      "\u001b[31m---------------------------------------------------------------------------\u001b[39m",
      "\u001b[31mModuleNotFoundError\u001b[39m                       Traceback (most recent call last)",
      "\u001b[36mCell\u001b[39m\u001b[36m \u001b[39m\u001b[32mIn[5]\u001b[39m\u001b[32m, line 1\u001b[39m\n\u001b[32m----> \u001b[39m\u001b[32m1\u001b[39m \u001b[38;5;28;01mfrom\u001b[39;00m \u001b[34;01mpkg\u001b[39;00m \u001b[38;5;28;01mimport\u001b[39;00m util\n\u001b[32m      2\u001b[39m util.hello\n",
      "\u001b[31mModuleNotFoundError\u001b[39m: No module named 'pkg'"
     ]
    }
   ],
   "source": [
    "from pkg import util\n",
    "util.hello"
   ]
  },
  {
   "cell_type": "code",
   "execution_count": 3,
   "id": "6fccb216-5d80-49b9-b30b-33b5a13cbdfe",
   "metadata": {},
   "outputs": [
    {
     "data": {
      "text/plain": [
       "['C:\\\\Users\\\\Playdata\\\\miniconda3\\\\python312.zip',\n",
       " 'C:\\\\Users\\\\Playdata\\\\miniconda3\\\\DLLs',\n",
       " 'C:\\\\Users\\\\Playdata\\\\miniconda3\\\\Lib',\n",
       " 'C:\\\\Users\\\\Playdata\\\\miniconda3',\n",
       " '',\n",
       " 'C:\\\\Users\\\\Playdata\\\\miniconda3\\\\Lib\\\\site-packages',\n",
       " 'C:\\\\Users\\\\Playdata\\\\miniconda3\\\\Lib\\\\site-packages\\\\win32',\n",
       " 'C:\\\\Users\\\\Playdata\\\\miniconda3\\\\Lib\\\\site-packages\\\\win32\\\\lib',\n",
       " 'C:\\\\Users\\\\Playdata\\\\miniconda3\\\\Lib\\\\site-packages\\\\Pythonwin']"
      ]
     },
     "execution_count": 3,
     "metadata": {},
     "output_type": "execute_result"
    }
   ],
   "source": [
    "import sys\n",
    "sys.path"
   ]
  },
  {
   "cell_type": "code",
   "execution_count": 4,
   "id": "c7afcb8f-2e39-401f-b990-82eeede8dbe0",
   "metadata": {},
   "outputs": [
    {
     "data": {
      "text/plain": [
       "['C:\\\\Users\\\\Playdata\\\\miniconda3\\\\python312.zip',\n",
       " 'C:\\\\Users\\\\Playdata\\\\miniconda3\\\\DLLs',\n",
       " 'C:\\\\Users\\\\Playdata\\\\miniconda3\\\\Lib',\n",
       " 'C:\\\\Users\\\\Playdata\\\\miniconda3',\n",
       " '',\n",
       " 'C:\\\\Users\\\\Playdata\\\\miniconda3\\\\Lib\\\\site-packages',\n",
       " 'C:\\\\Users\\\\Playdata\\\\miniconda3\\\\Lib\\\\site-packages\\\\win32',\n",
       " 'C:\\\\Users\\\\Playdata\\\\miniconda3\\\\Lib\\\\site-packages\\\\win32\\\\lib',\n",
       " 'C:\\\\Users\\\\Playdata\\\\miniconda3\\\\Lib\\\\site-packages\\\\Pythonwin',\n",
       " 'c:\\\\temp']"
      ]
     },
     "execution_count": 4,
     "metadata": {},
     "output_type": "execute_result"
    }
   ],
   "source": [
    "sys.path.append(r\"c:\\temp\")\n",
    "sys.path"
   ]
  },
  {
   "cell_type": "code",
   "execution_count": 6,
   "id": "8a2e5530-6c90-438a-8126-58d06d5af15d",
   "metadata": {},
   "outputs": [
    {
     "name": "stdout",
     "output_type": "stream",
     "text": [
      "안녕하세요\n"
     ]
    }
   ],
   "source": [
    "from pkg import util\n",
    "util.hello()"
   ]
  },
  {
   "cell_type": "code",
   "execution_count": null,
   "id": "75668021-2ef2-40d8-b5d7-d5214789e959",
   "metadata": {},
   "outputs": [],
   "source": []
  },
  {
   "cell_type": "markdown",
   "id": "4222ef77",
   "metadata": {
    "slideshow": {
     "slide_type": "slide"
    }
   },
   "source": [
    "# 메인 모듈(Main Module)과 하위 모듈(Sub Module)\n",
    "\n",
    "- **메인 모듈**\n",
    "    - 현재 실행하고 있는 모듈\n",
    "        - `python 모듈.py` 로 실행된 모듈을 말한다.\n",
    "    - application 의 main logic을 처리한다.\n",
    "- **하위 모듈 (Sub module)**\n",
    "    - 메인 모듈에서 import 되어 실행되는 모듈\n",
    "    - 모듈을 import하면 그 모듈을 실행 시킨다. 이때 모듈에 있는 실행코드들도 같이 실행된다. 이것을 방지 하기 위해 모듈이 메인 모듈로 실행되는지 하위 모듈로 실행되는지 확인이 필요하다.\n",
    "- <b>`__name__`</b> 내장 전역변수\n",
    "    - 실행 중인 모듈명을 저장하는 내장 전역변수\n",
    "    - **메인 모듈은 '\\_\\_main\\_\\_'** 을 **하위 모듈은 모듈명(파일명)** 이 저장된다.\n",
    "    - 모듈이 메인 모듈로 시작하는지 여부 확인 할 때 사용한다.\n",
    "    \n",
    "```python\n",
    "if __name__ == '__main__':\n",
    "    # 메인모듈일 때만 실행할 코드 블록\n",
    "```"
   ]
  },
  {
   "cell_type": "code",
   "execution_count": null,
   "id": "f958ebb9",
   "metadata": {
    "slideshow": {
     "slide_type": "fragment"
    }
   },
   "outputs": [],
   "source": []
  },
  {
   "cell_type": "markdown",
   "id": "cadef5be",
   "metadata": {},
   "source": [
    "# 3rd party library 설치\n",
    "\n",
    "- 기능을 모아 놓은 것이 **모듈(module)** 이고 모듈을 모아 놓은 것이 **패키지** 이고 그런 패키지들을 모아서 놓은 것이 **Library** 이다.\n",
    "- **Library** 는 범용적으로 사용할 수있는 기능들을 구현해서 배포한 것을 말한다. 파이썬에서는 라이브러리를 패키지라고도 한다.\n",
    "- Library는 누구든 만들어서 배포(제공)할 수있다.\n",
    "    - **1st party library:** 파이썬 실행 환경 설치시 내장되어 있는 library\n",
    "    - **2nd party library:** Application을 만들면서 필요에 따가 정의한 library (내가 만든 라이브러리)\n",
    "    - **3rd party library:** 개인이나 회사 또는 단체에서 만들어 배포한 library.\n",
    "- Python은 3rd party library 생태계가 잘 이루어져 있다.\n",
    "    - 파이썬은 라이브러리 저장소(repository)를 이용해 라이브러리 작성자들과 사용자들을 연결해 배포와 사용을 쉽게 할 수 있도록 한다.\n",
    "    - **PyPI:** 파이썬 공식 라이브러리 저장소\n",
    "        - https://pypi.org/ : 라이브러리 검색 사이트\n",
    "        - pip tool을 이용해 라이브러리를 관리한다.\n",
    "    - **Conda Repository:** Anaconda 에서 제공하는 라이브러리 저장소\n",
    "        - https://anaconda.org/anaconda/repo : 패키지 검색 사이트\n",
    "        - conda tool 을 이용해 라이브러리를 관리한다."
   ]
  },
  {
   "cell_type": "markdown",
   "id": "c914e151",
   "metadata": {},
   "source": [
    "### PIP 주요 명령어\n",
    "- pip는 python runtime 설치하면 같이 설치되는 **라이브러리 관리 툴**이다.\n",
    "- `pip --help`\n",
    "- `pip install 라이브러리[==version]` \n",
    "    - Library를 설치한다.\n",
    "    - version을 지정하면 그 버전으로 지정하지 않으면 최신버전을 설치한다.\n",
    "    - upgrade나 downgrade는 진행하지 않는다. (이미 설치 된 library가 있으면 다시 설치 하지 않는다.)\n",
    "    - 관리자 권한일 경우 설치되는 library가 있다. 이 경우 **--user** 옵션을 지정한다.\n",
    "- `pip install --upgrade 라이브러리[==version]`, \\-U \\-\\-upgrade\n",
    "    - Library를 upgrade 또는 downgrade한다.\n",
    "    - Library가 없으면 설치한다.\n",
    "    - 이미 설치된 Library가 지정한 version과 다르면 다시 설치한다. (version을 생략하면 최신버전)\n",
    "- `pip install --requirement 파일경로`,  \\-r, \\-\\-requirement\n",
    "    - 파일경로의 text 파일에 설치할 library이름과 버전을 작성한다. 그리고 작성된 library들을 한번에 설치한다.\n",
    "- `pip freeze > 파일명.txt`\n",
    "    - 현재 설치된 library들을 \\-\\-requirement로 설치할 수 있도록 text 파일에 작성해 준다. 관례적으로 파일명은 **requirements.txt** 로 한다.\n",
    "- `pip uninstall 패키지명`\n",
    "    - Library를 local 컴퓨터에서 삭제한다.\n",
    "- `pip list`: 설치된 모든 library 목록을 출력한다.\n",
    "- `pip show 라이브러리`\n",
    "    - 지정한 library의 정보를 출력한다."
   ]
  },
  {
   "cell_type": "code",
   "execution_count": 1,
   "id": "33e6cec3",
   "metadata": {},
   "outputs": [],
   "source": [
    "import pandas as pd"
   ]
  },
  {
   "cell_type": "code",
   "execution_count": null,
   "id": "9d47f3c4",
   "metadata": {},
   "outputs": [],
   "source": [
    "pip install pandas\n",
    "pip install pandas==2.2.0"
   ]
  },
  {
   "cell_type": "code",
   "execution_count": null,
   "id": "1b716b0b-fced-45ba-b5a8-afb4fe7fa66c",
   "metadata": {},
   "outputs": [],
   "source": [
    "# update/downgrade\n",
    "pip install pandas -U #--upgrade\n",
    "pip install pandas == 2.2.0 -U #downgrade"
   ]
  },
  {
   "cell_type": "code",
   "execution_count": null,
   "id": "28811bf5-d35b-4edc-93d2-bf59147b035b",
   "metadata": {},
   "outputs": [],
   "source": [
    "#삭제(제거)\n",
    "pip uninstall pandas"
   ]
  },
  {
   "cell_type": "code",
   "execution_count": null,
   "id": "4c09c665-af57-4c1d-9470-26670e55d8ad",
   "metadata": {},
   "outputs": [],
   "source": [
    "# jupyter lab에서 pip 명령어 사용"
   ]
  },
  {
   "cell_type": "code",
   "execution_count": 3,
   "id": "5fadefe7-8f51-4732-b7e1-80386e14f53e",
   "metadata": {},
   "outputs": [
    {
     "name": "stdout",
     "output_type": "stream",
     "text": [
      "Note: you may need to restart the kernel to use updated packages.\n"
     ]
    },
    {
     "name": "stderr",
     "output_type": "stream",
     "text": [
      "ERROR: Invalid requirement: '#-q-': Expected package name at the start of dependency specifier\n",
      "    #-q-\n",
      "    ^\n"
     ]
    }
   ],
   "source": [
    "%pip install -q matplotlib #-q->아래 내역을 나타내지 않음."
   ]
  },
  {
   "cell_type": "code",
   "execution_count": null,
   "id": "c6116065-4af5-47cf-a6fb-05affd39977d",
   "metadata": {},
   "outputs": [],
   "source": [
    "#pip freeze > a.txt -> a.txt파일에 저장해서 보여줘."
   ]
  },
  {
   "cell_type": "code",
   "execution_count": null,
   "id": "23ae59e2-beeb-4e66-afb5-64931dfdb375",
   "metadata": {},
   "outputs": [],
   "source": [
    "# pip list --format==freeze >requirement.txt -->format==freeze 형식으로 표시되어 나타남. requirement.txt 파일로 저장.\n",
    "# pip show pandas --> 패키지 해당정보 보여줌."
   ]
  },
  {
   "cell_type": "code",
   "execution_count": null,
   "id": "5b127bd1-649f-478e-8c02-012b04dca942",
   "metadata": {},
   "outputs": [],
   "source": []
  }
 ],
 "metadata": {
  "kernelspec": {
   "display_name": "Python 3 (ipykernel)",
   "language": "python",
   "name": "python3"
  },
  "language_info": {
   "codemirror_mode": {
    "name": "ipython",
    "version": 3
   },
   "file_extension": ".py",
   "mimetype": "text/x-python",
   "name": "python",
   "nbconvert_exporter": "python",
   "pygments_lexer": "ipython3",
   "version": "3.12.9"
  },
  "toc": {
   "base_numbering": 1,
   "nav_menu": {},
   "number_sections": true,
   "sideBar": true,
   "skip_h1_title": false,
   "title_cell": "Table of Contents",
   "title_sidebar": "Contents",
   "toc_cell": false,
   "toc_position": {},
   "toc_section_display": true,
   "toc_window_display": false
  },
  "varInspector": {
   "cols": {
    "lenName": 16,
    "lenType": 16,
    "lenVar": 40
   },
   "kernels_config": {
    "python": {
     "delete_cmd_postfix": "",
     "delete_cmd_prefix": "del ",
     "library": "var_list.py",
     "varRefreshCmd": "print(var_dic_list())"
    },
    "r": {
     "delete_cmd_postfix": ") ",
     "delete_cmd_prefix": "rm(",
     "library": "var_list.r",
     "varRefreshCmd": "cat(var_dic_list()) "
    }
   },
   "types_to_exclude": [
    "module",
    "function",
    "builtin_function_or_method",
    "instance",
    "_Feature"
   ],
   "window_display": false
  }
 },
 "nbformat": 4,
 "nbformat_minor": 5
}
