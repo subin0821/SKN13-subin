{
 "cells": [
  {
   "cell_type": "markdown",
   "id": "8c49cd8e",
   "metadata": {
    "slideshow": {
     "slide_type": "slide"
    }
   },
   "source": [
    "# 제어문(Control flow statement)\n",
    "\n",
    "기본적으로 프로그램은 순차구조를 가진다. 즉 작성한 순서대로 실행이 된다.  \n",
    "이런 실행흐름을 다른 순서로 제어하기 위한 구문을 만드는 문법이 제어문이다.  \n",
    "제어문은 **조건문** 과 **반복문** 두가지 문법이 있다.\n",
    "\n",
    "-   **조건문**\n",
    "    -   if 문\n",
    "-   **반복문**\n",
    "    -   while 문\n",
    "    -   for in 문\n"
   ]
  },
  {
   "cell_type": "markdown",
   "id": "92c502ce",
   "metadata": {
    "slideshow": {
     "slide_type": "slide"
    }
   },
   "source": [
    "# 조건문/분기문 (conditional statement)\n",
    "\n",
    "-   프로그램이 명령문들을 실행하는 도중 특정 순서에서 **조건에 따라 흐름의 나눠져야 하는 경우 사용한다**\n",
    "-   파이썬은 조건문으로 **if문**이 있다.\n",
    "\n",
    "![조건문](images/ch03_01.png)\n",
    "\n",
    "<center>입력 받은 a 의 값이 0인지 여부에 따라 두가지 흐름으로 분기된다.</center>\n"
   ]
  },
  {
   "cell_type": "markdown",
   "id": "2a3c1835",
   "metadata": {
    "slideshow": {
     "slide_type": "subslide"
    }
   },
   "source": [
    "## 구문\n",
    "\n",
    "-   조건이 True일 경우만 특정 구문들을 실행 하는 조건문.\n",
    "\n",
    "```python\n",
    "if 조건:    # 조건은 bool 표현식을 기술한다. 조건선언 다음에 : 으로 선언해서 코드블록을 구분한다.\n",
    "    명령문1  # 조건이 True이면 실행할 구문들을 코드블럭에 기술한다.\n",
    "    명령문2  # 코드 블록은 들여쓰기를 이용해 묶어준다. 보통 공백 4칸으로 들여쓰기를 한다.\n",
    "    ...\n",
    "```\n",
    "\n",
    "> ### 파이썬의 코드블록(code block)\n",
    ">\n",
    "> 코드블록이란 **여러 명령문들을 묶어놓은 것을** 말한다. 코드블록으로 묶이면 실행시 같이 다 실행되고 실행이 안되면 같이 다 실행이 안된다.  \n",
    "> 파이썬에서는 코드블록을 작성할 때 **들여쓰기를 이용해 묶어준다.**  \n",
    "> 같은 칸만큼 들여쓰기를 한 명령문들이 같은 블록으로 묶인다.\n",
    "> 들여쓰기는 관례적으로 **공백 4칸을** 사용한다.\n",
    "\n",
    "> ### pass 키워드(예약어)\n",
    ">\n",
    "> -   빈 구현부를 만들때 사용\n",
    ">     -   제어문, 함수의 body 코드블럭은 비울 수 없다. 반드시 명령문을 한개 이상 작성해야한다.\n",
    ">     -   작성할 내용이 없을 경우 사용하는 키워드로 `pass`를 사용한다.\n"
   ]
  },
  {
   "cell_type": "code",
   "execution_count": null,
   "id": "9aa311a5",
   "metadata": {
    "slideshow": {
     "slide_type": "fragment"
    }
   },
   "outputs": [],
   "source": [
    "if 조건:\n",
    "    명령문\n",
    "    명령문"
   ]
  },
  {
   "cell_type": "code",
   "execution_count": 5,
   "id": "31cc7bf7-4cd2-4407-aa15-d96afca0a44f",
   "metadata": {},
   "outputs": [
    {
     "name": "stdin",
     "output_type": "stream",
     "text": [
      ">>>정수 0\n"
     ]
    },
    {
     "name": "stdout",
     "output_type": "stream",
     "text": [
      "0입니다.\n",
      "zero\n",
      "영\n",
      "종료\n"
     ]
    }
   ],
   "source": [
    "num=int(input(\">>>정수\"))\n",
    "#num이 0이면 \"영입니다.\"를 출력.\n",
    "if num==0: #선언부\n",
    "    #구현부 (선언부와 구현부는 :으로 구분)\n",
    "    print(\"0입니다.\")\n",
    "    print(\"zero\")\n",
    "    print(\"영\")\n",
    "print('종료')"
   ]
  },
  {
   "cell_type": "code",
   "execution_count": 1,
   "id": "5df3dfb4-2ee7-4f35-94b4-fd68a106b309",
   "metadata": {},
   "outputs": [
    {
     "name": "stdout",
     "output_type": "stream",
     "text": [
      "영입니다.\n"
     ]
    }
   ],
   "source": [
    "num = 0\n",
    "if num == 0:print(\"영입니다.\")  #실행 명령어가 하나일 때 ':'옆에 구현가능.\n",
    "else: print(\"영아님.\")"
   ]
  },
  {
   "cell_type": "markdown",
   "id": "09c79c35",
   "metadata": {
    "slideshow": {
     "slide_type": "subslide"
    }
   },
   "source": [
    "-   **조건이 True일 때 False일때 실행 구문이 분기되는 조건문.**\n",
    "\n",
    "```python\n",
    "if 조건:\n",
    "    명령문1_1 # 조건이 True일 경우 실행할 구문들\n",
    "    명령문1_2\n",
    "    ...\n",
    "else:\n",
    "    명령문2_1 # 조건이 False일 경우 실행할 구문들\n",
    "    명령문2_2\n",
    "    ...\n",
    "```\n"
   ]
  },
  {
   "cell_type": "code",
   "execution_count": 7,
   "id": "87b51956",
   "metadata": {
    "slideshow": {
     "slide_type": "fragment"
    }
   },
   "outputs": [
    {
     "name": "stdin",
     "output_type": "stream",
     "text": [
      ">>>정수 100\n"
     ]
    },
    {
     "name": "stdout",
     "output_type": "stream",
     "text": [
      "입력받은 숫자: 100\n"
     ]
    }
   ],
   "source": [
    "num=int(input(\">>>정수\"))\n",
    "if num==0:\n",
    "    print(\"영입니다.\")\n",
    "    print(\"This is zero.\")\n",
    "else:\n",
    "    print(f\"입력받은 숫자: {num}\")\n",
    "    "
   ]
  },
  {
   "cell_type": "code",
   "execution_count": null,
   "id": "6d10ab55-1dc9-40ff-932f-f4bef552ba57",
   "metadata": {},
   "outputs": [],
   "source": [
    "num=int(input(\">>>정수\"))\n",
    "if num == 0:\n",
    "    print(\"0\")\n",
    "else:             \n",
    "    pass\n",
    "#선언만 하고 명령문이 없으면 안됨.(실행이 안됨. but,아직 넣을 것이 정해지지 않았을때, pass를 입력하면 실행이 됨.)"
   ]
  },
  {
   "cell_type": "code",
   "execution_count": null,
   "id": "6b700faf-b6c7-40f3-b4e8-126e5c966293",
   "metadata": {},
   "outputs": [],
   "source": []
  },
  {
   "cell_type": "markdown",
   "id": "621eae9a",
   "metadata": {
    "slideshow": {
     "slide_type": "subslide"
    }
   },
   "source": [
    "-   **조건이 여러 개인 조건문.**\n",
    "\n",
    "```python\n",
    "if 조건1:\n",
    "    명령문1_1  # 조건1이 True일 경우 실행할 코드블록.\n",
    "    명령문1_2\n",
    "    ...\n",
    "elif 조건2:    # 다음 조건으로 앞의 조건들이 모드 False일 경우 비교한다.\n",
    "    명령문2_1  # 조건2가 True일 경우 실행할 코드블록.\n",
    "    명령문2_2\n",
    "    ...\n",
    "elif 조건3 :\n",
    "    명령문3_1\n",
    "    명령문3_2\n",
    "    ...\n",
    "else:         # 위의 모든 조건이 False일 경우 실행하는 코드블록. 생략 가능하다.\n",
    "    명령문4\n",
    "```\n"
   ]
  },
  {
   "cell_type": "code",
   "execution_count": 9,
   "id": "4c6a532d",
   "metadata": {
    "slideshow": {
     "slide_type": "fragment"
    }
   },
   "outputs": [
    {
     "name": "stdin",
     "output_type": "stream",
     "text": [
      ">>>정수: -199\n"
     ]
    },
    {
     "name": "stdout",
     "output_type": "stream",
     "text": [
      "음수입니다.\n",
      "종료\n"
     ]
    }
   ],
   "source": [
    "num = int(input(\">>>정수:\"))#1\n",
    "#2\n",
    "if num== 0:\n",
    "    print(\"영입니다.\")\n",
    "elif num > 0:\n",
    "    print(\"양수입니다.\")\n",
    "#elif num >0:\n",
    "else:\n",
    "    print(\"음수입니다.\")\n",
    "\n",
    "print(\"종료\")#3"
   ]
  },
  {
   "cell_type": "code",
   "execution_count": null,
   "id": "13437d7a-e79b-4b64-829a-cdf991f70da4",
   "metadata": {},
   "outputs": [],
   "source": []
  },
  {
   "cell_type": "markdown",
   "id": "2149b728",
   "metadata": {
    "slideshow": {
     "slide_type": "slide"
    }
   },
   "source": [
    "# 반복문 (Loop statement)\n",
    "\n",
    "특정 구문들을 반복해서 실행할 때 사용한다. 동일한 코드를 여러번 반복하거나 값이 일정하게 변하는 코드를 반복할 경우 사용한다.  \n",
    "단순 반복을 처리하는 **while문**과 iterable객체가 제공하는 값들을 반복 조회하는 **for in문** 두가지 문법이 있다.\n",
    "\n",
    "![반복문](images/ch03_02.png)\n",
    "\n",
    "<center>count의 값이 limit의 값보다 크거나 같을때 까지 count의 값을 1증가 후 출력하는 구문을 반복한다. </center>\n"
   ]
  },
  {
   "cell_type": "markdown",
   "id": "b4740a36",
   "metadata": {
    "slideshow": {
     "slide_type": "subslide"
    }
   },
   "source": [
    "## while문\n",
    "\n",
    "-   조건이 True인 동안 구문을 반복해서 실행한다.\n",
    "\n",
    "### 구문\n",
    "\n",
    "```python\n",
    "while 조건:       # 조건은 bool 표현식을 기술한다. 조건선언 다음에 : 으로 선언해서 코드블록을 구분한다\n",
    "    반복할 구문1  # 반복할 구문을 코드블록으로 작성한다.\n",
    "    반복할 구문2\n",
    "    ...\n",
    "```\n"
   ]
  },
  {
   "cell_type": "code",
   "execution_count": 3,
   "id": "6b11bde6",
   "metadata": {
    "slideshow": {
     "slide_type": "fragment"
    }
   },
   "outputs": [
    {
     "name": "stdout",
     "output_type": "stream",
     "text": [
      "1. 안녕하세요.\n",
      "2. 안녕하세요.\n",
      "3. 안녕하세요.\n",
      "4. 안녕하세요.\n",
      "5. 안녕하세요.\n",
      "6. 안녕하세요.\n",
      "7. 안녕하세요.\n",
      "8. 안녕하세요.\n",
      "9. 안녕하세요.\n",
      "10. 안녕하세요.\n",
      "종료\n"
     ]
    }
   ],
   "source": [
    "count = 0\n",
    "limit = 10\n",
    "while count < limit:\n",
    "    #count = count + 1\n",
    "    count += 1\n",
    "    print(f\"{count}. 안녕하세요.\")\n",
    "print(\"종료\")"
   ]
  },
  {
   "cell_type": "code",
   "execution_count": null,
   "id": "ba6aa830-5559-4cd4-af2a-b94a5d0e78ca",
   "metadata": {},
   "outputs": [],
   "source": []
  },
  {
   "cell_type": "markdown",
   "id": "04f12e55",
   "metadata": {
    "slideshow": {
     "slide_type": "subslide"
    }
   },
   "source": [
    "## for in 문\n",
    "\n",
    "-   Iterable 객체를 순환조회하는 구문\n",
    "    -   for in문은 Iterable 타입의 객체가 가지고 있는 값들을 하나씩 처리하는 구문을 작성할 때 사용한다.\n",
    "\n",
    "> -   **Iterable**\n",
    ">     -   반복가능한 객체. 반복문(for in)을 이용해 일련의 값들을 반복적으로 각각 제공하는 객체를 말한다.\n",
    ">     -   대표적으로 List, Tuple, Dictionary, Set, 문자열 등이 있다.\n",
    "\n",
    "### 구문\n",
    "\n",
    "```python\n",
    "for 변수 in Iterable: # for in 선언후 : 으로 선언부와 구현부를 나눈다.\n",
    "    반복구문          # Iterable이 반복시 제공하는 값을 가지는 \"변수\"를 이용해 값들을 처리하는 구문을 코드블록으로 작성한다.\n",
    "    반복구문\n",
    "```\n"
   ]
  },
  {
   "cell_type": "code",
   "execution_count": 11,
   "id": "da0ce0f6",
   "metadata": {
    "slideshow": {
     "slide_type": "fragment"
    }
   },
   "outputs": [
    {
     "name": "stdout",
     "output_type": "stream",
     "text": [
      "10\t100\t20\t30\t500\t15\t"
     ]
    }
   ],
   "source": [
    "l = [10, 100, 20, 30, 500, 15]\n",
    "# l의 모든 원소들을 출력 (Iterable(반복대상): l, 일괄처리: 출력)\n",
    "for v in l:\n",
    "    print(v, end=\"\\t\")"
   ]
  },
  {
   "cell_type": "code",
   "execution_count": 7,
   "id": "083403aa-5d15-4125-ab25-50a07bd883ca",
   "metadata": {},
   "outputs": [],
   "source": [
    "# l의 모든 값들을 두배로 늘리기. (iterable: l, 일괄처리: 두배)\n",
    "result = []\n",
    "for v in l:\n",
    "    #print(v*2)\n",
    "    result.append(v*2)"
   ]
  },
  {
   "cell_type": "code",
   "execution_count": 8,
   "id": "8f758906-2a29-498f-bb6a-b96de3d3c89a",
   "metadata": {},
   "outputs": [
    {
     "name": "stdout",
     "output_type": "stream",
     "text": [
      "[10, 100, 20, 30, 500]\n",
      "[20, 200, 40, 60, 1000]\n"
     ]
    }
   ],
   "source": [
    "print(l)\n",
    "print(result)"
   ]
  },
  {
   "cell_type": "code",
   "execution_count": 13,
   "id": "274dda64-b7b9-4f59-90a8-3a815e4839c8",
   "metadata": {},
   "outputs": [
    {
     "name": "stdout",
     "output_type": "stream",
     "text": [
      "10는 3의 배수가 아님.\n",
      "100는 3의 배수가 아님.\n",
      "20는 3의 배수가 아님.\n",
      "30\n",
      "500는 3의 배수가 아님.\n",
      "15\n"
     ]
    }
   ],
   "source": [
    "# 3의 배수를 찾기 (Iterable: l, 일괄처리: 3의 배수인지 확인)\n",
    "for v in l:\n",
    "    if v % 3 == 0:\n",
    "        print(v)\n",
    "    else:\n",
    "        print(f\"{v}는 3의 배수가 아님.\")"
   ]
  },
  {
   "cell_type": "code",
   "execution_count": 14,
   "id": "a75a59d1-6934-4934-990d-c429cc61e1a7",
   "metadata": {},
   "outputs": [
    {
     "name": "stdout",
     "output_type": "stream",
     "text": [
      "10\n",
      "20\n",
      "30\n"
     ]
    }
   ],
   "source": [
    "s = {10, 20, 30}\n",
    "for v in s:\n",
    "    print(v)"
   ]
  },
  {
   "cell_type": "code",
   "execution_count": 15,
   "id": "fbc8a4ac-6294-4bb8-bd66-99b446ff5e1f",
   "metadata": {},
   "outputs": [
    {
     "name": "stdout",
     "output_type": "stream",
     "text": [
      "1\n",
      "2\n",
      "3\n",
      "4\n",
      "5\n"
     ]
    }
   ],
   "source": [
    "t = 1, 2, 3, 4, 5\n",
    "for v in t:\n",
    "    print(v)"
   ]
  },
  {
   "cell_type": "code",
   "execution_count": 17,
   "id": "b7acd3dd-158a-42f4-88b6-59605b054af0",
   "metadata": {},
   "outputs": [
    {
     "name": "stdout",
     "output_type": "stream",
     "text": [
      "a 10\n",
      "b 20\n",
      "c 30\n"
     ]
    }
   ],
   "source": [
    "# dict\n",
    "d = {\"a\":10, \"b\":20, \"c\": 30}\n",
    "for key in d:\n",
    "    print(key, d[key])"
   ]
  },
  {
   "cell_type": "code",
   "execution_count": 19,
   "id": "bcbadaba-14c8-49fa-b196-37223b524e29",
   "metadata": {},
   "outputs": [
    {
     "name": "stdout",
     "output_type": "stream",
     "text": [
      "10\n",
      "20\n",
      "30\n"
     ]
    }
   ],
   "source": [
    "for v in d.values():\n",
    "    print(v)"
   ]
  },
  {
   "cell_type": "code",
   "execution_count": 20,
   "id": "39665020-e8a8-4644-8da5-fa57a91369e3",
   "metadata": {},
   "outputs": [
    {
     "data": {
      "text/plain": [
       "dict_items([('a', 10), ('b', 20), ('c', 30)])"
      ]
     },
     "execution_count": 20,
     "metadata": {},
     "output_type": "execute_result"
    }
   ],
   "source": [
    "d.items()\n",
    "#[('a', 10), ('b', 20), ('c', 30)] [(key, value), ]"
   ]
  },
  {
   "cell_type": "code",
   "execution_count": 21,
   "id": "2c7eea03-274d-4bac-bf60-8dbcb25bf624",
   "metadata": {},
   "outputs": [
    {
     "name": "stdout",
     "output_type": "stream",
     "text": [
      "a 10\n"
     ]
    }
   ],
   "source": [
    "k, v = (\"a\", 10)\n",
    "print(k, v)"
   ]
  },
  {
   "cell_type": "code",
   "execution_count": 22,
   "id": "aa672343-5dbe-4bf0-bcba-6d9d00246fda",
   "metadata": {},
   "outputs": [
    {
     "name": "stdout",
     "output_type": "stream",
     "text": [
      "a 10\n",
      "b 20\n",
      "c 30\n"
     ]
    }
   ],
   "source": [
    "for key, value in d.items():\n",
    "    print(key, value)  #원소가 자료구조일 때 원소 개수만큼 변수를 선언할 수 있다."
   ]
  },
  {
   "cell_type": "code",
   "execution_count": 23,
   "id": "6eb0650a-b077-4727-932b-8102c3d26f45",
   "metadata": {},
   "outputs": [
    {
     "name": "stdout",
     "output_type": "stream",
     "text": [
      "가, 나, 다, a, b, x, d, e, 1, 2, 3, 4, "
     ]
    }
   ],
   "source": [
    "#문자열\n",
    "for char in \"가나다abxde1234\":\n",
    "    print(char, end=\", \")"
   ]
  },
  {
   "cell_type": "markdown",
   "id": "1f30cd6f",
   "metadata": {
    "slideshow": {
     "slide_type": "subslide"
    }
   },
   "source": [
    "## continue와 break를 이용한 반복문 제어\n",
    "\n",
    "-   **continue**\n",
    "    -   실행 블록에서 continue가 실행되면 현재 반복을 중단하고 다음 반복을 진행한다.\n",
    "    -   특정 조건에서 처리를 멈추고 다음 처리를 반복할 때 사용한다.\n",
    "-   **break**\n",
    "    -   반복문 실행을 중단한다.\n",
    "    -   특정 조건에서 반복문을 중간에 중지할때 사용한다.\n",
    "-   continue와 break는 특정 조건에서 실행되야 하는 경우가 대부분이므로 if문 안에 작성한다.\n"
   ]
  },
  {
   "cell_type": "code",
   "execution_count": 25,
   "id": "90c41e9f",
   "metadata": {
    "slideshow": {
     "slide_type": "fragment"
    }
   },
   "outputs": [
    {
     "name": "stdout",
     "output_type": "stream",
     "text": [
      "2\n",
      "4\n",
      "6\n",
      "8\n",
      "10\n"
     ]
    }
   ],
   "source": [
    "l = [1, 2, 3, 4, 5, 6, 7, 8, 9, 10]\n",
    "#짝수만 출력\n",
    "for v in l:\n",
    "    if v % 2 != 0: #2의 배수가 아니라면\n",
    "        continue\n",
    "    print(v)"
   ]
  },
  {
   "cell_type": "code",
   "execution_count": 26,
   "id": "2e45110e-e1f6-43e9-ac41-3f4418b26277",
   "metadata": {},
   "outputs": [
    {
     "name": "stdout",
     "output_type": "stream",
     "text": [
      "1\n",
      "2\n",
      "3\n",
      "4\n",
      "5\n",
      "6\n",
      "종료\n"
     ]
    }
   ],
   "source": [
    "# 만약에 7이면 반복을 종료ㅓ\n",
    "for v in l:\n",
    "    if v == 7:\n",
    "        #continue 7만 빼고 출력\n",
    "        break\n",
    "    print(v)\n",
    "print(\"종료\")"
   ]
  },
  {
   "cell_type": "code",
   "execution_count": 27,
   "id": "3e7c066c-7a77-44e9-9f11-721e1d99f21c",
   "metadata": {},
   "outputs": [
    {
     "data": {
      "text/plain": [
       "12"
      ]
     },
     "execution_count": 27,
     "metadata": {},
     "output_type": "execute_result"
    }
   ],
   "source": [
    "import random\n",
    "random.randint(10, 20) #시작(10) ~ 끝(20) 범위 안에 있는 임의의 정수(난수-random값)를 반환."
   ]
  },
  {
   "cell_type": "code",
   "execution_count": 35,
   "id": "961dc72a-50ca-4f59-a360-ab2ffaa553ae",
   "metadata": {},
   "outputs": [
    {
     "name": "stdout",
     "output_type": "stream",
     "text": [
      "종료\n"
     ]
    }
   ],
   "source": [
    "#-100 ~ 100 범위에 정수 난수를 생성 \n",
    "#생성된 정수 중 양수는 'pos_result' 리스트에 음수는 'neg_result' 리스트에 저장\n",
    "#0이 생성되면 종료\n",
    "import random\n",
    "random.randint(-100, 100)\n",
    "pos_result=[]\n",
    "neg_result=[]\n",
    "num = random.randint(-100, 100)\n",
    "\n",
    "while num != 0:\n",
    "    if num > 0:\n",
    "        pos_result.append(num)    \n",
    "    else:\n",
    "        neg_result.append(num)\n",
    "    num = random.randint(-100, 100)\n",
    "\n",
    "print(\"종료\")"
   ]
  },
  {
   "cell_type": "code",
   "execution_count": 36,
   "id": "b4678a21-68eb-401e-905f-642c5d629ff8",
   "metadata": {},
   "outputs": [
    {
     "name": "stdout",
     "output_type": "stream",
     "text": [
      "[69, 26, 50, 19, 23, 15, 42, 98, 63, 89, 28, 51, 36, 33, 50, 9, 85, 25, 80, 92, 79, 15, 44, 79, 85, 14, 1, 66, 53, 61, 35, 71, 93]\n"
     ]
    }
   ],
   "source": [
    "print(pos_result)"
   ]
  },
  {
   "cell_type": "code",
   "execution_count": 37,
   "id": "3845b239-67eb-4588-9ac3-0a2799faf1dd",
   "metadata": {},
   "outputs": [
    {
     "name": "stdout",
     "output_type": "stream",
     "text": [
      "[-95, -7, -58, -70, -1, -93, -96, -25, -65, -44, -76, -34, -24, -23, -17, -99, -89, -49, -68, -12, -73, -67, -85, -5, -38, -72, -4, -79, -26, -1, -18, -30, -85, -59, -10, -73, -22, -71, -63]\n"
     ]
    }
   ],
   "source": [
    "print(neg_result)"
   ]
  },
  {
   "cell_type": "code",
   "execution_count": 38,
   "id": "30c4d34d-8f95-4ec9-8b15-5517177b3a53",
   "metadata": {},
   "outputs": [],
   "source": [
    "pos_result = []\n",
    "neg_result = []\n",
    "while True:\n",
    "    num = random.randint(-100, 100)\n",
    "    if num > 0:\n",
    "        pos_result.append(num)\n",
    "    elif num < 0:\n",
    "        neg_result.append(num)\n",
    "    else: #==0\n",
    "        break"
   ]
  },
  {
   "cell_type": "code",
   "execution_count": 39,
   "id": "cdaf6fc2-2249-46b1-b817-047f783be573",
   "metadata": {},
   "outputs": [
    {
     "name": "stdout",
     "output_type": "stream",
     "text": [
      "[98, 66, 10, 16, 16, 83, 54, 95, 17, 47, 9, 9, 28, 90, 92, 98, 39, 96, 91, 98, 1, 18, 75, 68, 91, 28, 58, 25, 29, 61, 50, 92, 55, 23, 54, 27, 65, 70, 43, 34, 13, 67, 8, 49, 26, 23, 16, 58, 10, 21, 29, 66, 88, 92, 89, 67, 55, 45, 62, 51, 11, 9, 75, 41, 70, 63, 53, 9, 75, 17, 56, 80, 75, 97, 95, 52, 68, 48, 17, 96, 81, 17, 20, 98, 94, 68, 83, 15, 93, 96, 5, 7, 45, 7, 70, 69, 99, 38, 61, 51, 71, 70, 91, 98, 29, 92, 96, 97, 20, 6, 62, 48, 97, 42, 10, 95, 66, 15, 30, 86, 80, 81, 6, 30, 18, 14, 59, 70, 56, 14, 80, 63, 12, 14, 33, 84, 9, 81, 91, 27, 69, 91, 81, 40, 71, 2, 99, 84, 12, 55, 10, 33, 90, 66, 44, 53, 37, 35, 87, 83, 72, 27, 51, 72, 51, 57, 86, 80, 17, 47, 13, 75, 65, 94, 35, 90, 72, 19, 44, 53, 6, 12, 42, 88, 21, 23, 23, 34, 20, 79, 39, 7, 18, 57, 73, 100, 49, 21, 77, 58, 82, 19, 36, 1, 58, 1, 79, 29, 99, 67, 49, 62, 55, 77, 54, 71, 55, 95, 88, 66, 5, 3, 47, 4, 52, 56, 45, 33, 5, 58, 75, 46, 68, 67, 22, 16, 85, 94, 77, 86, 41, 63, 94, 76, 36, 59, 89, 3, 28, 83, 8, 8, 67, 11, 52, 63, 70, 55, 11, 21, 79, 55, 85, 52, 34, 58, 57, 34, 59, 41, 44, 96, 88, 84, 85, 89, 27]\n"
     ]
    }
   ],
   "source": [
    "print(pos_result)"
   ]
  },
  {
   "cell_type": "code",
   "execution_count": 34,
   "id": "df715793-5bbc-4b1b-90a5-6eab6770290d",
   "metadata": {},
   "outputs": [
    {
     "name": "stdout",
     "output_type": "stream",
     "text": [
      "[-39, -20, -30, -5, -41, -24, -93, -89, -99, -48, -34, -2, -93, -51, -91, -63, -57, -1, -78, -25, -89, -24]\n"
     ]
    }
   ],
   "source": [
    "print(neg_result)"
   ]
  },
  {
   "cell_type": "code",
   "execution_count": 40,
   "id": "a036c3ad-bb0b-4e3e-9a95-831f9c7ee189",
   "metadata": {},
   "outputs": [
    {
     "name": "stdout",
     "output_type": "stream",
     "text": [
      "종료\n"
     ]
    }
   ],
   "source": [
    "pos_result = []\n",
    "neg_result = []\n",
    "# :=(왈러스 연산자- 대입연산자) - if/while 조건절. \n",
    "#값을 변수에 대입하고 반환. 1. 값을 변수에 대입. 2. 대입한 값을 while문 조건절에서 사용.\n",
    "while num := random.randint(-100, 100):\n",
    "#while (num := random.randint(-100, 100)) != 0:    \n",
    "    if num > 0:\n",
    "        pos_result.append(num)\n",
    "    else:\n",
    "        neg_result.append(num)\n",
    "print(\"종료\")\n",
    "    "
   ]
  },
  {
   "cell_type": "code",
   "execution_count": 41,
   "id": "6e11c756-441f-4cac-b375-f934f92de7e2",
   "metadata": {},
   "outputs": [
    {
     "data": {
      "text/plain": [
       "True"
      ]
     },
     "execution_count": 41,
     "metadata": {},
     "output_type": "execute_result"
    }
   ],
   "source": [
    "(a := 20) > 0 #1. a에 20을 넣고 2. a와 0을 비교\n",
    "#print(a)"
   ]
  },
  {
   "cell_type": "markdown",
   "id": "dc6099c5",
   "metadata": {
    "slideshow": {
     "slide_type": "slide"
    }
   },
   "source": [
    "## for in 문 연관 내장 함수\n",
    "\n",
    "### range()\n",
    "\n",
    "-   일정한 간격의 연속된 정수를 제공하는 반복가능 객체 생성한다.\n",
    "-   구문\n",
    "    -   `range([시작값], 멈춤값, [증감값])`\n",
    "        -   시작값, 멈춤값, 증감값 모두 정수만 가능하다.\n",
    "        -   시작값 > 멈춤값 이고 증감값이 음수이면 내림차순으로 값을 제공한다.\n",
    "        1. 전달값이 **1개: 멈춤값**.\n",
    "            - 0 ~ (멈춤값-1)까지 1씩 증가하는 정수를 제공\n",
    "        2. 전달값이 **2개: 시작값, 멈춤값**.\n",
    "            - 시작값 ~ (멈춤값-1) 까지 1씩 증가하는 정수 제공\n",
    "        3. 전달값이 **3개: 시작값, 멈춤값, 증감값(간격)**.\n",
    "            - 시작값 ~ (멈춤값-1)까지 증감값만큼 증가하는 정수를 제공.\n"
   ]
  },
  {
   "cell_type": "code",
   "execution_count": 47,
   "id": "352d937b",
   "metadata": {
    "slideshow": {
     "slide_type": "fragment"
    }
   },
   "outputs": [
    {
     "name": "stdout",
     "output_type": "stream",
     "text": [
      "10\t11\t12\t13\t14\t15\t16\t17\t18\t19\t"
     ]
    }
   ],
   "source": [
    "for v in range(10, 20): #(시작값, 종료값)    # 간격: 1\n",
    "    print(v, end=\"\\t\")"
   ]
  },
  {
   "cell_type": "code",
   "execution_count": 46,
   "id": "49760a4d-ea4d-44b3-9df7-1968ed4fbf9a",
   "metadata": {},
   "outputs": [
    {
     "name": "stdout",
     "output_type": "stream",
     "text": [
      "10\t13\t16\t19\t"
     ]
    }
   ],
   "source": [
    "for v in range(10, 20, 3):  #(시작값, 종료값, 간격)\n",
    "    print(v, end=\"\\t\")"
   ]
  },
  {
   "cell_type": "code",
   "execution_count": 49,
   "id": "321ca9e3-9530-4bcc-a40c-06b095aafd0b",
   "metadata": {},
   "outputs": [
    {
     "name": "stdout",
     "output_type": "stream",
     "text": [
      "0\t1\t2\t3\t4\t5\t6\t7\t8\t9\t10\t11\t12\t13\t14\t15\t16\t17\t18\t19\t"
     ]
    }
   ],
   "source": [
    "for v in range(20):    #(종료값) #시작: 0, 간격: 1\n",
    "    print(v, end=\"\\t\")"
   ]
  },
  {
   "cell_type": "code",
   "execution_count": 51,
   "id": "d12b2345-8672-419a-a54d-d1001addab52",
   "metadata": {},
   "outputs": [
    {
     "data": {
      "text/plain": [
       "(5, 6, 7, 8, 9, 10, 11, 12, 13, 14)"
      ]
     },
     "execution_count": 51,
     "metadata": {},
     "output_type": "execute_result"
    }
   ],
   "source": [
    "# range(): iterable\n",
    "\n",
    "l = list(range(1, 11))\n",
    "l = set(range(-10, 10))\n",
    "l = tuple(range(5, 15))\n",
    "l"
   ]
  },
  {
   "cell_type": "code",
   "execution_count": 52,
   "id": "73f2d919-5745-4c53-9be0-c6f7bd6fa26e",
   "metadata": {},
   "outputs": [
    {
     "data": {
      "text/plain": [
       "[10, 8, 6, 4, 2, 0, -2, -4, -6, -8]"
      ]
     },
     "execution_count": 52,
     "metadata": {},
     "output_type": "execute_result"
    }
   ],
   "source": [
    "# reverse(역순)\n",
    "list(range(10, -10, -2))"
   ]
  },
  {
   "cell_type": "code",
   "execution_count": 53,
   "id": "69669c1f-7f06-41f8-88a9-e38fa4b04cbd",
   "metadata": {},
   "outputs": [],
   "source": [
    "# 안녕을 10번 출력 (특정 작업을 여러번 반복)\n",
    "c=0\n",
    "while c < 10:\n",
    "    #작업\n",
    "    c += 1"
   ]
  },
  {
   "cell_type": "code",
   "execution_count": 54,
   "id": "47d2c10e-ea9f-49d3-8d5d-8c0a55e037ee",
   "metadata": {},
   "outputs": [
    {
     "name": "stdout",
     "output_type": "stream",
     "text": [
      "안녕\n",
      "안녕\n",
      "안녕\n",
      "안녕\n",
      "안녕\n",
      "안녕\n",
      "안녕\n",
      "안녕\n",
      "안녕\n",
      "안녕\n"
     ]
    }
   ],
   "source": [
    "for v in range(10):\n",
    "    print(\"안녕\")   #안쓰는 변수임을 나타낼때 '_' 사용 \n",
    "    #변수명'_' 사용하는 경우 : 사용하지 않을 변수인데 문법때문에 넣어야 할 경우."
   ]
  },
  {
   "cell_type": "code",
   "execution_count": null,
   "id": "d7597179-9ce3-4b8e-a8d7-847248b8fce1",
   "metadata": {},
   "outputs": [],
   "source": []
  },
  {
   "cell_type": "markdown",
   "id": "5de9d74e",
   "metadata": {
    "slideshow": {
     "slide_type": "subslide"
    }
   },
   "source": [
    "## enumerate()\n",
    "\n",
    "-   구문\n",
    "    -   `enumerate(Iterable,  [, start=정수])`\n",
    "        -   현재 몇번째 값을 제공하는 지(현재 몇번째 반복인지)를 나타내는 **index**와 제공하는 **원소**를 tuple로 묶어서 반환\n",
    "        -   Iterable\n",
    "            -   값을 제공할 Iterable객체\n",
    "        -   start: 정수\n",
    "            -   index 시작 값. 생략하면 0부터 시작한다.\n"
   ]
  },
  {
   "cell_type": "code",
   "execution_count": 56,
   "id": "33dd96c5",
   "metadata": {
    "slideshow": {
     "slide_type": "fragment"
    }
   },
   "outputs": [
    {
     "name": "stdout",
     "output_type": "stream",
     "text": [
      "0\n",
      "1\n",
      "2\n",
      "3\n",
      "4\n",
      "5\n",
      "6\n",
      "7\n",
      "8\n",
      "9\n"
     ]
    }
   ],
   "source": [
    "l = list(range(10))\n",
    "for v in l:\n",
    "    print(v)"
   ]
  },
  {
   "cell_type": "code",
   "execution_count": 59,
   "id": "1e8c618f-ddc0-4765-8ca0-7d7561585f64",
   "metadata": {},
   "outputs": [
    {
     "name": "stdout",
     "output_type": "stream",
     "text": [
      "0 10\n",
      "1 11\n",
      "2 12\n",
      "3 13\n",
      "4 14\n",
      "5 15\n",
      "6 16\n",
      "7 17\n",
      "8 18\n",
      "9 19\n"
     ]
    }
   ],
   "source": [
    "l = list(range(10, 20))\n",
    "#for v in enumerate(l):      #(index: 몇번째 반복인지에 대한 순번 , 값)\n",
    "for idx, value in enumerate(l):\n",
    "    print(idx, value)"
   ]
  },
  {
   "cell_type": "code",
   "execution_count": 60,
   "id": "b91bf6c9-dac4-4030-b7ba-94475a3389a6",
   "metadata": {},
   "outputs": [
    {
     "name": "stdout",
     "output_type": "stream",
     "text": [
      "1000 - 중간결과\n",
      "2000 - 중간결과\n",
      "3000 - 중간결과\n",
      "4000 - 중간결과\n",
      "5000 - 중간결과\n",
      "6000 - 중간결과\n",
      "7000 - 중간결과\n",
      "8000 - 중간결과\n",
      "9000 - 중간결과\n",
      "10000 - 중간결과\n"
     ]
    }
   ],
   "source": [
    "# 10_000 번 반복 처리 -> 중간 결과를 1_000에 한번씩 출력\n",
    "for idx, value in enumerate(range(10_000), start=1):\n",
    "    #작업\n",
    "    #중간 결과를 출력\n",
    "    if idx % 1000 == 0:\n",
    "        print(f\"{idx} - 중간결과\")"
   ]
  },
  {
   "cell_type": "markdown",
   "id": "f5a5540f",
   "metadata": {
    "slideshow": {
     "slide_type": "subslide"
    }
   },
   "source": [
    "## zip()\n",
    "\n",
    "-   여러 개의 Iterable 객체를 받아 반복시 같은 index의 값끼리 튜플로 묶어 반환한다.\n",
    "-   구문\n",
    "    -   `zip(Iterable1, Iterable2, Iterable3 [, .......])`\n",
    "        -   Iterable 2개이상.전달한다.\n",
    "-   각 Iterable이 제공하는 원소의 개수가가 다를 경우 가장 적은 것의 개수에 맞춰 반복한다.\n"
   ]
  },
  {
   "cell_type": "code",
   "execution_count": 61,
   "id": "1b99057f",
   "metadata": {
    "slideshow": {
     "slide_type": "fragment"
    }
   },
   "outputs": [
    {
     "name": "stdout",
     "output_type": "stream",
     "text": [
      "('이순신', 30, '서울')\n",
      "('유관순', 40, '인천')\n",
      "('강감찬', 50, '부산')\n"
     ]
    }
   ],
   "source": [
    "name_list = ['이순신', '유관순', '강감찬']\n",
    "age_list = [30, 40, 50]\n",
    "address_list = ['서울', '인천', '부산']\n",
    "# index가 같은 사람의 데이터.\n",
    "# 개별 사람의 데이터를 출력 (이순신, 30, 서울)\n",
    "for v in zip(name_list, age_list, address_list):\n",
    "    print(v)"
   ]
  },
  {
   "cell_type": "code",
   "execution_count": 72,
   "id": "81fe66ac-6201-4ce9-8460-329eda3141bd",
   "metadata": {},
   "outputs": [
    {
     "name": "stdout",
     "output_type": "stream",
     "text": [
      "서울 30\n",
      "인천 40\n",
      "부산 50\n"
     ]
    }
   ],
   "source": [
    "for name, age, address in zip(name_list, age_list, address_list):\n",
    "    print(address, age)"
   ]
  },
  {
   "cell_type": "code",
   "execution_count": null,
   "id": "283c3241-f361-47b1-ac31-02443ee38161",
   "metadata": {},
   "outputs": [],
   "source": []
  },
  {
   "cell_type": "code",
   "execution_count": 76,
   "id": "e04827d9",
   "metadata": {
    "slideshow": {
     "slide_type": "fragment"
    }
   },
   "outputs": [
    {
     "data": {
      "text/plain": [
       "[2, 4, 6]"
      ]
     },
     "execution_count": 76,
     "metadata": {},
     "output_type": "execute_result"
    }
   ],
   "source": [
    "#filtering\n",
    "l = [1, 2, 3, 4, 5, 6]\n",
    "result = []\n",
    "for v in l:\n",
    "    if v % 2 == 0:\n",
    "        result.append(v)\n",
    "result"
   ]
  },
  {
   "cell_type": "raw",
   "id": "7faa7134-595f-46f3-8c63-81b62a28e75c",
   "metadata": {
    "slideshow": {
     "slide_type": "subslide"
    }
   },
   "source": [
    "#컴프리헨션(Comprehension)\n",
    "-   기존 Iterable의 원소들을 이용해서 새로운 자료구조(List, Dictionary, Set)를 생성하는 구문.\n",
    "    -   기존 Iterable의 **원소들을 처리한 결과**나 **특정 조건이 True인 값들을** 새로운 자료구조에 넣을때 사용.\n",
    "    -   결과를 넣을 새로운 자료구조 타입에 따라 다음 세가지가 있다.\n",
    "        -   리스트 컴프리헨션\n",
    "        -   딕셔너리 컴프리헨션\n",
    "        -   셋 컴프리헨션\n",
    "- **튜플 컴프리헨션**은 tuple() 함수를 이용해서 만든다.\n",
    "-   **딕셔너리 컴프리헨션**과 **셋 컴프리헨션**은 파이썬 3 에 새로 추가되었다.\n",
    "-   컴프리헨션 문법은 iterable 을 타입을 넣는 곳에서는 다 적용할 수있다.\n"
   ]
  },
  {
   "cell_type": "code",
   "execution_count": 92,
   "id": "b77a1c15-2369-4cee-9377-93dd003cf68b",
   "metadata": {},
   "outputs": [
    {
     "data": {
      "text/plain": [
       "[20, 40, 60]"
      ]
     },
     "execution_count": 92,
     "metadata": {},
     "output_type": "execute_result"
    }
   ],
   "source": [
    "#filtering을 컴프리헨션 문법으로 구현\n",
    "result4 = [v*10 for v in l          if v % 2 == 0]\n",
    "result4 #True이면 리스트에 담고 False면 버림. 앞에 v가 append해서 들어간것."
   ]
  },
  {
   "cell_type": "code",
   "execution_count": null,
   "id": "0a7fe6e9-58e4-4f6d-8302-5c853a03bf7e",
   "metadata": {},
   "outputs": [],
   "source": []
  },
  {
   "cell_type": "code",
   "execution_count": 93,
   "id": "6c5a1104-2c8f-457a-b5c7-8b44bf9a753b",
   "metadata": {},
   "outputs": [
    {
     "data": {
      "text/plain": [
       "[1, 2, 3, 4, 5, 6]"
      ]
     },
     "execution_count": 93,
     "metadata": {},
     "output_type": "execute_result"
    }
   ],
   "source": [
    "#mapping\n",
    "result2 = []\n",
    "for v in l:\n",
    "    if v in l:\n",
    "        result2.append(v)\n",
    "result2"
   ]
  },
  {
   "cell_type": "code",
   "execution_count": 80,
   "id": "8792e32d-54b0-4249-ae5d-6c3718c84df1",
   "metadata": {},
   "outputs": [
    {
     "name": "stdout",
     "output_type": "stream",
     "text": [
      "[2, 4, 6, 8, 10, 12]\n"
     ]
    }
   ],
   "source": [
    "# mapping 을 컴프리헨션 문법으로 구현\n",
    "result3 = [v*2 for v in l]\n",
    "print(result3) #리스트 안에 넣었으므로 리스트 컴프리헨션"
   ]
  },
  {
   "cell_type": "code",
   "execution_count": 81,
   "id": "4d7e5060-d1f4-4864-a5ab-5b1bdd41a7f8",
   "metadata": {},
   "outputs": [
    {
     "data": {
      "text/plain": [
       "{2, 4, 6, 8, 10, 12}"
      ]
     },
     "execution_count": 81,
     "metadata": {},
     "output_type": "execute_result"
    }
   ],
   "source": [
    "{v*2 for v in l} #set 안에 넣었으므로 set 컴프리헨션"
   ]
  },
  {
   "cell_type": "code",
   "execution_count": 83,
   "id": "290376e1-98c1-4be9-8a6a-09c3832c50c7",
   "metadata": {},
   "outputs": [
    {
     "data": {
      "text/plain": [
       "{'value1': 2,\n",
       " 'value2': 4,\n",
       " 'value3': 6,\n",
       " 'value4': 8,\n",
       " 'value5': 10,\n",
       " 'value6': 12}"
      ]
     },
     "execution_count": 83,
     "metadata": {},
     "output_type": "execute_result"
    }
   ],
   "source": [
    "{f\"value{v}\":v*2 for v in l} #dictionary 안에 넣었으므로 dictionary 컴프리헨션"
   ]
  },
  {
   "cell_type": "code",
   "execution_count": 85,
   "id": "a5d07421-a5bb-41a7-9dd2-d934075296f3",
   "metadata": {},
   "outputs": [
    {
     "data": {
      "text/plain": [
       "<generator object <genexpr> at 0x0000019E69AC4040>"
      ]
     },
     "execution_count": 85,
     "metadata": {},
     "output_type": "execute_result"
    }
   ],
   "source": [
    "(v*2 for v in l)# generator 생성"
   ]
  },
  {
   "cell_type": "code",
   "execution_count": 86,
   "id": "b41c1ccb-f5fb-48e4-a511-60f485e39cee",
   "metadata": {},
   "outputs": [
    {
     "data": {
      "text/plain": [
       "(2, 4, 6, 8, 10, 12)"
      ]
     },
     "execution_count": 86,
     "metadata": {},
     "output_type": "execute_result"
    }
   ],
   "source": [
    "tuple(v*2 for v in l)"
   ]
  },
  {
   "cell_type": "code",
   "execution_count": 87,
   "id": "d781176d-e6ac-49a5-900a-08b2a72260f6",
   "metadata": {},
   "outputs": [
    {
     "data": {
      "text/plain": [
       "[2, 4, 6, 8, 10, 12]"
      ]
     },
     "execution_count": 87,
     "metadata": {},
     "output_type": "execute_result"
    }
   ],
   "source": [
    "list(v*2 for v in l)"
   ]
  },
  {
   "cell_type": "code",
   "execution_count": 97,
   "id": "701bd215-0ed6-4f6e-9a19-64aa2c48ff2b",
   "metadata": {},
   "outputs": [
    {
     "name": "stdout",
     "output_type": "stream",
     "text": [
      "10\n",
      "5\n",
      "7\n",
      "3\n",
      "50\n",
      "4\n"
     ]
    }
   ],
   "source": [
    "l2=[\n",
    "    [10, 5, 7],\n",
    "    [3, 50, 4]\n",
    "]\n",
    "result = [] #l2 원소중 홀수만 저장.\n",
    "for l in l2:\n",
    "    for v in l:\n",
    "        print(v)  #리스트 안에 리스트가 여러번 중첟되어있다면 값을 내기 위해 중첩된 수만큼 돌려야함.\n",
    "   "
   ]
  },
  {
   "cell_type": "code",
   "execution_count": 98,
   "id": "6a40617a-887a-4e11-84a0-028369cc30cd",
   "metadata": {},
   "outputs": [
    {
     "data": {
      "text/plain": [
       "[5, 7, 3]"
      ]
     },
     "execution_count": 98,
     "metadata": {},
     "output_type": "execute_result"
    }
   ],
   "source": [
    "l2=[\n",
    "    [10, 5, 7],\n",
    "    [3, 50, 4]\n",
    "]\n",
    "result = [] #l2 원소중 홀수만 저장.\n",
    "for l in l2:\n",
    "    for v in l:\n",
    "        if v % 2 != 0:\n",
    "            result.append(v)\n",
    "result"
   ]
  },
  {
   "cell_type": "markdown",
   "id": "092288d7",
   "metadata": {
    "slideshow": {
     "slide_type": "skip"
    }
   },
   "source": [
    "# TODO\n"
   ]
  },
  {
   "cell_type": "code",
   "execution_count": 105,
   "id": "d6e669bd-26b6-4a22-a7f2-fb2fc45d6fa2",
   "metadata": {
    "slideshow": {
     "slide_type": "skip"
    }
   },
   "outputs": [
    {
     "name": "stdin",
     "output_type": "stream",
     "text": [
      "ID: abcxdfsag\n"
     ]
    },
    {
     "name": "stdout",
     "output_type": "stream",
     "text": [
      "사용할 수 있습니다.\n"
     ]
    }
   ],
   "source": [
    "# (1) 사용자로 부터 ID를 입력 받은 뒤 입력받은 ID가 5글자 이상이면 \"사용할 수 있습니다.\"를 5글자 미만이면 \"사용할 수 없는 ID입니다.\"를 출력하세요.\n",
    "num= input(\"ID:\")\n",
    "if len(num)>5:\n",
    "    print(\"사용할 수 있습니다.\")\n",
    "else:\n",
    "    print(\"사용할 수 없는 ID입니다.\")"
   ]
  },
  {
   "cell_type": "code",
   "execution_count": 125,
   "id": "701e0165-1d64-4847-8256-3eb5cf1ca8c2",
   "metadata": {
    "slideshow": {
     "slide_type": "skip"
    }
   },
   "outputs": [
    {
     "name": "stdin",
     "output_type": "stream",
     "text": [
      "도시명: 대구\n"
     ]
    },
    {
     "ename": "TypeError",
     "evalue": "list indices must be integers or slices, not tuple",
     "output_type": "error",
     "traceback": [
      "\u001b[31m---------------------------------------------------------------------------\u001b[39m",
      "\u001b[31mTypeError\u001b[39m                                 Traceback (most recent call last)",
      "\u001b[36mCell\u001b[39m\u001b[36m \u001b[39m\u001b[32mIn[125]\u001b[39m\u001b[32m, line 6\u001b[39m\n\u001b[32m      4\u001b[39m \u001b[38;5;28;01mif\u001b[39;00m num == (\u001b[33m\"\u001b[39m\u001b[33m서울\u001b[39m\u001b[33m\"\u001b[39m):\n\u001b[32m      5\u001b[39m     \u001b[38;5;28mprint\u001b[39m(\u001b[33m\"\u001b[39m\u001b[33m특별시\u001b[39m\u001b[33m\"\u001b[39m)\n\u001b[32m----> \u001b[39m\u001b[32m6\u001b[39m \u001b[38;5;28;01melif\u001b[39;00m num \u001b[38;5;129;01min\u001b[39;00m \u001b[43ml\u001b[49m\u001b[43m[\u001b[49m\u001b[43m(\u001b[49m\u001b[33;43m\"\u001b[39;49m\u001b[33;43m인천\u001b[39;49m\u001b[33;43m\"\u001b[39;49m\u001b[43m,\u001b[49m\u001b[43m \u001b[49m\u001b[33;43m\"\u001b[39;49m\u001b[33;43m부산\u001b[39;49m\u001b[33;43m\"\u001b[39;49m\u001b[43m,\u001b[49m\u001b[43m \u001b[49m\u001b[33;43m\"\u001b[39;49m\u001b[33;43m광주\u001b[39;49m\u001b[33;43m\"\u001b[39;49m\u001b[43m,\u001b[49m\u001b[43m \u001b[49m\u001b[33;43m\"\u001b[39;49m\u001b[33;43m대구\u001b[39;49m\u001b[33;43m\"\u001b[39;49m\u001b[43m,\u001b[49m\u001b[43m \u001b[49m\u001b[33;43m\"\u001b[39;49m\u001b[33;43m대전\u001b[39;49m\u001b[33;43m\"\u001b[39;49m\u001b[43m,\u001b[49m\u001b[43m \u001b[49m\u001b[33;43m\"\u001b[39;49m\u001b[33;43m울산\u001b[39;49m\u001b[33;43m\"\u001b[39;49m\u001b[43m)\u001b[49m\u001b[43m]\u001b[49m:\n\u001b[32m      7\u001b[39m     \u001b[38;5;28mprint\u001b[39m(\u001b[33m\"\u001b[39m\u001b[33m광역시\u001b[39m\u001b[33m\"\u001b[39m)\n\u001b[32m      8\u001b[39m \u001b[38;5;28;01melse\u001b[39;00m:\n",
      "\u001b[31mTypeError\u001b[39m: list indices must be integers or slices, not tuple"
     ]
    }
   ],
   "source": [
    "# (2) 사용자로부터 우리나라 도시명을 입력 받은 뒤 입력받은 도시명이 서울이면 \"특별시\"를 인천,부산,광주,대구,대전,울산 이면 \"광역시\"를 나머지는 \"특별시나 광역시가 아닙니다.\"를 출력하세요.\n",
    "l= [\"인천\", \"부산\", \"광주\", \"대구\", \"대전\", \"울산\"]\n",
    "num = input(\"도시명:\")\n",
    "if num == (\"서울\"):\n",
    "    print(\"특별시\")\n",
    "elif num in l[(\"인천\", \"부산\", \"광주\", \"대구\", \"대전\", \"울산\")]:\n",
    "    print(\"광역시\")\n",
    "else:\n",
    "    print(\"특별시나 광역시가 아닙니다\")"
   ]
  },
  {
   "cell_type": "code",
   "execution_count": null,
   "id": "fb33dc0c-9c4b-41f2-98f6-5b3c5780b393",
   "metadata": {
    "slideshow": {
     "slide_type": "skip"
    }
   },
   "outputs": [],
   "source": [
    "# (3-4)\n",
    "# (3) 아래 리스트의 평균을 구하시오.\n",
    "jumsu = [100, 90, 100, 80, 70, 100, 80, 90, 95, 85]\n"
   ]
  },
  {
   "cell_type": "code",
   "execution_count": null,
   "id": "0b970399-304e-4575-980b-c55c25100cda",
   "metadata": {
    "slideshow": {
     "slide_type": "skip"
    }
   },
   "outputs": [],
   "source": [
    "# (4) 위 jumsu리스트에서 평균점수이상은 pass, 미만은 fail을 index번호와 함께 출력하시오. (ex: 0-pass, 1-pass, 2-fail)\n"
   ]
  },
  {
   "cell_type": "code",
   "execution_count": null,
   "id": "5e6b35ec-7127-4075-9e15-b7233983fbce",
   "metadata": {
    "slideshow": {
     "slide_type": "skip"
    }
   },
   "outputs": [],
   "source": [
    "# (5) 아래 리스트 값들 중 최대값을 조회해 출력하시오.\n",
    "jumsu = [60, 90, 80, 80, 70, 55, 80, 90, 95, 85]\n"
   ]
  },
  {
   "cell_type": "code",
   "execution_count": null,
   "id": "3c8e7416-a5c6-4620-aac8-afa6b5ac3688",
   "metadata": {
    "slideshow": {
     "slide_type": "skip"
    }
   },
   "outputs": [],
   "source": [
    "# (6) 사용자로부터 정수를 입력받아 그 정수 단의 구구단을 출력하시오.\n",
    "# ex)\n",
    "# 단을 입력하시오 : 2\n",
    "# 2 x 1 = 2\n",
    "# 2 x 2 = 4\n",
    "# ..\n",
    "# 2 x 9 = 18\n",
    "\n",
    "# 컴프리헨션\n"
   ]
  },
  {
   "cell_type": "code",
   "execution_count": null,
   "id": "f175c55f-f0a5-4596-bf7e-af31df0ec900",
   "metadata": {
    "slideshow": {
     "slide_type": "skip"
    }
   },
   "outputs": [],
   "source": [
    "# (7) 다음 리스트의 원소들에 10배한 값을 (원래값, 10배값) 의 튜플 묶음으로 가지는 리스트를 만드시오 (리스트 컴프리헨션 이용)\n",
    "# Ex) [(10,100), (30,300), .., (35, 350)]\n",
    "lst = [10, 30, 70, 5, 5, 120, 700, 1, 35, 35]\n"
   ]
  },
  {
   "cell_type": "code",
   "execution_count": null,
   "id": "ef3f67a5-c764-4ad8-8f57-2ae181a9a2ad",
   "metadata": {
    "slideshow": {
     "slide_type": "skip"
    }
   },
   "outputs": [],
   "source": [
    "# (8) 다음 리스트가 가진 값들 중 3의 배수만 가지는 리스트를 만드시오. (리스트 컴프리헨션 이용)\n",
    "lst2 = [3, 20, 33, 21, 33, 8, 11, 10, 7, 17, 60, 120, 2]\n"
   ]
  },
  {
   "cell_type": "code",
   "execution_count": null,
   "id": "e04f94ad-3375-47e9-ad4d-688b34ffaad7",
   "metadata": {
    "slideshow": {
     "slide_type": "skip"
    }
   },
   "outputs": [],
   "source": [
    "# (9)) 다음 파일이름들을 담은 리스트에서 확장자가 exe인 파일만 골라서 새로운 리스트에 담으시오.(string의 endswith()함수 이용)\n",
    "file_names = [\n",
    "    \"test.txt\",\n",
    "    \"a.exe\",\n",
    "    \"jupyter.bat\",\n",
    "    \"function.exe\",\n",
    "    \"b.exe\",\n",
    "    \"cat.jpg\",\n",
    "    \"dog.png\",\n",
    "    \"run.exe\",\n",
    "    \"i.dll\",\n",
    "]"
   ]
  },
  {
   "cell_type": "code",
   "execution_count": null,
   "id": "cbfbd172-b1ca-426a-a820-cd73a57ebb2d",
   "metadata": {
    "slideshow": {
     "slide_type": "skip"
    }
   },
   "outputs": [],
   "source": [
    "# (10) 다음 중 10글자 이상인 파일명(확장자포함)만 가지는 리스트를 만드시오.\n",
    "file_names = [\n",
    "    \"mystroy.txt\",\n",
    "    \"a.exe\",\n",
    "    \"jupyter.bat\",\n",
    "    \"function.exe\",\n",
    "    \"b.exe\",\n",
    "    \"cat.jpg\",\n",
    "    \"dog.png\",\n",
    "    \"run.exe\",\n",
    "    \"i.dll\",\n",
    "]"
   ]
  },
  {
   "cell_type": "code",
   "execution_count": null,
   "id": "f636c59a-4ae4-4dc7-a8dd-634035e04c6f",
   "metadata": {},
   "outputs": [],
   "source": []
  }
 ],
 "metadata": {
  "kernelspec": {
   "display_name": "Python 3 (ipykernel)",
   "language": "python",
   "name": "python3"
  },
  "language_info": {
   "codemirror_mode": {
    "name": "ipython",
    "version": 3
   },
   "file_extension": ".py",
   "mimetype": "text/x-python",
   "name": "python",
   "nbconvert_exporter": "python",
   "pygments_lexer": "ipython3",
   "version": "3.12.9"
  },
  "toc": {
   "base_numbering": 1,
   "nav_menu": {},
   "number_sections": true,
   "sideBar": true,
   "skip_h1_title": false,
   "title_cell": "Table of Contents",
   "title_sidebar": "Contents",
   "toc_cell": false,
   "toc_position": {},
   "toc_section_display": true,
   "toc_window_display": false
  },
  "varInspector": {
   "cols": {
    "lenName": 16,
    "lenType": 16,
    "lenVar": 40
   },
   "kernels_config": {
    "python": {
     "delete_cmd_postfix": "",
     "delete_cmd_prefix": "del ",
     "library": "var_list.py",
     "varRefreshCmd": "print(var_dic_list())"
    },
    "r": {
     "delete_cmd_postfix": ") ",
     "delete_cmd_prefix": "rm(",
     "library": "var_list.r",
     "varRefreshCmd": "cat(var_dic_list()) "
    }
   },
   "types_to_exclude": [
    "module",
    "function",
    "builtin_function_or_method",
    "instance",
    "_Feature"
   ],
   "window_display": false
  }
 },
 "nbformat": 4,
 "nbformat_minor": 5
}
