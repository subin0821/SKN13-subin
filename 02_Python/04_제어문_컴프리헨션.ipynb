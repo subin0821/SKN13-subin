{
 "cells": [
  {
   "cell_type": "markdown",
   "id": "8c49cd8e",
   "metadata": {
    "slideshow": {
     "slide_type": "slide"
    }
   },
   "source": [
    "# 제어문(Control flow statement)\n",
    "\n",
    "기본적으로 프로그램은 순차구조를 가진다. 즉 작성한 순서대로 실행이 된다.  \n",
    "이런 실행흐름을 다른 순서로 제어하기 위한 구문을 만드는 문법이 제어문이다.  \n",
    "제어문은 **조건문** 과 **반복문** 두가지 문법이 있다.\n",
    "\n",
    "-   **조건문**\n",
    "    -   if 문\n",
    "-   **반복문**\n",
    "    -   while 문\n",
    "    -   for in 문\n"
   ]
  },
  {
   "cell_type": "markdown",
   "id": "92c502ce",
   "metadata": {
    "slideshow": {
     "slide_type": "slide"
    }
   },
   "source": [
    "# 조건문/분기문 (conditional statement)\n",
    "\n",
    "-   프로그램이 명령문들을 실행하는 도중 특정 순서에서 **조건에 따라 흐름의 나눠져야 하는 경우 사용한다**\n",
    "-   파이썬은 조건문으로 **if문**이 있다.\n",
    "\n",
    "![조건문](images/ch03_01.png)\n",
    "\n",
    "<center>입력 받은 a 의 값이 0인지 여부에 따라 두가지 흐름으로 분기된다.</center>\n"
   ]
  },
  {
   "cell_type": "markdown",
   "id": "2a3c1835",
   "metadata": {
    "slideshow": {
     "slide_type": "subslide"
    }
   },
   "source": [
    "## 구문\n",
    "\n",
    "-   조건이 True일 경우만 특정 구문들을 실행 하는 조건문.\n",
    "\n",
    "```python\n",
    "if 조건:    # 조건은 bool 표현식을 기술한다. 조건선언 다음에 : 으로 선언해서 코드블록을 구분한다.\n",
    "    명령문1  # 조건이 True이면 실행할 구문들을 코드블럭에 기술한다.\n",
    "    명령문2  # 코드 블록은 들여쓰기를 이용해 묶어준다. 보통 공백 4칸으로 들여쓰기를 한다.\n",
    "    ...\n",
    "```\n",
    "\n",
    "> ### 파이썬의 코드블록(code block)\n",
    ">\n",
    "> 코드블록이란 **여러 명령문들을 묶어놓은 것을** 말한다. 코드블록으로 묶이면 실행시 같이 다 실행되고 실행이 안되면 같이 다 실행이 안된다.  \n",
    "> 파이썬에서는 코드블록을 작성할 때 **들여쓰기를 이용해 묶어준다.**  \n",
    "> 같은 칸만큼 들여쓰기를 한 명령문들이 같은 블록으로 묶인다.\n",
    "> 들여쓰기는 관례적으로 **공백 4칸을** 사용한다.\n",
    "\n",
    "> ### pass 키워드(예약어)\n",
    ">\n",
    "> -   빈 구현부를 만들때 사용\n",
    ">     -   제어문, 함수의 body 코드블럭은 비울 수 없다. 반드시 명령문을 한개 이상 작성해야한다.\n",
    ">     -   작성할 내용이 없을 경우 사용하는 키워드로 `pass`를 사용한다.\n"
   ]
  },
  {
   "cell_type": "code",
   "execution_count": 7,
   "id": "38df31e0-fa06-44df-ac67-705c6dc9d5e5",
   "metadata": {},
   "outputs": [
    {
     "name": "stdin",
     "output_type": "stream",
     "text": [
      ">>>정수: 1\n"
     ]
    },
    {
     "name": "stdout",
     "output_type": "stream",
     "text": [
      "종료\n"
     ]
    }
   ],
   "source": [
    "num = int(input(\">>>정수:\"))\n",
    "# num이 0이면 \"영입니다.\" 를 출력.\n",
    "if num == 0: # 선언부\n",
    "    # 구현부\n",
    "    print(\"0입니다.\")\n",
    "    print(\"Zero.\")\n",
    "    print(\"영\")\n",
    "    \n",
    "print('종료')"
   ]
  },
  {
   "cell_type": "code",
   "execution_count": 3,
   "id": "9c6f45d3-9839-40a0-843e-0f70ff741c21",
   "metadata": {},
   "outputs": [
    {
     "name": "stdout",
     "output_type": "stream",
     "text": [
      "영아님.\n"
     ]
    }
   ],
   "source": [
    "num = 10\n",
    "if num == 0: print(\"영입니다.\")  # 실행 명령어가 하나일 때 `:` 옆에 구현가능.\n",
    "else: print(\"영아님.\")"
   ]
  },
  {
   "cell_type": "markdown",
   "id": "09c79c35",
   "metadata": {
    "slideshow": {
     "slide_type": "subslide"
    }
   },
   "source": [
    "-   **조건이 True일 때 False일때 실행 구문이 분기되는 조건문.**\n",
    "\n",
    "```python\n",
    "if 조건:\n",
    "    명령문1_1 # 조건이 True일 경우 실행할 구문들\n",
    "    명령문1_2\n",
    "    ...\n",
    "else:\n",
    "    명령문2_1 # 조건이 False일 경우 실행할 구문들\n",
    "    명령문2_2\n",
    "    ...\n",
    "```\n"
   ]
  },
  {
   "cell_type": "code",
   "execution_count": 9,
   "id": "7e4b1ff1-c1a3-4ce9-b920-2f3f5294e4c9",
   "metadata": {},
   "outputs": [
    {
     "name": "stdin",
     "output_type": "stream",
     "text": [
      ">>>정수: 100\n"
     ]
    },
    {
     "name": "stdout",
     "output_type": "stream",
     "text": [
      "입력받은 숫자: 100\n"
     ]
    }
   ],
   "source": [
    "num = int(input(\">>>정수:\"))\n",
    "if num == 0:\n",
    "    print(\"영입니다.\")\n",
    "    print(\"This is zero.\")\n",
    "else:\n",
    "    print(f\"입력받은 숫자: {num}\")"
   ]
  },
  {
   "cell_type": "code",
   "execution_count": 11,
   "id": "ed598a20-3319-443d-88d3-15b1c4cdde37",
   "metadata": {},
   "outputs": [
    {
     "name": "stdin",
     "output_type": "stream",
     "text": [
      ">>>정수: 1\n"
     ]
    }
   ],
   "source": [
    "num = int(input(\">>>정수:\"))\n",
    "if num == 0:\n",
    "    pass\n",
    "else:\n",
    "    pass"
   ]
  },
  {
   "cell_type": "markdown",
   "id": "621eae9a",
   "metadata": {
    "slideshow": {
     "slide_type": "subslide"
    }
   },
   "source": [
    "-   **조건이 여러 개인 조건문.**\n",
    "\n",
    "```python\n",
    "if 조건1:\n",
    "    명령문1_1  # 조건1이 True일 경우 실행할 코드블록.\n",
    "    명령문1_2\n",
    "    ...\n",
    "elif 조건2:    # 다음 조건으로 앞의 조건들이 모드 False일 경우 비교한다.\n",
    "    명령문2_1  # 조건2가 True일 경우 실행할 코드블록.\n",
    "    명령문2_2\n",
    "    ...\n",
    "elif 조건3 :\n",
    "    명령문3_1\n",
    "    명령문3_2\n",
    "    ...\n",
    "else:         # 위의 모든 조건이 False일 경우 실행하는 코드블록. 생략 가능하다.\n",
    "    명령문4\n",
    "```\n"
   ]
  },
  {
   "cell_type": "code",
   "execution_count": 17,
   "id": "46b6956b-3101-4e3c-a261-873953fbe5ca",
   "metadata": {},
   "outputs": [
    {
     "name": "stdin",
     "output_type": "stream",
     "text": [
      ">>>정수: -199\n"
     ]
    },
    {
     "name": "stdout",
     "output_type": "stream",
     "text": [
      "음수입니다.\n",
      "종료\n"
     ]
    }
   ],
   "source": [
    "num = int(input(\">>>정수:\"))  # 1. \n",
    "# 2\n",
    "if num == 0:\n",
    "    print(\"영입니다.\")\n",
    "elif num > 0:\n",
    "    print(\"양수입니다.\")\n",
    "# elif num < 0:\n",
    "else:\n",
    "    print(\"음수입니다.\")\n",
    "\n",
    "print(\"종료\") # 3"
   ]
  },
  {
   "cell_type": "code",
   "execution_count": null,
   "id": "4c6a532d",
   "metadata": {
    "slideshow": {
     "slide_type": "fragment"
    }
   },
   "outputs": [],
   "source": []
  },
  {
   "cell_type": "markdown",
   "id": "2149b728",
   "metadata": {
    "slideshow": {
     "slide_type": "slide"
    }
   },
   "source": [
    "# 반복문 (Loop statement)\n",
    "\n",
    "특정 구문들을 반복해서 실행할 때 사용한다. 동일한 코드를 여러번 반복하거나 값이 일정하게 변하는 코드를 반복할 경우 사용한다.  \n",
    "단순 반복을 처리하는 **while문**과 iterable객체가 제공하는 값들을 반복 조회하는 **for in문** 두가지 문법이 있다.\n",
    "\n",
    "![반복문](images/ch03_02.png)\n",
    "\n",
    "<center>count의 값이 limit의 값보다 크거나 같을때 까지 count의 값을 1증가 후 출력하는 구문을 반복한다. </center>\n"
   ]
  },
  {
   "cell_type": "markdown",
   "id": "b4740a36",
   "metadata": {
    "slideshow": {
     "slide_type": "subslide"
    }
   },
   "source": [
    "## while문\n",
    "\n",
    "-   조건이 True인 동안 구문을 반복해서 실행한다.\n",
    "\n",
    "### 구문\n",
    "\n",
    "```python\n",
    "while 조건:       # 조건은 bool 표현식을 기술한다. 조건선언 다음에 : 으로 선언해서 코드블록을 구분한다\n",
    "    반복할 구문1  # 반복할 구문을 코드블록으로 작성한다.\n",
    "    반복할 구문2\n",
    "    ...\n",
    "```\n"
   ]
  },
  {
   "cell_type": "code",
   "execution_count": 5,
   "id": "ea3cc318-785f-46ae-86b6-f771ab8b63f6",
   "metadata": {},
   "outputs": [
    {
     "name": "stdout",
     "output_type": "stream",
     "text": [
      "1. 안녕하세요.\n",
      "2. 안녕하세요.\n",
      "3. 안녕하세요.\n",
      "4. 안녕하세요.\n",
      "5. 안녕하세요.\n",
      "6. 안녕하세요.\n",
      "7. 안녕하세요.\n",
      "8. 안녕하세요.\n",
      "9. 안녕하세요.\n",
      "10. 안녕하세요.\n",
      "종료\n"
     ]
    }
   ],
   "source": [
    "count = 0\n",
    "limit = 10\n",
    "while count < limit:\n",
    "    # count = count + 1\n",
    "    count += 1\n",
    "    print(f\"{count}. 안녕하세요.\")\n",
    "print(\"종료\")"
   ]
  },
  {
   "cell_type": "code",
   "execution_count": null,
   "id": "6b11bde6",
   "metadata": {
    "slideshow": {
     "slide_type": "fragment"
    }
   },
   "outputs": [],
   "source": []
  },
  {
   "cell_type": "markdown",
   "id": "04f12e55",
   "metadata": {
    "slideshow": {
     "slide_type": "subslide"
    }
   },
   "source": [
    "## for in 문\n",
    "\n",
    "-   Iterable 객체를 순환조회하는 구문\n",
    "    -   for in문은 Iterable 타입의 객체가 가지고 있는 값들을 하나씩 처리하는 구문을 작성할 때 사용한다.\n",
    "\n",
    "> -   **Iterable**\n",
    ">     -   반복가능한 객체. 반복문(for in)을 이용해 일련의 값들을 반복적으로 각각 제공하는 객체를 말한다.\n",
    ">     -   대표적으로 List, Tuple, Dictionary, Set, 문자열 등이 있다.\n",
    "\n",
    "### 구문\n",
    "\n",
    "```python\n",
    "for 변수 in Iterable: # for in 선언후 : 으로 선언부와 구현부를 나눈다.\n",
    "    반복구문          # Iterable이 반복시 제공하는 값을 가지는 \"변수\"를 이용해 값들을 처리하는 구문을 코드블록으로 작성한다.\n",
    "    반복구문\n",
    "```\n"
   ]
  },
  {
   "cell_type": "code",
   "execution_count": 5,
   "id": "065db8fc-57cb-4711-b086-7c35aed8b6ad",
   "metadata": {},
   "outputs": [
    {
     "name": "stdout",
     "output_type": "stream",
     "text": [
      "10\t100\t20\t30\t500\t15\t"
     ]
    }
   ],
   "source": [
    "l = [10, 100, 20, 30, 500, 15]\n",
    "# l의 모든 원소들을 출력 (Iterable(반복대상): l, 일괄처리: 출력)\n",
    "for v in l:\n",
    "    print(v, end=\"\\t\")"
   ]
  },
  {
   "cell_type": "code",
   "execution_count": 9,
   "id": "87a5d251-150a-4507-84a1-d9e4060999bc",
   "metadata": {},
   "outputs": [],
   "source": [
    "# l의 모든 값들을 두배로 늘리기. (iterable: l, 일괄처리: 두배)\n",
    "result = []\n",
    "for v in l:\n",
    "    # print(v * 2)\n",
    "    result.append(v * 2)"
   ]
  },
  {
   "cell_type": "code",
   "execution_count": 10,
   "id": "dee070aa-c107-4ae4-83c9-9004d7b9d0fa",
   "metadata": {},
   "outputs": [
    {
     "name": "stdout",
     "output_type": "stream",
     "text": [
      "[10, 100, 20, 30, 500]\n",
      "[20, 200, 40, 60, 1000]\n"
     ]
    }
   ],
   "source": [
    "print(l)\n",
    "print(result)"
   ]
  },
  {
   "cell_type": "code",
   "execution_count": 14,
   "id": "413f9e1e-b6cc-4171-bea8-7cf476e3f474",
   "metadata": {},
   "outputs": [
    {
     "name": "stdout",
     "output_type": "stream",
     "text": [
      "10는 3의 배수가 아님.\n",
      "100는 3의 배수가 아님.\n",
      "20는 3의 배수가 아님.\n",
      "30\n",
      "500는 3의 배수가 아님.\n",
      "15\n"
     ]
    }
   ],
   "source": [
    "# 3의 배수를 찾기 (Iterable: l, 일괄처리: 3의 배수인지 확인)\n",
    "for v in l:\n",
    "    if v % 3 == 0:\n",
    "        print(v)\n",
    "    else:\n",
    "        print(f\"{v}는 3의 배수가 아님.\")"
   ]
  },
  {
   "cell_type": "code",
   "execution_count": 16,
   "id": "a66ef2f9-043e-4b7d-a1f0-e7bb20fcd6d8",
   "metadata": {},
   "outputs": [
    {
     "name": "stdout",
     "output_type": "stream",
     "text": [
      "10\n",
      "20\n",
      "30\n"
     ]
    }
   ],
   "source": [
    "s = {10, 20, 30}\n",
    "for v in s:\n",
    "    print(v)"
   ]
  },
  {
   "cell_type": "code",
   "execution_count": 18,
   "id": "4ed9e887-17f3-4575-bef3-676a6d44a96d",
   "metadata": {},
   "outputs": [
    {
     "name": "stdout",
     "output_type": "stream",
     "text": [
      "1\n",
      "2\n",
      "3\n",
      "4\n",
      "5\n"
     ]
    }
   ],
   "source": [
    "t = 1, 2, 3, 4, 5\n",
    "for v in t:\n",
    "    print(v)"
   ]
  },
  {
   "cell_type": "code",
   "execution_count": 22,
   "id": "cc9c7fb8-94d7-485a-9020-68a3ff9746c2",
   "metadata": {},
   "outputs": [
    {
     "name": "stdout",
     "output_type": "stream",
     "text": [
      "a 10\n",
      "b 20\n",
      "c 30\n"
     ]
    }
   ],
   "source": [
    "# dict\n",
    "d = {\"a\":10, \"b\":20, \"c\": 30}\n",
    "for key in d:\n",
    "    print(key, d[key])"
   ]
  },
  {
   "cell_type": "code",
   "execution_count": 25,
   "id": "ec5d16e6-3946-44bf-a054-4d8599f9c7d7",
   "metadata": {},
   "outputs": [
    {
     "name": "stdout",
     "output_type": "stream",
     "text": [
      "10\n",
      "20\n",
      "30\n"
     ]
    }
   ],
   "source": [
    "for v in d.values():\n",
    "    print(v)"
   ]
  },
  {
   "cell_type": "code",
   "execution_count": 26,
   "id": "942d5236-4f9a-4043-bb09-63740bf6c6fc",
   "metadata": {},
   "outputs": [
    {
     "data": {
      "text/plain": [
       "dict_items([('a', 10), ('b', 20), ('c', 30)])"
      ]
     },
     "execution_count": 26,
     "metadata": {},
     "output_type": "execute_result"
    }
   ],
   "source": [
    "d.items()\n",
    "# [('a', 10), ('b', 20), ('c', 30)]  [(key, value), ]"
   ]
  },
  {
   "cell_type": "code",
   "execution_count": 28,
   "id": "de77488a-e8fa-4737-9134-3e1218e9f6f8",
   "metadata": {},
   "outputs": [
    {
     "name": "stdout",
     "output_type": "stream",
     "text": [
      "a 10\n"
     ]
    }
   ],
   "source": [
    "k, v = (\"a\", 10)\n",
    "print(k, v)"
   ]
  },
  {
   "cell_type": "code",
   "execution_count": 31,
   "id": "42f1a40e-f53a-425a-8df8-3617e349c3f1",
   "metadata": {},
   "outputs": [
    {
     "name": "stdout",
     "output_type": "stream",
     "text": [
      "a 10\n",
      "b 20\n",
      "c 30\n"
     ]
    }
   ],
   "source": [
    "for key, value  in d.items():  # 원소가 자료구조일 때 원소 개수만큼 변수를 선언할 수있다.\n",
    "    print(key, value)"
   ]
  },
  {
   "cell_type": "code",
   "execution_count": 9,
   "id": "abc9f923-d8cd-4e26-96ac-0b6a6480f3ac",
   "metadata": {},
   "outputs": [
    {
     "name": "stdout",
     "output_type": "stream",
     "text": [
      "1 2\n"
     ]
    },
    {
     "ename": "ValueError",
     "evalue": "too many values to unpack (expected 2)",
     "output_type": "error",
     "traceback": [
      "\u001b[31m---------------------------------------------------------------------------\u001b[39m",
      "\u001b[31mValueError\u001b[39m                                Traceback (most recent call last)",
      "\u001b[36mCell\u001b[39m\u001b[36m \u001b[39m\u001b[32mIn[9]\u001b[39m\u001b[32m, line 2\u001b[39m\n\u001b[32m      1\u001b[39m l2 = [[\u001b[32m1\u001b[39m,\u001b[32m2\u001b[39m], [\u001b[32m3\u001b[39m, \u001b[32m4\u001b[39m, \u001b[32m5\u001b[39m], [\u001b[32m5\u001b[39m, \u001b[32m6\u001b[39m]]\n\u001b[32m----> \u001b[39m\u001b[32m2\u001b[39m \u001b[38;5;28;01mfor\u001b[39;00m v1, v2 \u001b[38;5;129;01min\u001b[39;00m l2:\n\u001b[32m      3\u001b[39m     \u001b[38;5;28mprint\u001b[39m(v1, v2)\n",
      "\u001b[31mValueError\u001b[39m: too many values to unpack (expected 2)"
     ]
    }
   ],
   "source": [
    "l2 = [[1,2], [3, 4], [5, 6]]\n",
    "for v1, v2 in l2:\n",
    "    print(v1, v2)"
   ]
  },
  {
   "cell_type": "code",
   "execution_count": null,
   "id": "9c3164b7-2ba9-474a-8726-2594d44fc602",
   "metadata": {},
   "outputs": [],
   "source": []
  },
  {
   "cell_type": "code",
   "execution_count": 32,
   "id": "6ad23a78-7aa7-4838-83ab-c2e62f43e9c3",
   "metadata": {},
   "outputs": [
    {
     "name": "stdout",
     "output_type": "stream",
     "text": [
      "가, 나, 다, a, b, c, d, e, 1, 2, 3, 4, "
     ]
    }
   ],
   "source": [
    "# 문자열\n",
    "for char in \"가나다abcde1234\":\n",
    "    print(char, end=\", \")"
   ]
  },
  {
   "cell_type": "code",
   "execution_count": null,
   "id": "da0ce0f6",
   "metadata": {
    "slideshow": {
     "slide_type": "fragment"
    }
   },
   "outputs": [],
   "source": []
  },
  {
   "cell_type": "markdown",
   "id": "1f30cd6f",
   "metadata": {
    "slideshow": {
     "slide_type": "subslide"
    }
   },
   "source": [
    "## continue와 break를 이용한 반복문 제어\n",
    "\n",
    "-   **continue**\n",
    "    -   실행 블록에서 continue가 실행되면 현재 반복을 중단하고 다음 반복을 진행한다.\n",
    "    -   특정 조건에서 처리를 멈추고 다음 처리를 반복할 때 사용한다.\n",
    "-   **break**\n",
    "    -   반복문 실행을 중단한다.\n",
    "    -   특정 조건에서 반복문을 중간에 중지할때 사용한다.\n",
    "-   continue와 break는 특정 조건에서 실행되야 하는 경우가 대부분이므로 if문 안에 작성한다.\n"
   ]
  },
  {
   "cell_type": "code",
   "execution_count": 36,
   "id": "43818306-a87a-4aea-87ab-1549e1714f0c",
   "metadata": {},
   "outputs": [
    {
     "name": "stdout",
     "output_type": "stream",
     "text": [
      "2\n",
      "4\n",
      "6\n",
      "8\n",
      "10\n"
     ]
    }
   ],
   "source": [
    "l = [1, 2, 3, 4, 5, 6, 7, 8, 9, 10]\n",
    "# 짝수만 출력\n",
    "for v in l:\n",
    "    if v % 2 != 0: # 2의 배수가 아니라면\n",
    "        continue\n",
    "    print(v)"
   ]
  },
  {
   "cell_type": "code",
   "execution_count": 38,
   "id": "6219e1fa-344b-4eb4-86b2-56b165cad154",
   "metadata": {},
   "outputs": [
    {
     "name": "stdout",
     "output_type": "stream",
     "text": [
      "1\n",
      "2\n",
      "3\n",
      "4\n",
      "5\n",
      "6\n",
      "종료\n"
     ]
    }
   ],
   "source": [
    "# 만약에 7이면 반복을 종료\n",
    "for v in l:\n",
    "    if v == 7:\n",
    "        # continue 7만 빼고 출력\n",
    "        break\n",
    "    print(v)\n",
    "print(\"종료\")"
   ]
  },
  {
   "cell_type": "code",
   "execution_count": 67,
   "id": "1f327b7f-a65f-418c-b50c-361b3685761a",
   "metadata": {},
   "outputs": [
    {
     "data": {
      "text/plain": [
       "5"
      ]
     },
     "execution_count": 67,
     "metadata": {},
     "output_type": "execute_result"
    }
   ],
   "source": [
    "import random\n",
    "random.randint(10, 20)  # 시작(10) ~ 끝(20) 범위 안에 있는 임의의 정수(난수-random값)를 반환."
   ]
  },
  {
   "cell_type": "code",
   "execution_count": 69,
   "id": "33b06ef9-6ef5-4f74-b183-556368be80b4",
   "metadata": {},
   "outputs": [
    {
     "name": "stdout",
     "output_type": "stream",
     "text": [
      "종료\n"
     ]
    }
   ],
   "source": [
    "# -100 ~ 100 범위에 정수 난수를 생성\n",
    "# 생성된 정수 중 양수는 `pos_result` 리스트에 음수는 `neg_result` 리스트에 저장\n",
    "# 0이 생성되면 종료\n",
    "pos_result = []\n",
    "neg_result = []\n",
    "num = random.randint(-100, 100)\n",
    "while num != 0:\n",
    "    if num > 0:\n",
    "        pos_result.append(num)\n",
    "    else:\n",
    "        neg_result.append(num)\n",
    "    num = random.randint(-100, 100)\n",
    "\n",
    "print(\"종료\")"
   ]
  },
  {
   "cell_type": "code",
   "execution_count": 72,
   "id": "3a671177-d89b-4c4b-99ae-1be25130ad9b",
   "metadata": {},
   "outputs": [],
   "source": [
    "pos_result = []\n",
    "neg_result = []\n",
    "\n",
    "while True:\n",
    "    num = random.randint(-100, 100)\n",
    "    if num > 0:\n",
    "        pos_result.append(num)\n",
    "    elif num < 0:\n",
    "        neg_result.append(num)\n",
    "    else: # == 0\n",
    "        break"
   ]
  },
  {
   "cell_type": "code",
   "execution_count": 82,
   "id": "72df8900-0779-4395-ae37-51da23f5d623",
   "metadata": {},
   "outputs": [
    {
     "data": {
      "text/plain": [
       "True"
      ]
     },
     "execution_count": 82,
     "metadata": {},
     "output_type": "execute_result"
    }
   ],
   "source": [
    "(a := 20) > 0  # 1.a에 20을 넣고  2.a와 0을 비교\n",
    "# print(a)"
   ]
  },
  {
   "cell_type": "code",
   "execution_count": 76,
   "id": "a1abfad9-784b-4d8f-a906-796d3578a3e6",
   "metadata": {},
   "outputs": [
    {
     "name": "stdout",
     "output_type": "stream",
     "text": [
      "종료\n"
     ]
    }
   ],
   "source": [
    "pos_result = []\n",
    "neg_result = []\n",
    "# := (왈러스 연산자-대입연산자) - if/while 조건절. \n",
    "# 값을 변수에 대입하고 반환. 1. 값을 변수에 대입. 2. 대입한 값을 while문 조건절에서 사용.\n",
    "while num := random.randint(-100, 100):\n",
    "# while (num := random.randint(-100, 100)) != 0:\n",
    "    if num > 0:\n",
    "        pos_result.append(num)\n",
    "    else:\n",
    "        neg_result.append(num)\n",
    "print(\"종료\")    "
   ]
  },
  {
   "cell_type": "code",
   "execution_count": 77,
   "id": "cb2e55da-0dc0-4452-a34b-b2a91f61189e",
   "metadata": {},
   "outputs": [
    {
     "name": "stdout",
     "output_type": "stream",
     "text": [
      "[57, 73, 45, 35, 74, 30, 73, 29, 90, 11, 75, 52, 7, 79, 74, 91, 11, 40, 74, 92, 66, 59, 63, 42, 92, 78, 67, 97, 95, 33, 73, 51, 11, 94, 62, 36, 10, 88, 28, 12, 57, 100, 90, 13, 95, 7, 59, 99, 80, 31, 91, 16, 68, 15, 98, 20, 83, 49, 16, 50, 57, 11, 40, 59, 95, 30, 43, 94, 73, 88, 28, 87, 78, 38, 52, 71, 20, 54, 20, 43, 42, 59, 62, 6, 17, 48, 44, 73, 64, 4, 62, 16, 48, 17, 37, 21, 88, 4, 61, 24, 45, 84, 56, 42, 35, 97, 92, 70, 13, 28, 93]\n"
     ]
    }
   ],
   "source": [
    "print(pos_result)"
   ]
  },
  {
   "cell_type": "code",
   "execution_count": 78,
   "id": "02086744-603b-4f82-a836-b1b4f78fd5c1",
   "metadata": {},
   "outputs": [
    {
     "name": "stdout",
     "output_type": "stream",
     "text": [
      "[-25, -63, -47, -62, -83, -58, -91, -34, -77, -38, -9, -79, -66, -65, -86, -64, -79, -68, -46, -47, -44, -100, -1, -16, -44, -16, -86, -86, -5, -38, -91, -48, -2, -70, -33, -66, -95, -87, -78, -79, -81, -42, -40, -35, -25, -58, -89, -45, -10, -18, -58, -17, -15, -95, -99, -27, -68, -72, -88, -82, -47, -87, -69, -94, -11, -96, -14, -64, -86, -39, -10, -46, -62, -11, -89, -86, -73, -72, -59, -95, -99, -93, -11, -59, -10, -48, -30, -69, -25, -63, -53, -6, -7, -62, -54, -64, -3, -47, -54, -32, -93, -1, -79, -77, -24, -78, -13, -65, -24, -79, -22, -44, -36]\n"
     ]
    }
   ],
   "source": [
    "print(neg_result)"
   ]
  },
  {
   "cell_type": "markdown",
   "id": "dc6099c5",
   "metadata": {
    "slideshow": {
     "slide_type": "slide"
    }
   },
   "source": [
    "## for in 문 연관 내장 함수\n",
    "\n",
    "### range()\n",
    "\n",
    "-   일정한 간격의 연속된 정수를 제공하는 반복가능 객체 생성한다.\n",
    "-   구문\n",
    "    -   `range([시작값], 멈춤값, [증감값])`\n",
    "        -   시작값, 멈춤값, 증감값 모두 정수만 가능하다.\n",
    "        -   시작값 > 멈춤값 이고 증감값이 음수이면 내림차순으로 값을 제공한다.\n",
    "        1. 전달값이 **1개: 멈춤값**.\n",
    "            - 0 ~ (멈춤값-1)까지 1씩 증가하는 정수를 제공\n",
    "        2. 전달값이 **2개: 시작값, 멈춤값**.\n",
    "            - 시작값 ~ (멈춤값-1) 까지 1씩 증가하는 정수 제공\n",
    "        3. 전달값이 **3개: 시작값, 멈춤값, 증감값(간격)**.\n",
    "            - 시작값 ~ (멈춤값-1)까지 증감값만큼 증가하는 정수를 제공.\n"
   ]
  },
  {
   "cell_type": "code",
   "execution_count": 88,
   "id": "31d31d7d-5926-4bda-851e-2d24ed5a3133",
   "metadata": {},
   "outputs": [
    {
     "name": "stdout",
     "output_type": "stream",
     "text": [
      "10\t11\t12\t13\t14\t15\t16\t17\t18\t19\t"
     ]
    }
   ],
   "source": [
    "for v in range(10, 20):   # (시작값, 종료값)  # 간격: 1\n",
    "    print(v, end=\"\\t\")"
   ]
  },
  {
   "cell_type": "code",
   "execution_count": 89,
   "id": "dcfc85e4-60b0-4d51-be02-7e2f77c6a33d",
   "metadata": {},
   "outputs": [
    {
     "name": "stdout",
     "output_type": "stream",
     "text": [
      "10\t13\t16\t19\t22\t25\t28\t"
     ]
    }
   ],
   "source": [
    "for v in range(10, 30, 3):  # (시작값, 종료값, 간격)\n",
    "    print(v, end=\"\\t\")"
   ]
  },
  {
   "cell_type": "code",
   "execution_count": 90,
   "id": "5992d8b0-cc8a-4190-876e-cb660ec4a320",
   "metadata": {},
   "outputs": [
    {
     "name": "stdout",
     "output_type": "stream",
     "text": [
      "0\t1\t2\t3\t4\t5\t6\t7\t8\t9\t10\t11\t12\t13\t14\t15\t16\t17\t18\t19\t"
     ]
    }
   ],
   "source": [
    "for v in range(20):   # (종료값) # 시작: 0, 간격: 1\n",
    "    print(v, end=\"\\t\")"
   ]
  },
  {
   "cell_type": "code",
   "execution_count": 93,
   "id": "9a9e6247-762c-439d-9337-999b0631dc35",
   "metadata": {},
   "outputs": [
    {
     "data": {
      "text/plain": [
       "(5, 6, 7, 8, 9, 10, 11, 12, 13, 14)"
      ]
     },
     "execution_count": 93,
     "metadata": {},
     "output_type": "execute_result"
    }
   ],
   "source": [
    "# range(): iterable\n",
    "l = list(range(1, 11))\n",
    "l = set(range(-10, 10))\n",
    "l = tuple(range(5, 15))\n",
    "l"
   ]
  },
  {
   "cell_type": "code",
   "execution_count": 94,
   "id": "d126af66-8ff3-438f-95fc-4aa0302fef92",
   "metadata": {},
   "outputs": [
    {
     "data": {
      "text/plain": [
       "[10, 8, 6, 4, 2, 0, -2, -4, -6, -8]"
      ]
     },
     "execution_count": 94,
     "metadata": {},
     "output_type": "execute_result"
    }
   ],
   "source": [
    "# reverse(역순)\n",
    "list(range(10, -10, -2))"
   ]
  },
  {
   "cell_type": "code",
   "execution_count": null,
   "id": "1b4203c1-136b-4df4-b40b-cc8c806e06d6",
   "metadata": {},
   "outputs": [],
   "source": [
    "# 안녕을 10번 출력\n",
    "c = 0\n",
    "while c < 10:\n",
    "    # 작업\n",
    "    c += 1"
   ]
  },
  {
   "cell_type": "code",
   "execution_count": 97,
   "id": "66048c69-238e-4c70-8e69-916778608c94",
   "metadata": {
    "collapsed": true,
    "jupyter": {
     "outputs_hidden": true
    }
   },
   "outputs": [
    {
     "name": "stdout",
     "output_type": "stream",
     "text": [
      "안녕\n",
      "안녕\n",
      "안녕\n",
      "안녕\n",
      "안녕\n",
      "안녕\n",
      "안녕\n",
      "안녕\n",
      "안녕\n",
      "안녕\n"
     ]
    }
   ],
   "source": [
    "for _ in range(10):  # 변수명 `_` 사용하는 경우: 사용하지 않을 변수인데 문법때문에 넣어야 할 경우.\n",
    "    print(\"안녕\")"
   ]
  },
  {
   "cell_type": "markdown",
   "id": "5de9d74e",
   "metadata": {
    "slideshow": {
     "slide_type": "subslide"
    }
   },
   "source": [
    "## enumerate()\n",
    "\n",
    "-   구문\n",
    "    -   `enumerate(Iterable,  [, start=정수])`\n",
    "        -   현재 몇번째 값을 제공하는 지(현재 몇번째 반복인지)를 나타내는 **index**와 제공하는 **원소**를 tuple로 묶어서 반환\n",
    "        -   Iterable\n",
    "            -   값을 제공할 Iterable객체\n",
    "        -   start: 정수\n",
    "            -   index 시작 값. 생략하면 0부터 시작한다.\n"
   ]
  },
  {
   "cell_type": "code",
   "execution_count": 12,
   "id": "429eea43-5a4a-4c23-b9e2-57e4adfb6acd",
   "metadata": {
    "collapsed": true,
    "jupyter": {
     "outputs_hidden": true
    }
   },
   "outputs": [
    {
     "name": "stdout",
     "output_type": "stream",
     "text": [
      "0 0\n",
      "1 1\n",
      "2 2\n",
      "3 3\n",
      "4 4\n",
      "5 5\n",
      "6 6\n",
      "7 7\n",
      "8 8\n",
      "9 9\n",
      "10 10\n",
      "11 11\n",
      "12 12\n",
      "13 13\n",
      "14 14\n",
      "15 15\n",
      "16 16\n",
      "17 17\n",
      "18 18\n",
      "19 19\n",
      "20 20\n",
      "21 21\n",
      "22 22\n",
      "23 23\n",
      "24 24\n",
      "25 25\n",
      "26 26\n",
      "27 27\n",
      "28 28\n",
      "29 29\n",
      "30 30\n",
      "31 31\n",
      "32 32\n",
      "33 33\n",
      "34 34\n",
      "35 35\n",
      "36 36\n",
      "37 37\n",
      "38 38\n",
      "39 39\n",
      "40 40\n",
      "41 41\n",
      "42 42\n",
      "43 43\n",
      "44 44\n",
      "45 45\n",
      "46 46\n",
      "47 47\n",
      "48 48\n",
      "49 49\n"
     ]
    }
   ],
   "source": [
    "for idx, v in enumerate(range(50)):\n",
    "    print(idx, v)"
   ]
  },
  {
   "cell_type": "code",
   "execution_count": 10,
   "id": "d21d6109-464a-4a8e-bf40-bafc711f3b74",
   "metadata": {
    "collapsed": true,
    "jupyter": {
     "outputs_hidden": true
    }
   },
   "outputs": [
    {
     "name": "stdout",
     "output_type": "stream",
     "text": [
      "1010 10\n",
      "1011 11\n",
      "1012 12\n",
      "1013 13\n",
      "1014 14\n",
      "1015 15\n",
      "1016 16\n",
      "1017 17\n",
      "1018 18\n",
      "1019 19\n"
     ]
    }
   ],
   "source": [
    "l = list(range(10, 20))\n",
    "# for v in enumerate(l):   # (index:몇번째 반복인지, 값)\n",
    "for idx, value in enumerate(l, start=1010):  \n",
    "    print(idx, value)\n"
   ]
  },
  {
   "cell_type": "code",
   "execution_count": 103,
   "id": "e29d8609-b06f-45b4-972c-768d9f7bf3b6",
   "metadata": {
    "collapsed": true,
    "jupyter": {
     "outputs_hidden": true
    }
   },
   "outputs": [
    {
     "name": "stdout",
     "output_type": "stream",
     "text": [
      "1000 - 중간결과\n",
      "2000 - 중간결과\n",
      "3000 - 중간결과\n",
      "4000 - 중간결과\n",
      "5000 - 중간결과\n",
      "6000 - 중간결과\n",
      "7000 - 중간결과\n",
      "8000 - 중간결과\n",
      "9000 - 중간결과\n",
      "10000 - 중간결과\n"
     ]
    }
   ],
   "source": [
    "# 10_000 번 반복 처리  -> 중간결과를 1_000에 한번씩 출력\n",
    "for idx, value in enumerate(range(10_000), start=1):\n",
    "    # 작업\n",
    "    # 중간 결과를 출력\n",
    "    if idx % 1000 == 0:\n",
    "        print(f\"{idx} - 중간결과\")"
   ]
  },
  {
   "cell_type": "markdown",
   "id": "f5a5540f",
   "metadata": {
    "slideshow": {
     "slide_type": "subslide"
    }
   },
   "source": [
    "## zip()\n",
    "\n",
    "-   여러 개의 Iterable 객체를 받아 반복시 같은 index의 값끼리 튜플로 묶어 반환한다.\n",
    "-   구문\n",
    "    -   `zip(Iterable1, Iterable2, Iterable3 [, .......])`\n",
    "        -   Iterable 2개이상.전달한다.\n",
    "-   각 Iterable이 제공하는 원소의 개수가가 다를 경우 가장 적은 것의 개수에 맞춰 반복한다.\n"
   ]
  },
  {
   "cell_type": "code",
   "execution_count": 13,
   "id": "7afe377b-3fda-4c2a-a220-caf1e0946ff2",
   "metadata": {},
   "outputs": [
    {
     "name": "stdout",
     "output_type": "stream",
     "text": [
      "('이순신', 30, '서울')\n",
      "('유관순', 40, '인천')\n",
      "('강감찬', 50, '부산')\n"
     ]
    }
   ],
   "source": [
    "name_list = ['이순신', '유관순', '강감찬']\n",
    "age_list = [30, 40, 50]\n",
    "address_list = ['서울', '인천', '부산']\n",
    "# 같은 index가 같은 사람의 데이터.\n",
    "# 개별 사람의 데이터를 출력 (이순신, 30, 서울)\n",
    "for v in zip(name_list, age_list, address_list):\n",
    "    print(v)"
   ]
  },
  {
   "cell_type": "code",
   "execution_count": 105,
   "id": "803ae55f-aead-4b4b-8a5f-289c4695c667",
   "metadata": {},
   "outputs": [
    {
     "name": "stdout",
     "output_type": "stream",
     "text": [
      "이순신 30 서울\n",
      "유관순 40 인천\n",
      "강감찬 50 부산\n"
     ]
    }
   ],
   "source": [
    "for name, age, address in zip(name_list, age_list, address_list):\n",
    "    print(name, age, address)"
   ]
  },
  {
   "cell_type": "code",
   "execution_count": null,
   "id": "1b99057f",
   "metadata": {
    "slideshow": {
     "slide_type": "fragment"
    }
   },
   "outputs": [],
   "source": []
  },
  {
   "cell_type": "markdown",
   "id": "2df89dae",
   "metadata": {
    "slideshow": {
     "slide_type": "subslide"
    }
   },
   "source": [
    "# 컴프리헨션(Comprehension)\n",
    "\n",
    "-   기존 Iterable의 원소들을 이용해서 새로운 자료구조(List, Dictionary, Set)를 생성하는 구문.\n",
    "    -   기존 Iterable의 **원소들을 처리한 결과**나 **특정 조건이 True인 값들을** 새로운 자료구조에 넣을때 사용.\n",
    "    -   결과를 넣을 새로운 자료구조 타입에 따라 다음 세가지가 있다.\n",
    "        -   리스트 컴프리헨션\n",
    "        -   딕셔너리 컴프리헨션\n",
    "        -   셋 컴프리헨션\n",
    "- **튜플 컴프리헨션**은 tuple() 함수를 이용해서 만든다.\n",
    "-   **딕셔너리 컴프리헨션**과 **셋 컴프리헨션**은 파이썬 3 에 새로 추가되었다.\n",
    "-   컴프리헨션 문법은 iterable 을 타입을 넣는 곳에서는 다 적용할 수있다.\n"
   ]
  },
  {
   "cell_type": "code",
   "execution_count": 106,
   "id": "9824cdae-0aea-456f-8ab2-3e20318ae030",
   "metadata": {},
   "outputs": [
    {
     "data": {
      "text/plain": [
       "[2, 4, 6]"
      ]
     },
     "execution_count": 106,
     "metadata": {},
     "output_type": "execute_result"
    }
   ],
   "source": [
    "# filtering\n",
    "l = [1, 2, 3, 4, 5, 6]\n",
    "result = []\n",
    "for v in l:\n",
    "    if v % 2 == 0:\n",
    "        result.append((v, v+10, v*2))\n",
    "result"
   ]
  },
  {
   "cell_type": "code",
   "execution_count": 14,
   "id": "88eed649-19ab-45a1-9dce-28442eb4746b",
   "metadata": {},
   "outputs": [
    {
     "data": {
      "text/plain": [
       "[(2, 12, 4), (4, 14, 8), (6, 16, 12)]"
      ]
     },
     "execution_count": 14,
     "metadata": {},
     "output_type": "execute_result"
    }
   ],
   "source": [
    "l = [1, 2, 3, 4, 5, 6]\n",
    "[(v, v+10, v*2) for v in l if v % 2 == 0]"
   ]
  },
  {
   "cell_type": "code",
   "execution_count": 120,
   "id": "febcfadb-4eea-4609-b6f9-539f7454ccf2",
   "metadata": {},
   "outputs": [
    {
     "data": {
      "text/plain": [
       "[20, 40, 60]"
      ]
     },
     "execution_count": 120,
     "metadata": {},
     "output_type": "execute_result"
    }
   ],
   "source": [
    "# filtering을 컴프리헨션 문법으로 구현\n",
    "result4 = [v*10 for v in l if v % 2 == 0]\n",
    "result4"
   ]
  },
  {
   "cell_type": "code",
   "execution_count": 110,
   "id": "9ac5be31-a2a5-4b4e-853a-04648f7793b2",
   "metadata": {},
   "outputs": [
    {
     "data": {
      "text/plain": [
       "[2, 4, 6, 8, 10, 12]"
      ]
     },
     "execution_count": 110,
     "metadata": {},
     "output_type": "execute_result"
    }
   ],
   "source": [
    "# mapping\n",
    "result2 = []\n",
    "for v in l:\n",
    "    result2.append(v * 2)\n",
    "result2"
   ]
  },
  {
   "cell_type": "code",
   "execution_count": 111,
   "id": "c342572a-c237-457f-9310-ec89446c92fa",
   "metadata": {},
   "outputs": [
    {
     "name": "stdout",
     "output_type": "stream",
     "text": [
      "[2, 4, 6, 8, 10, 12]\n"
     ]
    }
   ],
   "source": [
    "# mapping 을 컴프리헨션 문법으로 구현\n",
    "result3 = [v*2 for v in l]\n",
    "print(result3)"
   ]
  },
  {
   "cell_type": "code",
   "execution_count": 112,
   "id": "797f98e5-cbb3-42e3-a043-feb72bd65ff5",
   "metadata": {},
   "outputs": [
    {
     "data": {
      "text/plain": [
       "{2, 4, 6, 8, 10, 12}"
      ]
     },
     "execution_count": 112,
     "metadata": {},
     "output_type": "execute_result"
    }
   ],
   "source": [
    "{v*2 for v in l}"
   ]
  },
  {
   "cell_type": "code",
   "execution_count": 115,
   "id": "6f9d2d1d-92d0-41a4-97ba-fb7a9cb1b38b",
   "metadata": {},
   "outputs": [
    {
     "data": {
      "text/plain": [
       "{'value1': 2,\n",
       " 'value2': 4,\n",
       " 'value3': 6,\n",
       " 'value4': 8,\n",
       " 'value5': 10,\n",
       " 'value6': 12}"
      ]
     },
     "execution_count": 115,
     "metadata": {},
     "output_type": "execute_result"
    }
   ],
   "source": [
    "{f\"value{v}\":v*2 for v in l}"
   ]
  },
  {
   "cell_type": "code",
   "execution_count": 116,
   "id": "6f69ee91-c00d-40b2-a250-298e070f6752",
   "metadata": {},
   "outputs": [
    {
     "data": {
      "text/plain": [
       "<generator object <genexpr> at 0x0000026587202A80>"
      ]
     },
     "execution_count": 116,
     "metadata": {},
     "output_type": "execute_result"
    }
   ],
   "source": [
    "(v*2 for v in l) #generator 생성"
   ]
  },
  {
   "cell_type": "code",
   "execution_count": 117,
   "id": "ae7c00cd-bf37-44fd-bc12-a556a1a66fdf",
   "metadata": {},
   "outputs": [
    {
     "data": {
      "text/plain": [
       "(2, 4, 6, 8, 10, 12)"
      ]
     },
     "execution_count": 117,
     "metadata": {},
     "output_type": "execute_result"
    }
   ],
   "source": [
    "tuple(v*2 for v in l) "
   ]
  },
  {
   "cell_type": "code",
   "execution_count": 118,
   "id": "e04827d9",
   "metadata": {
    "slideshow": {
     "slide_type": "fragment"
    }
   },
   "outputs": [
    {
     "data": {
      "text/plain": [
       "[2, 4, 6, 8, 10, 12]"
      ]
     },
     "execution_count": 118,
     "metadata": {},
     "output_type": "execute_result"
    }
   ],
   "source": [
    "list(v*2 for v in l)"
   ]
  },
  {
   "cell_type": "code",
   "execution_count": 123,
   "id": "ebac5e7f-e379-42d6-9ec5-fc283d1b749e",
   "metadata": {},
   "outputs": [
    {
     "data": {
      "text/plain": [
       "[5, 7, 3]"
      ]
     },
     "execution_count": 123,
     "metadata": {},
     "output_type": "execute_result"
    }
   ],
   "source": [
    "l2 = [\n",
    "    [10, 5, 7],\n",
    "    [3, 50, 4]\n",
    "]\n",
    "result = [] # l2 원소중 홀수만 저장.\n",
    "for l in l2:\n",
    "    for v in l:\n",
    "        if v % 2 != 0:\n",
    "            result.append(v)\n",
    "result"
   ]
  },
  {
   "cell_type": "code",
   "execution_count": 124,
   "id": "7d516d22-9f60-4b03-860b-17246e1dc2ec",
   "metadata": {},
   "outputs": [
    {
     "data": {
      "text/plain": [
       "[5, 7, 3]"
      ]
     },
     "execution_count": 124,
     "metadata": {},
     "output_type": "execute_result"
    }
   ],
   "source": [
    "result2 = [v for l in l2 for v in l if v % 2 !=0 ]\n",
    "result2"
   ]
  },
  {
   "cell_type": "code",
   "execution_count": null,
   "id": "5f224047-3102-4528-a87d-d9a8ea3e44f3",
   "metadata": {},
   "outputs": [],
   "source": []
  },
  {
   "cell_type": "markdown",
   "id": "092288d7",
   "metadata": {
    "slideshow": {
     "slide_type": "skip"
    }
   },
   "source": [
    "# TODO\n"
   ]
  },
  {
   "cell_type": "code",
   "execution_count": 20,
   "id": "88ad2c3e-aa5b-4314-bed1-aca33c69b6c9",
   "metadata": {
    "slideshow": {
     "slide_type": "skip"
    }
   },
   "outputs": [
    {
     "name": "stdin",
     "output_type": "stream",
     "text": [
      "ID: \n"
     ]
    },
    {
     "name": "stdout",
     "output_type": "stream",
     "text": [
      "사용할 수 없는 ID입니다.\n"
     ]
    }
   ],
   "source": [
    "# (1) 사용자로 부터 ID를 입력 받은 뒤 입력받은 ID가 5글자 이상이면 \"사용할 수 있습니다.\"를 \n",
    "# 5글자 미만이면 \"사용할 수 없는 ID입니다.\"를 출력하세요.\n",
    "\n",
    "user_id = input(\"ID:\") \n",
    "# if len(user_id) >= 5:\n",
    "if user_id:# 입력했으면   \"\":False, \"a\":True\n",
    "    print(\"사용할 수있습니다.\")\n",
    "else:\n",
    "    print(\"사용할 수 없는 ID입니다.\")"
   ]
  },
  {
   "cell_type": "code",
   "execution_count": 24,
   "id": "b5f5d6a7-c04f-4522-8a8c-96316b30a8b1",
   "metadata": {
    "slideshow": {
     "slide_type": "skip"
    }
   },
   "outputs": [
    {
     "name": "stdin",
     "output_type": "stream",
     "text": [
      "도시이름: 서울   \n"
     ]
    },
    {
     "name": "stdout",
     "output_type": "stream",
     "text": [
      "특별시\n"
     ]
    }
   ],
   "source": [
    "# (2) 사용자로부터 우리나라 도시명을 입력 받은 뒤 입력받은 도시명이 서울이면 \"특별시\"를\n",
    "#인천,부산,광주,대구,대전,울산 이면 \"광역시\"를 나머지는 \"특별시나 광역시가 아닙니다.\"를 출력하세요.\n",
    "\n",
    "city = input(\"도시이름:\")\n",
    "city = city.strip()\n",
    "if city == \"서울\":\n",
    "    print(\"특별시\")\n",
    "elif city in [\"인천\", \"부산\", \"광주\",\"대구\",\"대전\",\"울산\"]:\n",
    "    print(\"광역시\")\n",
    "else:\n",
    "    print(\"특별시나 광역시가 아닙니다.\")"
   ]
  },
  {
   "cell_type": "code",
   "execution_count": 25,
   "id": "709a6130-7d21-430e-881d-415736c40717",
   "metadata": {
    "slideshow": {
     "slide_type": "skip"
    }
   },
   "outputs": [
    {
     "name": "stdout",
     "output_type": "stream",
     "text": [
      "총점: 890\n",
      "평균: 89.0\n"
     ]
    }
   ],
   "source": [
    "# (3-4)\n",
    "# (3) 아래 리스트의 평균을 구하시오.\n",
    "jumsu = [100, 90, 100, 80, 70, 100, 80, 90, 95, 85]\n",
    "# 1. 총합계 2. 총합계/개수\n",
    "\n",
    "jumsu_sum = 0 # 총합계를 저장할 변수\n",
    "for v in jumsu:\n",
    "    jumsu_sum = jumsu_sum + v # jumsu += v\n",
    "    \n",
    "print(\"총점:\", jumsu_sum)\n",
    "jumsu_avg = jumsu_sum / len(jumsu)\n",
    "print(\"평균:\", jumsu_avg)"
   ]
  },
  {
   "cell_type": "code",
   "execution_count": 27,
   "id": "d016bcd3-0d55-46dd-a243-c62410674555",
   "metadata": {},
   "outputs": [
    {
     "data": {
      "text/plain": [
       "89.0"
      ]
     },
     "execution_count": 27,
     "metadata": {},
     "output_type": "execute_result"
    }
   ],
   "source": [
    "# 숫자를 원소로 가지는 iterable 의 합계 구하기.\n",
    "sum(jumsu)/len(jumsu)"
   ]
  },
  {
   "cell_type": "code",
   "execution_count": 31,
   "id": "e5da9a61-19ba-42ed-a4dd-0db4d290e88b",
   "metadata": {
    "collapsed": true,
    "jupyter": {
     "outputs_hidden": true
    },
    "scrolled": true,
    "slideshow": {
     "slide_type": "skip"
    }
   },
   "outputs": [
    {
     "name": "stdout",
     "output_type": "stream",
     "text": [
      "1번 - pass\n",
      "2번 - pass\n",
      "3번 - pass\n",
      "4번 - fail\n",
      "5번 - fail\n",
      "6번 - pass\n",
      "7번 - fail\n",
      "8번 - pass\n",
      "9번 - pass\n",
      "10번 - fail\n"
     ]
    }
   ],
   "source": [
    "# (4) 위 jumsu리스트에서 평균점수이상은 pass, 미만은 fail을 index번호와 함께 출력하시오. (ex: 0-pass, 1-pass, 2-fail)\n",
    "\n",
    "# for v in jumsu:\n",
    "#     if v >= jumsu_avg:\n",
    "#         print(f\"pass\")\n",
    "#     else:\n",
    "#         print(f\"fail\")\n",
    "\n",
    "for idx, v in enumerate(jumsu, start=1):\n",
    "    if v >= jumsu_avg:\n",
    "        print(f\"{idx}번 - pass\")\n",
    "    else:\n",
    "        print(f\"{idx}번 - fail\")"
   ]
  },
  {
   "cell_type": "code",
   "execution_count": 32,
   "id": "c22c0502-2bce-40f1-a757-163029a38640",
   "metadata": {
    "slideshow": {
     "slide_type": "skip"
    }
   },
   "outputs": [
    {
     "name": "stdout",
     "output_type": "stream",
     "text": [
      "최대값: 95\n"
     ]
    }
   ],
   "source": [
    "# (5) 아래 리스트 값들 중 최대값을 조회해 출력하시오.\n",
    "jumsu = [60, 90, 80, 80, 70, 55, 80, 90, 95, 85]\n",
    "\n",
    "max_value = jumsu[0] #  최대값을 저장할 변수\n",
    "for v in jumsu:   # max_value와 list의 원소 하나하나의 크기를 비교. 원소가 크면 max_value를 변경.\n",
    "    if max_value < v:\n",
    "        max_value = v\n",
    "print(\"최대값:\", max_value)"
   ]
  },
  {
   "cell_type": "code",
   "execution_count": 34,
   "id": "620943fa-0cb8-4dc3-83bb-b64890fd3e37",
   "metadata": {},
   "outputs": [
    {
     "data": {
      "text/plain": [
       "(95, 55)"
      ]
     },
     "execution_count": 34,
     "metadata": {},
     "output_type": "execute_result"
    }
   ],
   "source": [
    "max(jumsu), min(jumsu)"
   ]
  },
  {
   "cell_type": "code",
   "execution_count": 35,
   "id": "74c0210f-9734-43fe-987a-a868c70466e4",
   "metadata": {},
   "outputs": [],
   "source": [
    "max = 10000"
   ]
  },
  {
   "cell_type": "code",
   "execution_count": 39,
   "id": "fa4a44bb-8907-4ad7-83ac-34ae5d84c0aa",
   "metadata": {},
   "outputs": [
    {
     "data": {
      "text/plain": [
       "95"
      ]
     },
     "execution_count": 39,
     "metadata": {},
     "output_type": "execute_result"
    }
   ],
   "source": [
    "# del max\n",
    "max(jumsu)"
   ]
  },
  {
   "cell_type": "code",
   "execution_count": 1,
   "id": "5d9c22bb-8032-4734-aa75-f27f6b9e252d",
   "metadata": {
    "collapsed": true,
    "jupyter": {
     "outputs_hidden": true
    },
    "slideshow": {
     "slide_type": "skip"
    }
   },
   "outputs": [
    {
     "name": "stdin",
     "output_type": "stream",
     "text": [
      "단을 입력하시오:  3\n"
     ]
    },
    {
     "name": "stdout",
     "output_type": "stream",
     "text": [
      "3 X 1 = 3\n",
      "3 X 2 = 6\n",
      "3 X 3 = 9\n",
      "3 X 4 = 12\n",
      "3 X 5 = 15\n",
      "3 X 6 = 18\n",
      "3 X 7 = 21\n",
      "3 X 8 = 24\n",
      "3 X 9 = 27\n"
     ]
    }
   ],
   "source": [
    "# (6) 사용자로부터 정수를 입력받아 그 정수 단의 구구단을 출력하시오.\n",
    "# ex)\n",
    "# 단을 입력하시오 : 2\n",
    "# 2 x 1 = 2\n",
    "# 2 x 2 = 4\n",
    "# ..\n",
    "# 2 x 9 = 18\n",
    "\n",
    "dan = int(input(\"단을 입력하시오: \"))\n",
    "# print(dan)\n",
    "for i in range(1, 10):\n",
    "    print(f\"{dan} X {i} = {dan * i}\")"
   ]
  },
  {
   "cell_type": "code",
   "execution_count": null,
   "id": "7363cc5e-5000-4e2e-ab49-050ff84e5350",
   "metadata": {},
   "outputs": [],
   "source": []
  },
  {
   "cell_type": "code",
   "execution_count": 47,
   "id": "e003e3df-76b4-4b06-a614-8f4637ba3058",
   "metadata": {},
   "outputs": [
    {
     "name": "stdout",
     "output_type": "stream",
     "text": [
      "2 X 1 = 2\t3 X 1 = 3\t4 X 1 = 4\t5 X 1 = 5\t6 X 1 = 6\t7 X 1 = 7\t8 X 1 = 8\t9 X 1 = 9\t\n",
      "2 X 2 = 4\t3 X 2 = 6\t4 X 2 = 8\t5 X 2 = 10\t6 X 2 = 12\t7 X 2 = 14\t8 X 2 = 16\t9 X 2 = 18\t\n",
      "2 X 3 = 6\t3 X 3 = 9\t4 X 3 = 12\t5 X 3 = 15\t6 X 3 = 18\t7 X 3 = 21\t8 X 3 = 24\t9 X 3 = 27\t\n",
      "2 X 4 = 8\t3 X 4 = 12\t4 X 4 = 16\t5 X 4 = 20\t6 X 4 = 24\t7 X 4 = 28\t8 X 4 = 32\t9 X 4 = 36\t\n",
      "2 X 5 = 10\t3 X 5 = 15\t4 X 5 = 20\t5 X 5 = 25\t6 X 5 = 30\t7 X 5 = 35\t8 X 5 = 40\t9 X 5 = 45\t\n",
      "2 X 6 = 12\t3 X 6 = 18\t4 X 6 = 24\t5 X 6 = 30\t6 X 6 = 36\t7 X 6 = 42\t8 X 6 = 48\t9 X 6 = 54\t\n",
      "2 X 7 = 14\t3 X 7 = 21\t4 X 7 = 28\t5 X 7 = 35\t6 X 7 = 42\t7 X 7 = 49\t8 X 7 = 56\t9 X 7 = 63\t\n",
      "2 X 8 = 16\t3 X 8 = 24\t4 X 8 = 32\t5 X 8 = 40\t6 X 8 = 48\t7 X 8 = 56\t8 X 8 = 64\t9 X 8 = 72\t\n",
      "2 X 9 = 18\t3 X 9 = 27\t4 X 9 = 36\t5 X 9 = 45\t6 X 9 = 54\t7 X 9 = 63\t8 X 9 = 72\t9 X 9 = 81\t\n"
     ]
    }
   ],
   "source": [
    "# 구구단 표\n",
    "for x in range(1, 10):\n",
    "    for dan in range(2, 10):\n",
    "        print(f\"{dan} X {x} = {dan * x}\", end='\\t')\n",
    "    print()"
   ]
  },
  {
   "cell_type": "code",
   "execution_count": 48,
   "id": "aec88066-6b39-4162-a5f9-40e766447969",
   "metadata": {
    "slideshow": {
     "slide_type": "skip"
    }
   },
   "outputs": [
    {
     "name": "stdout",
     "output_type": "stream",
     "text": [
      "[(10, 100), (30, 300), (70, 700), (5, 50), (5, 50), (120, 1200), (700, 7000), (1, 10), (35, 350), (35, 350)]\n"
     ]
    }
   ],
   "source": [
    "# 컴프리헨션\n",
    "# (7) 다음 리스트의 원소들에 10배한 값을 (원래값, 10배값) 의 튜플 묶음으로 가지는 리스트를 만드시오 (리스트 컴프리헨션 이용)\n",
    "# Ex) [(10,100), (30,300), .., (35, 350)]\n",
    "lst = [10, 30, 70, 5, 5, 120, 700, 1, 35, 35]\n",
    "\n",
    "print([(v, v*10) for v in lst])"
   ]
  },
  {
   "cell_type": "code",
   "execution_count": 49,
   "id": "dd3bda12-5c07-4b67-96bd-60c84aae369f",
   "metadata": {
    "slideshow": {
     "slide_type": "skip"
    }
   },
   "outputs": [
    {
     "name": "stdout",
     "output_type": "stream",
     "text": [
      "[3, 33, 21, 33, 60, 120]\n"
     ]
    }
   ],
   "source": [
    "# (8) 다음 리스트가 가진 값들 중 3의 배수만 가지는 리스트를 만드시오. (리스트 컴프리헨션 이용)\n",
    "lst2 = [3, 20, 33, 21, 33, 8, 11, 10, 7, 17, 60, 120, 2]\n",
    "\n",
    "print([v for v in lst2 if v % 3 == 0])"
   ]
  },
  {
   "cell_type": "code",
   "execution_count": 54,
   "id": "45f5b285-5412-4156-b595-b5d28ae18aaf",
   "metadata": {},
   "outputs": [
    {
     "data": {
      "text/plain": [
       "True"
      ]
     },
     "execution_count": 54,
     "metadata": {},
     "output_type": "execute_result"
    }
   ],
   "source": [
    "# \"a.exe\".endswith(\".exe\")\n",
    "\".exe\" in \"a.exe.txt\""
   ]
  },
  {
   "cell_type": "code",
   "execution_count": 55,
   "id": "31a0bf49-b098-4d30-a4f9-3c722610a45b",
   "metadata": {
    "slideshow": {
     "slide_type": "skip"
    }
   },
   "outputs": [
    {
     "name": "stdout",
     "output_type": "stream",
     "text": [
      "['a.exe', 'function.exe', 'b.exe', 'run.exe']\n"
     ]
    }
   ],
   "source": [
    "# (9)) 다음 파일이름들을 담은 리스트에서 확장자가 exe인 파일만 골라서 새로운 리스트에 담으시오.(string의 endswith()함수 이용)\n",
    "file_names = [\n",
    "    \"test.txt\",\n",
    "    \"a.exe\",\n",
    "    \"jupyter.bat\",\n",
    "    \"function.exe\",\n",
    "    \"b.exe\",\n",
    "    \"cat.jpg\",\n",
    "    \"dog.png\",\n",
    "    \"run.exe\",\n",
    "    \"i.dll\",\n",
    "]\n",
    "\n",
    "print([file_name for file_name in file_names if file_name.endswith(\".exe\")])"
   ]
  },
  {
   "cell_type": "code",
   "execution_count": 59,
   "id": "057547b3-e2bc-4d80-809d-eaccd44b3915",
   "metadata": {
    "slideshow": {
     "slide_type": "skip"
    }
   },
   "outputs": [
    {
     "data": {
      "text/plain": [
       "[('mystroy.txt', 11), ('jupyter.bat', 11), ('function.exe', 12)]"
      ]
     },
     "execution_count": 59,
     "metadata": {},
     "output_type": "execute_result"
    }
   ],
   "source": [
    "# (10) 다음 중 10글자 이상인 파일명(확장자포함)만 가지는 리스트를 만드시오.\n",
    "file_names = [\n",
    "    \"mystroy.txt\",\n",
    "    \"a.exe\",\n",
    "    \"jupyter.bat\",\n",
    "    \"function.exe\",\n",
    "    \"b.exe\",\n",
    "    \"cat.jpg\",\n",
    "    \"dog.png\",\n",
    "    \"run.exe\",\n",
    "    \"i.dll\",\n",
    "]\n",
    "\n",
    "# [file_name for file_name in file_names if len(file_name) >= 10]\n",
    "[(file_name, len(file_name)) for file_name in file_names if len(file_name) >= 10]"
   ]
  },
  {
   "cell_type": "code",
   "execution_count": null,
   "id": "9df1f9d0-956d-44ef-86ad-3cd15a5bbe9b",
   "metadata": {},
   "outputs": [],
   "source": []
  }
 ],
 "metadata": {
  "kernelspec": {
   "display_name": "Python 3 (ipykernel)",
   "language": "python",
   "name": "python3"
  },
  "language_info": {
   "codemirror_mode": {
    "name": "ipython",
    "version": 3
   },
   "file_extension": ".py",
   "mimetype": "text/x-python",
   "name": "python",
   "nbconvert_exporter": "python",
   "pygments_lexer": "ipython3",
   "version": "3.12.9"
  },
  "toc": {
   "base_numbering": 1,
   "nav_menu": {},
   "number_sections": true,
   "sideBar": true,
   "skip_h1_title": false,
   "title_cell": "Table of Contents",
   "title_sidebar": "Contents",
   "toc_cell": false,
   "toc_position": {},
   "toc_section_display": true,
   "toc_window_display": false
  },
  "varInspector": {
   "cols": {
    "lenName": 16,
    "lenType": 16,
    "lenVar": 40
   },
   "kernels_config": {
    "python": {
     "delete_cmd_postfix": "",
     "delete_cmd_prefix": "del ",
     "library": "var_list.py",
     "varRefreshCmd": "print(var_dic_list())"
    },
    "r": {
     "delete_cmd_postfix": ") ",
     "delete_cmd_prefix": "rm(",
     "library": "var_list.r",
     "varRefreshCmd": "cat(var_dic_list()) "
    }
   },
   "types_to_exclude": [
    "module",
    "function",
    "builtin_function_or_method",
    "instance",
    "_Feature"
   ],
   "window_display": false
  }
 },
 "nbformat": 4,
 "nbformat_minor": 5
}
