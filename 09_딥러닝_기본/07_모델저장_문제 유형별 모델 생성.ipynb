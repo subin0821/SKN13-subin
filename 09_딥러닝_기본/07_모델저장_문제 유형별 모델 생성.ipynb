{
 "cells": [
  {
   "cell_type": "markdown",
   "metadata": {
    "id": "sXO0dld-IUqW"
   },
   "source": [
    "# 학습된 모델 저장\n",
    "\n",
    "- 학습이 완료된 모델을 파일로 저장하여, 이후 추가 학습이나 예측 서비스에 사용할 수 있도록 한다.\n",
    "- 파이토치(PyTorch)는 **모델의 파라미터만 저장**하는 방법과 **모델의 구조와 파라미터를 모두 저장**하는 두 가지 방식을 제공한다.\n",
    "- 저장 함수\n",
    "  - `torch.save(저장할 객체, 저장 경로)`\n",
    "- 보통 저장 파일의 확장자는 `.pt`나 `.pth`를 사용한다.\n",
    "\n",
    "## 모델 전체 저장 및 불러오기\n",
    "\n",
    "- 저장하기\n",
    "  - `torch.save(model, 저장 경로)`\n",
    "- 불러오기\n",
    "  - `load_model = torch.load(저장 경로)`\n",
    "- 모델 저장 시 **피클(pickle)**을 사용해 직렬화되므로, 모델을 불러오는 실행 환경에도 저장할 때 사용한 클래스 정의가 필요하다.\n"
   ]
  },
  {
   "cell_type": "markdown",
   "metadata": {
    "id": "oCHBya16IUqZ"
   },
   "source": [
    "## 모델의 파라미터만 저장\n",
    "\n",
    "-   모델을 구성하는 파라미터만 저장한다.\n",
    "-   모델의 구조는 저장하지 않기 때문에 불러올 때 **모델을 먼저 생성하고 생성한 모델에 불러온 파라미터를 덮어씌운다.**\n",
    "-   모델의 파라미터는 **state_dict** 형식으로 저장한다.\n",
    "\n",
    "### state_dict\n",
    "\n",
    "-   모델의 파라미터 Tensor들을 레이어 단위별로 나누어 저장한 Ordered Dictionary (OrderedDict)\n",
    "-   `모델객체.state_dict()` 메소드를 이용해 조회한다.\n",
    "-   모델의 state_dict을 조회 후 저장한다.\n",
    "    -   `torch.save(model.state_dict(), \"저장경로\")`\n",
    "-   생성된 모델에 읽어온 state_dict를 덮어씌운다.\n",
    "    -   `new_model.load_state_dict(torch.load(\"state_dict저장경로\"))`\n"
   ]
  },
  {
   "cell_type": "markdown",
   "metadata": {
    "id": "iSyf-BgvIUqZ"
   },
   "source": [
    "## Checkpoint 저장 및 불러오기\n",
    "\n",
    "- 학습이 끝나지 않은 모델을 저장하고, 나중에 이어서 학습시키려면 모델의 구조와 파라미터뿐만 아니라 optimizer, loss 함수 등 학습에 필요한 객체들도 함께 저장해야 한다.\n",
    "- 딕셔너리(Dictionary)에 저장하려는 값들을 key-value 쌍으로 구성하여 `torch.save()`를 이용해 저장한다.\n",
    "\n",
    "```python\n",
    "# 저장\n",
    "torch.save({\n",
    "    'epoch': epoch,\n",
    "    'model_state_dict': model.state_dict(),\n",
    "    'optimizer_state_dict': optimizer.state_dict(),\n",
    "    'loss': train_loss\n",
    "}, \"저장경로\")\n",
    "\n",
    "# 불러오기\n",
    "model = MyModel()\n",
    "optimizer = optim.Adam(model.parameters())\n",
    "\n",
    "# 불러온 checkpoint를 이용해 이전 학습 상태 복원\n",
    "checkpoint = torch.load(\"저장경로\")\n",
    "model.load_state_dict(checkpoint['model_state_dict'])\n",
    "optimizer.load_state_dict(checkpoint['optimizer_state_dict'])\n",
    "epoch = checkpoint['epoch']\n",
    "loss = checkpoint['loss']\n",
    "```"
   ]
  },
  {
   "cell_type": "code",
   "execution_count": null,
   "metadata": {
    "id": "cn3fQu3FIUqa"
   },
   "outputs": [],
   "source": [
    "# 간단한 모델 정의\n",
    "import torch\n",
    "import torch.nn as nn\n",
    "\n",
    "class MyModel(nn.Module):\n",
    "\n",
    "    def __init__(self):\n",
    "        super().__init__()\n",
    "        self.lr1 = nn.Linear(3, 4) # 3 x 4 + 4 (Weight: Input개수 * Output개수, bias: Output개수)\n",
    "        self.lr2 = nn.Linear(4, 2) # 4 x 2 + 2\n",
    "        self.relu = nn.ReLU() # activation함수->파라미터가 없는 단순 계산함수. relu(X) = max(X, 0)\n",
    "    def forward(self, X):\n",
    "        X = self.lr1(X)\n",
    "        X = self.relu(X)\n",
    "        X = self.lr2(X)\n",
    "        return X"
   ]
  },
  {
   "cell_type": "code",
   "execution_count": null,
   "metadata": {
    "id": "fwrMvmykIUqb",
    "outputId": "a006d453-d19a-432e-9a33-8571858fa7f6"
   },
   "outputs": [
    {
     "data": {
      "text/plain": [
       "MyModel(\n",
       "  (lr1): Linear(in_features=3, out_features=4, bias=True)\n",
       "  (lr2): Linear(in_features=4, out_features=2, bias=True)\n",
       "  (relu): ReLU()\n",
       ")"
      ]
     },
     "execution_count": 3,
     "metadata": {},
     "output_type": "execute_result"
    }
   ],
   "source": [
    "# 모델 생성성\n",
    "model = MyModel()\n",
    "model"
   ]
  },
  {
   "cell_type": "code",
   "execution_count": null,
   "metadata": {
    "id": "Vd5dPmK_IUqb",
    "outputId": "8e50b60c-ecfa-4e91-c80e-4927fbc11fea"
   },
   "outputs": [
    {
     "data": {
      "text/plain": [
       "Linear(in_features=3, out_features=4, bias=True)"
      ]
     },
     "execution_count": 4,
     "metadata": {},
     "output_type": "execute_result"
    }
   ],
   "source": [
    "# 레이어의 파라미터를 조회\n",
    "# 모델에서 레이어객체를 조회\n",
    "lr1 = model.lr1\n",
    "lr1"
   ]
  },
  {
   "cell_type": "code",
   "execution_count": null,
   "metadata": {
    "id": "YqlmVXDjIUqb",
    "outputId": "5f1646e5-4ec6-4ff5-bd7a-14afe9b1c979"
   },
   "outputs": [
    {
     "name": "stdout",
     "output_type": "stream",
     "text": [
      "torch.Size([4, 3])\n"
     ]
    },
    {
     "data": {
      "text/plain": [
       "Parameter containing:\n",
       "tensor([[ 0.1182, -0.5024, -0.4231],\n",
       "        [ 0.2442,  0.5510, -0.0766],\n",
       "        [ 0.3018,  0.0804, -0.2998],\n",
       "        [-0.4359,  0.0421,  0.4237]], requires_grad=True)"
      ]
     },
     "execution_count": 7,
     "metadata": {},
     "output_type": "execute_result"
    }
   ],
   "source": [
    "# 레이어에서 weight/bias 조회\n",
    "w = lr1.weight\n",
    "print(w.shape)\n",
    "w"
   ]
  },
  {
   "cell_type": "code",
   "execution_count": null,
   "metadata": {
    "id": "OnYs5mKWIUqc",
    "outputId": "649d51bc-ccae-4788-da68-ded7322984f1"
   },
   "outputs": [
    {
     "name": "stdout",
     "output_type": "stream",
     "text": [
      "torch.Size([4])\n"
     ]
    },
    {
     "data": {
      "text/plain": [
       "Parameter containing:\n",
       "tensor([-0.4341,  0.1166,  0.5019,  0.5518], requires_grad=True)"
      ]
     },
     "execution_count": 8,
     "metadata": {},
     "output_type": "execute_result"
    }
   ],
   "source": [
    "b = lr1.bias\n",
    "print(b.shape)\n",
    "b"
   ]
  },
  {
   "cell_type": "code",
   "execution_count": null,
   "metadata": {
    "id": "TITTVNnPIUqc"
   },
   "outputs": [],
   "source": [
    "import os\n",
    "os.makedirs(\"saved_models\", exist_ok=True)"
   ]
  },
  {
   "cell_type": "code",
   "execution_count": null,
   "metadata": {
    "id": "iri7krShIUqc"
   },
   "outputs": [],
   "source": [
    "################################################\n",
    "#  모델을 저장\n",
    "################################################\n",
    "torch.save(model, \"saved_models/my_model.pt\")"
   ]
  },
  {
   "cell_type": "code",
   "execution_count": null,
   "metadata": {
    "collapsed": true,
    "id": "jBT66TdbIUqc",
    "jupyter": {
     "outputs_hidden": true
    }
   },
   "outputs": [],
   "source": [
    "################################################\n",
    "#  저장된 모델 Load\n",
    "################################################\n",
    "load_model = torch.load(\"saved_models/my_model.pt\", weights_only=False)"
   ]
  },
  {
   "cell_type": "code",
   "execution_count": null,
   "metadata": {
    "id": "hWCq1Pm-IUqc",
    "outputId": "e90d6290-090c-4cc7-b970-6c63fa1bcd07"
   },
   "outputs": [
    {
     "data": {
      "text/plain": [
       "MyModel(\n",
       "  (lr1): Linear(in_features=3, out_features=4, bias=True)\n",
       "  (lr2): Linear(in_features=4, out_features=2, bias=True)\n",
       "  (relu): ReLU()\n",
       ")"
      ]
     },
     "execution_count": 13,
     "metadata": {},
     "output_type": "execute_result"
    }
   ],
   "source": [
    "load_model"
   ]
  },
  {
   "cell_type": "code",
   "execution_count": null,
   "metadata": {
    "id": "ecYp6n2JIUqd",
    "outputId": "6300d1c7-779f-42c5-a37e-ad11a57bc5dc"
   },
   "outputs": [
    {
     "data": {
      "text/plain": [
       "Parameter containing:\n",
       "tensor([[ 0.1182, -0.5024, -0.4231],\n",
       "        [ 0.2442,  0.5510, -0.0766],\n",
       "        [ 0.3018,  0.0804, -0.2998],\n",
       "        [-0.4359,  0.0421,  0.4237]], requires_grad=True)"
      ]
     },
     "execution_count": 15,
     "metadata": {},
     "output_type": "execute_result"
    }
   ],
   "source": [
    "load_lr1 = load_model.lr1\n",
    "lr1.weight"
   ]
  },
  {
   "cell_type": "code",
   "execution_count": null,
   "metadata": {
    "id": "rJOWsI40IUqd",
    "outputId": "fd3e535f-9b0a-4d47-cbeb-1b95d5bfd412"
   },
   "outputs": [
    {
     "data": {
      "text/plain": [
       "Parameter containing:\n",
       "tensor([-0.4341,  0.1166,  0.5019,  0.5518], requires_grad=True)"
      ]
     },
     "execution_count": 16,
     "metadata": {},
     "output_type": "execute_result"
    }
   ],
   "source": [
    "lr1.bias"
   ]
  },
  {
   "cell_type": "code",
   "execution_count": null,
   "metadata": {
    "id": "7I3kDAF-IUqd"
   },
   "outputs": [],
   "source": []
  },
  {
   "cell_type": "code",
   "execution_count": null,
   "metadata": {
    "id": "skXGM1jpIUqd",
    "outputId": "81319289-3cd7-467d-cdb0-71ef4e221637"
   },
   "outputs": [
    {
     "data": {
      "text/plain": [
       "Linear(in_features=4, out_features=2, bias=True)"
      ]
     },
     "execution_count": 17,
     "metadata": {},
     "output_type": "execute_result"
    }
   ],
   "source": [
    "################################################\n",
    "#  모델에 Layer들을 조회. 모델.instance변수명\n",
    "################################################\n",
    "lr_layer = model.lr2\n",
    "lr_layer"
   ]
  },
  {
   "cell_type": "code",
   "execution_count": null,
   "metadata": {
    "id": "TDjaushmIUqd"
   },
   "outputs": [],
   "source": [
    "################################################\n",
    "#  Layer의 파라미터(weight/bias) 조회\n",
    "################################################\n",
    "lr1_weight = lr_layer.weight\n",
    "lr1_bias = lr_layer.bias"
   ]
  },
  {
   "cell_type": "code",
   "execution_count": null,
   "metadata": {
    "id": "B_vb0cOMIUqd",
    "outputId": "65f28e45-58c8-456e-c222-10ca147f9e9c"
   },
   "outputs": [
    {
     "data": {
      "text/plain": [
       "Parameter containing:\n",
       "tensor([[-0.4164,  0.4696,  0.0233,  0.4031],\n",
       "        [ 0.3847, -0.0529,  0.0882, -0.0960]], requires_grad=True)"
      ]
     },
     "execution_count": 19,
     "metadata": {},
     "output_type": "execute_result"
    }
   ],
   "source": [
    "lr1_weight"
   ]
  },
  {
   "cell_type": "code",
   "execution_count": null,
   "metadata": {
    "id": "37AawuqAIUqd",
    "outputId": "b62e2a2e-b7fe-4b13-b736-23d2f64cf307"
   },
   "outputs": [
    {
     "data": {
      "text/plain": [
       "Parameter containing:\n",
       "tensor([ 0.3716, -0.3975], requires_grad=True)"
      ]
     },
     "execution_count": 20,
     "metadata": {},
     "output_type": "execute_result"
    }
   ],
   "source": [
    "lr1_bias"
   ]
  },
  {
   "cell_type": "code",
   "execution_count": null,
   "metadata": {
    "id": "O6rJDuAJIUqd",
    "outputId": "ddaeff0e-2c3e-48b4-f516-e437ff24a1d8"
   },
   "outputs": [
    {
     "data": {
      "text/plain": [
       "OrderedDict([('lr1.weight',\n",
       "              tensor([[ 0.1182, -0.5024, -0.4231],\n",
       "                      [ 0.2442,  0.5510, -0.0766],\n",
       "                      [ 0.3018,  0.0804, -0.2998],\n",
       "                      [-0.4359,  0.0421,  0.4237]])),\n",
       "             ('lr1.bias', tensor([-0.4341,  0.1166,  0.5019,  0.5518])),\n",
       "             ('lr2.weight',\n",
       "              tensor([[-0.4164,  0.4696,  0.0233,  0.4031],\n",
       "                      [ 0.3847, -0.0529,  0.0882, -0.0960]])),\n",
       "             ('lr2.bias', tensor([ 0.3716, -0.3975]))])"
      ]
     },
     "execution_count": 21,
     "metadata": {},
     "output_type": "execute_result"
    }
   ],
   "source": [
    "######################################################\n",
    "# 모델의 파라미터들(weight들, bias들)만 저장/불러오기\n",
    "######################################################\n",
    "state_dict = model.state_dict()\n",
    "state_dict"
   ]
  },
  {
   "cell_type": "code",
   "execution_count": null,
   "metadata": {
    "id": "Vc_niVLOIUqd",
    "outputId": "1718ac01-7b98-4c97-acc5-628856213d99"
   },
   "outputs": [
    {
     "data": {
      "text/plain": [
       "odict_keys(['lr1.weight', 'lr1.bias', 'lr2.weight', 'lr2.bias'])"
      ]
     },
     "execution_count": 22,
     "metadata": {},
     "output_type": "execute_result"
    }
   ],
   "source": [
    "state_dict.keys()"
   ]
  },
  {
   "cell_type": "code",
   "execution_count": null,
   "metadata": {
    "id": "_kS8HR7DIUqd",
    "outputId": "b1865fb0-f87d-4db1-e4df-0a9a8e6003dc"
   },
   "outputs": [
    {
     "data": {
      "text/plain": [
       "tensor([-0.4341,  0.1166,  0.5019,  0.5518])"
      ]
     },
     "execution_count": 23,
     "metadata": {},
     "output_type": "execute_result"
    }
   ],
   "source": [
    "state_dict['lr1.bias']"
   ]
  },
  {
   "cell_type": "code",
   "execution_count": null,
   "metadata": {
    "id": "5N7lRLxDIUqd"
   },
   "outputs": [],
   "source": [
    "###################\n",
    "# state_dict 저장\n",
    "###################\n",
    "\n",
    "torch.save(state_dict, \"saved_models/my_model_parameter.pt\")"
   ]
  },
  {
   "cell_type": "code",
   "execution_count": null,
   "metadata": {
    "id": "O9X2D-EvIUqe"
   },
   "outputs": [],
   "source": [
    "#####################\n",
    "# state_dict load\n",
    "#####################\n",
    "sd = torch.load(\"saved_models/my_model_parameter.pt\")"
   ]
  },
  {
   "cell_type": "code",
   "execution_count": null,
   "metadata": {
    "id": "XXbqpJoHIUqe",
    "outputId": "839dc556-6b6c-4198-bfc6-407de41ef326"
   },
   "outputs": [
    {
     "data": {
      "text/plain": [
       "OrderedDict([('lr1.weight',\n",
       "              tensor([[ 0.4946, -0.1881, -0.2906],\n",
       "                      [ 0.3572, -0.3518, -0.0322],\n",
       "                      [ 0.4324, -0.4250,  0.1640],\n",
       "                      [ 0.1107,  0.2065,  0.5298]])),\n",
       "             ('lr1.bias', tensor([ 0.4650, -0.0652, -0.4243, -0.4428])),\n",
       "             ('lr2.weight',\n",
       "              tensor([[ 0.2751, -0.3926, -0.4087,  0.1688],\n",
       "                      [-0.1865,  0.4473,  0.0923, -0.3348]])),\n",
       "             ('lr2.bias', tensor([ 0.1144, -0.4082]))])"
      ]
     },
     "execution_count": 26,
     "metadata": {},
     "output_type": "execute_result"
    }
   ],
   "source": [
    "# load한 state_dict를 모델 파라미터에 적용(덮어 씌운다.)\n",
    "new_model = MyModel()\n",
    "new_model.state_dict()"
   ]
  },
  {
   "cell_type": "code",
   "execution_count": null,
   "metadata": {
    "id": "21qDPpLsIUqe",
    "outputId": "f95dd5dc-718e-4f9f-8df5-0895f11ba113"
   },
   "outputs": [
    {
     "data": {
      "text/plain": [
       "OrderedDict([('lr1.weight',\n",
       "              tensor([[ 0.1182, -0.5024, -0.4231],\n",
       "                      [ 0.2442,  0.5510, -0.0766],\n",
       "                      [ 0.3018,  0.0804, -0.2998],\n",
       "                      [-0.4359,  0.0421,  0.4237]])),\n",
       "             ('lr1.bias', tensor([-0.4341,  0.1166,  0.5019,  0.5518])),\n",
       "             ('lr2.weight',\n",
       "              tensor([[-0.4164,  0.4696,  0.0233,  0.4031],\n",
       "                      [ 0.3847, -0.0529,  0.0882, -0.0960]])),\n",
       "             ('lr2.bias', tensor([ 0.3716, -0.3975]))])"
      ]
     },
     "execution_count": 27,
     "metadata": {},
     "output_type": "execute_result"
    }
   ],
   "source": [
    "sd"
   ]
  },
  {
   "cell_type": "code",
   "execution_count": null,
   "metadata": {
    "id": "pOTryqE1IUqe",
    "outputId": "70bbe658-50c7-491a-974a-5ab99814f4db"
   },
   "outputs": [
    {
     "data": {
      "text/plain": [
       "<All keys matched successfully>"
      ]
     },
     "execution_count": 28,
     "metadata": {},
     "output_type": "execute_result"
    }
   ],
   "source": [
    "new_model.load_state_dict(sd)"
   ]
  },
  {
   "cell_type": "code",
   "execution_count": null,
   "metadata": {
    "id": "nvIg0GkIIUqe",
    "outputId": "4b38865b-6f9b-46a6-c14d-d2349b41e5dd"
   },
   "outputs": [
    {
     "data": {
      "text/plain": [
       "OrderedDict([('lr1.weight',\n",
       "              tensor([[ 0.1182, -0.5024, -0.4231],\n",
       "                      [ 0.2442,  0.5510, -0.0766],\n",
       "                      [ 0.3018,  0.0804, -0.2998],\n",
       "                      [-0.4359,  0.0421,  0.4237]])),\n",
       "             ('lr1.bias', tensor([-0.4341,  0.1166,  0.5019,  0.5518])),\n",
       "             ('lr2.weight',\n",
       "              tensor([[-0.4164,  0.4696,  0.0233,  0.4031],\n",
       "                      [ 0.3847, -0.0529,  0.0882, -0.0960]])),\n",
       "             ('lr2.bias', tensor([ 0.3716, -0.3975]))])"
      ]
     },
     "execution_count": 29,
     "metadata": {},
     "output_type": "execute_result"
    }
   ],
   "source": [
    "new_model.state_dict()"
   ]
  },
  {
   "cell_type": "code",
   "execution_count": null,
   "metadata": {
    "id": "qW5BoaBCIUqe",
    "outputId": "93d43756-7f27-4671-f227-792402217973"
   },
   "outputs": [
    {
     "data": {
      "text/plain": [
       "MyModel(\n",
       "  (lr1): Linear(in_features=3, out_features=4, bias=True)\n",
       "  (lr2): Linear(in_features=4, out_features=2, bias=True)\n",
       "  (relu): ReLU()\n",
       ")"
      ]
     },
     "execution_count": 30,
     "metadata": {},
     "output_type": "execute_result"
    }
   ],
   "source": [
    "model"
   ]
  },
  {
   "cell_type": "code",
   "execution_count": null,
   "metadata": {
    "id": "UewBw5rIIUqe",
    "outputId": "30db74c8-572b-479f-98f1-f50190e8ec10"
   },
   "outputs": [
    {
     "name": "stdout",
     "output_type": "stream",
     "text": [
      "Collecting torchinfo\n",
      "  Using cached torchinfo-1.8.0-py3-none-any.whl.metadata (21 kB)\n",
      "Using cached torchinfo-1.8.0-py3-none-any.whl (23 kB)\n",
      "Installing collected packages: torchinfo\n",
      "Successfully installed torchinfo-1.8.0\n",
      "Note: you may need to restart the kernel to use updated packages.\n"
     ]
    }
   ],
   "source": [
    "# torchinof 패키지 설치: 파이토치 모델 구조를 조사해주는 패키지.\n",
    "%pip install torchinfo"
   ]
  },
  {
   "cell_type": "code",
   "execution_count": null,
   "metadata": {
    "id": "97jH3e9bIUqe",
    "outputId": "d6ff8289-6d5c-48cd-fd28-25845b003816"
   },
   "outputs": [
    {
     "data": {
      "text/plain": [
       "=================================================================\n",
       "Layer (type:depth-idx)                   Param #\n",
       "=================================================================\n",
       "MyModel                                  --\n",
       "├─Linear: 1-1                            16\n",
       "├─Linear: 1-2                            10\n",
       "├─ReLU: 1-3                              --\n",
       "=================================================================\n",
       "Total params: 26\n",
       "Trainable params: 26\n",
       "Non-trainable params: 0\n",
       "================================================================="
      ]
     },
     "execution_count": 32,
     "metadata": {},
     "output_type": "execute_result"
    }
   ],
   "source": [
    "from torchinfo import summary\n",
    "summary(model)"
   ]
  },
  {
   "cell_type": "code",
   "execution_count": null,
   "metadata": {
    "id": "jNM8T8c4IUqe",
    "outputId": "c5f29aeb-4454-44dc-ef85-424edcae0c6d"
   },
   "outputs": [
    {
     "data": {
      "text/plain": [
       "==========================================================================================\n",
       "Layer (type:depth-idx)                   Output Shape              Param #\n",
       "==========================================================================================\n",
       "MyModel                                  [100, 2]                  --\n",
       "├─Linear: 1-1                            [100, 4]                  16\n",
       "├─ReLU: 1-2                              [100, 4]                  --\n",
       "├─Linear: 1-3                            [100, 2]                  10\n",
       "==========================================================================================\n",
       "Total params: 26\n",
       "Trainable params: 26\n",
       "Non-trainable params: 0\n",
       "Total mult-adds (Units.MEGABYTES): 0.00\n",
       "==========================================================================================\n",
       "Input size (MB): 0.00\n",
       "Forward/backward pass size (MB): 0.00\n",
       "Params size (MB): 0.00\n",
       "Estimated Total Size (MB): 0.01\n",
       "=========================================================================================="
      ]
     },
     "execution_count": 33,
     "metadata": {},
     "output_type": "execute_result"
    }
   ],
   "source": [
    "# input data 의 shape을 지정하면 각 Layer의 output shape을 출력한다.\n",
    "summary(model, (100, 3))"
   ]
  },
  {
   "cell_type": "code",
   "execution_count": null,
   "metadata": {
    "id": "yaaXEQSMIUqe"
   },
   "outputs": [],
   "source": []
  },
  {
   "cell_type": "markdown",
   "metadata": {
    "id": "uXch3QQiIUqe"
   },
   "source": [
    "# 문제 유형별 MLP 네트워크\n",
    "- 해결하려는 문제 유형에 따라 출력 Layer의 구조가 바뀐다.\n",
    "- 딥러닝 구조에서 **Feature를 추출하는 Layer 들을 Backbone** 이라고 하고 **추론하는 Layer들을 Head** 라고 한다.\n",
    "\n",
    "\n",
    "> - MLP(Multi Layer Perceptron), DNN(Deep Neural Network), ANN(Artificial Neural Network)\n",
    ">     -   Fully Connected Layer(nn.Linear)로 구성된 딥러닝 모델\n",
    ">     -   input feature들 모두에 대응하는 weight들(가중치)을 사용한다.\n",
    ">"
   ]
  },
  {
   "cell_type": "markdown",
   "metadata": {
    "id": "AaWrmYrfIUqe"
   },
   "source": [
    "## Boston Housing Dataset - **Regression(회귀) 문제**\n",
    "\n",
    "보스턴 주택가격 dataset은 다음과 같은 속성을 바탕으로 해당 타운 주택 가격의 중앙값을 예측하는 문제.\n",
    "\n",
    "-   CRIM: 범죄율\n",
    "-   ZN: 25,000 평방피트당 주거지역 비율\n",
    "-   INDUS: 비소매 상업지구 비율\n",
    "-   CHAS: 찰스강에 인접해 있는지 여부(인접:1, 아니면:0)\n",
    "-   NOX: 일산화질소 농도(단위: 0.1ppm)\n",
    "-   RM: 주택당 방의 수\n",
    "-   AGE: 1940년 이전에 건설된 주택의 비율\n",
    "-   DIS: 5개의 보스턴 직업고용센터와의 거리(가중 평균)\n",
    "-   RAD: 고속도로 접근성\n",
    "-   TAX: 재산세율\n",
    "-   PTRATIO: 학생/교사 비율\n",
    "-   B: 흑인 비율\n",
    "-   LSTAT: 하위 계층 비율\n",
    "    <br><br>\n",
    "-   **Target**\n",
    "    -   MEDV: 타운의 주택가격 중앙값(단위: 1,000달러)\n"
   ]
  },
  {
   "cell_type": "code",
   "execution_count": 2,
   "metadata": {
    "colab": {
     "base_uri": "https://localhost:8080/"
    },
    "executionInfo": {
     "elapsed": 3235,
     "status": "ok",
     "timestamp": 1747014466599,
     "user": {
      "displayName": "Sunghwan KIM",
      "userId": "06010856989212311727"
     },
     "user_tz": -540
    },
    "id": "5EinyA9GLRHw",
    "outputId": "c8b4bf3d-8d04-4e58-f980-7a80a9746b68"
   },
   "outputs": [
    {
     "name": "stdout",
     "output_type": "stream",
     "text": [
      "Collecting torchinfo\n",
      "  Downloading torchinfo-1.8.0-py3-none-any.whl.metadata (21 kB)\n",
      "Downloading torchinfo-1.8.0-py3-none-any.whl (23 kB)\n",
      "Installing collected packages: torchinfo\n",
      "Successfully installed torchinfo-1.8.0\n"
     ]
    }
   ],
   "source": [
    "%pip install torchinfo"
   ]
  },
  {
   "cell_type": "code",
   "execution_count": 1,
   "metadata": {
    "executionInfo": {
     "elapsed": 7,
     "status": "ok",
     "timestamp": 1747025471913,
     "user": {
      "displayName": "Sunghwan KIM",
      "userId": "06010856989212311727"
     },
     "user_tz": -540
    },
    "id": "2KmvF_coIUqf"
   },
   "outputs": [],
   "source": [
    "from sklearn.preprocessing import StandardScaler\n",
    "from sklearn.model_selection import train_test_split\n",
    "\n",
    "import pandas as pd\n",
    "import numpy as np\n",
    "import matplotlib.pyplot as plt\n",
    "\n",
    "import torch\n",
    "import torch.nn as nn # Layer들을 정의한 모듈\n",
    "from torch.utils.data import TensorDataset, DataLoader\n",
    "import torchinfo"
   ]
  },
  {
   "cell_type": "code",
   "execution_count": 99,
   "metadata": {
    "colab": {
     "base_uri": "https://localhost:8080/",
     "height": 35
    },
    "executionInfo": {
     "elapsed": 17,
     "status": "ok",
     "timestamp": 1747025472134,
     "user": {
      "displayName": "Sunghwan KIM",
      "userId": "06010856989212311727"
     },
     "user_tz": -540
    },
    "id": "sxpgmucXIUqf",
    "outputId": "eb8db7e8-5799-40d5-8609-02a1280d5af9"
   },
   "outputs": [
    {
     "data": {
      "application/vnd.google.colaboratory.intrinsic+json": {
       "type": "string"
      },
      "text/plain": [
       "'cpu'"
      ]
     },
     "execution_count": 99,
     "metadata": {},
     "output_type": "execute_result"
    }
   ],
   "source": [
    "device = \"cuda\" if torch.cuda.is_available() else \"cpu\"\n",
    "device"
   ]
  },
  {
   "cell_type": "code",
   "execution_count": 100,
   "metadata": {
    "colab": {
     "base_uri": "https://localhost:8080/"
    },
    "executionInfo": {
     "elapsed": 3586,
     "status": "ok",
     "timestamp": 1747025475890,
     "user": {
      "displayName": "Sunghwan KIM",
      "userId": "06010856989212311727"
     },
     "user_tz": -540
    },
    "id": "Kgpsnd4vQc24",
    "outputId": "84bdc560-bac7-40fc-f41d-96c10bc886d6"
   },
   "outputs": [
    {
     "name": "stdout",
     "output_type": "stream",
     "text": [
      "Drive already mounted at /content/drive; to attempt to forcibly remount, call drive.mount(\"/content/drive\", force_remount=True).\n"
     ]
    }
   ],
   "source": [
    "from google.colab import drive\n",
    "drive.mount('/content/drive')"
   ]
  },
  {
   "cell_type": "code",
   "execution_count": 101,
   "metadata": {
    "colab": {
     "base_uri": "https://localhost:8080/"
    },
    "executionInfo": {
     "elapsed": 6,
     "status": "ok",
     "timestamp": 1747025475891,
     "user": {
      "displayName": "Sunghwan KIM",
      "userId": "06010856989212311727"
     },
     "user_tz": -540
    },
    "id": "hM5s6llxQGJO",
    "outputId": "24c119ac-419e-4159-b0c7-c1ff122aeea7"
   },
   "outputs": [
    {
     "data": {
      "text/plain": [
       "(506, 14)"
      ]
     },
     "execution_count": 101,
     "metadata": {},
     "output_type": "execute_result"
    }
   ],
   "source": [
    "# Dataset 읽어오기\n",
    "data_path = \"data/boston_hosing.csv\"\n",
    "data_path = \"/content/drive/MyDrive/09_딥러닝 기본/data/boston_hosing.csv\"\n",
    "\n",
    "data = pd.read_csv(data_path)\n",
    "data.shape"
   ]
  },
  {
   "cell_type": "code",
   "execution_count": 102,
   "metadata": {
    "colab": {
     "base_uri": "https://localhost:8080/",
     "height": 206
    },
    "executionInfo": {
     "elapsed": 145,
     "status": "ok",
     "timestamp": 1747025476034,
     "user": {
      "displayName": "Sunghwan KIM",
      "userId": "06010856989212311727"
     },
     "user_tz": -540
    },
    "id": "hsuGlbCvQGGV",
    "outputId": "2841eafc-e5b5-448b-a7a8-8ccc1ad40997"
   },
   "outputs": [
    {
     "data": {
      "application/vnd.google.colaboratory.intrinsic+json": {
       "summary": "{\n  \"name\": \"data\",\n  \"rows\": 506,\n  \"fields\": [\n    {\n      \"column\": \"CRIM\",\n      \"properties\": {\n        \"dtype\": \"number\",\n        \"std\": 8.601545105332487,\n        \"min\": 0.00632,\n        \"max\": 88.9762,\n        \"num_unique_values\": 504,\n        \"samples\": [\n          0.09178,\n          0.05644,\n          0.10574\n        ],\n        \"semantic_type\": \"\",\n        \"description\": \"\"\n      }\n    },\n    {\n      \"column\": \"ZN\",\n      \"properties\": {\n        \"dtype\": \"number\",\n        \"std\": 23.322452994515036,\n        \"min\": 0.0,\n        \"max\": 100.0,\n        \"num_unique_values\": 26,\n        \"samples\": [\n          25.0,\n          30.0,\n          18.0\n        ],\n        \"semantic_type\": \"\",\n        \"description\": \"\"\n      }\n    },\n    {\n      \"column\": \"INDUS\",\n      \"properties\": {\n        \"dtype\": \"number\",\n        \"std\": 6.8603529408975845,\n        \"min\": 0.46,\n        \"max\": 27.74,\n        \"num_unique_values\": 76,\n        \"samples\": [\n          8.14,\n          1.47,\n          1.22\n        ],\n        \"semantic_type\": \"\",\n        \"description\": \"\"\n      }\n    },\n    {\n      \"column\": \"CHAS\",\n      \"properties\": {\n        \"dtype\": \"number\",\n        \"std\": 0.2539940413404118,\n        \"min\": 0.0,\n        \"max\": 1.0,\n        \"num_unique_values\": 2,\n        \"samples\": [\n          1.0,\n          0.0\n        ],\n        \"semantic_type\": \"\",\n        \"description\": \"\"\n      }\n    },\n    {\n      \"column\": \"NOX\",\n      \"properties\": {\n        \"dtype\": \"number\",\n        \"std\": 0.11587767566755611,\n        \"min\": 0.385,\n        \"max\": 0.871,\n        \"num_unique_values\": 81,\n        \"samples\": [\n          0.401,\n          0.538\n        ],\n        \"semantic_type\": \"\",\n        \"description\": \"\"\n      }\n    },\n    {\n      \"column\": \"RM\",\n      \"properties\": {\n        \"dtype\": \"number\",\n        \"std\": 0.7026171434153237,\n        \"min\": 3.561,\n        \"max\": 8.78,\n        \"num_unique_values\": 446,\n        \"samples\": [\n          6.849,\n          4.88\n        ],\n        \"semantic_type\": \"\",\n        \"description\": \"\"\n      }\n    },\n    {\n      \"column\": \"AGE\",\n      \"properties\": {\n        \"dtype\": \"number\",\n        \"std\": 28.148861406903638,\n        \"min\": 2.9,\n        \"max\": 100.0,\n        \"num_unique_values\": 356,\n        \"samples\": [\n          51.8,\n          33.8\n        ],\n        \"semantic_type\": \"\",\n        \"description\": \"\"\n      }\n    },\n    {\n      \"column\": \"DIS\",\n      \"properties\": {\n        \"dtype\": \"number\",\n        \"std\": 2.1057101266276104,\n        \"min\": 1.1296,\n        \"max\": 12.1265,\n        \"num_unique_values\": 412,\n        \"samples\": [\n          2.2955,\n          4.2515\n        ],\n        \"semantic_type\": \"\",\n        \"description\": \"\"\n      }\n    },\n    {\n      \"column\": \"RAD\",\n      \"properties\": {\n        \"dtype\": \"number\",\n        \"std\": 8.707259384239377,\n        \"min\": 1.0,\n        \"max\": 24.0,\n        \"num_unique_values\": 9,\n        \"samples\": [\n          7.0,\n          2.0\n        ],\n        \"semantic_type\": \"\",\n        \"description\": \"\"\n      }\n    },\n    {\n      \"column\": \"TAX\",\n      \"properties\": {\n        \"dtype\": \"number\",\n        \"std\": 168.53711605495926,\n        \"min\": 187.0,\n        \"max\": 711.0,\n        \"num_unique_values\": 66,\n        \"samples\": [\n          370.0,\n          666.0\n        ],\n        \"semantic_type\": \"\",\n        \"description\": \"\"\n      }\n    },\n    {\n      \"column\": \"PTRATIO\",\n      \"properties\": {\n        \"dtype\": \"number\",\n        \"std\": 2.164945523714446,\n        \"min\": 12.6,\n        \"max\": 22.0,\n        \"num_unique_values\": 46,\n        \"samples\": [\n          19.6,\n          15.6\n        ],\n        \"semantic_type\": \"\",\n        \"description\": \"\"\n      }\n    },\n    {\n      \"column\": \"B\",\n      \"properties\": {\n        \"dtype\": \"number\",\n        \"std\": 91.29486438415779,\n        \"min\": 0.32,\n        \"max\": 396.9,\n        \"num_unique_values\": 357,\n        \"samples\": [\n          396.24,\n          395.11\n        ],\n        \"semantic_type\": \"\",\n        \"description\": \"\"\n      }\n    },\n    {\n      \"column\": \"LSTAT\",\n      \"properties\": {\n        \"dtype\": \"number\",\n        \"std\": 7.141061511348571,\n        \"min\": 1.73,\n        \"max\": 37.97,\n        \"num_unique_values\": 455,\n        \"samples\": [\n          6.15,\n          4.32\n        ],\n        \"semantic_type\": \"\",\n        \"description\": \"\"\n      }\n    },\n    {\n      \"column\": \"MEDV\",\n      \"properties\": {\n        \"dtype\": \"number\",\n        \"std\": 9.19710408737982,\n        \"min\": 5.0,\n        \"max\": 50.0,\n        \"num_unique_values\": 229,\n        \"samples\": [\n          14.1,\n          22.5\n        ],\n        \"semantic_type\": \"\",\n        \"description\": \"\"\n      }\n    }\n  ]\n}",
       "type": "dataframe",
       "variable_name": "data"
      },
      "text/html": [
       "\n",
       "  <div id=\"df-6e2b2313-b8ec-4860-8f0e-3eadeb08b652\" class=\"colab-df-container\">\n",
       "    <div>\n",
       "<style scoped>\n",
       "    .dataframe tbody tr th:only-of-type {\n",
       "        vertical-align: middle;\n",
       "    }\n",
       "\n",
       "    .dataframe tbody tr th {\n",
       "        vertical-align: top;\n",
       "    }\n",
       "\n",
       "    .dataframe thead th {\n",
       "        text-align: right;\n",
       "    }\n",
       "</style>\n",
       "<table border=\"1\" class=\"dataframe\">\n",
       "  <thead>\n",
       "    <tr style=\"text-align: right;\">\n",
       "      <th></th>\n",
       "      <th>CRIM</th>\n",
       "      <th>ZN</th>\n",
       "      <th>INDUS</th>\n",
       "      <th>CHAS</th>\n",
       "      <th>NOX</th>\n",
       "      <th>RM</th>\n",
       "      <th>AGE</th>\n",
       "      <th>DIS</th>\n",
       "      <th>RAD</th>\n",
       "      <th>TAX</th>\n",
       "      <th>PTRATIO</th>\n",
       "      <th>B</th>\n",
       "      <th>LSTAT</th>\n",
       "      <th>MEDV</th>\n",
       "    </tr>\n",
       "  </thead>\n",
       "  <tbody>\n",
       "    <tr>\n",
       "      <th>0</th>\n",
       "      <td>0.00632</td>\n",
       "      <td>18.0</td>\n",
       "      <td>2.31</td>\n",
       "      <td>0.0</td>\n",
       "      <td>0.538</td>\n",
       "      <td>6.575</td>\n",
       "      <td>65.2</td>\n",
       "      <td>4.0900</td>\n",
       "      <td>1.0</td>\n",
       "      <td>296.0</td>\n",
       "      <td>15.3</td>\n",
       "      <td>396.90</td>\n",
       "      <td>4.98</td>\n",
       "      <td>24.0</td>\n",
       "    </tr>\n",
       "    <tr>\n",
       "      <th>1</th>\n",
       "      <td>0.02731</td>\n",
       "      <td>0.0</td>\n",
       "      <td>7.07</td>\n",
       "      <td>0.0</td>\n",
       "      <td>0.469</td>\n",
       "      <td>6.421</td>\n",
       "      <td>78.9</td>\n",
       "      <td>4.9671</td>\n",
       "      <td>2.0</td>\n",
       "      <td>242.0</td>\n",
       "      <td>17.8</td>\n",
       "      <td>396.90</td>\n",
       "      <td>9.14</td>\n",
       "      <td>21.6</td>\n",
       "    </tr>\n",
       "    <tr>\n",
       "      <th>2</th>\n",
       "      <td>0.02729</td>\n",
       "      <td>0.0</td>\n",
       "      <td>7.07</td>\n",
       "      <td>0.0</td>\n",
       "      <td>0.469</td>\n",
       "      <td>7.185</td>\n",
       "      <td>61.1</td>\n",
       "      <td>4.9671</td>\n",
       "      <td>2.0</td>\n",
       "      <td>242.0</td>\n",
       "      <td>17.8</td>\n",
       "      <td>392.83</td>\n",
       "      <td>4.03</td>\n",
       "      <td>34.7</td>\n",
       "    </tr>\n",
       "    <tr>\n",
       "      <th>3</th>\n",
       "      <td>0.03237</td>\n",
       "      <td>0.0</td>\n",
       "      <td>2.18</td>\n",
       "      <td>0.0</td>\n",
       "      <td>0.458</td>\n",
       "      <td>6.998</td>\n",
       "      <td>45.8</td>\n",
       "      <td>6.0622</td>\n",
       "      <td>3.0</td>\n",
       "      <td>222.0</td>\n",
       "      <td>18.7</td>\n",
       "      <td>394.63</td>\n",
       "      <td>2.94</td>\n",
       "      <td>33.4</td>\n",
       "    </tr>\n",
       "    <tr>\n",
       "      <th>4</th>\n",
       "      <td>0.06905</td>\n",
       "      <td>0.0</td>\n",
       "      <td>2.18</td>\n",
       "      <td>0.0</td>\n",
       "      <td>0.458</td>\n",
       "      <td>7.147</td>\n",
       "      <td>54.2</td>\n",
       "      <td>6.0622</td>\n",
       "      <td>3.0</td>\n",
       "      <td>222.0</td>\n",
       "      <td>18.7</td>\n",
       "      <td>396.90</td>\n",
       "      <td>5.33</td>\n",
       "      <td>36.2</td>\n",
       "    </tr>\n",
       "  </tbody>\n",
       "</table>\n",
       "</div>\n",
       "    <div class=\"colab-df-buttons\">\n",
       "\n",
       "  <div class=\"colab-df-container\">\n",
       "    <button class=\"colab-df-convert\" onclick=\"convertToInteractive('df-6e2b2313-b8ec-4860-8f0e-3eadeb08b652')\"\n",
       "            title=\"Convert this dataframe to an interactive table.\"\n",
       "            style=\"display:none;\">\n",
       "\n",
       "  <svg xmlns=\"http://www.w3.org/2000/svg\" height=\"24px\" viewBox=\"0 -960 960 960\">\n",
       "    <path d=\"M120-120v-720h720v720H120Zm60-500h600v-160H180v160Zm220 220h160v-160H400v160Zm0 220h160v-160H400v160ZM180-400h160v-160H180v160Zm440 0h160v-160H620v160ZM180-180h160v-160H180v160Zm440 0h160v-160H620v160Z\"/>\n",
       "  </svg>\n",
       "    </button>\n",
       "\n",
       "  <style>\n",
       "    .colab-df-container {\n",
       "      display:flex;\n",
       "      gap: 12px;\n",
       "    }\n",
       "\n",
       "    .colab-df-convert {\n",
       "      background-color: #E8F0FE;\n",
       "      border: none;\n",
       "      border-radius: 50%;\n",
       "      cursor: pointer;\n",
       "      display: none;\n",
       "      fill: #1967D2;\n",
       "      height: 32px;\n",
       "      padding: 0 0 0 0;\n",
       "      width: 32px;\n",
       "    }\n",
       "\n",
       "    .colab-df-convert:hover {\n",
       "      background-color: #E2EBFA;\n",
       "      box-shadow: 0px 1px 2px rgba(60, 64, 67, 0.3), 0px 1px 3px 1px rgba(60, 64, 67, 0.15);\n",
       "      fill: #174EA6;\n",
       "    }\n",
       "\n",
       "    .colab-df-buttons div {\n",
       "      margin-bottom: 4px;\n",
       "    }\n",
       "\n",
       "    [theme=dark] .colab-df-convert {\n",
       "      background-color: #3B4455;\n",
       "      fill: #D2E3FC;\n",
       "    }\n",
       "\n",
       "    [theme=dark] .colab-df-convert:hover {\n",
       "      background-color: #434B5C;\n",
       "      box-shadow: 0px 1px 3px 1px rgba(0, 0, 0, 0.15);\n",
       "      filter: drop-shadow(0px 1px 2px rgba(0, 0, 0, 0.3));\n",
       "      fill: #FFFFFF;\n",
       "    }\n",
       "  </style>\n",
       "\n",
       "    <script>\n",
       "      const buttonEl =\n",
       "        document.querySelector('#df-6e2b2313-b8ec-4860-8f0e-3eadeb08b652 button.colab-df-convert');\n",
       "      buttonEl.style.display =\n",
       "        google.colab.kernel.accessAllowed ? 'block' : 'none';\n",
       "\n",
       "      async function convertToInteractive(key) {\n",
       "        const element = document.querySelector('#df-6e2b2313-b8ec-4860-8f0e-3eadeb08b652');\n",
       "        const dataTable =\n",
       "          await google.colab.kernel.invokeFunction('convertToInteractive',\n",
       "                                                    [key], {});\n",
       "        if (!dataTable) return;\n",
       "\n",
       "        const docLinkHtml = 'Like what you see? Visit the ' +\n",
       "          '<a target=\"_blank\" href=https://colab.research.google.com/notebooks/data_table.ipynb>data table notebook</a>'\n",
       "          + ' to learn more about interactive tables.';\n",
       "        element.innerHTML = '';\n",
       "        dataTable['output_type'] = 'display_data';\n",
       "        await google.colab.output.renderOutput(dataTable, element);\n",
       "        const docLink = document.createElement('div');\n",
       "        docLink.innerHTML = docLinkHtml;\n",
       "        element.appendChild(docLink);\n",
       "      }\n",
       "    </script>\n",
       "  </div>\n",
       "\n",
       "\n",
       "    <div id=\"df-e68c472d-9395-4f9a-8327-aba6320143d4\">\n",
       "      <button class=\"colab-df-quickchart\" onclick=\"quickchart('df-e68c472d-9395-4f9a-8327-aba6320143d4')\"\n",
       "                title=\"Suggest charts\"\n",
       "                style=\"display:none;\">\n",
       "\n",
       "<svg xmlns=\"http://www.w3.org/2000/svg\" height=\"24px\"viewBox=\"0 0 24 24\"\n",
       "     width=\"24px\">\n",
       "    <g>\n",
       "        <path d=\"M19 3H5c-1.1 0-2 .9-2 2v14c0 1.1.9 2 2 2h14c1.1 0 2-.9 2-2V5c0-1.1-.9-2-2-2zM9 17H7v-7h2v7zm4 0h-2V7h2v10zm4 0h-2v-4h2v4z\"/>\n",
       "    </g>\n",
       "</svg>\n",
       "      </button>\n",
       "\n",
       "<style>\n",
       "  .colab-df-quickchart {\n",
       "      --bg-color: #E8F0FE;\n",
       "      --fill-color: #1967D2;\n",
       "      --hover-bg-color: #E2EBFA;\n",
       "      --hover-fill-color: #174EA6;\n",
       "      --disabled-fill-color: #AAA;\n",
       "      --disabled-bg-color: #DDD;\n",
       "  }\n",
       "\n",
       "  [theme=dark] .colab-df-quickchart {\n",
       "      --bg-color: #3B4455;\n",
       "      --fill-color: #D2E3FC;\n",
       "      --hover-bg-color: #434B5C;\n",
       "      --hover-fill-color: #FFFFFF;\n",
       "      --disabled-bg-color: #3B4455;\n",
       "      --disabled-fill-color: #666;\n",
       "  }\n",
       "\n",
       "  .colab-df-quickchart {\n",
       "    background-color: var(--bg-color);\n",
       "    border: none;\n",
       "    border-radius: 50%;\n",
       "    cursor: pointer;\n",
       "    display: none;\n",
       "    fill: var(--fill-color);\n",
       "    height: 32px;\n",
       "    padding: 0;\n",
       "    width: 32px;\n",
       "  }\n",
       "\n",
       "  .colab-df-quickchart:hover {\n",
       "    background-color: var(--hover-bg-color);\n",
       "    box-shadow: 0 1px 2px rgba(60, 64, 67, 0.3), 0 1px 3px 1px rgba(60, 64, 67, 0.15);\n",
       "    fill: var(--button-hover-fill-color);\n",
       "  }\n",
       "\n",
       "  .colab-df-quickchart-complete:disabled,\n",
       "  .colab-df-quickchart-complete:disabled:hover {\n",
       "    background-color: var(--disabled-bg-color);\n",
       "    fill: var(--disabled-fill-color);\n",
       "    box-shadow: none;\n",
       "  }\n",
       "\n",
       "  .colab-df-spinner {\n",
       "    border: 2px solid var(--fill-color);\n",
       "    border-color: transparent;\n",
       "    border-bottom-color: var(--fill-color);\n",
       "    animation:\n",
       "      spin 1s steps(1) infinite;\n",
       "  }\n",
       "\n",
       "  @keyframes spin {\n",
       "    0% {\n",
       "      border-color: transparent;\n",
       "      border-bottom-color: var(--fill-color);\n",
       "      border-left-color: var(--fill-color);\n",
       "    }\n",
       "    20% {\n",
       "      border-color: transparent;\n",
       "      border-left-color: var(--fill-color);\n",
       "      border-top-color: var(--fill-color);\n",
       "    }\n",
       "    30% {\n",
       "      border-color: transparent;\n",
       "      border-left-color: var(--fill-color);\n",
       "      border-top-color: var(--fill-color);\n",
       "      border-right-color: var(--fill-color);\n",
       "    }\n",
       "    40% {\n",
       "      border-color: transparent;\n",
       "      border-right-color: var(--fill-color);\n",
       "      border-top-color: var(--fill-color);\n",
       "    }\n",
       "    60% {\n",
       "      border-color: transparent;\n",
       "      border-right-color: var(--fill-color);\n",
       "    }\n",
       "    80% {\n",
       "      border-color: transparent;\n",
       "      border-right-color: var(--fill-color);\n",
       "      border-bottom-color: var(--fill-color);\n",
       "    }\n",
       "    90% {\n",
       "      border-color: transparent;\n",
       "      border-bottom-color: var(--fill-color);\n",
       "    }\n",
       "  }\n",
       "</style>\n",
       "\n",
       "      <script>\n",
       "        async function quickchart(key) {\n",
       "          const quickchartButtonEl =\n",
       "            document.querySelector('#' + key + ' button');\n",
       "          quickchartButtonEl.disabled = true;  // To prevent multiple clicks.\n",
       "          quickchartButtonEl.classList.add('colab-df-spinner');\n",
       "          try {\n",
       "            const charts = await google.colab.kernel.invokeFunction(\n",
       "                'suggestCharts', [key], {});\n",
       "          } catch (error) {\n",
       "            console.error('Error during call to suggestCharts:', error);\n",
       "          }\n",
       "          quickchartButtonEl.classList.remove('colab-df-spinner');\n",
       "          quickchartButtonEl.classList.add('colab-df-quickchart-complete');\n",
       "        }\n",
       "        (() => {\n",
       "          let quickchartButtonEl =\n",
       "            document.querySelector('#df-e68c472d-9395-4f9a-8327-aba6320143d4 button');\n",
       "          quickchartButtonEl.style.display =\n",
       "            google.colab.kernel.accessAllowed ? 'block' : 'none';\n",
       "        })();\n",
       "      </script>\n",
       "    </div>\n",
       "\n",
       "    </div>\n",
       "  </div>\n"
      ],
      "text/plain": [
       "      CRIM    ZN  INDUS  CHAS    NOX     RM   AGE     DIS  RAD    TAX  \\\n",
       "0  0.00632  18.0   2.31   0.0  0.538  6.575  65.2  4.0900  1.0  296.0   \n",
       "1  0.02731   0.0   7.07   0.0  0.469  6.421  78.9  4.9671  2.0  242.0   \n",
       "2  0.02729   0.0   7.07   0.0  0.469  7.185  61.1  4.9671  2.0  242.0   \n",
       "3  0.03237   0.0   2.18   0.0  0.458  6.998  45.8  6.0622  3.0  222.0   \n",
       "4  0.06905   0.0   2.18   0.0  0.458  7.147  54.2  6.0622  3.0  222.0   \n",
       "\n",
       "   PTRATIO       B  LSTAT  MEDV  \n",
       "0     15.3  396.90   4.98  24.0  \n",
       "1     17.8  396.90   9.14  21.6  \n",
       "2     17.8  392.83   4.03  34.7  \n",
       "3     18.7  394.63   2.94  33.4  \n",
       "4     18.7  396.90   5.33  36.2  "
      ]
     },
     "execution_count": 102,
     "metadata": {},
     "output_type": "execute_result"
    }
   ],
   "source": [
    "data.head()"
   ]
  },
  {
   "cell_type": "code",
   "execution_count": 103,
   "metadata": {
    "executionInfo": {
     "elapsed": 1,
     "status": "ok",
     "timestamp": 1747025476058,
     "user": {
      "displayName": "Sunghwan KIM",
      "userId": "06010856989212311727"
     },
     "user_tz": -540
    },
    "id": "K9cZiyWKQGEj"
   },
   "outputs": [],
   "source": [
    "X = data.drop(columns='MEDV').values\n",
    "y = data['MEDV'].values.reshape(-1, 1)"
   ]
  },
  {
   "cell_type": "code",
   "execution_count": 104,
   "metadata": {
    "colab": {
     "base_uri": "https://localhost:8080/"
    },
    "executionInfo": {
     "elapsed": 4,
     "status": "ok",
     "timestamp": 1747025476064,
     "user": {
      "displayName": "Sunghwan KIM",
      "userId": "06010856989212311727"
     },
     "user_tz": -540
    },
    "id": "qibSl9IpQGBx",
    "outputId": "53057357-1699-4394-9e85-75e57712d27e"
   },
   "outputs": [
    {
     "data": {
      "text/plain": [
       "((404, 13), (102, 13), (404, 1), (102, 1))"
      ]
     },
     "execution_count": 104,
     "metadata": {},
     "output_type": "execute_result"
    }
   ],
   "source": [
    "# train/test set 분리\n",
    "X_train, X_test, y_train, y_test = train_test_split(\n",
    "    X, y, test_size=0.2, random_state=0\n",
    ")\n",
    "X_train.shape, X_test.shape, y_train.shape, y_test.shape\n",
    "# ((404, 13), (102, 13), (404, 1), (102, 1))"
   ]
  },
  {
   "cell_type": "code",
   "execution_count": 105,
   "metadata": {
    "executionInfo": {
     "elapsed": 36,
     "status": "ok",
     "timestamp": 1747025476101,
     "user": {
      "displayName": "Sunghwan KIM",
      "userId": "06010856989212311727"
     },
     "user_tz": -540
    },
    "id": "zKKItGWMIUqf"
   },
   "outputs": [],
   "source": [
    "# Feature Scaling - Standard Scaler\n",
    "scaler = StandardScaler()\n",
    "X_train_scaled = scaler.fit_transform(X_train)\n",
    "X_test_scaled = scaler.transform(X_test)"
   ]
  },
  {
   "cell_type": "code",
   "execution_count": 106,
   "metadata": {
    "colab": {
     "base_uri": "https://localhost:8080/"
    },
    "executionInfo": {
     "elapsed": 4,
     "status": "ok",
     "timestamp": 1747025476106,
     "user": {
      "displayName": "Sunghwan KIM",
      "userId": "06010856989212311727"
     },
     "user_tz": -540
    },
    "id": "xf8blSTpdnQI",
    "outputId": "a5f1e9d8-5039-47de-c070-727569583adf"
   },
   "outputs": [
    {
     "data": {
      "text/plain": [
       "dtype('float64')"
      ]
     },
     "execution_count": 106,
     "metadata": {},
     "output_type": "execute_result"
    }
   ],
   "source": [
    "X_train_scaled.dtype"
   ]
  },
  {
   "cell_type": "code",
   "execution_count": 107,
   "metadata": {
    "executionInfo": {
     "elapsed": 4,
     "status": "ok",
     "timestamp": 1747025476110,
     "user": {
      "displayName": "Sunghwan KIM",
      "userId": "06010856989212311727"
     },
     "user_tz": -540
    },
    "id": "XPu0tloZSfNO"
   },
   "outputs": [],
   "source": [
    "###############\n",
    "# Dataset 생성\n",
    "# X, y가 ndarray 타입으로 메모리에 있는 경우 => TensorDataset\n",
    "###############\n",
    "trainset = TensorDataset(\n",
    "    #모델 파파미터와 타입을 동일하게 설정.\n",
    "    torch.tensor(X_train_scaled, dtype=torch.float32),\n",
    "    torch.tensor(y_train, dtype=torch.float32)\n",
    ")\n",
    "testset = TensorDataset(\n",
    "    torch.tensor(X_test_scaled, dtype=torch.float32),\n",
    "    torch.tensor(y_test, dtype=torch.float32)\n",
    ")"
   ]
  },
  {
   "cell_type": "code",
   "execution_count": 108,
   "metadata": {
    "colab": {
     "base_uri": "https://localhost:8080/"
    },
    "executionInfo": {
     "elapsed": 4,
     "status": "ok",
     "timestamp": 1747025476111,
     "user": {
      "displayName": "Sunghwan KIM",
      "userId": "06010856989212311727"
     },
     "user_tz": -540
    },
    "id": "ZmAz_lhlSfJ7",
    "outputId": "b7b8112a-e204-4c1d-f3ca-c7ce3081e9cc"
   },
   "outputs": [
    {
     "data": {
      "text/plain": [
       "(404, 102)"
      ]
     },
     "execution_count": 108,
     "metadata": {},
     "output_type": "execute_result"
    }
   ],
   "source": [
    "len(trainset), len(testset)"
   ]
  },
  {
   "cell_type": "code",
   "execution_count": 109,
   "metadata": {
    "colab": {
     "base_uri": "https://localhost:8080/"
    },
    "executionInfo": {
     "elapsed": 15,
     "status": "ok",
     "timestamp": 1747025476127,
     "user": {
      "displayName": "Sunghwan KIM",
      "userId": "06010856989212311727"
     },
     "user_tz": -540
    },
    "id": "A-9vWNBzSfHT",
    "outputId": "487821a3-f795-405c-cac2-47f9bfa5f5f7"
   },
   "outputs": [
    {
     "data": {
      "text/plain": [
       "(tensor([-0.3726, -0.4996, -0.7049,  3.6645, -0.4249,  0.9357,  0.6937, -0.4372,\n",
       "         -0.1622, -0.5617, -0.4846,  0.3717, -0.4110]),\n",
       " tensor([26.7000]))"
      ]
     },
     "execution_count": 109,
     "metadata": {},
     "output_type": "execute_result"
    }
   ],
   "source": [
    "trainset[0]"
   ]
  },
  {
   "cell_type": "code",
   "execution_count": 110,
   "metadata": {
    "executionInfo": {
     "elapsed": 1,
     "status": "ok",
     "timestamp": 1747025476136,
     "user": {
      "displayName": "Sunghwan KIM",
      "userId": "06010856989212311727"
     },
     "user_tz": -540
    },
    "id": "zVChfqOGSfE6"
   },
   "outputs": [],
   "source": [
    "##################\n",
    "# DataLoader 생성\n",
    "##################\n",
    "train_loader = DataLoader(\n",
    "    trainset, batch_size=100, shuffle=True, drop_last=True\n",
    ")\n",
    "test_loader = DataLoader(testset, batch_size=102)"
   ]
  },
  {
   "cell_type": "code",
   "execution_count": 111,
   "metadata": {
    "colab": {
     "base_uri": "https://localhost:8080/"
    },
    "executionInfo": {
     "elapsed": 14,
     "status": "ok",
     "timestamp": 1747025476151,
     "user": {
      "displayName": "Sunghwan KIM",
      "userId": "06010856989212311727"
     },
     "user_tz": -540
    },
    "id": "m00pFCCvUFJG",
    "outputId": "e431fea4-8c6c-40c4-8379-1cc26f1cc194"
   },
   "outputs": [
    {
     "data": {
      "text/plain": [
       "(4, 1)"
      ]
     },
     "execution_count": 111,
     "metadata": {},
     "output_type": "execute_result"
    }
   ],
   "source": [
    "# epoch당 step수\n",
    "len(train_loader), len(test_loader)"
   ]
  },
  {
   "cell_type": "code",
   "execution_count": 5,
   "metadata": {
    "executionInfo": {
     "elapsed": 15,
     "status": "ok",
     "timestamp": 1747025476220,
     "user": {
      "displayName": "Sunghwan KIM",
      "userId": "06010856989212311727"
     },
     "user_tz": -540
    },
    "id": "laZyk5EuSfBw"
   },
   "outputs": [],
   "source": [
    "###################\n",
    "# 모델 정의\n",
    "###################\n",
    "class BostonModel(nn.Module):\n",
    "    def __init__(self):\n",
    "        super().__init__()\n",
    "        self.lr1 = nn.Linear(13, 32) # 13(in_features): X의 feature개수\n",
    "        self.lr2 = nn.Linear(32, 16)\n",
    "        self.lr3 = nn.Linear(16, 1)  # 1 (out_features): 예측할 y의 개수(집값)\n",
    "\n",
    "    def forward(self, X):\n",
    "        # lr1 -> relu -> lr2 -> relu -> lr3\n",
    "        X = self.lr1(X)\n",
    "        X = nn.ReLU()(X)\n",
    "        X = self.lr2(X)\n",
    "        X = nn.ReLU()(X)\n",
    "        X = self.lr3(X)\n",
    "        return X"
   ]
  },
  {
   "cell_type": "code",
   "execution_count": 6,
   "metadata": {
    "colab": {
     "base_uri": "https://localhost:8080/"
    },
    "executionInfo": {
     "elapsed": 9,
     "status": "ok",
     "timestamp": 1747025477441,
     "user": {
      "displayName": "Sunghwan KIM",
      "userId": "06010856989212311727"
     },
     "user_tz": -540
    },
    "id": "5QYW-AmWSe5i",
    "outputId": "fe343d74-d2ae-4832-8824-0611c103be1d"
   },
   "outputs": [
    {
     "data": {
      "text/plain": [
       "==========================================================================================\n",
       "Layer (type:depth-idx)                   Output Shape              Param #\n",
       "==========================================================================================\n",
       "BostonModel                              [100, 1]                  --\n",
       "├─Linear: 1-1                            [100, 32]                 448\n",
       "├─Linear: 1-2                            [100, 16]                 528\n",
       "├─Linear: 1-3                            [100, 1]                  17\n",
       "==========================================================================================\n",
       "Total params: 993\n",
       "Trainable params: 993\n",
       "Non-trainable params: 0\n",
       "Total mult-adds (Units.MEGABYTES): 0.10\n",
       "==========================================================================================\n",
       "Input size (MB): 0.01\n",
       "Forward/backward pass size (MB): 0.04\n",
       "Params size (MB): 0.00\n",
       "Estimated Total Size (MB): 0.05\n",
       "=========================================================================================="
      ]
     },
     "execution_count": 6,
     "metadata": {},
     "output_type": "execute_result"
    }
   ],
   "source": [
    "boston_model = BostonModel()\n",
    "torchinfo.summary(boston_model, (100, 13))\n",
    "# (100:batch_size, 13: feature 수)"
   ]
  },
  {
   "cell_type": "code",
   "execution_count": null,
   "metadata": {
    "executionInfo": {
     "elapsed": 3,
     "status": "ok",
     "timestamp": 1747025478657,
     "user": {
      "displayName": "Sunghwan KIM",
      "userId": "06010856989212311727"
     },
     "user_tz": -540
    },
    "id": "dcMdITMJW79V"
   },
   "outputs": [],
   "source": [
    "#################\n",
    "# 학습\n",
    "#################\n",
    "# 필요할 객체들 생성 - model, loss함수, optimizer\n",
    "# device로 옮길 대상: model, x, y\n",
    "boston_model = BostonModel()\n",
    "boston_model = boston_model.to(device)\n",
    "loss_fn = nn.MSELoss() # 회귀의 loss함수 -> MSE\n",
    "optimizer = torch.optim.RMSprop(boston_model.parameters(), lr=0.01)\n",
    "# 옵티마이저 파라미터(모델의 파라미터, 학습률)"
   ]
  },
  {
   "cell_type": "code",
   "execution_count": null,
   "metadata": {
    "colab": {
     "base_uri": "https://localhost:8080/"
    },
    "executionInfo": {
     "elapsed": 11670,
     "status": "ok",
     "timestamp": 1747025490819,
     "user": {
      "displayName": "Sunghwan KIM",
      "userId": "06010856989212311727"
     },
     "user_tz": -540
    },
    "id": "EHur8ravW767",
    "outputId": "a0b582da-8924-4a3d-ead8-319d12a8a654"
   },
   "outputs": [
    {
     "name": "stdout",
     "output_type": "stream",
     "text": [
      "[1/1000] train loss: 570.67377, valid loss: 527.22186\n",
      "[2/1000] train loss: 527.82892, valid loss: 466.85306\n",
      "[3/1000] train loss: 446.39790, valid loss: 364.62421\n",
      "[4/1000] train loss: 324.10976, valid loss: 229.58211\n",
      "[5/1000] train loss: 174.44072, valid loss: 120.73502\n",
      "[6/1000] train loss: 92.00523, valid loss: 117.88840\n",
      "[7/1000] train loss: 101.57580, valid loss: 105.06705\n",
      "[8/1000] train loss: 68.12966, valid loss: 61.09102\n",
      "[9/1000] train loss: 33.15622, valid loss: 53.09137\n",
      "[10/1000] train loss: 30.89159, valid loss: 52.40312\n",
      "[11/1000] train loss: 27.53714, valid loss: 44.63232\n",
      "[12/1000] train loss: 20.89509, valid loss: 40.67122\n",
      "[13/1000] train loss: 21.23802, valid loss: 40.23915\n",
      "[14/1000] train loss: 20.79331, valid loss: 37.13201\n",
      "[15/1000] train loss: 17.74723, valid loss: 34.23205\n",
      "[16/1000] train loss: 16.71534, valid loss: 33.16691\n",
      "[17/1000] train loss: 15.81131, valid loss: 31.48139\n",
      "[18/1000] train loss: 14.69502, valid loss: 30.22983\n",
      "[19/1000] train loss: 14.31299, valid loss: 29.18543\n",
      "[20/1000] train loss: 13.79659, valid loss: 28.37613\n",
      "[21/1000] train loss: 13.12554, valid loss: 28.02201\n",
      "[22/1000] train loss: 12.25966, valid loss: 27.63544\n",
      "[23/1000] train loss: 12.17288, valid loss: 27.53360\n",
      "[24/1000] train loss: 11.95608, valid loss: 26.88290\n",
      "[25/1000] train loss: 11.63628, valid loss: 26.19909\n",
      "[26/1000] train loss: 11.27860, valid loss: 25.93201\n",
      "[27/1000] train loss: 11.06480, valid loss: 25.38320\n",
      "[28/1000] train loss: 10.82177, valid loss: 24.91941\n",
      "[29/1000] train loss: 10.68291, valid loss: 25.18774\n",
      "[30/1000] train loss: 10.18273, valid loss: 24.49011\n",
      "[31/1000] train loss: 10.18430, valid loss: 23.69684\n",
      "[32/1000] train loss: 10.00908, valid loss: 23.63013\n",
      "[33/1000] train loss: 9.93705, valid loss: 23.88979\n",
      "[34/1000] train loss: 9.77531, valid loss: 23.24334\n",
      "[35/1000] train loss: 9.41176, valid loss: 23.49957\n",
      "[36/1000] train loss: 9.41122, valid loss: 23.59568\n",
      "[37/1000] train loss: 9.33058, valid loss: 23.18152\n",
      "[38/1000] train loss: 9.15763, valid loss: 22.79086\n",
      "[39/1000] train loss: 9.11899, valid loss: 22.44191\n",
      "[40/1000] train loss: 9.01968, valid loss: 22.66363\n",
      "[41/1000] train loss: 8.91945, valid loss: 22.72789\n",
      "[42/1000] train loss: 8.84507, valid loss: 22.42966\n",
      "[43/1000] train loss: 8.72444, valid loss: 22.31432\n",
      "[44/1000] train loss: 8.64935, valid loss: 22.21880\n",
      "[45/1000] train loss: 8.55926, valid loss: 22.40339\n",
      "[46/1000] train loss: 8.51619, valid loss: 21.92175\n",
      "[47/1000] train loss: 8.42081, valid loss: 21.86151\n",
      "[48/1000] train loss: 8.40302, valid loss: 22.11265\n",
      "[49/1000] train loss: 8.37185, valid loss: 21.88339\n",
      "[50/1000] train loss: 8.30359, valid loss: 21.96595\n",
      "[51/1000] train loss: 8.21845, valid loss: 21.86897\n",
      "[52/1000] train loss: 8.09887, valid loss: 21.72381\n",
      "[53/1000] train loss: 8.11138, valid loss: 21.59900\n",
      "[54/1000] train loss: 8.07378, valid loss: 21.54251\n",
      "[55/1000] train loss: 8.06364, valid loss: 22.02523\n",
      "[56/1000] train loss: 7.96085, valid loss: 21.37426\n",
      "[57/1000] train loss: 7.95917, valid loss: 21.73111\n",
      "[58/1000] train loss: 7.81401, valid loss: 21.65186\n",
      "[59/1000] train loss: 7.83252, valid loss: 21.08772\n",
      "[60/1000] train loss: 7.78198, valid loss: 21.34284\n",
      "[61/1000] train loss: 7.70116, valid loss: 21.00731\n",
      "[62/1000] train loss: 7.70010, valid loss: 21.19931\n",
      "[63/1000] train loss: 7.39235, valid loss: 21.56819\n",
      "[64/1000] train loss: 7.51293, valid loss: 21.27479\n",
      "[65/1000] train loss: 7.53411, valid loss: 20.75013\n",
      "[66/1000] train loss: 7.49364, valid loss: 21.04097\n",
      "[67/1000] train loss: 7.42122, valid loss: 21.57292\n",
      "[68/1000] train loss: 7.35934, valid loss: 20.86779\n",
      "[69/1000] train loss: 7.24111, valid loss: 20.70725\n",
      "[70/1000] train loss: 7.28948, valid loss: 21.17001\n",
      "[71/1000] train loss: 7.22535, valid loss: 20.67192\n",
      "[72/1000] train loss: 7.17497, valid loss: 20.75523\n",
      "[73/1000] train loss: 7.16068, valid loss: 20.90227\n",
      "[74/1000] train loss: 7.03095, valid loss: 20.55744\n",
      "[75/1000] train loss: 7.09344, valid loss: 20.62252\n",
      "[76/1000] train loss: 6.98187, valid loss: 20.64700\n",
      "[77/1000] train loss: 6.94836, valid loss: 20.54044\n",
      "[78/1000] train loss: 6.97764, valid loss: 20.53794\n",
      "[79/1000] train loss: 6.92309, valid loss: 20.34422\n",
      "[80/1000] train loss: 6.92441, valid loss: 20.29347\n",
      "[81/1000] train loss: 6.83601, valid loss: 20.41989\n",
      "[82/1000] train loss: 6.64432, valid loss: 20.38255\n",
      "[83/1000] train loss: 6.79690, valid loss: 20.37789\n",
      "[84/1000] train loss: 6.77174, valid loss: 20.30581\n",
      "[85/1000] train loss: 6.71711, valid loss: 20.37778\n",
      "[86/1000] train loss: 6.78759, valid loss: 20.80238\n",
      "[87/1000] train loss: 6.71336, valid loss: 19.79162\n",
      "[88/1000] train loss: 6.56023, valid loss: 19.97591\n",
      "[89/1000] train loss: 6.66023, valid loss: 20.12013\n",
      "[90/1000] train loss: 6.55570, valid loss: 20.11856\n",
      "[91/1000] train loss: 6.45000, valid loss: 19.90669\n",
      "[92/1000] train loss: 6.51729, valid loss: 19.69875\n",
      "[93/1000] train loss: 6.50531, valid loss: 19.41977\n",
      "[94/1000] train loss: 6.39393, valid loss: 20.26390\n",
      "[95/1000] train loss: 6.46869, valid loss: 20.02420\n",
      "[96/1000] train loss: 6.39069, valid loss: 19.68495\n",
      "[97/1000] train loss: 6.39946, valid loss: 19.33427\n",
      "[98/1000] train loss: 6.33378, valid loss: 19.96689\n",
      "[99/1000] train loss: 6.41864, valid loss: 20.23787\n",
      "[100/1000] train loss: 6.35794, valid loss: 18.91971\n",
      "[101/1000] train loss: 6.38200, valid loss: 19.28859\n",
      "[102/1000] train loss: 6.22015, valid loss: 20.40855\n",
      "[103/1000] train loss: 5.84902, valid loss: 19.45811\n",
      "[104/1000] train loss: 6.21478, valid loss: 19.01735\n",
      "[105/1000] train loss: 6.32399, valid loss: 19.35446\n",
      "[106/1000] train loss: 6.15298, valid loss: 19.68836\n",
      "[107/1000] train loss: 6.26226, valid loss: 19.77923\n",
      "[108/1000] train loss: 6.17630, valid loss: 19.01026\n",
      "[109/1000] train loss: 6.09156, valid loss: 19.07200\n",
      "[110/1000] train loss: 6.09172, valid loss: 19.62048\n",
      "[111/1000] train loss: 5.97912, valid loss: 19.14145\n",
      "[112/1000] train loss: 6.01390, valid loss: 19.01492\n",
      "[113/1000] train loss: 5.95600, valid loss: 19.28012\n",
      "[114/1000] train loss: 5.95509, valid loss: 19.33977\n",
      "[115/1000] train loss: 5.92495, valid loss: 19.23442\n",
      "[116/1000] train loss: 5.88834, valid loss: 19.25409\n",
      "[117/1000] train loss: 5.86634, valid loss: 19.18853\n",
      "[118/1000] train loss: 5.84675, valid loss: 19.36290\n",
      "[119/1000] train loss: 5.93853, valid loss: 19.15080\n",
      "[120/1000] train loss: 5.74688, valid loss: 19.07087\n",
      "[121/1000] train loss: 5.82375, valid loss: 19.22532\n",
      "[122/1000] train loss: 5.78662, valid loss: 18.94512\n",
      "[123/1000] train loss: 5.71049, valid loss: 18.80653\n",
      "[124/1000] train loss: 5.61970, valid loss: 18.68371\n",
      "[125/1000] train loss: 5.61274, valid loss: 19.40558\n",
      "[126/1000] train loss: 5.66288, valid loss: 19.19277\n",
      "[127/1000] train loss: 5.74586, valid loss: 18.47552\n",
      "[128/1000] train loss: 5.75010, valid loss: 19.34055\n",
      "[129/1000] train loss: 5.69288, valid loss: 18.74289\n",
      "[130/1000] train loss: 5.45500, valid loss: 18.62788\n",
      "[131/1000] train loss: 5.67631, valid loss: 19.04922\n",
      "[132/1000] train loss: 5.56750, valid loss: 18.87496\n",
      "[133/1000] train loss: 5.59219, valid loss: 18.87558\n",
      "[134/1000] train loss: 5.60664, valid loss: 18.68522\n",
      "[135/1000] train loss: 5.22741, valid loss: 19.15748\n",
      "[136/1000] train loss: 5.17222, valid loss: 18.68902\n",
      "[137/1000] train loss: 5.56333, valid loss: 18.49716\n",
      "[138/1000] train loss: 5.54774, valid loss: 18.48763\n",
      "[139/1000] train loss: 5.43374, valid loss: 18.70086\n",
      "[140/1000] train loss: 5.49918, valid loss: 19.00934\n",
      "[141/1000] train loss: 5.44868, valid loss: 18.78103\n",
      "[142/1000] train loss: 5.40858, valid loss: 18.65336\n",
      "[143/1000] train loss: 5.43223, valid loss: 18.97874\n",
      "[144/1000] train loss: 5.30542, valid loss: 18.40781\n",
      "[145/1000] train loss: 5.44614, valid loss: 18.82153\n",
      "[146/1000] train loss: 5.45625, valid loss: 19.18586\n",
      "[147/1000] train loss: 5.49454, valid loss: 18.35373\n",
      "[148/1000] train loss: 5.38126, valid loss: 19.03173\n",
      "[149/1000] train loss: 5.36231, valid loss: 18.70044\n",
      "[150/1000] train loss: 5.37514, valid loss: 18.49053\n",
      "[151/1000] train loss: 5.44080, valid loss: 19.06839\n",
      "[152/1000] train loss: 5.30478, valid loss: 18.27069\n",
      "[153/1000] train loss: 5.31248, valid loss: 18.72879\n",
      "[154/1000] train loss: 5.16768, valid loss: 18.37164\n",
      "[155/1000] train loss: 5.25120, valid loss: 18.37023\n",
      "[156/1000] train loss: 5.32274, valid loss: 19.17113\n",
      "[157/1000] train loss: 5.24315, valid loss: 18.49892\n",
      "[158/1000] train loss: 4.94539, valid loss: 18.21224\n",
      "[159/1000] train loss: 5.29726, valid loss: 18.26083\n",
      "[160/1000] train loss: 5.23238, valid loss: 18.56283\n",
      "[161/1000] train loss: 5.23281, valid loss: 18.33454\n",
      "[162/1000] train loss: 5.27679, valid loss: 18.94881\n",
      "[163/1000] train loss: 5.06270, valid loss: 18.47708\n",
      "[164/1000] train loss: 5.32606, valid loss: 17.98252\n",
      "[165/1000] train loss: 5.21806, valid loss: 18.84683\n",
      "[166/1000] train loss: 5.00027, valid loss: 18.90135\n",
      "[167/1000] train loss: 5.06553, valid loss: 18.50862\n",
      "[168/1000] train loss: 5.16025, valid loss: 18.51107\n",
      "[169/1000] train loss: 5.12384, valid loss: 18.79516\n",
      "[170/1000] train loss: 5.07940, valid loss: 18.39693\n",
      "[171/1000] train loss: 5.06409, valid loss: 18.31702\n",
      "[172/1000] train loss: 5.05485, valid loss: 18.55438\n",
      "[173/1000] train loss: 5.07256, valid loss: 18.55919\n",
      "[174/1000] train loss: 5.14893, valid loss: 18.85542\n",
      "[175/1000] train loss: 4.93887, valid loss: 18.61790\n",
      "[176/1000] train loss: 5.01791, valid loss: 18.45339\n",
      "[177/1000] train loss: 4.82732, valid loss: 18.63865\n",
      "[178/1000] train loss: 5.01765, valid loss: 18.97179\n",
      "[179/1000] train loss: 4.97466, valid loss: 18.17832\n",
      "[180/1000] train loss: 4.92497, valid loss: 19.30564\n",
      "[181/1000] train loss: 4.98382, valid loss: 18.72369\n",
      "[182/1000] train loss: 4.90981, valid loss: 18.44523\n",
      "[183/1000] train loss: 4.97895, valid loss: 18.70983\n",
      "[184/1000] train loss: 4.93579, valid loss: 18.84377\n",
      "[185/1000] train loss: 4.89444, valid loss: 18.70114\n",
      "[186/1000] train loss: 4.89184, valid loss: 18.76800\n",
      "[187/1000] train loss: 4.87832, valid loss: 19.04279\n",
      "[188/1000] train loss: 4.82895, valid loss: 18.91918\n",
      "[189/1000] train loss: 4.78907, valid loss: 18.98696\n",
      "[190/1000] train loss: 4.82937, valid loss: 18.61706\n",
      "[191/1000] train loss: 4.86687, valid loss: 18.91078\n",
      "[192/1000] train loss: 4.87750, valid loss: 19.11390\n",
      "[193/1000] train loss: 4.89448, valid loss: 18.89269\n",
      "[194/1000] train loss: 4.61617, valid loss: 19.34925\n",
      "[195/1000] train loss: 4.89340, valid loss: 18.75805\n",
      "[196/1000] train loss: 4.81171, valid loss: 19.48030\n",
      "[197/1000] train loss: 4.77039, valid loss: 19.03787\n",
      "[198/1000] train loss: 4.72789, valid loss: 18.49367\n",
      "[199/1000] train loss: 4.73670, valid loss: 19.23803\n",
      "[200/1000] train loss: 4.96921, valid loss: 19.80258\n",
      "[201/1000] train loss: 4.85298, valid loss: 18.20944\n",
      "[202/1000] train loss: 4.71439, valid loss: 19.73405\n",
      "[203/1000] train loss: 4.81347, valid loss: 18.85492\n",
      "[204/1000] train loss: 4.71031, valid loss: 18.64313\n",
      "[205/1000] train loss: 4.65679, valid loss: 19.38157\n",
      "[206/1000] train loss: 4.70927, valid loss: 18.41779\n",
      "[207/1000] train loss: 4.62865, valid loss: 18.93353\n",
      "[208/1000] train loss: 4.64620, valid loss: 19.25614\n",
      "[209/1000] train loss: 4.64373, valid loss: 18.66048\n",
      "[210/1000] train loss: 4.55554, valid loss: 19.26657\n",
      "[211/1000] train loss: 4.55900, valid loss: 18.74396\n",
      "[212/1000] train loss: 4.56554, valid loss: 18.87076\n",
      "[213/1000] train loss: 4.60605, valid loss: 18.83990\n",
      "[214/1000] train loss: 4.53835, valid loss: 18.95646\n",
      "[215/1000] train loss: 4.52625, valid loss: 18.49660\n",
      "[216/1000] train loss: 4.52614, valid loss: 18.66926\n",
      "[217/1000] train loss: 4.48249, valid loss: 18.87654\n",
      "[218/1000] train loss: 4.46547, valid loss: 19.06270\n",
      "[219/1000] train loss: 4.52785, valid loss: 18.82840\n",
      "[220/1000] train loss: 4.45374, valid loss: 18.82676\n",
      "[221/1000] train loss: 4.48192, valid loss: 18.98773\n",
      "[222/1000] train loss: 4.22043, valid loss: 18.45154\n",
      "[223/1000] train loss: 4.36164, valid loss: 19.29405\n",
      "[224/1000] train loss: 4.44319, valid loss: 19.22254\n",
      "[225/1000] train loss: 4.40263, valid loss: 18.94123\n",
      "[226/1000] train loss: 4.42086, valid loss: 18.93965\n",
      "[227/1000] train loss: 4.41233, valid loss: 19.58436\n",
      "[228/1000] train loss: 4.34139, valid loss: 18.85154\n",
      "[229/1000] train loss: 4.37530, valid loss: 18.98962\n",
      "[230/1000] train loss: 4.34977, valid loss: 19.17457\n",
      "[231/1000] train loss: 4.42129, valid loss: 19.14635\n",
      "[232/1000] train loss: 4.24318, valid loss: 19.33301\n",
      "[233/1000] train loss: 4.34462, valid loss: 18.93544\n",
      "[234/1000] train loss: 4.38237, valid loss: 19.88306\n",
      "[235/1000] train loss: 4.26726, valid loss: 19.06888\n",
      "[236/1000] train loss: 4.31200, valid loss: 19.40126\n",
      "[237/1000] train loss: 4.36223, valid loss: 20.08036\n",
      "[238/1000] train loss: 4.24291, valid loss: 18.93509\n",
      "[239/1000] train loss: 4.23726, valid loss: 19.68836\n",
      "[240/1000] train loss: 4.24809, valid loss: 19.40311\n",
      "[241/1000] train loss: 4.32649, valid loss: 19.77576\n",
      "[242/1000] train loss: 4.14369, valid loss: 19.07010\n",
      "[243/1000] train loss: 4.26646, valid loss: 19.50595\n",
      "[244/1000] train loss: 4.14571, valid loss: 19.80671\n",
      "[245/1000] train loss: 4.10687, valid loss: 19.38420\n",
      "[246/1000] train loss: 4.18336, valid loss: 19.85305\n",
      "[247/1000] train loss: 4.16229, valid loss: 19.18952\n",
      "[248/1000] train loss: 4.08712, valid loss: 19.83176\n",
      "[249/1000] train loss: 4.09249, valid loss: 19.47364\n",
      "[250/1000] train loss: 4.13610, valid loss: 19.56345\n",
      "[251/1000] train loss: 4.11222, valid loss: 20.07714\n",
      "[252/1000] train loss: 4.08150, valid loss: 19.58002\n",
      "[253/1000] train loss: 4.14919, valid loss: 20.14391\n",
      "[254/1000] train loss: 4.09831, valid loss: 19.51339\n",
      "[255/1000] train loss: 4.08912, valid loss: 19.93640\n",
      "[256/1000] train loss: 4.11669, valid loss: 19.85322\n",
      "[257/1000] train loss: 4.09199, valid loss: 19.51794\n",
      "[258/1000] train loss: 4.00346, valid loss: 20.65717\n",
      "[259/1000] train loss: 4.09671, valid loss: 19.98944\n",
      "[260/1000] train loss: 4.06998, valid loss: 19.76183\n",
      "[261/1000] train loss: 4.05881, valid loss: 20.54678\n",
      "[262/1000] train loss: 3.94379, valid loss: 19.64851\n",
      "[263/1000] train loss: 4.04493, valid loss: 20.31418\n",
      "[264/1000] train loss: 4.07894, valid loss: 19.68885\n",
      "[265/1000] train loss: 3.98420, valid loss: 20.28117\n",
      "[266/1000] train loss: 3.94157, valid loss: 20.30151\n",
      "[267/1000] train loss: 4.00076, valid loss: 19.86642\n",
      "[268/1000] train loss: 3.98263, valid loss: 20.41292\n",
      "[269/1000] train loss: 3.87420, valid loss: 20.22636\n",
      "[270/1000] train loss: 3.93895, valid loss: 20.35007\n",
      "[271/1000] train loss: 3.95429, valid loss: 19.94579\n",
      "[272/1000] train loss: 3.93218, valid loss: 20.93936\n",
      "[273/1000] train loss: 3.88168, valid loss: 19.99619\n",
      "[274/1000] train loss: 3.94908, valid loss: 20.46928\n",
      "[275/1000] train loss: 3.81795, valid loss: 20.03154\n",
      "[276/1000] train loss: 3.81719, valid loss: 20.50562\n",
      "[277/1000] train loss: 3.78281, valid loss: 20.10611\n",
      "[278/1000] train loss: 3.81309, valid loss: 20.32504\n",
      "[279/1000] train loss: 3.82901, valid loss: 20.49146\n",
      "[280/1000] train loss: 3.83864, valid loss: 20.22199\n",
      "[281/1000] train loss: 3.79326, valid loss: 20.19871\n",
      "[282/1000] train loss: 3.80752, valid loss: 20.87749\n",
      "[283/1000] train loss: 3.84714, valid loss: 20.37028\n",
      "[284/1000] train loss: 3.85393, valid loss: 20.82851\n",
      "[285/1000] train loss: 3.76696, valid loss: 20.32371\n",
      "[286/1000] train loss: 3.77796, valid loss: 20.38538\n",
      "[287/1000] train loss: 3.88027, valid loss: 20.62607\n",
      "[288/1000] train loss: 3.93763, valid loss: 20.49372\n",
      "[289/1000] train loss: 3.83786, valid loss: 20.53622\n",
      "[290/1000] train loss: 3.87988, valid loss: 20.93661\n",
      "[291/1000] train loss: 3.86945, valid loss: 20.33765\n",
      "[292/1000] train loss: 3.77960, valid loss: 20.73956\n",
      "[293/1000] train loss: 3.56371, valid loss: 20.62659\n",
      "[294/1000] train loss: 3.69422, valid loss: 21.05543\n",
      "[295/1000] train loss: 3.73217, valid loss: 20.65983\n",
      "[296/1000] train loss: 3.70648, valid loss: 20.75043\n",
      "[297/1000] train loss: 3.74118, valid loss: 20.61310\n",
      "[298/1000] train loss: 3.65519, valid loss: 20.72081\n",
      "[299/1000] train loss: 3.69280, valid loss: 20.90905\n",
      "[300/1000] train loss: 3.63022, valid loss: 20.89741\n",
      "[301/1000] train loss: 3.71215, valid loss: 21.01600\n",
      "[302/1000] train loss: 3.68893, valid loss: 20.71662\n",
      "[303/1000] train loss: 3.66576, valid loss: 20.88046\n",
      "[304/1000] train loss: 3.64089, valid loss: 20.54458\n",
      "[305/1000] train loss: 3.66693, valid loss: 20.83331\n",
      "[306/1000] train loss: 3.60837, valid loss: 20.54029\n",
      "[307/1000] train loss: 3.68217, valid loss: 21.07445\n",
      "[308/1000] train loss: 3.65219, valid loss: 20.72067\n",
      "[309/1000] train loss: 3.64279, valid loss: 21.31379\n",
      "[310/1000] train loss: 3.76358, valid loss: 20.54354\n",
      "[311/1000] train loss: 3.57597, valid loss: 21.45302\n",
      "[312/1000] train loss: 3.68607, valid loss: 20.74775\n",
      "[313/1000] train loss: 3.60445, valid loss: 21.03574\n",
      "[314/1000] train loss: 3.66890, valid loss: 20.86804\n",
      "[315/1000] train loss: 3.88213, valid loss: 21.39977\n",
      "[316/1000] train loss: 3.59436, valid loss: 20.88732\n",
      "[317/1000] train loss: 3.55265, valid loss: 20.84577\n",
      "[318/1000] train loss: 3.65853, valid loss: 21.52415\n",
      "[319/1000] train loss: 3.60463, valid loss: 20.49102\n",
      "[320/1000] train loss: 3.53081, valid loss: 21.17156\n",
      "[321/1000] train loss: 3.56003, valid loss: 20.83403\n",
      "[322/1000] train loss: 3.53875, valid loss: 21.22469\n",
      "[323/1000] train loss: 3.52720, valid loss: 20.84172\n",
      "[324/1000] train loss: 3.58754, valid loss: 21.00405\n",
      "[325/1000] train loss: 3.59253, valid loss: 20.86175\n",
      "[326/1000] train loss: 3.63701, valid loss: 20.63836\n",
      "[327/1000] train loss: 3.61184, valid loss: 20.92237\n",
      "[328/1000] train loss: 3.46674, valid loss: 20.69478\n",
      "[329/1000] train loss: 3.51676, valid loss: 20.88660\n",
      "[330/1000] train loss: 3.51218, valid loss: 21.04026\n",
      "[331/1000] train loss: 3.41626, valid loss: 20.72538\n",
      "[332/1000] train loss: 3.50422, valid loss: 21.06258\n",
      "[333/1000] train loss: 3.54858, valid loss: 20.63542\n",
      "[334/1000] train loss: 3.48653, valid loss: 21.16406\n",
      "[335/1000] train loss: 3.48310, valid loss: 21.00141\n",
      "[336/1000] train loss: 3.46877, valid loss: 20.68731\n",
      "[337/1000] train loss: 3.40269, valid loss: 20.59562\n",
      "[338/1000] train loss: 3.52682, valid loss: 20.65552\n",
      "[339/1000] train loss: 3.52603, valid loss: 20.37299\n",
      "[340/1000] train loss: 3.53132, valid loss: 21.73316\n",
      "[341/1000] train loss: 3.50838, valid loss: 20.22895\n",
      "[342/1000] train loss: 3.56452, valid loss: 20.85486\n",
      "[343/1000] train loss: 3.53514, valid loss: 20.48213\n",
      "[344/1000] train loss: 3.50306, valid loss: 20.82123\n",
      "[345/1000] train loss: 3.54350, valid loss: 20.86858\n",
      "[346/1000] train loss: 3.56191, valid loss: 20.88862\n",
      "[347/1000] train loss: 3.45118, valid loss: 20.81476\n",
      "[348/1000] train loss: 3.38242, valid loss: 20.34482\n",
      "[349/1000] train loss: 3.52684, valid loss: 21.10720\n",
      "[350/1000] train loss: 3.51727, valid loss: 20.24573\n",
      "[351/1000] train loss: 3.55353, valid loss: 20.82520\n",
      "[352/1000] train loss: 3.49981, valid loss: 20.96825\n",
      "[353/1000] train loss: 3.66020, valid loss: 21.30065\n",
      "[354/1000] train loss: 3.62125, valid loss: 20.77414\n",
      "[355/1000] train loss: 3.79255, valid loss: 20.78797\n",
      "[356/1000] train loss: 3.79914, valid loss: 20.94855\n",
      "[357/1000] train loss: 3.90771, valid loss: 20.61045\n",
      "[358/1000] train loss: 3.68224, valid loss: 21.65259\n",
      "[359/1000] train loss: 3.51525, valid loss: 20.02946\n",
      "[360/1000] train loss: 3.55078, valid loss: 21.66681\n",
      "[361/1000] train loss: 3.55294, valid loss: 20.22102\n",
      "[362/1000] train loss: 3.50561, valid loss: 21.44756\n",
      "[363/1000] train loss: 3.44519, valid loss: 20.65273\n",
      "[364/1000] train loss: 3.46539, valid loss: 21.21378\n",
      "[365/1000] train loss: 3.42407, valid loss: 20.34134\n",
      "[366/1000] train loss: 3.30685, valid loss: 21.20396\n",
      "[367/1000] train loss: 3.35195, valid loss: 21.14786\n",
      "[368/1000] train loss: 3.31670, valid loss: 20.68453\n",
      "[369/1000] train loss: 3.35879, valid loss: 21.02060\n",
      "[370/1000] train loss: 3.29984, valid loss: 20.82542\n",
      "[371/1000] train loss: 3.45011, valid loss: 21.41704\n",
      "[372/1000] train loss: 3.33480, valid loss: 21.13308\n",
      "[373/1000] train loss: 3.28614, valid loss: 21.03065\n",
      "[374/1000] train loss: 3.30682, valid loss: 20.84802\n",
      "[375/1000] train loss: 3.33076, valid loss: 20.74594\n",
      "[376/1000] train loss: 3.39912, valid loss: 20.82027\n",
      "[377/1000] train loss: 3.35629, valid loss: 20.96336\n",
      "[378/1000] train loss: 3.33634, valid loss: 21.24808\n",
      "[379/1000] train loss: 3.46512, valid loss: 20.67167\n",
      "[380/1000] train loss: 3.26589, valid loss: 21.78580\n",
      "[381/1000] train loss: 3.33046, valid loss: 20.66202\n",
      "[382/1000] train loss: 3.32041, valid loss: 21.06558\n",
      "[383/1000] train loss: 3.29194, valid loss: 20.83925\n",
      "[384/1000] train loss: 3.35630, valid loss: 20.76470\n",
      "[385/1000] train loss: 3.30389, valid loss: 21.00271\n",
      "[386/1000] train loss: 3.32221, valid loss: 20.65386\n",
      "[387/1000] train loss: 3.45158, valid loss: 21.25126\n",
      "[388/1000] train loss: 3.41466, valid loss: 20.83620\n",
      "[389/1000] train loss: 3.35287, valid loss: 21.47818\n",
      "[390/1000] train loss: 3.31122, valid loss: 20.62856\n",
      "[391/1000] train loss: 3.24950, valid loss: 20.76471\n",
      "[392/1000] train loss: 3.25627, valid loss: 20.48907\n",
      "[393/1000] train loss: 3.24569, valid loss: 21.16715\n",
      "[394/1000] train loss: 3.29288, valid loss: 20.95134\n",
      "[395/1000] train loss: 3.21373, valid loss: 21.07279\n",
      "[396/1000] train loss: 3.22199, valid loss: 20.76047\n",
      "[397/1000] train loss: 3.24040, valid loss: 21.09180\n",
      "[398/1000] train loss: 3.30851, valid loss: 20.95231\n",
      "[399/1000] train loss: 3.27686, valid loss: 21.14158\n",
      "[400/1000] train loss: 3.25023, valid loss: 20.67671\n",
      "[401/1000] train loss: 3.30739, valid loss: 21.26224\n",
      "[402/1000] train loss: 3.31138, valid loss: 20.80598\n",
      "[403/1000] train loss: 3.19818, valid loss: 21.17123\n",
      "[404/1000] train loss: 3.20911, valid loss: 21.19560\n",
      "[405/1000] train loss: 3.24357, valid loss: 21.11811\n",
      "[406/1000] train loss: 3.30372, valid loss: 20.36624\n",
      "[407/1000] train loss: 3.22827, valid loss: 21.72324\n",
      "[408/1000] train loss: 3.28411, valid loss: 21.03695\n",
      "[409/1000] train loss: 3.14832, valid loss: 21.19277\n",
      "[410/1000] train loss: 3.24628, valid loss: 20.58107\n",
      "[411/1000] train loss: 3.14554, valid loss: 21.36246\n",
      "[412/1000] train loss: 3.26987, valid loss: 20.39307\n",
      "[413/1000] train loss: 3.33750, valid loss: 22.10026\n",
      "[414/1000] train loss: 3.34547, valid loss: 20.21602\n",
      "[415/1000] train loss: 3.37037, valid loss: 21.42484\n",
      "[416/1000] train loss: 3.33553, valid loss: 20.73647\n",
      "[417/1000] train loss: 3.41677, valid loss: 21.45125\n",
      "[418/1000] train loss: 3.26178, valid loss: 20.61203\n",
      "[419/1000] train loss: 3.11709, valid loss: 21.40158\n",
      "[420/1000] train loss: 3.15928, valid loss: 20.68817\n",
      "[421/1000] train loss: 3.01510, valid loss: 21.45521\n",
      "[422/1000] train loss: 3.12938, valid loss: 20.76862\n",
      "[423/1000] train loss: 3.17614, valid loss: 20.70910\n",
      "[424/1000] train loss: 3.19003, valid loss: 21.06325\n",
      "[425/1000] train loss: 3.18657, valid loss: 20.67872\n",
      "[426/1000] train loss: 3.14042, valid loss: 20.87194\n",
      "[427/1000] train loss: 3.15835, valid loss: 20.53046\n",
      "[428/1000] train loss: 3.12996, valid loss: 21.19955\n",
      "[429/1000] train loss: 3.15390, valid loss: 20.47972\n",
      "[430/1000] train loss: 3.14197, valid loss: 20.05190\n",
      "[431/1000] train loss: 3.12439, valid loss: 20.87471\n",
      "[432/1000] train loss: 3.06504, valid loss: 20.41351\n",
      "[433/1000] train loss: 3.07084, valid loss: 20.49640\n",
      "[434/1000] train loss: 3.05752, valid loss: 20.58664\n",
      "[435/1000] train loss: 3.12303, valid loss: 20.72945\n",
      "[436/1000] train loss: 3.06187, valid loss: 20.29866\n",
      "[437/1000] train loss: 3.00290, valid loss: 21.00904\n",
      "[438/1000] train loss: 3.14037, valid loss: 20.59272\n",
      "[439/1000] train loss: 3.08709, valid loss: 20.33738\n",
      "[440/1000] train loss: 3.07878, valid loss: 20.32195\n",
      "[441/1000] train loss: 3.08816, valid loss: 20.81110\n",
      "[442/1000] train loss: 3.01883, valid loss: 20.56481\n",
      "[443/1000] train loss: 3.05691, valid loss: 20.51895\n",
      "[444/1000] train loss: 3.11131, valid loss: 20.54447\n",
      "[445/1000] train loss: 3.10104, valid loss: 19.98143\n",
      "[446/1000] train loss: 3.02930, valid loss: 20.53103\n",
      "[447/1000] train loss: 3.01037, valid loss: 19.81643\n",
      "[448/1000] train loss: 3.18101, valid loss: 20.98501\n",
      "[449/1000] train loss: 3.14733, valid loss: 20.43841\n",
      "[450/1000] train loss: 3.00044, valid loss: 20.54715\n",
      "[451/1000] train loss: 3.03966, valid loss: 20.56754\n",
      "[452/1000] train loss: 3.15228, valid loss: 20.51968\n",
      "[453/1000] train loss: 2.95364, valid loss: 20.61883\n",
      "[454/1000] train loss: 3.02146, valid loss: 20.47619\n",
      "[455/1000] train loss: 3.02641, valid loss: 20.18426\n",
      "[456/1000] train loss: 2.99722, valid loss: 20.68792\n",
      "[457/1000] train loss: 3.01749, valid loss: 20.53866\n",
      "[458/1000] train loss: 2.96918, valid loss: 20.38725\n",
      "[459/1000] train loss: 3.02460, valid loss: 20.41341\n",
      "[460/1000] train loss: 3.02450, valid loss: 19.73471\n",
      "[461/1000] train loss: 2.90392, valid loss: 20.53707\n",
      "[462/1000] train loss: 2.94571, valid loss: 20.14232\n",
      "[463/1000] train loss: 2.82509, valid loss: 20.13401\n",
      "[464/1000] train loss: 2.91868, valid loss: 19.92019\n",
      "[465/1000] train loss: 2.97071, valid loss: 20.15488\n",
      "[466/1000] train loss: 3.02010, valid loss: 20.41049\n",
      "[467/1000] train loss: 2.98738, valid loss: 19.81005\n",
      "[468/1000] train loss: 2.88451, valid loss: 20.83475\n",
      "[469/1000] train loss: 3.02014, valid loss: 19.79081\n",
      "[470/1000] train loss: 3.12894, valid loss: 21.00276\n",
      "[471/1000] train loss: 3.12630, valid loss: 19.77512\n",
      "[472/1000] train loss: 2.96450, valid loss: 20.58827\n",
      "[473/1000] train loss: 2.98748, valid loss: 20.00557\n",
      "[474/1000] train loss: 2.86056, valid loss: 20.59559\n",
      "[475/1000] train loss: 2.90828, valid loss: 20.27454\n",
      "[476/1000] train loss: 2.80506, valid loss: 20.21754\n",
      "[477/1000] train loss: 2.85878, valid loss: 19.73726\n",
      "[478/1000] train loss: 2.89421, valid loss: 20.44692\n",
      "[479/1000] train loss: 2.88660, valid loss: 19.79300\n",
      "[480/1000] train loss: 2.91646, valid loss: 20.30423\n",
      "[481/1000] train loss: 2.90328, valid loss: 20.30062\n",
      "[482/1000] train loss: 2.82846, valid loss: 20.15604\n",
      "[483/1000] train loss: 2.81139, valid loss: 20.17554\n",
      "[484/1000] train loss: 2.83079, valid loss: 20.38069\n",
      "[485/1000] train loss: 2.82624, valid loss: 20.08066\n",
      "[486/1000] train loss: 2.83644, valid loss: 19.64122\n",
      "[487/1000] train loss: 2.85113, valid loss: 20.57908\n",
      "[488/1000] train loss: 3.23232, valid loss: 19.66387\n",
      "[489/1000] train loss: 3.13507, valid loss: 21.48773\n",
      "[490/1000] train loss: 2.89920, valid loss: 19.47149\n",
      "[491/1000] train loss: 2.98089, valid loss: 20.71172\n",
      "[492/1000] train loss: 2.94702, valid loss: 19.55781\n",
      "[493/1000] train loss: 2.76532, valid loss: 20.91162\n",
      "[494/1000] train loss: 2.94998, valid loss: 19.51815\n",
      "[495/1000] train loss: 2.95474, valid loss: 20.65143\n",
      "[496/1000] train loss: 2.82726, valid loss: 19.92495\n",
      "[497/1000] train loss: 3.00791, valid loss: 19.98571\n",
      "[498/1000] train loss: 2.90916, valid loss: 20.20756\n",
      "[499/1000] train loss: 2.80366, valid loss: 20.31387\n",
      "[500/1000] train loss: 2.76777, valid loss: 19.51726\n",
      "[501/1000] train loss: 2.80717, valid loss: 20.38274\n",
      "[502/1000] train loss: 2.93772, valid loss: 20.47741\n",
      "[503/1000] train loss: 2.83901, valid loss: 19.55668\n",
      "[504/1000] train loss: 2.79875, valid loss: 20.29493\n",
      "[505/1000] train loss: 2.73475, valid loss: 20.68394\n",
      "[506/1000] train loss: 2.77150, valid loss: 20.07721\n",
      "[507/1000] train loss: 2.80408, valid loss: 19.24457\n",
      "[508/1000] train loss: 2.82598, valid loss: 20.00176\n",
      "[509/1000] train loss: 2.90391, valid loss: 20.55608\n",
      "[510/1000] train loss: 2.78012, valid loss: 19.35408\n",
      "[511/1000] train loss: 2.64468, valid loss: 20.85563\n",
      "[512/1000] train loss: 2.71855, valid loss: 19.76480\n",
      "[513/1000] train loss: 2.81114, valid loss: 20.10149\n",
      "[514/1000] train loss: 2.76515, valid loss: 20.46359\n",
      "[515/1000] train loss: 2.64926, valid loss: 20.25335\n",
      "[516/1000] train loss: 2.71463, valid loss: 20.29309\n",
      "[517/1000] train loss: 2.68906, valid loss: 19.78506\n",
      "[518/1000] train loss: 2.75866, valid loss: 20.42479\n",
      "[519/1000] train loss: 2.73169, valid loss: 19.36009\n",
      "[520/1000] train loss: 2.75622, valid loss: 19.87667\n",
      "[521/1000] train loss: 2.62357, valid loss: 20.11311\n",
      "[522/1000] train loss: 2.58716, valid loss: 20.24678\n",
      "[523/1000] train loss: 2.59976, valid loss: 20.18339\n",
      "[524/1000] train loss: 2.64180, valid loss: 19.90325\n",
      "[525/1000] train loss: 2.58650, valid loss: 20.21634\n",
      "[526/1000] train loss: 2.55633, valid loss: 20.01552\n",
      "[527/1000] train loss: 2.55359, valid loss: 20.09745\n",
      "[528/1000] train loss: 2.53788, valid loss: 19.86682\n",
      "[529/1000] train loss: 2.48903, valid loss: 20.03074\n",
      "[530/1000] train loss: 2.56645, valid loss: 20.52979\n",
      "[531/1000] train loss: 2.44627, valid loss: 19.68321\n",
      "[532/1000] train loss: 2.47402, valid loss: 20.70210\n",
      "[533/1000] train loss: 2.54630, valid loss: 19.67731\n",
      "[534/1000] train loss: 2.56698, valid loss: 20.90034\n",
      "[535/1000] train loss: 2.52082, valid loss: 19.63883\n",
      "[536/1000] train loss: 2.53189, valid loss: 20.43174\n",
      "[537/1000] train loss: 2.59619, valid loss: 20.33299\n",
      "[538/1000] train loss: 2.36375, valid loss: 20.27050\n",
      "[539/1000] train loss: 2.51746, valid loss: 19.75548\n",
      "[540/1000] train loss: 2.59179, valid loss: 20.12678\n",
      "[541/1000] train loss: 2.44766, valid loss: 20.65218\n",
      "[542/1000] train loss: 2.48383, valid loss: 20.15721\n",
      "[543/1000] train loss: 2.42011, valid loss: 19.86520\n",
      "[544/1000] train loss: 2.42956, valid loss: 20.49310\n",
      "[545/1000] train loss: 2.30506, valid loss: 19.45909\n",
      "[546/1000] train loss: 2.44412, valid loss: 20.17907\n",
      "[547/1000] train loss: 2.42829, valid loss: 19.84222\n",
      "[548/1000] train loss: 2.43013, valid loss: 20.49447\n",
      "[549/1000] train loss: 2.38486, valid loss: 19.80387\n",
      "[550/1000] train loss: 2.35689, valid loss: 20.30296\n",
      "[551/1000] train loss: 2.46837, valid loss: 20.79368\n",
      "[552/1000] train loss: 2.43383, valid loss: 19.51879\n",
      "[553/1000] train loss: 2.51124, valid loss: 21.42004\n",
      "[554/1000] train loss: 2.40135, valid loss: 19.95704\n",
      "[555/1000] train loss: 2.37148, valid loss: 19.66943\n",
      "[556/1000] train loss: 2.49453, valid loss: 20.57900\n",
      "[557/1000] train loss: 2.34911, valid loss: 19.82640\n",
      "[558/1000] train loss: 2.44522, valid loss: 19.93867\n",
      "[559/1000] train loss: 2.43232, valid loss: 20.70352\n",
      "[560/1000] train loss: 2.33449, valid loss: 19.89236\n",
      "[561/1000] train loss: 2.45472, valid loss: 20.45551\n",
      "[562/1000] train loss: 2.37299, valid loss: 20.97359\n",
      "[563/1000] train loss: 2.29844, valid loss: 20.59897\n",
      "[564/1000] train loss: 2.45920, valid loss: 19.54799\n",
      "[565/1000] train loss: 2.36775, valid loss: 20.70404\n",
      "[566/1000] train loss: 2.37511, valid loss: 19.38610\n",
      "[567/1000] train loss: 2.43312, valid loss: 21.02046\n",
      "[568/1000] train loss: 2.50694, valid loss: 20.52980\n",
      "[569/1000] train loss: 2.44893, valid loss: 19.13684\n",
      "[570/1000] train loss: 2.49821, valid loss: 20.15228\n",
      "[571/1000] train loss: 2.37174, valid loss: 21.08735\n",
      "[572/1000] train loss: 2.45289, valid loss: 20.78886\n",
      "[573/1000] train loss: 2.49687, valid loss: 20.77334\n",
      "[574/1000] train loss: 2.49247, valid loss: 20.67746\n",
      "[575/1000] train loss: 2.67242, valid loss: 20.32571\n",
      "[576/1000] train loss: 2.46682, valid loss: 19.62358\n",
      "[577/1000] train loss: 2.25728, valid loss: 20.95889\n",
      "[578/1000] train loss: 2.44674, valid loss: 19.74889\n",
      "[579/1000] train loss: 2.62102, valid loss: 20.03729\n",
      "[580/1000] train loss: 2.41910, valid loss: 20.87292\n",
      "[581/1000] train loss: 2.38952, valid loss: 20.50539\n",
      "[582/1000] train loss: 2.59440, valid loss: 20.57413\n",
      "[583/1000] train loss: 2.37122, valid loss: 20.60904\n",
      "[584/1000] train loss: 2.46695, valid loss: 21.25723\n",
      "[585/1000] train loss: 2.41475, valid loss: 20.38996\n",
      "[586/1000] train loss: 2.59568, valid loss: 22.49365\n",
      "[587/1000] train loss: 2.65033, valid loss: 19.74273\n",
      "[588/1000] train loss: 2.39894, valid loss: 20.63661\n",
      "[589/1000] train loss: 2.20893, valid loss: 21.09378\n",
      "[590/1000] train loss: 2.24340, valid loss: 20.94009\n",
      "[591/1000] train loss: 2.29352, valid loss: 20.89710\n",
      "[592/1000] train loss: 2.18564, valid loss: 20.96268\n",
      "[593/1000] train loss: 2.31108, valid loss: 21.35340\n",
      "[594/1000] train loss: 2.14525, valid loss: 21.91022\n",
      "[595/1000] train loss: 2.18601, valid loss: 20.59317\n",
      "[596/1000] train loss: 2.23709, valid loss: 21.66315\n",
      "[597/1000] train loss: 2.59718, valid loss: 20.71106\n",
      "[598/1000] train loss: 2.40928, valid loss: 20.10732\n",
      "[599/1000] train loss: 2.64999, valid loss: 21.16704\n",
      "[600/1000] train loss: 2.26294, valid loss: 20.85603\n",
      "[601/1000] train loss: 2.21425, valid loss: 21.33409\n",
      "[602/1000] train loss: 2.16231, valid loss: 21.45517\n",
      "[603/1000] train loss: 2.10960, valid loss: 20.93472\n",
      "[604/1000] train loss: 2.25299, valid loss: 20.99810\n",
      "[605/1000] train loss: 2.23345, valid loss: 21.10370\n",
      "[606/1000] train loss: 2.25074, valid loss: 21.24296\n",
      "[607/1000] train loss: 2.07998, valid loss: 21.37470\n",
      "[608/1000] train loss: 2.23412, valid loss: 21.37447\n",
      "[609/1000] train loss: 2.20102, valid loss: 22.18668\n",
      "[610/1000] train loss: 2.44391, valid loss: 20.99935\n",
      "[611/1000] train loss: 2.37948, valid loss: 21.83600\n",
      "[612/1000] train loss: 2.27421, valid loss: 21.25641\n",
      "[613/1000] train loss: 2.22968, valid loss: 20.91012\n",
      "[614/1000] train loss: 2.24138, valid loss: 22.35481\n",
      "[615/1000] train loss: 2.41839, valid loss: 21.47159\n",
      "[616/1000] train loss: 2.28358, valid loss: 21.06899\n",
      "[617/1000] train loss: 2.40822, valid loss: 21.79582\n",
      "[618/1000] train loss: 2.24082, valid loss: 21.93380\n",
      "[619/1000] train loss: 2.16656, valid loss: 20.92677\n",
      "[620/1000] train loss: 2.20925, valid loss: 22.12370\n",
      "[621/1000] train loss: 2.16660, valid loss: 20.92163\n",
      "[622/1000] train loss: 2.32717, valid loss: 20.89945\n",
      "[623/1000] train loss: 2.06981, valid loss: 21.96695\n",
      "[624/1000] train loss: 2.09425, valid loss: 20.73512\n",
      "[625/1000] train loss: 2.15921, valid loss: 21.44908\n",
      "[626/1000] train loss: 1.99994, valid loss: 22.51297\n",
      "[627/1000] train loss: 2.04427, valid loss: 21.00536\n",
      "[628/1000] train loss: 2.05561, valid loss: 21.91370\n",
      "[629/1000] train loss: 2.13908, valid loss: 20.83628\n",
      "[630/1000] train loss: 1.99818, valid loss: 20.99859\n",
      "[631/1000] train loss: 2.03184, valid loss: 21.02223\n",
      "[632/1000] train loss: 2.08784, valid loss: 22.77036\n",
      "[633/1000] train loss: 2.17010, valid loss: 20.57773\n",
      "[634/1000] train loss: 1.99033, valid loss: 21.75657\n",
      "[635/1000] train loss: 2.21559, valid loss: 21.25050\n",
      "[636/1000] train loss: 2.23922, valid loss: 20.89984\n",
      "[637/1000] train loss: 2.67348, valid loss: 20.85850\n",
      "[638/1000] train loss: 2.22104, valid loss: 22.88483\n",
      "[639/1000] train loss: 2.16658, valid loss: 21.51386\n",
      "[640/1000] train loss: 2.47022, valid loss: 21.46836\n",
      "[641/1000] train loss: 2.47833, valid loss: 24.98471\n",
      "[642/1000] train loss: 3.10354, valid loss: 21.07547\n",
      "[643/1000] train loss: 2.60144, valid loss: 21.29523\n",
      "[644/1000] train loss: 2.30772, valid loss: 23.00484\n",
      "[645/1000] train loss: 2.13699, valid loss: 20.98448\n",
      "[646/1000] train loss: 2.13302, valid loss: 21.82180\n",
      "[647/1000] train loss: 1.97864, valid loss: 21.31256\n",
      "[648/1000] train loss: 2.03448, valid loss: 21.07275\n",
      "[649/1000] train loss: 2.02947, valid loss: 21.77046\n",
      "[650/1000] train loss: 2.03295, valid loss: 21.37950\n",
      "[651/1000] train loss: 1.97759, valid loss: 21.25605\n",
      "[652/1000] train loss: 1.94155, valid loss: 21.50328\n",
      "[653/1000] train loss: 1.99894, valid loss: 20.93129\n",
      "[654/1000] train loss: 2.09170, valid loss: 22.85846\n",
      "[655/1000] train loss: 1.98723, valid loss: 21.28527\n",
      "[656/1000] train loss: 1.92147, valid loss: 21.89687\n",
      "[657/1000] train loss: 1.94529, valid loss: 22.13563\n",
      "[658/1000] train loss: 1.98138, valid loss: 21.64917\n",
      "[659/1000] train loss: 1.97457, valid loss: 21.83037\n",
      "[660/1000] train loss: 2.00449, valid loss: 21.12649\n",
      "[661/1000] train loss: 2.25710, valid loss: 21.66778\n",
      "[662/1000] train loss: 2.44896, valid loss: 24.29708\n",
      "[663/1000] train loss: 2.57931, valid loss: 21.34787\n",
      "[664/1000] train loss: 2.32767, valid loss: 21.25092\n",
      "[665/1000] train loss: 1.95519, valid loss: 21.34577\n",
      "[666/1000] train loss: 2.01537, valid loss: 21.83757\n",
      "[667/1000] train loss: 2.10175, valid loss: 21.64321\n",
      "[668/1000] train loss: 1.95707, valid loss: 21.16179\n",
      "[669/1000] train loss: 1.93342, valid loss: 21.11094\n",
      "[670/1000] train loss: 1.95864, valid loss: 21.23576\n",
      "[671/1000] train loss: 2.15152, valid loss: 21.23268\n",
      "[672/1000] train loss: 2.16133, valid loss: 21.03603\n",
      "[673/1000] train loss: 2.51552, valid loss: 21.45533\n",
      "[674/1000] train loss: 2.01975, valid loss: 22.47079\n",
      "[675/1000] train loss: 1.93735, valid loss: 20.34910\n",
      "[676/1000] train loss: 1.97985, valid loss: 22.23915\n",
      "[677/1000] train loss: 1.99132, valid loss: 21.74604\n",
      "[678/1000] train loss: 1.99672, valid loss: 21.48715\n",
      "[679/1000] train loss: 1.86666, valid loss: 21.07175\n",
      "[680/1000] train loss: 1.83165, valid loss: 21.20576\n",
      "[681/1000] train loss: 1.85261, valid loss: 21.23367\n",
      "[682/1000] train loss: 1.80998, valid loss: 21.37197\n",
      "[683/1000] train loss: 1.80179, valid loss: 21.17795\n",
      "[684/1000] train loss: 1.93475, valid loss: 21.84451\n",
      "[685/1000] train loss: 1.89717, valid loss: 21.78416\n",
      "[686/1000] train loss: 1.83011, valid loss: 21.14622\n",
      "[687/1000] train loss: 2.04229, valid loss: 22.35104\n",
      "[688/1000] train loss: 2.10273, valid loss: 21.70847\n",
      "[689/1000] train loss: 2.01217, valid loss: 21.63159\n",
      "[690/1000] train loss: 2.15910, valid loss: 22.93935\n",
      "[691/1000] train loss: 2.54407, valid loss: 21.05787\n",
      "[692/1000] train loss: 1.85992, valid loss: 21.21776\n",
      "[693/1000] train loss: 1.91574, valid loss: 22.55886\n",
      "[694/1000] train loss: 2.04457, valid loss: 20.75408\n",
      "[695/1000] train loss: 1.83465, valid loss: 20.87343\n",
      "[696/1000] train loss: 1.88708, valid loss: 22.54297\n",
      "[697/1000] train loss: 2.05471, valid loss: 21.07470\n",
      "[698/1000] train loss: 2.15264, valid loss: 22.10349\n",
      "[699/1000] train loss: 2.06079, valid loss: 22.41867\n",
      "[700/1000] train loss: 2.37453, valid loss: 19.27403\n",
      "[701/1000] train loss: 2.38096, valid loss: 20.91974\n",
      "[702/1000] train loss: 1.98750, valid loss: 20.80301\n",
      "[703/1000] train loss: 1.99199, valid loss: 20.09398\n",
      "[704/1000] train loss: 2.21611, valid loss: 21.19242\n",
      "[705/1000] train loss: 2.11898, valid loss: 20.16799\n",
      "[706/1000] train loss: 1.87634, valid loss: 20.73061\n",
      "[707/1000] train loss: 1.82732, valid loss: 20.14687\n",
      "[708/1000] train loss: 1.83938, valid loss: 20.51920\n",
      "[709/1000] train loss: 1.97026, valid loss: 21.06628\n",
      "[710/1000] train loss: 1.91710, valid loss: 20.54007\n",
      "[711/1000] train loss: 1.93094, valid loss: 20.35375\n",
      "[712/1000] train loss: 1.93310, valid loss: 21.29461\n",
      "[713/1000] train loss: 1.95503, valid loss: 19.57320\n",
      "[714/1000] train loss: 1.93756, valid loss: 20.34786\n",
      "[715/1000] train loss: 1.84161, valid loss: 20.73685\n",
      "[716/1000] train loss: 1.82245, valid loss: 20.30896\n",
      "[717/1000] train loss: 1.72790, valid loss: 20.93488\n",
      "[718/1000] train loss: 1.73799, valid loss: 21.07462\n",
      "[719/1000] train loss: 1.86902, valid loss: 20.50409\n",
      "[720/1000] train loss: 1.93070, valid loss: 20.55586\n",
      "[721/1000] train loss: 1.83416, valid loss: 21.30620\n",
      "[722/1000] train loss: 2.01028, valid loss: 21.71069\n",
      "[723/1000] train loss: 1.81223, valid loss: 20.38631\n",
      "[724/1000] train loss: 1.80134, valid loss: 21.26166\n",
      "[725/1000] train loss: 1.78849, valid loss: 21.15326\n",
      "[726/1000] train loss: 1.77782, valid loss: 21.07517\n",
      "[727/1000] train loss: 1.78314, valid loss: 20.87530\n",
      "[728/1000] train loss: 1.78560, valid loss: 21.28238\n",
      "[729/1000] train loss: 1.82187, valid loss: 21.14162\n",
      "[730/1000] train loss: 1.69133, valid loss: 21.37364\n",
      "[731/1000] train loss: 1.67313, valid loss: 21.54041\n",
      "[732/1000] train loss: 1.70733, valid loss: 21.66152\n",
      "[733/1000] train loss: 1.71540, valid loss: 21.02999\n",
      "[734/1000] train loss: 1.75710, valid loss: 21.05427\n",
      "[735/1000] train loss: 1.73324, valid loss: 21.97425\n",
      "[736/1000] train loss: 1.80124, valid loss: 21.37992\n",
      "[737/1000] train loss: 1.75112, valid loss: 20.81987\n",
      "[738/1000] train loss: 1.76179, valid loss: 21.44631\n",
      "[739/1000] train loss: 1.75407, valid loss: 20.95832\n",
      "[740/1000] train loss: 1.71176, valid loss: 21.84618\n",
      "[741/1000] train loss: 1.85991, valid loss: 21.82221\n",
      "[742/1000] train loss: 1.74148, valid loss: 20.67704\n",
      "[743/1000] train loss: 1.85644, valid loss: 22.15041\n",
      "[744/1000] train loss: 1.90711, valid loss: 20.65154\n",
      "[745/1000] train loss: 1.88516, valid loss: 20.93377\n",
      "[746/1000] train loss: 1.84712, valid loss: 21.85194\n",
      "[747/1000] train loss: 1.71676, valid loss: 22.05715\n",
      "[748/1000] train loss: 1.82875, valid loss: 20.79803\n",
      "[749/1000] train loss: 1.80682, valid loss: 21.15011\n",
      "[750/1000] train loss: 1.66020, valid loss: 21.08882\n",
      "[751/1000] train loss: 1.89171, valid loss: 21.02877\n",
      "[752/1000] train loss: 2.04014, valid loss: 22.63186\n",
      "[753/1000] train loss: 2.49009, valid loss: 21.19697\n",
      "[754/1000] train loss: 2.12473, valid loss: 21.13195\n",
      "[755/1000] train loss: 1.85149, valid loss: 22.00290\n",
      "[756/1000] train loss: 2.05304, valid loss: 21.43061\n",
      "[757/1000] train loss: 1.92945, valid loss: 21.42445\n",
      "[758/1000] train loss: 1.96205, valid loss: 21.60548\n",
      "[759/1000] train loss: 1.73055, valid loss: 21.47180\n",
      "[760/1000] train loss: 1.63855, valid loss: 20.91411\n",
      "[761/1000] train loss: 1.66324, valid loss: 21.32628\n",
      "[762/1000] train loss: 1.76818, valid loss: 21.43635\n",
      "[763/1000] train loss: 1.60946, valid loss: 21.50781\n",
      "[764/1000] train loss: 1.66584, valid loss: 22.21775\n",
      "[765/1000] train loss: 1.91205, valid loss: 21.78605\n",
      "[766/1000] train loss: 1.88873, valid loss: 20.56116\n",
      "[767/1000] train loss: 1.88828, valid loss: 21.86455\n",
      "[768/1000] train loss: 1.87746, valid loss: 21.14468\n",
      "[769/1000] train loss: 1.69433, valid loss: 21.00820\n",
      "[770/1000] train loss: 1.64818, valid loss: 22.58074\n",
      "[771/1000] train loss: 1.75312, valid loss: 21.10443\n",
      "[772/1000] train loss: 1.75765, valid loss: 21.24893\n",
      "[773/1000] train loss: 1.79152, valid loss: 22.85795\n",
      "[774/1000] train loss: 2.03403, valid loss: 21.73794\n",
      "[775/1000] train loss: 2.08636, valid loss: 20.74718\n",
      "[776/1000] train loss: 2.24098, valid loss: 22.64991\n",
      "[777/1000] train loss: 2.22058, valid loss: 22.76409\n",
      "[778/1000] train loss: 1.96646, valid loss: 20.77725\n",
      "[779/1000] train loss: 2.44310, valid loss: 23.64932\n",
      "[780/1000] train loss: 2.09525, valid loss: 22.56220\n",
      "[781/1000] train loss: 1.80794, valid loss: 21.16450\n",
      "[782/1000] train loss: 1.99125, valid loss: 21.82313\n",
      "[783/1000] train loss: 1.92159, valid loss: 20.52194\n",
      "[784/1000] train loss: 1.79952, valid loss: 20.61559\n",
      "[785/1000] train loss: 2.14230, valid loss: 22.59358\n",
      "[786/1000] train loss: 1.88898, valid loss: 21.43782\n",
      "[787/1000] train loss: 1.83577, valid loss: 21.12038\n",
      "[788/1000] train loss: 1.74023, valid loss: 21.79415\n",
      "[789/1000] train loss: 1.68786, valid loss: 21.20004\n",
      "[790/1000] train loss: 1.85354, valid loss: 20.96328\n",
      "[791/1000] train loss: 1.71628, valid loss: 21.38454\n",
      "[792/1000] train loss: 1.74841, valid loss: 21.53918\n",
      "[793/1000] train loss: 1.77356, valid loss: 20.62206\n",
      "[794/1000] train loss: 1.63460, valid loss: 22.01368\n",
      "[795/1000] train loss: 1.62053, valid loss: 21.41745\n",
      "[796/1000] train loss: 1.62814, valid loss: 21.99778\n",
      "[797/1000] train loss: 1.81373, valid loss: 22.71226\n",
      "[798/1000] train loss: 1.76168, valid loss: 21.35465\n",
      "[799/1000] train loss: 1.64906, valid loss: 22.16143\n",
      "[800/1000] train loss: 1.64852, valid loss: 21.64845\n",
      "[801/1000] train loss: 1.62341, valid loss: 20.90620\n",
      "[802/1000] train loss: 1.62828, valid loss: 22.01821\n",
      "[803/1000] train loss: 1.75428, valid loss: 21.98348\n",
      "[804/1000] train loss: 1.66726, valid loss: 21.69908\n",
      "[805/1000] train loss: 1.59245, valid loss: 21.81782\n",
      "[806/1000] train loss: 1.92668, valid loss: 21.00993\n",
      "[807/1000] train loss: 1.72846, valid loss: 22.37018\n",
      "[808/1000] train loss: 1.79306, valid loss: 21.20573\n",
      "[809/1000] train loss: 2.06702, valid loss: 22.13781\n",
      "[810/1000] train loss: 1.77580, valid loss: 22.57727\n",
      "[811/1000] train loss: 1.85717, valid loss: 21.02273\n",
      "[812/1000] train loss: 1.70342, valid loss: 21.64171\n",
      "[813/1000] train loss: 1.61389, valid loss: 21.46399\n",
      "[814/1000] train loss: 1.60418, valid loss: 21.15901\n",
      "[815/1000] train loss: 1.52165, valid loss: 21.62839\n",
      "[816/1000] train loss: 1.58870, valid loss: 21.49038\n",
      "[817/1000] train loss: 1.54407, valid loss: 21.30636\n",
      "[818/1000] train loss: 1.58505, valid loss: 21.57056\n",
      "[819/1000] train loss: 1.59346, valid loss: 21.68266\n",
      "[820/1000] train loss: 1.64306, valid loss: 21.52879\n",
      "[821/1000] train loss: 1.69358, valid loss: 22.12677\n",
      "[822/1000] train loss: 1.64636, valid loss: 22.46984\n",
      "[823/1000] train loss: 1.69489, valid loss: 21.22542\n",
      "[824/1000] train loss: 1.63000, valid loss: 22.80711\n",
      "[825/1000] train loss: 1.81128, valid loss: 22.16395\n",
      "[826/1000] train loss: 2.29052, valid loss: 21.64332\n",
      "[827/1000] train loss: 1.73399, valid loss: 22.13679\n",
      "[828/1000] train loss: 1.69455, valid loss: 21.14017\n",
      "[829/1000] train loss: 1.52569, valid loss: 21.63632\n",
      "[830/1000] train loss: 1.60558, valid loss: 21.36790\n",
      "[831/1000] train loss: 1.60857, valid loss: 21.19221\n",
      "[832/1000] train loss: 1.61424, valid loss: 21.91544\n",
      "[833/1000] train loss: 1.58682, valid loss: 21.77350\n",
      "[834/1000] train loss: 1.61980, valid loss: 21.89736\n",
      "[835/1000] train loss: 1.71227, valid loss: 20.90555\n",
      "[836/1000] train loss: 1.52025, valid loss: 22.33204\n",
      "[837/1000] train loss: 1.54873, valid loss: 21.89282\n",
      "[838/1000] train loss: 1.45309, valid loss: 21.91612\n",
      "[839/1000] train loss: 1.53400, valid loss: 22.02974\n",
      "[840/1000] train loss: 1.63827, valid loss: 22.11426\n",
      "[841/1000] train loss: 1.59510, valid loss: 21.14987\n",
      "[842/1000] train loss: 1.59966, valid loss: 21.72289\n",
      "[843/1000] train loss: 1.62479, valid loss: 22.61651\n",
      "[844/1000] train loss: 1.54072, valid loss: 21.54705\n",
      "[845/1000] train loss: 1.46154, valid loss: 22.50487\n",
      "[846/1000] train loss: 1.78825, valid loss: 21.44756\n",
      "[847/1000] train loss: 2.00860, valid loss: 20.70082\n",
      "[848/1000] train loss: 1.91474, valid loss: 23.22181\n",
      "[849/1000] train loss: 1.99220, valid loss: 21.65413\n",
      "[850/1000] train loss: 1.64167, valid loss: 21.62471\n",
      "[851/1000] train loss: 1.69785, valid loss: 22.22970\n",
      "[852/1000] train loss: 1.78084, valid loss: 20.77353\n",
      "[853/1000] train loss: 1.70767, valid loss: 21.93643\n",
      "[854/1000] train loss: 1.58260, valid loss: 22.00212\n",
      "[855/1000] train loss: 1.53261, valid loss: 20.73828\n",
      "[856/1000] train loss: 1.57489, valid loss: 21.35909\n",
      "[857/1000] train loss: 1.64492, valid loss: 22.05332\n",
      "[858/1000] train loss: 1.71241, valid loss: 21.95852\n",
      "[859/1000] train loss: 1.54065, valid loss: 20.70778\n",
      "[860/1000] train loss: 1.46733, valid loss: 22.18760\n",
      "[861/1000] train loss: 1.46047, valid loss: 21.88506\n",
      "[862/1000] train loss: 1.40982, valid loss: 22.24024\n",
      "[863/1000] train loss: 1.43600, valid loss: 21.73586\n",
      "[864/1000] train loss: 1.47531, valid loss: 21.79377\n",
      "[865/1000] train loss: 1.45211, valid loss: 22.22382\n",
      "[866/1000] train loss: 1.46299, valid loss: 21.41073\n",
      "[867/1000] train loss: 1.51511, valid loss: 20.99507\n",
      "[868/1000] train loss: 1.50973, valid loss: 21.80116\n",
      "[869/1000] train loss: 1.47905, valid loss: 22.47325\n",
      "[870/1000] train loss: 1.51269, valid loss: 22.53964\n",
      "[871/1000] train loss: 1.66814, valid loss: 21.55806\n",
      "[872/1000] train loss: 1.89317, valid loss: 21.71727\n",
      "[873/1000] train loss: 1.87752, valid loss: 22.00691\n",
      "[874/1000] train loss: 1.48066, valid loss: 21.63634\n",
      "[875/1000] train loss: 1.82634, valid loss: 21.41784\n",
      "[876/1000] train loss: 1.71285, valid loss: 22.90042\n",
      "[877/1000] train loss: 2.64542, valid loss: 21.48719\n",
      "[878/1000] train loss: 2.71315, valid loss: 21.45970\n",
      "[879/1000] train loss: 2.55032, valid loss: 23.05799\n",
      "[880/1000] train loss: 1.96557, valid loss: 20.43527\n",
      "[881/1000] train loss: 1.70728, valid loss: 20.48908\n",
      "[882/1000] train loss: 1.83088, valid loss: 21.57048\n",
      "[883/1000] train loss: 1.62934, valid loss: 21.22843\n",
      "[884/1000] train loss: 1.53970, valid loss: 20.82473\n",
      "[885/1000] train loss: 1.66285, valid loss: 21.89788\n",
      "[886/1000] train loss: 1.59998, valid loss: 21.01932\n",
      "[887/1000] train loss: 1.78121, valid loss: 21.42423\n",
      "[888/1000] train loss: 1.67711, valid loss: 22.44182\n",
      "[889/1000] train loss: 1.91317, valid loss: 21.64224\n",
      "[890/1000] train loss: 1.72628, valid loss: 21.47470\n",
      "[891/1000] train loss: 1.72450, valid loss: 23.00517\n",
      "[892/1000] train loss: 1.57171, valid loss: 21.26711\n",
      "[893/1000] train loss: 1.56058, valid loss: 21.76690\n",
      "[894/1000] train loss: 1.80056, valid loss: 22.48346\n",
      "[895/1000] train loss: 1.94409, valid loss: 21.53216\n",
      "[896/1000] train loss: 1.61194, valid loss: 21.42151\n",
      "[897/1000] train loss: 1.52870, valid loss: 22.57019\n",
      "[898/1000] train loss: 1.56601, valid loss: 21.22749\n",
      "[899/1000] train loss: 1.56852, valid loss: 22.23782\n",
      "[900/1000] train loss: 1.49173, valid loss: 21.86337\n",
      "[901/1000] train loss: 1.56129, valid loss: 21.68727\n",
      "[902/1000] train loss: 1.38105, valid loss: 22.94150\n",
      "[903/1000] train loss: 1.41197, valid loss: 22.35391\n",
      "[904/1000] train loss: 1.38673, valid loss: 22.04556\n",
      "[905/1000] train loss: 1.39310, valid loss: 22.29677\n",
      "[906/1000] train loss: 1.36520, valid loss: 22.93234\n",
      "[907/1000] train loss: 1.37390, valid loss: 22.05535\n",
      "[908/1000] train loss: 1.35858, valid loss: 22.43977\n",
      "[909/1000] train loss: 1.38717, valid loss: 22.66136\n",
      "[910/1000] train loss: 1.46308, valid loss: 22.63544\n",
      "[911/1000] train loss: 1.47798, valid loss: 21.95597\n",
      "[912/1000] train loss: 1.46215, valid loss: 22.25157\n",
      "[913/1000] train loss: 1.53417, valid loss: 23.76998\n",
      "[914/1000] train loss: 1.53205, valid loss: 22.49653\n",
      "[915/1000] train loss: 1.39535, valid loss: 22.11288\n",
      "[916/1000] train loss: 1.46799, valid loss: 23.06545\n",
      "[917/1000] train loss: 1.38230, valid loss: 22.89153\n",
      "[918/1000] train loss: 1.40795, valid loss: 22.25599\n",
      "[919/1000] train loss: 1.38037, valid loss: 22.69834\n",
      "[920/1000] train loss: 1.44054, valid loss: 22.47169\n",
      "[921/1000] train loss: 1.47841, valid loss: 22.38974\n",
      "[922/1000] train loss: 1.45592, valid loss: 22.01633\n",
      "[923/1000] train loss: 1.82406, valid loss: 23.81117\n",
      "[924/1000] train loss: 1.55886, valid loss: 23.17259\n",
      "[925/1000] train loss: 1.72947, valid loss: 22.11993\n",
      "[926/1000] train loss: 1.61098, valid loss: 21.53272\n",
      "[927/1000] train loss: 1.47663, valid loss: 22.16525\n",
      "[928/1000] train loss: 1.46328, valid loss: 22.83459\n",
      "[929/1000] train loss: 1.48728, valid loss: 22.97919\n",
      "[930/1000] train loss: 1.42025, valid loss: 22.30396\n",
      "[931/1000] train loss: 1.44996, valid loss: 21.98971\n",
      "[932/1000] train loss: 1.40668, valid loss: 23.04277\n",
      "[933/1000] train loss: 1.33612, valid loss: 22.64645\n",
      "[934/1000] train loss: 1.38810, valid loss: 22.68379\n",
      "[935/1000] train loss: 1.35269, valid loss: 22.68572\n",
      "[936/1000] train loss: 1.34900, valid loss: 21.91702\n",
      "[937/1000] train loss: 1.33726, valid loss: 22.91548\n",
      "[938/1000] train loss: 1.32425, valid loss: 22.78810\n",
      "[939/1000] train loss: 1.42608, valid loss: 22.44307\n",
      "[940/1000] train loss: 1.30939, valid loss: 23.06510\n",
      "[941/1000] train loss: 1.33532, valid loss: 21.98613\n",
      "[942/1000] train loss: 1.45791, valid loss: 22.45801\n",
      "[943/1000] train loss: 1.58414, valid loss: 22.73320\n",
      "[944/1000] train loss: 1.51805, valid loss: 23.04840\n",
      "[945/1000] train loss: 1.59044, valid loss: 22.79859\n",
      "[946/1000] train loss: 1.57852, valid loss: 21.61192\n",
      "[947/1000] train loss: 1.75854, valid loss: 23.39858\n",
      "[948/1000] train loss: 1.49338, valid loss: 24.01236\n",
      "[949/1000] train loss: 1.89567, valid loss: 22.38142\n",
      "[950/1000] train loss: 1.94638, valid loss: 22.40685\n",
      "[951/1000] train loss: 1.58354, valid loss: 23.91003\n",
      "[952/1000] train loss: 1.78155, valid loss: 22.40597\n",
      "[953/1000] train loss: 1.51604, valid loss: 22.36494\n",
      "[954/1000] train loss: 1.41288, valid loss: 23.34631\n",
      "[955/1000] train loss: 1.69055, valid loss: 23.25724\n",
      "[956/1000] train loss: 1.67249, valid loss: 22.53414\n",
      "[957/1000] train loss: 1.61086, valid loss: 22.57567\n",
      "[958/1000] train loss: 1.52895, valid loss: 22.08373\n",
      "[959/1000] train loss: 1.96805, valid loss: 22.36090\n",
      "[960/1000] train loss: 1.56725, valid loss: 23.79234\n",
      "[961/1000] train loss: 1.54048, valid loss: 22.06565\n",
      "[962/1000] train loss: 1.43616, valid loss: 22.03259\n",
      "[963/1000] train loss: 1.51297, valid loss: 23.22712\n",
      "[964/1000] train loss: 1.44415, valid loss: 21.87321\n",
      "[965/1000] train loss: 1.44258, valid loss: 21.90109\n",
      "[966/1000] train loss: 1.32283, valid loss: 22.18289\n",
      "[967/1000] train loss: 1.29517, valid loss: 22.03617\n",
      "[968/1000] train loss: 1.33007, valid loss: 22.61746\n",
      "[969/1000] train loss: 1.40024, valid loss: 22.50811\n",
      "[970/1000] train loss: 1.38915, valid loss: 21.96726\n",
      "[971/1000] train loss: 1.50088, valid loss: 22.21892\n",
      "[972/1000] train loss: 1.59352, valid loss: 23.91889\n",
      "[973/1000] train loss: 2.36886, valid loss: 22.77197\n",
      "[974/1000] train loss: 1.54878, valid loss: 21.83103\n",
      "[975/1000] train loss: 1.56773, valid loss: 23.50372\n",
      "[976/1000] train loss: 1.54361, valid loss: 21.57554\n",
      "[977/1000] train loss: 1.29959, valid loss: 22.58092\n",
      "[978/1000] train loss: 1.34593, valid loss: 22.76232\n",
      "[979/1000] train loss: 1.37917, valid loss: 22.07875\n",
      "[980/1000] train loss: 1.33089, valid loss: 22.27490\n",
      "[981/1000] train loss: 1.33865, valid loss: 21.81861\n",
      "[982/1000] train loss: 1.28283, valid loss: 22.81263\n",
      "[983/1000] train loss: 1.30898, valid loss: 22.33440\n",
      "[984/1000] train loss: 1.45852, valid loss: 21.80176\n",
      "[985/1000] train loss: 1.52212, valid loss: 23.85825\n",
      "[986/1000] train loss: 1.60595, valid loss: 21.99293\n",
      "[987/1000] train loss: 1.52362, valid loss: 21.45008\n",
      "[988/1000] train loss: 1.63053, valid loss: 22.74099\n",
      "[989/1000] train loss: 1.55070, valid loss: 21.81020\n",
      "[990/1000] train loss: 1.51305, valid loss: 22.16331\n",
      "[991/1000] train loss: 1.45029, valid loss: 22.22356\n",
      "[992/1000] train loss: 1.52185, valid loss: 22.80221\n",
      "[993/1000] train loss: 1.59242, valid loss: 22.31540\n",
      "[994/1000] train loss: 1.46628, valid loss: 21.75662\n",
      "[995/1000] train loss: 1.46736, valid loss: 23.80196\n",
      "[996/1000] train loss: 1.52074, valid loss: 22.35338\n",
      "[997/1000] train loss: 1.47025, valid loss: 21.13255\n",
      "[998/1000] train loss: 1.83166, valid loss: 22.59885\n",
      "[999/1000] train loss: 1.57814, valid loss: 22.26113\n",
      "[1000/1000] train loss: 1.71750, valid loss: 20.93136\n"
     ]
    }
   ],
   "source": [
    "# 학습:  train + validation\n",
    "\n",
    "train_loss_list = []\n",
    "valid_loss_list = []\n",
    "\n",
    "for epoch in range(1000):  # 1000에폭 학습.\n",
    "    ######################\n",
    "    # train\n",
    "    ######################\n",
    "    boston_model.train()\n",
    "    train_loss = 0.0 # 현재 epoch loss를 저장할 함수.\n",
    "    # step단위로 학습.\n",
    "    for X_train, y_train in train_loader:\n",
    "        # 1 batch 학습 == 1 Step\n",
    "        # 1. X, y를 device로 옮기\n",
    "        X_train, y_train = X_train.to(device), y_train.to(device)\n",
    "\n",
    "        # 2. 모델을 이용해서 추정\n",
    "        pred = boston_model(X_train)\n",
    "\n",
    "        # 3. Loss 계산\n",
    "        loss = loss_fn(pred, y_train) # (모델추정값, 정답)\n",
    "\n",
    "        # 4. gradient 계산\n",
    "        loss.backward()\n",
    "\n",
    "        # 5. weight/bias update\n",
    "        optimizer.step()\n",
    "\n",
    "        # 6. gradient 초기화\n",
    "        optimizer.zero_grad()\n",
    "\n",
    "        train_loss += loss.item()\n",
    "\n",
    "    train_loss /= len(train_loader) # 1 에폭 loss 결과 저장.\n",
    "\n",
    "    ######################\n",
    "    # validation\n",
    "    ######################\n",
    "    boston_model.eval()\n",
    "    valid_loss = 0.0\n",
    "    with torch.no_grad():\n",
    "        for X_test, y_test in test_loader:\n",
    "            # 1. X, y를 device로 옮기기.\n",
    "            X_test, y_test = X_test.to(device), y_test.to(device)\n",
    "\n",
    "            # 2. 추정\n",
    "            pred_test = boston_model(X_test)\n",
    "\n",
    "            # 3. 검증 - loss 계산.\n",
    "            valid_loss += loss_fn(pred_test, y_test).item()\n",
    "\n",
    "        valid_loss /= len(test_loader)\n",
    "\n",
    "    # 현재 epoch 학습 결과를 출력\n",
    "    print(f\"[{epoch+1}/1000] train loss: {train_loss:.5f}, valid loss: {valid_loss:.5f}\")\n",
    "    train_loss_list.append(train_loss)\n",
    "    valid_loss_list.append(valid_loss)\n"
   ]
  },
  {
   "cell_type": "code",
   "execution_count": 121,
   "metadata": {
    "colab": {
     "base_uri": "https://localhost:8080/",
     "height": 435
    },
    "executionInfo": {
     "elapsed": 677,
     "status": "ok",
     "timestamp": 1747026583736,
     "user": {
      "displayName": "Sunghwan KIM",
      "userId": "06010856989212311727"
     },
     "user_tz": -540
    },
    "id": "aWd83c66W74U",
    "outputId": "3c6ee1ee-7c51-4ed7-b058-48850ea62969"
   },
   "outputs": [
    {
     "data": {
      "image/png": "[encoded data removed]",
      "text/plain": [
       "<Figure size 640x480 with 1 Axes>"
      ]
     },
     "metadata": {},
     "output_type": "display_data"
    }
   ],
   "source": [
    "# epoch별 loss 변화를 시각화\n",
    "plt.plot(range(1000), train_loss_list, label=\"train loss\")\n",
    "plt.plot(range(1000), valid_loss_list, label=\"valid loss\")\n",
    "plt.ylim(0, 25)\n",
    "# plt.xlim(200, 250)\n",
    "plt.legend()\n",
    "plt.show()"
   ]
  },
  {
   "cell_type": "code",
   "execution_count": 124,
   "metadata": {
    "executionInfo": {
     "elapsed": 17,
     "status": "ok",
     "timestamp": 1747026924520,
     "user": {
      "displayName": "Sunghwan KIM",
      "userId": "06010856989212311727"
     },
     "user_tz": -540
    },
    "id": "Al50G8uyW71m"
   },
   "outputs": [],
   "source": [
    "########################\n",
    "# 모델 저장 - 불러오기\n",
    "########################\n",
    "import os\n",
    "# 코랩-구글드라이브에 저장.\n",
    "os.makedirs('saved_model', exist_ok=True)\n",
    "torch.save(boston_model, \"saved_model/boston_model.pt\")"
   ]
  },
  {
   "cell_type": "code",
   "execution_count": 126,
   "metadata": {
    "executionInfo": {
     "elapsed": 4,
     "status": "ok",
     "timestamp": 1747027074886,
     "user": {
      "displayName": "Sunghwan KIM",
      "userId": "06010856989212311727"
     },
     "user_tz": -540
    },
    "id": "GqsWH7HNIUqi"
   },
   "outputs": [],
   "source": [
    "load_boston_model = torch.load(\n",
    "    \"saved_model/boston_model.pt\", weights_only=False\n",
    ")"
   ]
  },
  {
   "cell_type": "code",
   "execution_count": 127,
   "metadata": {
    "executionInfo": {
     "elapsed": 40,
     "status": "ok",
     "timestamp": 1747027179239,
     "user": {
      "displayName": "Sunghwan KIM",
      "userId": "06010856989212311727"
     },
     "user_tz": -540
    },
    "id": "XdMfhO2V7can"
   },
   "outputs": [],
   "source": [
    "############################\n",
    "# 파라미터만 저장 - 불러오기\n",
    "############################\n",
    "# state_dict를 조회\n",
    "torch.save(\n",
    "    boston_model.state_dict(), \"saved_model/boston_model_state_dict.pt\"\n",
    ")"
   ]
  },
  {
   "cell_type": "code",
   "execution_count": 128,
   "metadata": {
    "colab": {
     "base_uri": "https://localhost:8080/"
    },
    "executionInfo": {
     "elapsed": 53,
     "status": "ok",
     "timestamp": 1747027238622,
     "user": {
      "displayName": "Sunghwan KIM",
      "userId": "06010856989212311727"
     },
     "user_tz": -540
    },
    "id": "i0o4HPXd7cYZ",
    "outputId": "4ce11a8d-cd44-4d30-c86a-597e91b84c5a"
   },
   "outputs": [
    {
     "data": {
      "text/plain": [
       "<All keys matched successfully>"
      ]
     },
     "execution_count": 128,
     "metadata": {},
     "output_type": "execute_result"
    }
   ],
   "source": [
    "load_sd = torch.load(\"saved_model/boston_model_state_dict.pt\")\n",
    "load_boston_model2 = BostonModel()\n",
    "load_boston_model2.load_state_dict(load_sd)"
   ]
  },
  {
   "cell_type": "code",
   "execution_count": 132,
   "metadata": {
    "colab": {
     "base_uri": "https://localhost:8080/"
    },
    "executionInfo": {
     "elapsed": 21,
     "status": "ok",
     "timestamp": 1747027676569,
     "user": {
      "displayName": "Sunghwan KIM",
      "userId": "06010856989212311727"
     },
     "user_tz": -540
    },
    "id": "xEfyel5c7cV2",
    "outputId": "88e0776e-5a22-491d-b309-7bb9fe82bd6d"
   },
   "outputs": [
    {
     "name": "stdout",
     "output_type": "stream",
     "text": [
      "20.931360244750977\n"
     ]
    }
   ],
   "source": [
    "####################\n",
    "# 최종 평가\n",
    "####################\n",
    "test_loss = 0.0\n",
    "with torch.no_grad():\n",
    "    for X_test, y_test in test_loader:\n",
    "        # device로 이동\n",
    "        X_test, y_test = X_test.to(device), y_test.to(device)\n",
    "        # 추론\n",
    "        # pred_test = boston_model(X_test)\n",
    "        pred_test = load_boston_model2(X_test)\n",
    "        # loss 계산\n",
    "        loss_test = loss_fn(pred_test, y_test)\n",
    "        test_loss += loss_test.item()\n",
    "\n",
    "    test_loss /= len(test_loader)\n",
    "\n",
    "print(test_loss)"
   ]
  },
  {
   "cell_type": "code",
   "execution_count": 136,
   "metadata": {
    "executionInfo": {
     "elapsed": 52,
     "status": "ok",
     "timestamp": 1747027905604,
     "user": {
      "displayName": "Sunghwan KIM",
      "userId": "06010856989212311727"
     },
     "user_tz": -540
    },
    "id": "N0Mi1qDp7cSy"
   },
   "outputs": [],
   "source": [
    "# 추론\n",
    "new_X, _ = trainset[:5]\n",
    "load_boston_model.eval()\n",
    "with torch.no_grad():\n",
    "    new_y = load_boston_model(new_X)"
   ]
  },
  {
   "cell_type": "code",
   "execution_count": 137,
   "metadata": {
    "colab": {
     "base_uri": "https://localhost:8080/"
    },
    "executionInfo": {
     "elapsed": 23,
     "status": "ok",
     "timestamp": 1747027912356,
     "user": {
      "displayName": "Sunghwan KIM",
      "userId": "06010856989212311727"
     },
     "user_tz": -540
    },
    "id": "meH3hw9qIUqi",
    "outputId": "ad29d979-d691-4bd5-d3fb-43930d3a990f"
   },
   "outputs": [
    {
     "data": {
      "text/plain": [
       "tensor([[26.5098],\n",
       "        [21.0406],\n",
       "        [23.0117],\n",
       "        [21.2224],\n",
       "        [10.2827]])"
      ]
     },
     "execution_count": 137,
     "metadata": {},
     "output_type": "execute_result"
    }
   ],
   "source": [
    "new_y\n",
    "\n",
    "# tensor([[26.5098],\n",
    "#         [21.0406],\n",
    "#         [23.0117],\n",
    "#         [21.2224],\n",
    "#         [10.2827]])"
   ]
  },
  {
   "cell_type": "markdown",
   "metadata": {
    "id": "PtAC6rMaIUqi"
   },
   "source": [
    "## 분류 (Classification)\n",
    "\n",
    "### Fashion MNIST Dataset - **다중분류(Multi-Class Classification) 문제**\n",
    "\n",
    "10개의 범주(category)와 70,000개의 흑백 이미지로 구성된 [패션 MNIST](https://github.com/zalandoresearch/fashion-mnist) 데이터셋.\n",
    "이미지는 해상도(28x28 픽셀)가 낮고 다음처럼 개별 의류 품목을 나타낸다:\n",
    "\n",
    "<table>\n",
    "  <tr><td>\n",
    "    <img src=\"https://tensorflow.org/images/fashion-mnist-sprite.png\"\n",
    "         alt=\"Fashion MNIST sprite\"  width=\"600\">\n",
    "  </td></tr>\n",
    "  <tr><td align=\"center\">\n",
    "    <b>그림</b> <a href=\"https://github.com/zalandoresearch/fashion-mnist\">패션-MNIST 샘플</a> (Zalando, MIT License).<br/>&nbsp;\n",
    "  </td></tr>\n",
    "</table>"
   ]
  },
  {
   "cell_type": "markdown",
   "metadata": {
    "id": "fnqTZSDWIUqi"
   },
   "source": [
    "- **Feature**이미지는 28x28 크기이며 Gray scale이다.\n",
    "- **Target**은 총 10개의 class로 구성되어 있으며 각 class의 class 이름은 다음과 같다.\n",
    "\n",
    "| 레이블 | 클래스       |\n",
    "|--------|--------------|\n",
    "| 0      | T-shirt/top |\n",
    "| 1      | Trousers    |\n",
    "| 2      | Pullover    |\n",
    "| 3      | Dress       |\n",
    "| 4      | Coat        |\n",
    "| 5      | Sandal      |\n",
    "| 6      | Shirt       |\n",
    "| 7      | Sneaker     |\n",
    "| 8      | Bag         |\n",
    "| 9      | Ankle boot  |"
   ]
  },
  {
   "cell_type": "markdown",
   "metadata": {
    "id": "h4tcn2xsIUqi"
   },
   "source": [
    "> #### 학습 도중 모델 저장\n",
    ">\n",
    "> - 학습 도중 가장 좋은 성능을 보이는 모델이 나올 수 있다.\n",
    "> - 학습 도중 모델을 저장하는 방법\n",
    ">   1. 각 에폭이 끝날 때 마다 모델을 저장한다.\n",
    ">   2. 한 에폭 학습 후 성능 개선이 있으면 모델을 저장하여 가장 성능 좋은 모델만 저장되도록 한다.\n",
    ">      - 최고 성능 점수(best score)와 현재 에폭의 성능을 비교하여, 성능이 개선되었을 경우 모델을 저장(덮어쓰기)한다.\n",
    ">\n",
    "> #### 조기 종료(Early Stopping)\n",
    ">\n",
    "> - 학습 도중 성능 개선이 나타나지 않으면, 중간에 학습을 종료하도록 구현한다.\n",
    "> - 에폭 수를 충분히 길게 설정한 뒤, 특정 횟수 동안 성능 개선이 없으면 학습을 조기 종료하도록 구현한다.\n"
   ]
  },
  {
   "cell_type": "code",
   "execution_count": 8,
   "metadata": {
    "colab": {
     "base_uri": "https://localhost:8080/"
    },
    "executionInfo": {
     "elapsed": 1795,
     "status": "ok",
     "timestamp": 1747030235465,
     "user": {
      "displayName": "Sunghwan KIM",
      "userId": "06010856989212311727"
     },
     "user_tz": -540
    },
    "id": "lcAcTsMkHIZO",
    "outputId": "582b48e3-b371-4ba4-a140-e109e5fda68b"
   },
   "outputs": [
    {
     "name": "stdout",
     "output_type": "stream",
     "text": [
      "cpu\n"
     ]
    }
   ],
   "source": [
    "import torch\n",
    "import torch.nn as nn\n",
    "from torchvision import datasets, transforms\n",
    "\n",
    "device = \"cuda\" if torch.cuda.is_available() else \"cpu\"\n",
    "print(device)"
   ]
  },
  {
   "cell_type": "code",
   "execution_count": 9,
   "metadata": {
    "executionInfo": {
     "elapsed": 189,
     "status": "ok",
     "timestamp": 1747030615756,
     "user": {
      "displayName": "Sunghwan KIM",
      "userId": "06010856989212311727"
     },
     "user_tz": -540
    },
    "id": "L55N5f1xHIWo"
   },
   "outputs": [
    {
     "name": "stderr",
     "output_type": "stream",
     "text": [
      "100.0%\n",
      "100.0%\n",
      "100.0%\n",
      "100.0%\n"
     ]
    }
   ],
   "source": [
    "########################\n",
    "# Dataset loading\n",
    "fmnist_trainset = datasets.FashionMNIST(\n",
    "    root=\"data\", train=True, download=True,\n",
    "    transform=transforms.ToTensor()\n",
    ")\n",
    "fmnist_testset = datasets.FashionMNIST(\n",
    "    root=\"data\", train=False, download=True,\n",
    "    transform=transforms.ToTensor()\n",
    ")"
   ]
  },
  {
   "cell_type": "code",
   "execution_count": 148,
   "metadata": {
    "colab": {
     "base_uri": "https://localhost:8080/"
    },
    "executionInfo": {
     "elapsed": 11,
     "status": "ok",
     "timestamp": 1747030618095,
     "user": {
      "displayName": "Sunghwan KIM",
      "userId": "06010856989212311727"
     },
     "user_tz": -540
    },
    "id": "uYrbdp7JHITo",
    "outputId": "d5b9102d-7603-4906-eb22-a7ca0b4c9588"
   },
   "outputs": [
    {
     "data": {
      "text/plain": [
       "Dataset FashionMNIST\n",
       "    Number of datapoints: 60000\n",
       "    Root location: data\n",
       "    Split: Train\n",
       "    StandardTransform\n",
       "Transform: ToTensor()"
      ]
     },
     "execution_count": 148,
     "metadata": {},
     "output_type": "execute_result"
    }
   ],
   "source": [
    "fmnist_trainset"
   ]
  },
  {
   "cell_type": "code",
   "execution_count": 149,
   "metadata": {
    "colab": {
     "base_uri": "https://localhost:8080/"
    },
    "executionInfo": {
     "elapsed": 6,
     "status": "ok",
     "timestamp": 1747030624352,
     "user": {
      "displayName": "Sunghwan KIM",
      "userId": "06010856989212311727"
     },
     "user_tz": -540
    },
    "id": "48f0-papHIRO",
    "outputId": "45635a67-fccb-4c23-d616-3ad0772c503c"
   },
   "outputs": [
    {
     "data": {
      "text/plain": [
       "Dataset FashionMNIST\n",
       "    Number of datapoints: 10000\n",
       "    Root location: data\n",
       "    Split: Test\n",
       "    StandardTransform\n",
       "Transform: ToTensor()"
      ]
     },
     "execution_count": 149,
     "metadata": {},
     "output_type": "execute_result"
    }
   ],
   "source": [
    "fmnist_testset"
   ]
  },
  {
   "cell_type": "code",
   "execution_count": 150,
   "metadata": {
    "colab": {
     "base_uri": "https://localhost:8080/"
    },
    "collapsed": true,
    "executionInfo": {
     "elapsed": 45,
     "status": "ok",
     "timestamp": 1747030626726,
     "user": {
      "displayName": "Sunghwan KIM",
      "userId": "06010856989212311727"
     },
     "user_tz": -540
    },
    "id": "UnhAMiKPHIOx",
    "outputId": "dd8de1b7-b148-448e-b5f3-022ab07f0bb4"
   },
   "outputs": [
    {
     "data": {
      "text/plain": [
       "(tensor([[[0.0000, 0.0000, 0.0000, 0.0000, 0.0000, 0.0000, 0.0000, 0.0000,\n",
       "           0.0000, 0.0000, 0.0000, 0.0000, 0.0000, 0.0000, 0.0000, 0.0000,\n",
       "           0.0000, 0.0000, 0.0000, 0.0000, 0.0000, 0.0000, 0.0000, 0.0000,\n",
       "           0.0000, 0.0000, 0.0000, 0.0000],\n",
       "          [0.0000, 0.0000, 0.0000, 0.0000, 0.0000, 0.0000, 0.0000, 0.0000,\n",
       "           0.0000, 0.0000, 0.0000, 0.0000, 0.0000, 0.0000, 0.0000, 0.0000,\n",
       "           0.0000, 0.0000, 0.0000, 0.0000, 0.0000, 0.0000, 0.0000, 0.0000,\n",
       "           0.0000, 0.0000, 0.0000, 0.0000],\n",
       "          [0.0000, 0.0000, 0.0000, 0.0000, 0.0000, 0.0000, 0.0000, 0.0000,\n",
       "           0.0000, 0.0000, 0.0000, 0.0000, 0.0000, 0.0000, 0.0000, 0.0000,\n",
       "           0.0000, 0.0000, 0.0000, 0.0000, 0.0000, 0.0000, 0.0000, 0.0000,\n",
       "           0.0000, 0.0000, 0.0000, 0.0000],\n",
       "          [0.0000, 0.0000, 0.0000, 0.0000, 0.0000, 0.0000, 0.0000, 0.0000,\n",
       "           0.0000, 0.0000, 0.0000, 0.0000, 0.0039, 0.0000, 0.0000, 0.0510,\n",
       "           0.2863, 0.0000, 0.0000, 0.0039, 0.0157, 0.0000, 0.0000, 0.0000,\n",
       "           0.0000, 0.0039, 0.0039, 0.0000],\n",
       "          [0.0000, 0.0000, 0.0000, 0.0000, 0.0000, 0.0000, 0.0000, 0.0000,\n",
       "           0.0000, 0.0000, 0.0000, 0.0000, 0.0118, 0.0000, 0.1412, 0.5333,\n",
       "           0.4980, 0.2431, 0.2118, 0.0000, 0.0000, 0.0000, 0.0039, 0.0118,\n",
       "           0.0157, 0.0000, 0.0000, 0.0118],\n",
       "          [0.0000, 0.0000, 0.0000, 0.0000, 0.0000, 0.0000, 0.0000, 0.0000,\n",
       "           0.0000, 0.0000, 0.0000, 0.0000, 0.0235, 0.0000, 0.4000, 0.8000,\n",
       "           0.6902, 0.5255, 0.5647, 0.4824, 0.0902, 0.0000, 0.0000, 0.0000,\n",
       "           0.0000, 0.0471, 0.0392, 0.0000],\n",
       "          [0.0000, 0.0000, 0.0000, 0.0000, 0.0000, 0.0000, 0.0000, 0.0000,\n",
       "           0.0000, 0.0000, 0.0000, 0.0000, 0.0000, 0.0000, 0.6078, 0.9255,\n",
       "           0.8118, 0.6980, 0.4196, 0.6118, 0.6314, 0.4275, 0.2510, 0.0902,\n",
       "           0.3020, 0.5098, 0.2824, 0.0588],\n",
       "          [0.0000, 0.0000, 0.0000, 0.0000, 0.0000, 0.0000, 0.0000, 0.0000,\n",
       "           0.0000, 0.0000, 0.0000, 0.0039, 0.0000, 0.2706, 0.8118, 0.8745,\n",
       "           0.8549, 0.8471, 0.8471, 0.6392, 0.4980, 0.4745, 0.4784, 0.5725,\n",
       "           0.5529, 0.3451, 0.6745, 0.2588],\n",
       "          [0.0000, 0.0000, 0.0000, 0.0000, 0.0000, 0.0000, 0.0000, 0.0000,\n",
       "           0.0000, 0.0039, 0.0039, 0.0039, 0.0000, 0.7843, 0.9098, 0.9098,\n",
       "           0.9137, 0.8980, 0.8745, 0.8745, 0.8431, 0.8353, 0.6431, 0.4980,\n",
       "           0.4824, 0.7686, 0.8980, 0.0000],\n",
       "          [0.0000, 0.0000, 0.0000, 0.0000, 0.0000, 0.0000, 0.0000, 0.0000,\n",
       "           0.0000, 0.0000, 0.0000, 0.0000, 0.0000, 0.7176, 0.8824, 0.8471,\n",
       "           0.8745, 0.8941, 0.9216, 0.8902, 0.8784, 0.8706, 0.8784, 0.8667,\n",
       "           0.8745, 0.9608, 0.6784, 0.0000],\n",
       "          [0.0000, 0.0000, 0.0000, 0.0000, 0.0000, 0.0000, 0.0000, 0.0000,\n",
       "           0.0000, 0.0000, 0.0000, 0.0000, 0.0000, 0.7569, 0.8941, 0.8549,\n",
       "           0.8353, 0.7765, 0.7059, 0.8314, 0.8235, 0.8275, 0.8353, 0.8745,\n",
       "           0.8627, 0.9529, 0.7922, 0.0000],\n",
       "          [0.0000, 0.0000, 0.0000, 0.0000, 0.0000, 0.0000, 0.0000, 0.0000,\n",
       "           0.0000, 0.0039, 0.0118, 0.0000, 0.0471, 0.8588, 0.8627, 0.8314,\n",
       "           0.8549, 0.7529, 0.6627, 0.8902, 0.8157, 0.8549, 0.8784, 0.8314,\n",
       "           0.8863, 0.7725, 0.8196, 0.2039],\n",
       "          [0.0000, 0.0000, 0.0000, 0.0000, 0.0000, 0.0000, 0.0000, 0.0000,\n",
       "           0.0000, 0.0000, 0.0235, 0.0000, 0.3882, 0.9569, 0.8706, 0.8627,\n",
       "           0.8549, 0.7961, 0.7765, 0.8667, 0.8431, 0.8353, 0.8706, 0.8627,\n",
       "           0.9608, 0.4667, 0.6549, 0.2196],\n",
       "          [0.0000, 0.0000, 0.0000, 0.0000, 0.0000, 0.0000, 0.0000, 0.0000,\n",
       "           0.0000, 0.0157, 0.0000, 0.0000, 0.2157, 0.9255, 0.8941, 0.9020,\n",
       "           0.8941, 0.9412, 0.9098, 0.8353, 0.8549, 0.8745, 0.9176, 0.8510,\n",
       "           0.8510, 0.8196, 0.3608, 0.0000],\n",
       "          [0.0000, 0.0000, 0.0039, 0.0157, 0.0235, 0.0275, 0.0078, 0.0000,\n",
       "           0.0000, 0.0000, 0.0000, 0.0000, 0.9294, 0.8863, 0.8510, 0.8745,\n",
       "           0.8706, 0.8588, 0.8706, 0.8667, 0.8471, 0.8745, 0.8980, 0.8431,\n",
       "           0.8549, 1.0000, 0.3020, 0.0000],\n",
       "          [0.0000, 0.0118, 0.0000, 0.0000, 0.0000, 0.0000, 0.0000, 0.0000,\n",
       "           0.0000, 0.2431, 0.5686, 0.8000, 0.8941, 0.8118, 0.8353, 0.8667,\n",
       "           0.8549, 0.8157, 0.8275, 0.8549, 0.8784, 0.8745, 0.8588, 0.8431,\n",
       "           0.8784, 0.9569, 0.6235, 0.0000],\n",
       "          [0.0000, 0.0000, 0.0000, 0.0000, 0.0706, 0.1725, 0.3216, 0.4196,\n",
       "           0.7412, 0.8941, 0.8627, 0.8706, 0.8510, 0.8863, 0.7843, 0.8039,\n",
       "           0.8275, 0.9020, 0.8784, 0.9176, 0.6902, 0.7373, 0.9804, 0.9725,\n",
       "           0.9137, 0.9333, 0.8431, 0.0000],\n",
       "          [0.0000, 0.2235, 0.7333, 0.8157, 0.8784, 0.8667, 0.8784, 0.8157,\n",
       "           0.8000, 0.8392, 0.8157, 0.8196, 0.7843, 0.6235, 0.9608, 0.7569,\n",
       "           0.8078, 0.8745, 1.0000, 1.0000, 0.8667, 0.9176, 0.8667, 0.8275,\n",
       "           0.8627, 0.9098, 0.9647, 0.0000],\n",
       "          [0.0118, 0.7922, 0.8941, 0.8784, 0.8667, 0.8275, 0.8275, 0.8392,\n",
       "           0.8039, 0.8039, 0.8039, 0.8627, 0.9412, 0.3137, 0.5882, 1.0000,\n",
       "           0.8980, 0.8667, 0.7373, 0.6039, 0.7490, 0.8235, 0.8000, 0.8196,\n",
       "           0.8706, 0.8941, 0.8824, 0.0000],\n",
       "          [0.3843, 0.9137, 0.7765, 0.8235, 0.8706, 0.8980, 0.8980, 0.9176,\n",
       "           0.9765, 0.8627, 0.7608, 0.8431, 0.8510, 0.9451, 0.2549, 0.2863,\n",
       "           0.4157, 0.4588, 0.6588, 0.8588, 0.8667, 0.8431, 0.8510, 0.8745,\n",
       "           0.8745, 0.8784, 0.8980, 0.1137],\n",
       "          [0.2941, 0.8000, 0.8314, 0.8000, 0.7569, 0.8039, 0.8275, 0.8824,\n",
       "           0.8471, 0.7255, 0.7725, 0.8078, 0.7765, 0.8353, 0.9412, 0.7647,\n",
       "           0.8902, 0.9608, 0.9373, 0.8745, 0.8549, 0.8314, 0.8196, 0.8706,\n",
       "           0.8627, 0.8667, 0.9020, 0.2627],\n",
       "          [0.1882, 0.7961, 0.7176, 0.7608, 0.8353, 0.7725, 0.7255, 0.7451,\n",
       "           0.7608, 0.7529, 0.7922, 0.8392, 0.8588, 0.8667, 0.8627, 0.9255,\n",
       "           0.8824, 0.8471, 0.7804, 0.8078, 0.7294, 0.7098, 0.6941, 0.6745,\n",
       "           0.7098, 0.8039, 0.8078, 0.4510],\n",
       "          [0.0000, 0.4784, 0.8588, 0.7569, 0.7020, 0.6706, 0.7176, 0.7686,\n",
       "           0.8000, 0.8235, 0.8353, 0.8118, 0.8275, 0.8235, 0.7843, 0.7686,\n",
       "           0.7608, 0.7490, 0.7647, 0.7490, 0.7765, 0.7529, 0.6902, 0.6118,\n",
       "           0.6549, 0.6941, 0.8235, 0.3608],\n",
       "          [0.0000, 0.0000, 0.2902, 0.7412, 0.8314, 0.7490, 0.6863, 0.6745,\n",
       "           0.6863, 0.7098, 0.7255, 0.7373, 0.7412, 0.7373, 0.7569, 0.7765,\n",
       "           0.8000, 0.8196, 0.8235, 0.8235, 0.8275, 0.7373, 0.7373, 0.7608,\n",
       "           0.7529, 0.8471, 0.6667, 0.0000],\n",
       "          [0.0078, 0.0000, 0.0000, 0.0000, 0.2588, 0.7843, 0.8706, 0.9294,\n",
       "           0.9373, 0.9490, 0.9647, 0.9529, 0.9569, 0.8667, 0.8627, 0.7569,\n",
       "           0.7490, 0.7020, 0.7137, 0.7137, 0.7098, 0.6902, 0.6510, 0.6588,\n",
       "           0.3882, 0.2275, 0.0000, 0.0000],\n",
       "          [0.0000, 0.0000, 0.0000, 0.0000, 0.0000, 0.0000, 0.0000, 0.1569,\n",
       "           0.2392, 0.1725, 0.2824, 0.1608, 0.1373, 0.0000, 0.0000, 0.0000,\n",
       "           0.0000, 0.0000, 0.0000, 0.0000, 0.0000, 0.0000, 0.0000, 0.0000,\n",
       "           0.0000, 0.0000, 0.0000, 0.0000],\n",
       "          [0.0000, 0.0000, 0.0000, 0.0000, 0.0000, 0.0000, 0.0000, 0.0000,\n",
       "           0.0000, 0.0000, 0.0000, 0.0000, 0.0000, 0.0000, 0.0000, 0.0000,\n",
       "           0.0000, 0.0000, 0.0000, 0.0000, 0.0000, 0.0000, 0.0000, 0.0000,\n",
       "           0.0000, 0.0000, 0.0000, 0.0000],\n",
       "          [0.0000, 0.0000, 0.0000, 0.0000, 0.0000, 0.0000, 0.0000, 0.0000,\n",
       "           0.0000, 0.0000, 0.0000, 0.0000, 0.0000, 0.0000, 0.0000, 0.0000,\n",
       "           0.0000, 0.0000, 0.0000, 0.0000, 0.0000, 0.0000, 0.0000, 0.0000,\n",
       "           0.0000, 0.0000, 0.0000, 0.0000]]]),\n",
       " 9)"
      ]
     },
     "execution_count": 150,
     "metadata": {},
     "output_type": "execute_result"
    }
   ],
   "source": [
    "fmnist_trainset[0]\n",
    "# (<PIL.Image.Image image mode=L size=28x28>, 9)"
   ]
  },
  {
   "cell_type": "code",
   "execution_count": 145,
   "metadata": {
    "colab": {
     "base_uri": "https://localhost:8080/",
     "height": 45
    },
    "executionInfo": {
     "elapsed": 46,
     "status": "ok",
     "timestamp": 1747030469158,
     "user": {
      "displayName": "Sunghwan KIM",
      "userId": "06010856989212311727"
     },
     "user_tz": -540
    },
    "id": "kuslHrFAHIL0",
    "outputId": "7fb2d252-0141-4005-9365-84a9fc830fad"
   },
   "outputs": [
    {
     "data": {
      "image/jpeg": "[encoded data removed]",
      "image/png": "[encoded data removed]",
      "text/plain": [
       "<PIL.Image.Image image mode=L size=28x28>"
      ]
     },
     "execution_count": 145,
     "metadata": {},
     "output_type": "execute_result"
    }
   ],
   "source": [
    "idx = 10\n",
    "fmnist_trainset[idx][0]"
   ]
  },
  {
   "cell_type": "code",
   "execution_count": 151,
   "metadata": {
    "colab": {
     "base_uri": "https://localhost:8080/"
    },
    "executionInfo": {
     "elapsed": 49,
     "status": "ok",
     "timestamp": 1747030736998,
     "user": {
      "displayName": "Sunghwan KIM",
      "userId": "06010856989212311727"
     },
     "user_tz": -540
    },
    "id": "HWC-mAB3JXYA",
    "outputId": "324e917c-a496-4541-9616-53365a37a8da"
   },
   "outputs": [
    {
     "data": {
      "text/plain": [
       "60000"
      ]
     },
     "execution_count": 151,
     "metadata": {},
     "output_type": "execute_result"
    }
   ],
   "source": [
    "len(fmnist_trainset)"
   ]
  },
  {
   "cell_type": "code",
   "execution_count": 153,
   "metadata": {
    "executionInfo": {
     "elapsed": 33,
     "status": "ok",
     "timestamp": 1747030781842,
     "user": {
      "displayName": "Sunghwan KIM",
      "userId": "06010856989212311727"
     },
     "user_tz": -540
    },
    "id": "KGU-59ztIUqi"
   },
   "outputs": [],
   "source": [
    "# trainset -> trainset/validationset으로 분리\n",
    "fmnist_trainset, fmnist_validset = torch.utils.data.random_split(\n",
    "    fmnist_trainset, [50000, 10000]\n",
    ")"
   ]
  },
  {
   "cell_type": "code",
   "execution_count": 154,
   "metadata": {
    "colab": {
     "base_uri": "https://localhost:8080/"
    },
    "executionInfo": {
     "elapsed": 54,
     "status": "ok",
     "timestamp": 1747030827561,
     "user": {
      "displayName": "Sunghwan KIM",
      "userId": "06010856989212311727"
     },
     "user_tz": -540
    },
    "id": "0aJvonUtIUqj",
    "outputId": "555c8591-9aaf-44a3-fcda-92f8ee48fa3b"
   },
   "outputs": [
    {
     "data": {
      "text/plain": [
       "(50000, 10000, 10000)"
      ]
     },
     "execution_count": 154,
     "metadata": {},
     "output_type": "execute_result"
    }
   ],
   "source": [
    "len(fmnist_trainset), len(fmnist_validset), len(fmnist_testset)"
   ]
  },
  {
   "cell_type": "code",
   "execution_count": 155,
   "metadata": {
    "colab": {
     "base_uri": "https://localhost:8080/"
    },
    "executionInfo": {
     "elapsed": 42,
     "status": "ok",
     "timestamp": 1747030891208,
     "user": {
      "displayName": "Sunghwan KIM",
      "userId": "06010856989212311727"
     },
     "user_tz": -540
    },
    "id": "gUefQlhRJ2G-",
    "outputId": "a780e276-3feb-464d-bfc9-ede57804f0d8"
   },
   "outputs": [
    {
     "data": {
      "text/plain": [
       "{'T-shirt/top': 0,\n",
       " 'Trouser': 1,\n",
       " 'Pullover': 2,\n",
       " 'Dress': 3,\n",
       " 'Coat': 4,\n",
       " 'Sandal': 5,\n",
       " 'Shirt': 6,\n",
       " 'Sneaker': 7,\n",
       " 'Bag': 8,\n",
       " 'Ankle boot': 9}"
      ]
     },
     "execution_count": 155,
     "metadata": {},
     "output_type": "execute_result"
    }
   ],
   "source": [
    "fmnist_testset.class_to_idx"
   ]
  },
  {
   "cell_type": "code",
   "execution_count": 156,
   "metadata": {
    "colab": {
     "base_uri": "https://localhost:8080/"
    },
    "executionInfo": {
     "elapsed": 12,
     "status": "ok",
     "timestamp": 1747030905327,
     "user": {
      "displayName": "Sunghwan KIM",
      "userId": "06010856989212311727"
     },
     "user_tz": -540
    },
    "id": "f3kh8vhzJ2Eu",
    "outputId": "087fd8ac-d52a-45f0-b8e2-35d522fa4396"
   },
   "outputs": [
    {
     "data": {
      "text/plain": [
       "['T-shirt/top',\n",
       " 'Trouser',\n",
       " 'Pullover',\n",
       " 'Dress',\n",
       " 'Coat',\n",
       " 'Sandal',\n",
       " 'Shirt',\n",
       " 'Sneaker',\n",
       " 'Bag',\n",
       " 'Ankle boot']"
      ]
     },
     "execution_count": 156,
     "metadata": {},
     "output_type": "execute_result"
    }
   ],
   "source": [
    "fmnist_testset.classes"
   ]
  },
  {
   "cell_type": "code",
   "execution_count": 157,
   "metadata": {
    "executionInfo": {
     "elapsed": 46,
     "status": "ok",
     "timestamp": 1747031155021,
     "user": {
      "displayName": "Sunghwan KIM",
      "userId": "06010856989212311727"
     },
     "user_tz": -540
    },
    "id": "1RVZUHulKXaL"
   },
   "outputs": [],
   "source": [
    "##############\n",
    "# DataLoader\n",
    "##############\n",
    "train_loader = torch.utils.data.DataLoader(\n",
    "    fmnist_trainset, batch_size=200, shuffle=True, drop_last=True\n",
    ")\n",
    "valid_loader = torch.utils.data.DataLoader(\n",
    "    fmnist_validset, batch_size=200\n",
    ")\n",
    "test_loader = torch.utils.data.DataLoader(\n",
    "    fmnist_testset, batch_size=200\n",
    ")"
   ]
  },
  {
   "cell_type": "code",
   "execution_count": 12,
   "metadata": {
    "executionInfo": {
     "elapsed": 8,
     "status": "ok",
     "timestamp": 1747032143441,
     "user": {
      "displayName": "Sunghwan KIM",
      "userId": "06010856989212311727"
     },
     "user_tz": -540
    },
    "id": "BlkgCvrKJ2B1"
   },
   "outputs": [],
   "source": [
    "#########################\n",
    "# 모델 정의\n",
    "#########################\n",
    "class FMNISTModel(nn.Module):\n",
    "\n",
    "    def __init__(self):\n",
    "        super().__init__()\n",
    "        self.lr1 = nn.Linear(28*28, 512)\n",
    "        self.lr2 = nn.Linear(512, 256)\n",
    "        self.lr3 = nn.Linear(256, 128)\n",
    "        self.lr4 = nn.Linear(128, 64)\n",
    "        self.lr5 = nn.Linear(64, 10) #출력->class개수\n",
    "        self.relu = nn.ReLU()\n",
    "\n",
    "    def forward(self, X):\n",
    "        \"\"\"\n",
    "        X: 입력 tensor - shape: [batch_size, 1, 28, 28]\n",
    "        \"\"\"\n",
    "        # 1. flatten -> 3차원 입력을 1차원으로 변환.\n",
    "        # torch.flatten(X, start_dim=1)\n",
    "        X = nn.Flatten()(X) # 1축 이후를 flatten\n",
    "\n",
    "        X = self.lr1(X)\n",
    "        X = self.relu(X)\n",
    "\n",
    "        X = self.lr2(X)\n",
    "        X = self.relu(X)\n",
    "\n",
    "        X = self.lr3(X)\n",
    "        X = self.relu(X)\n",
    "\n",
    "        X = self.lr4(X)\n",
    "        X = self.relu(X)\n",
    "\n",
    "        out = self.lr5(X)  # CrossEntropyLoss() -> Linear 출력결과를 그대로 반환.(Softmax를 적용안함.)\n",
    "        return out"
   ]
  },
  {
   "cell_type": "code",
   "execution_count": 165,
   "metadata": {
    "colab": {
     "base_uri": "https://localhost:8080/"
    },
    "executionInfo": {
     "elapsed": 55,
     "status": "ok",
     "timestamp": 1747032171776,
     "user": {
      "displayName": "Sunghwan KIM",
      "userId": "06010856989212311727"
     },
     "user_tz": -540
    },
    "id": "T2ogJRZZOyZu",
    "outputId": "1ae91ab7-4fda-4645-ceab-5473873ae793"
   },
   "outputs": [
    {
     "data": {
      "text/plain": [
       "FMNISTModel(\n",
       "  (lr1): Linear(in_features=784, out_features=512, bias=True)\n",
       "  (lr2): Linear(in_features=512, out_features=256, bias=True)\n",
       "  (lr3): Linear(in_features=256, out_features=128, bias=True)\n",
       "  (lr4): Linear(in_features=128, out_features=64, bias=True)\n",
       "  (lr5): Linear(in_features=64, out_features=10, bias=True)\n",
       "  (relu): ReLU()\n",
       ")"
      ]
     },
     "execution_count": 165,
     "metadata": {},
     "output_type": "execute_result"
    }
   ],
   "source": [
    "# 모델 구조 확인\n",
    "m = FMNISTModel()\n",
    "m"
   ]
  },
  {
   "cell_type": "code",
   "execution_count": 168,
   "metadata": {
    "colab": {
     "base_uri": "https://localhost:8080/"
    },
    "executionInfo": {
     "elapsed": 88,
     "status": "ok",
     "timestamp": 1747032274457,
     "user": {
      "displayName": "Sunghwan KIM",
      "userId": "06010856989212311727"
     },
     "user_tz": -540
    },
    "id": "rppit0M-J15-",
    "outputId": "a8f29d2f-d5a9-405b-8d96-f01978ebfd0c"
   },
   "outputs": [
    {
     "data": {
      "text/plain": [
       "==========================================================================================\n",
       "Layer (type:depth-idx)                   Output Shape              Param #\n",
       "==========================================================================================\n",
       "FMNISTModel                              [200, 10]                 --\n",
       "├─Linear: 1-1                            [200, 512]                401,920\n",
       "├─ReLU: 1-2                              [200, 512]                --\n",
       "├─Linear: 1-3                            [200, 256]                131,328\n",
       "├─ReLU: 1-4                              [200, 256]                --\n",
       "├─Linear: 1-5                            [200, 128]                32,896\n",
       "├─ReLU: 1-6                              [200, 128]                --\n",
       "├─Linear: 1-7                            [200, 64]                 8,256\n",
       "├─ReLU: 1-8                              [200, 64]                 --\n",
       "├─Linear: 1-9                            [200, 10]                 650\n",
       "==========================================================================================\n",
       "Total params: 575,050\n",
       "Trainable params: 575,050\n",
       "Non-trainable params: 0\n",
       "Total mult-adds (Units.MEGABYTES): 115.01\n",
       "==========================================================================================\n",
       "Input size (MB): 0.63\n",
       "Forward/backward pass size (MB): 1.55\n",
       "Params size (MB): 2.30\n",
       "Estimated Total Size (MB): 4.48\n",
       "=========================================================================================="
      ]
     },
     "execution_count": 168,
     "metadata": {},
     "output_type": "execute_result"
    }
   ],
   "source": [
    "from torchinfo import summary\n",
    "summary(m, (200, 1, 28, 28), device=device)"
   ]
  },
  {
   "cell_type": "code",
   "execution_count": 180,
   "metadata": {
    "executionInfo": {
     "elapsed": 6,
     "status": "ok",
     "timestamp": 1747038640225,
     "user": {
      "displayName": "Sunghwan KIM",
      "userId": "06010856989212311727"
     },
     "user_tz": -540
    },
    "id": "FCt6SbsvJ13Z"
   },
   "outputs": [],
   "source": [
    "##################\n",
    "# 학습\n",
    "##################\n",
    "LR = 0.001\n",
    "EPOCHS = 20\n",
    "\n",
    "fmnist_model = FMNISTModel().to(device)\n",
    "optimizer = torch.optim.Adam(fmnist_model.parameters(), lr=LR)\n",
    "loss_fn = nn.CrossEntropyLoss()\n",
    "# 다중 분류 loss: categorical crossentropy\n",
    "## CrossEntropyLoss:\n",
    "#1. y정답을 one hot encoding\n",
    "#2. pred 예측값에 softmax를 적용\n",
    "#3. categorical crossentrpy 계산"
   ]
  },
  {
   "cell_type": "code",
   "execution_count": 181,
   "metadata": {
    "colab": {
     "base_uri": "https://localhost:8080/"
    },
    "executionInfo": {
     "elapsed": 208692,
     "status": "ok",
     "timestamp": 1747038850343,
     "user": {
      "displayName": "Sunghwan KIM",
      "userId": "06010856989212311727"
     },
     "user_tz": -540
    },
    "id": "sElFy1e3J10v",
    "outputId": "5a409454-c03d-4ea6-965e-32cc5aad2353"
   },
   "outputs": [
    {
     "name": "stdout",
     "output_type": "stream",
     "text": [
      "[1/100] train loss: 0.6909856842756271, valid loss: 0.4435706722736359, valid acc: 0.842\n",
      ">>>>>>>>>>1 에폭에서 저장. 0.4435706722736359에서 0.4435706722736359만큼 validation loss가 개선됨.\n",
      "[2/100] train loss: 0.41600893962383273, valid loss: 0.3957969707250595, valid acc: 0.8572\n",
      ">>>>>>>>>>2 에폭에서 저장. 0.3957969707250595에서 0.3957969707250595만큼 validation loss가 개선됨.\n",
      "[3/100] train loss: 0.36363321864604947, valid loss: 0.37852869093418123, valid acc: 0.8629\n",
      ">>>>>>>>>>3 에폭에서 저장. 0.37852869093418123에서 0.37852869093418123만큼 validation loss가 개선됨.\n",
      "[4/100] train loss: 0.3358773491382599, valid loss: 0.3475519070029259, valid acc: 0.8766\n",
      ">>>>>>>>>>4 에폭에서 저장. 0.3475519070029259에서 0.3475519070029259만큼 validation loss가 개선됨.\n",
      "[5/100] train loss: 0.3129865292906761, valid loss: 0.32284657537937167, valid acc: 0.8831\n",
      ">>>>>>>>>>5 에폭에서 저장. 0.32284657537937167에서 0.32284657537937167만큼 validation loss가 개선됨.\n",
      "[6/100] train loss: 0.29860647362470627, valid loss: 0.35946077823638917, valid acc: 0.8712\n",
      "[7/100] train loss: 0.2894183790385723, valid loss: 0.32858614772558215, valid acc: 0.8807\n",
      "[8/100] train loss: 0.2750513117313385, valid loss: 0.337883303463459, valid acc: 0.8755\n",
      "[9/100] train loss: 0.2614323979020119, valid loss: 0.30635296493768693, valid acc: 0.8923\n",
      ">>>>>>>>>>9 에폭에서 저장. 0.30635296493768693에서 0.30635296493768693만큼 validation loss가 개선됨.\n",
      "[10/100] train loss: 0.25113477373123166, valid loss: 0.3135702630877495, valid acc: 0.8894\n",
      "[11/100] train loss: 0.2441569816172123, valid loss: 0.3541478282213211, valid acc: 0.8764\n",
      "[12/100] train loss: 0.2335461930334568, valid loss: 0.2962196233868599, valid acc: 0.8959\n",
      ">>>>>>>>>>12 에폭에서 저장. 0.2962196233868599에서 0.2962196233868599만큼 validation loss가 개선됨.\n",
      "[13/100] train loss: 0.22428283441066743, valid loss: 0.30650457948446275, valid acc: 0.8933\n",
      "[14/100] train loss: 0.21382410761713982, valid loss: 0.31456234395503996, valid acc: 0.8951\n",
      "[15/100] train loss: 0.2075494408905506, valid loss: 0.31260656923055646, valid acc: 0.8973\n",
      "[16/100] train loss: 0.2012068432867527, valid loss: 0.30042265623807907, valid acc: 0.8981\n",
      "[17/100] train loss: 0.19669565337896347, valid loss: 0.31370237439870835, valid acc: 0.893\n",
      "============17에폭에서 조기 종료\n",
      "학습에 걸린 총 시간: 208.6844425201416초\n"
     ]
    }
   ],
   "source": [
    "########### 학습\n",
    "\n",
    "import time\n",
    "\n",
    "train_loss_list = []\n",
    "valid_loss_list = []\n",
    "valid_acc_list = []\n",
    "\n",
    "#######################################\n",
    "# 1. 학습 도중 이전 epoch들 보다 성능이 개선되면 모델을 저장\n",
    "# 2. 특정 epoch 동안 성능 개선이 없으면 학습을 중지\n",
    "#######################################\n",
    "# 변수들 선언\n",
    "import os\n",
    "os.makedirs(\"saved_models\", exist_ok=True)\n",
    "saved_path = \"saved_models/fashion_mnist_model.pt\"\n",
    "best_score = torch.inf # 현재 가장 좋은 평가지표(loss).\n",
    "#  best_score > 검증loss (성능개선) -> 모델 저장.\n",
    "\n",
    "## 조기종료 관련 변수\n",
    "patience = 5 # 성능이 개선될지 몇 에폭을 기다릴지.\n",
    "trigger_cnt = 0 # 몇 에폭째 기다리는지 저장할 변수.\n",
    "\n",
    "\n",
    "s = time.time()\n",
    "\n",
    "####### train 코드 작성.\n",
    "EPOCHS = 100\n",
    "for epoch in range(EPOCHS):\n",
    "    # 학습\n",
    "    fmnist_model.train()\n",
    "    train_loss = 0.0\n",
    "    for X_train, y_train in train_loader:\n",
    "        # device로 이동\n",
    "        X_train, y_train = X_train.to(device), y_train.to(device)\n",
    "\n",
    "        # 추론\n",
    "        pred_train = fmnist_model(X_train)\n",
    "\n",
    "        # loss 계산\n",
    "        loss = loss_fn(pred_train, y_train)\n",
    "\n",
    "        # gradient 계산\n",
    "        loss.backward()\n",
    "\n",
    "        # 파라미터 업데이트\n",
    "        optimizer.step()\n",
    "\n",
    "        # gradient 초기화\n",
    "        optimizer.zero_grad()\n",
    "\n",
    "        train_loss += loss.item()\n",
    "\n",
    "    train_loss /= len(train_loader)\n",
    "    train_loss_list.append(train_loss)\n",
    "\n",
    "    # 검증\n",
    "    fmnist_model.eval()\n",
    "    valid_loss = 0.0\n",
    "    valid_acc = 0.0\n",
    "    with torch.no_grad():\n",
    "        for X_valid, y_valid in valid_loader:\n",
    "            # 이동\n",
    "            X_valid, y_valid = X_valid.to(device), y_valid.to(device)\n",
    "\n",
    "            # 추론\n",
    "            pred_valid = fmnist_model(X_valid)\n",
    "\n",
    "            # 검증\n",
    "            ## loss\n",
    "            valid_loss += loss_fn(pred_valid, y_valid).item()\n",
    "            ## 정확도\n",
    "            # 모델이 예측한 정답 class -> 10개 출력값 중 가장 큰 값이 있는 index\n",
    "            pred_class = pred_valid.argmax(dim=-1)\n",
    "            valid_acc += torch.sum(pred_class == y_valid).item()\n",
    "\n",
    "        valid_loss /= len(valid_loader) # step수로 나눠서 평균계산.\n",
    "        valid_acc /= len(fmnist_validset) # 총 데이터개수\n",
    "        valid_loss_list.append(valid_loss)\n",
    "        valid_acc_list.append(valid_acc)\n",
    "\n",
    "        print(f\"[{epoch+1}/{EPOCHS}] train loss: {train_loss}, valid loss: {valid_loss}, valid acc: {valid_acc}\")\n",
    "\n",
    "    ## 한 에폭 학습/검증 종료 후 모델 저장(성능개선시),\n",
    "    #                                        조기종료(성능개선이 안된 경우)\n",
    "    if valid_loss < best_score: # 이전 에폭의 결과보다 성능 개선됨.\n",
    "        # 모델 저장\n",
    "        torch.save(fmnist_model, saved_path)\n",
    "        best_score = valid_loss\n",
    "        print(f\">>>>>>>>>>{epoch+1} 에폭에서 저장. {best_score}에서 {valid_loss}만큼 validation loss가 개선됨.\")\n",
    "        trigger_cnt = 0\n",
    "        # 조기종료를 위해서 성능개선을 기다리는 에폭수. 성능이 개선됐으므로 0으로 초기화\n",
    "    else:\n",
    "        # 조기종료 처리.\n",
    "        trigger_cnt += 1\n",
    "        if patience == trigger_cnt:\n",
    "            print(f\"============{epoch+1}에폭에서 조기 종료\")\n",
    "            break\n",
    "\n",
    "e = time.time()\n",
    "print(f'학습에 걸린 총 시간: {e-s}초')"
   ]
  },
  {
   "cell_type": "code",
   "execution_count": 174,
   "metadata": {
    "colab": {
     "base_uri": "https://localhost:8080/",
     "height": 391
    },
    "executionInfo": {
     "elapsed": 1997,
     "status": "ok",
     "timestamp": 1747037343922,
     "user": {
      "displayName": "Sunghwan KIM",
      "userId": "06010856989212311727"
     },
     "user_tz": -540
    },
    "id": "3bCCkCu0J1x9",
    "outputId": "76d4fd1d-c3fb-4475-a5ef-db5415bfcaae"
   },
   "outputs": [
    {
     "data": {
      "image/png": "[encoded data removed]",
      "text/plain": [
       "<Figure size 1000x400 with 2 Axes>"
      ]
     },
     "metadata": {},
     "output_type": "display_data"
    }
   ],
   "source": [
    "# 결과 시각화\n",
    "import matplotlib.pyplot as plt\n",
    "\n",
    "plt.figure(figsize=(10, 4))\n",
    "plt.subplot(1, 2, 1)\n",
    "plt.plot(range(EPOCHS), train_loss_list, label=\"train loss\")\n",
    "plt.plot(range(EPOCHS), valid_loss_list, label=\"valid loss\")\n",
    "plt.ylabel(\"Loss\")\n",
    "plt.xlabel(\"Epoch\")\n",
    "\n",
    "plt.subplot(1, 2, 2)\n",
    "plt.plot(range(EPOCHS), valid_acc_list, label='valid loss')\n",
    "\n",
    "plt.legend()\n",
    "plt.show()"
   ]
  },
  {
   "cell_type": "code",
   "execution_count": 178,
   "metadata": {
    "colab": {
     "base_uri": "https://localhost:8080/"
    },
    "executionInfo": {
     "elapsed": 9,
     "status": "ok",
     "timestamp": 1747037482544,
     "user": {
      "displayName": "Sunghwan KIM",
      "userId": "06010856989212311727"
     },
     "user_tz": -540
    },
    "id": "Z0EbqU67J1vX",
    "outputId": "4519e4a8-00c0-49df-8754-dd5869e972b2"
   },
   "outputs": [
    {
     "data": {
      "text/plain": [
       "(np.float64(0.2961127930879593), np.int64(8))"
      ]
     },
     "execution_count": 178,
     "metadata": {},
     "output_type": "execute_result"
    }
   ],
   "source": [
    "import numpy as np\n",
    "np.min(valid_loss_list), np.argmin(valid_loss_list)\n",
    "\n",
    "(np.float64(0.2961127930879593), np.int64(8))"
   ]
  },
  {
   "cell_type": "code",
   "execution_count": 182,
   "metadata": {
    "executionInfo": {
     "elapsed": 3209,
     "status": "ok",
     "timestamp": 1747039130639,
     "user": {
      "displayName": "Sunghwan KIM",
      "userId": "06010856989212311727"
     },
     "user_tz": -540
    },
    "id": "nZFkUKrSJ1s7"
   },
   "outputs": [],
   "source": [
    "###########################\n",
    "# 최종 평가\n",
    "###########################\n",
    "with torch.no_grad():\n",
    "    test_loss = 0.0\n",
    "    test_acc = 0.0\n",
    "    for X_test, y_test in test_loader:\n",
    "        X_test, y_test = X_test.to(device), y_test.to(device)\n",
    "        pred_test = fmnist_model(X_test)\n",
    "        test_loss += loss_fn(pred_test, y_test).item()\n",
    "        test_acc += torch.sum(pred_test.argmax(dim=-1) == y_test).item()\n",
    "    test_loss /= len(test_loader)\n",
    "    test_acc /= len(fmnist_testset)"
   ]
  },
  {
   "cell_type": "code",
   "execution_count": 183,
   "metadata": {
    "colab": {
     "base_uri": "https://localhost:8080/"
    },
    "executionInfo": {
     "elapsed": 53,
     "status": "ok",
     "timestamp": 1747039136926,
     "user": {
      "displayName": "Sunghwan KIM",
      "userId": "06010856989212311727"
     },
     "user_tz": -540
    },
    "id": "Vp6Q9gD2J1qL",
    "outputId": "450304eb-86ab-4ca1-e5d2-b19efa3c663d"
   },
   "outputs": [
    {
     "name": "stdout",
     "output_type": "stream",
     "text": [
      "0.349494885802269\n",
      "0.8825\n"
     ]
    }
   ],
   "source": [
    "print(test_loss)\n",
    "print(test_acc)\n",
    "# 0.349494885802269\n",
    "# 0.8825"
   ]
  },
  {
   "cell_type": "code",
   "execution_count": 13,
   "metadata": {
    "id": "dYDW-wFQJ1lg"
   },
   "outputs": [
    {
     "data": {
      "text/plain": [
       "FMNISTModel(\n",
       "  (lr1): Linear(in_features=784, out_features=512, bias=True)\n",
       "  (lr2): Linear(in_features=512, out_features=256, bias=True)\n",
       "  (lr3): Linear(in_features=256, out_features=128, bias=True)\n",
       "  (lr4): Linear(in_features=128, out_features=64, bias=True)\n",
       "  (lr5): Linear(in_features=64, out_features=10, bias=True)\n",
       "  (relu): ReLU()\n",
       ")"
      ]
     },
     "execution_count": 13,
     "metadata": {},
     "output_type": "execute_result"
    }
   ],
   "source": [
    "load_fmodel = torch.load(\"fashion_mnist_model.pt\", weights_only=False)\n",
    "load_fmodel"
   ]
  },
  {
   "cell_type": "code",
   "execution_count": 18,
   "metadata": {},
   "outputs": [
    {
     "data": {
      "text/plain": [
       "(torch.Size([50, 1, 28, 28]), torch.Size([50]))"
      ]
     },
     "execution_count": 18,
     "metadata": {},
     "output_type": "execute_result"
    }
   ],
   "source": [
    "dataloader = torch.utils.data.DataLoader(fmnist_testset, batch_size=50)\n",
    "x, y = next(iter(dataloader))\n",
    "x.shape, y.shape"
   ]
  },
  {
   "cell_type": "code",
   "execution_count": 22,
   "metadata": {},
   "outputs": [],
   "source": [
    "with torch.no_grad():\n",
    "    pred_logit = load_fmodel(x)\n",
    "    result = torch.max(pred_logit, dim=-1)"
   ]
  },
  {
   "cell_type": "code",
   "execution_count": null,
   "metadata": {},
   "outputs": [
    {
     "name": "stdout",
     "output_type": "stream",
     "text": [
      "tensor([ 6.6165, 10.2547, 17.5566, 15.8298,  5.5867, 12.9642, 12.3320, 12.8852,\n",
      "        12.3735,  7.2927,  5.8394,  8.4934,  5.0595,  6.3468,  5.9614,  9.6942,\n",
      "         8.1569,  6.4463, 11.1379,  5.2048,  3.2624,  4.3939,  7.9788,  5.0826,\n",
      "        16.5399,  5.5271,  7.8283,  4.4728,  5.8460,  2.2570, 18.4551, 14.1004,\n",
      "         4.2600,  3.6490, 22.8172,  8.0234,  6.0692,  9.5096,  7.7339, 10.2880,\n",
      "         6.9833, 14.9835,  5.2897,  5.6794,  8.4235,  5.0249,  3.5945,  8.6214,\n",
      "         5.4602,  4.6217])\n"
     ]
    }
   ],
   "source": [
    "print(result.values)"
   ]
  },
  {
   "cell_type": "code",
   "execution_count": 38,
   "metadata": {},
   "outputs": [
    {
     "name": "stdout",
     "output_type": "stream",
     "text": [
      "(tensor(0.9906), tensor(9))\n",
      "(tensor(0.9958), tensor(2))\n",
      "(tensor(1.), tensor(1))\n",
      "(tensor(1.), tensor(1))\n",
      "(tensor(0.7736), tensor(6))\n",
      "(tensor(1.0000), tensor(1))\n",
      "(tensor(0.9996), tensor(4))\n",
      "(tensor(0.9994), tensor(6))\n",
      "(tensor(1.0000), tensor(5))\n",
      "(tensor(0.9984), tensor(7))\n",
      "(tensor(0.9165), tensor(4))\n",
      "(tensor(0.9999), tensor(5))\n",
      "(tensor(0.5519), tensor(7))\n",
      "(tensor(0.9979), tensor(3))\n",
      "(tensor(0.8424), tensor(4))\n",
      "(tensor(1.0000), tensor(1))\n",
      "(tensor(0.9948), tensor(2))\n",
      "(tensor(0.8746), tensor(2))\n",
      "(tensor(1.0000), tensor(8))\n",
      "(tensor(0.9471), tensor(0))\n",
      "(tensor(0.7399), tensor(2))\n",
      "(tensor(0.6761), tensor(5))\n",
      "(tensor(0.9997), tensor(7))\n",
      "(tensor(0.9855), tensor(5))\n",
      "(tensor(1.), tensor(1))\n",
      "(tensor(0.7187), tensor(2))\n",
      "(tensor(0.9264), tensor(6))\n",
      "(tensor(0.8197), tensor(0))\n",
      "(tensor(0.9780), tensor(9))\n",
      "(tensor(0.4040), tensor(3))\n",
      "(tensor(1.), tensor(8))\n",
      "(tensor(1.0000), tensor(8))\n",
      "(tensor(0.9744), tensor(3))\n",
      "(tensor(0.8790), tensor(3))\n",
      "(tensor(1.), tensor(8))\n",
      "(tensor(0.9943), tensor(0))\n",
      "(tensor(0.9982), tensor(7))\n",
      "(tensor(0.9999), tensor(5))\n",
      "(tensor(0.9995), tensor(7))\n",
      "(tensor(0.9999), tensor(9))\n",
      "(tensor(0.9350), tensor(0))\n",
      "(tensor(1.), tensor(1))\n",
      "(tensor(0.8963), tensor(6))\n",
      "(tensor(0.9547), tensor(7))\n",
      "(tensor(0.9171), tensor(6))\n",
      "(tensor(0.9510), tensor(7))\n",
      "(tensor(0.7934), tensor(2))\n",
      "(tensor(0.9999), tensor(1))\n",
      "(tensor(0.4417), tensor(2))\n",
      "(tensor(0.8384), tensor(6))\n"
     ]
    }
   ],
   "source": [
    "# 확률값으로 변환 - softmax\n",
    "pred_proba = nn.Softmax(dim=-1)(pred_logit)\n",
    "r = torch.max(pred_proba, dim=-1)\n",
    "for a in zip(r.values, r.indices):\n",
    "    print(a)"
   ]
  },
  {
   "cell_type": "code",
   "execution_count": 39,
   "metadata": {},
   "outputs": [],
   "source": [
    "def predict(model, x):\n",
    "    with torch.no_grad():\n",
    "        pred = model(x)\n",
    "        pred_proba = nn.Softmax(dim=-1)(pred)\n",
    "        result = torch.max(pred_proba, dim=-1)\n",
    "        return [(idx.item(), proba.item()) for idx, proba in zip(result.indices, result.values)]"
   ]
  },
  {
   "cell_type": "code",
   "execution_count": 40,
   "metadata": {},
   "outputs": [],
   "source": [
    "result = predict(load_fmodel, x)"
   ]
  },
  {
   "cell_type": "code",
   "execution_count": 41,
   "metadata": {},
   "outputs": [
    {
     "data": {
      "text/plain": [
       "[(9, 0.9905555844306946),\n",
       " (2, 0.9958310723304749),\n",
       " (1, 1.0),\n",
       " (1, 1.0),\n",
       " (6, 0.7735845446586609),\n",
       " (1, 0.9999996423721313),\n",
       " (4, 0.9995827078819275),\n",
       " (6, 0.9994454979896545),\n",
       " (5, 0.9999996423721313),\n",
       " (7, 0.9984103441238403),\n",
       " (4, 0.9164848923683167),\n",
       " (5, 0.9999071359634399),\n",
       " (7, 0.5518661737442017),\n",
       " (3, 0.9979277849197388),\n",
       " (4, 0.8423774838447571),\n",
       " (1, 0.9999840259552002),\n",
       " (2, 0.994787335395813),\n",
       " (2, 0.8745715022087097),\n",
       " (8, 0.9999815225601196),\n",
       " (0, 0.9470783472061157),\n",
       " (2, 0.7399144768714905),\n",
       " (5, 0.6761211156845093),\n",
       " (7, 0.9997068047523499),\n",
       " (5, 0.9854647517204285),\n",
       " (1, 1.0),\n",
       " (2, 0.7186679840087891),\n",
       " (6, 0.9263898134231567),\n",
       " (0, 0.819709300994873),\n",
       " (9, 0.9779600501060486),\n",
       " (3, 0.4039537310600281),\n",
       " (8, 1.0),\n",
       " (8, 0.9999992847442627),\n",
       " (3, 0.9743779897689819),\n",
       " (3, 0.8789570927619934),\n",
       " (8, 1.0),\n",
       " (0, 0.9943010807037354),\n",
       " (7, 0.9981901049613953),\n",
       " (5, 0.9999299049377441),\n",
       " (7, 0.9994679093360901),\n",
       " (9, 0.9998764991760254),\n",
       " (0, 0.9349932670593262),\n",
       " (1, 1.0),\n",
       " (6, 0.8962815403938293),\n",
       " (7, 0.954703688621521),\n",
       " (6, 0.9171225428581238),\n",
       " (7, 0.9510108232498169),\n",
       " (2, 0.793440580368042),\n",
       " (1, 0.9999381303787231),\n",
       " (2, 0.44173288345336914),\n",
       " (6, 0.8384090662002563)]"
      ]
     },
     "execution_count": 41,
     "metadata": {},
     "output_type": "execute_result"
    }
   ],
   "source": [
    "result"
   ]
  },
  {
   "cell_type": "code",
   "execution_count": null,
   "metadata": {
    "id": "_p96kBHFIUqj"
   },
   "outputs": [],
   "source": []
  },
  {
   "cell_type": "markdown",
   "metadata": {
    "id": "mZfB5eJ_IUqj"
   },
   "source": [
    "### 위스콘신 유방암 데이터셋 - **이진분류(Binary Classification) 문제**\n",
    "\n",
    "-   **이진 분류 문제 처리 모델의 두가지 방법**\n",
    "    1. positive(1)일 확률을 출력하도록 구현\n",
    "        - output layer: units=1, activation='sigmoid'\n",
    "        - loss: binary_crossentropy\n",
    "    2. negative(0)일 확률과 positive(1)일 확률을 출력하도록 구현 => 다중분류 처리 방식으로 해결\n",
    "        - output layer: units=2, activation='softmax', y(정답)은 one hot encoding 처리\n",
    "        - loss: categorical_crossentropy\n",
    "-   위스콘신 대학교에서 제공한 종양의 악성/양성여부 분류를 위한 데이터셋\n",
    "-   Feature\n",
    "    -   종양에 대한 다양한 측정값들\n",
    "-   Target의 class\n",
    "    -   0 - malignant(악성종양)\n",
    "    -   1 - benign(양성종양)\n"
   ]
  },
  {
   "cell_type": "code",
   "execution_count": 42,
   "metadata": {
    "id": "k-d7GmezIUqj"
   },
   "outputs": [
    {
     "name": "stdout",
     "output_type": "stream",
     "text": [
      "cpu\n"
     ]
    }
   ],
   "source": [
    "from sklearn.datasets import load_breast_cancer\n",
    "from sklearn.preprocessing import StandardScaler\n",
    "from sklearn.model_selection import train_test_split\n",
    "\n",
    "import torch\n",
    "import torch.nn as nn\n",
    "import torch.optim as optim\n",
    "from torch.utils.data import DataLoader, TensorDataset\n",
    "\n",
    "import numpy as np\n",
    "import matplotlib.pyplot as plt\n",
    "\n",
    "device = \"cuda\" if torch.cuda.is_available() else \"cpu\"\n",
    "print(device)"
   ]
  },
  {
   "cell_type": "code",
   "execution_count": 44,
   "metadata": {
    "id": "sUUsUobQIUqj"
   },
   "outputs": [
    {
     "name": "stdout",
     "output_type": "stream",
     "text": [
      "(569,)\n",
      "(569, 1)\n"
     ]
    }
   ],
   "source": [
    "# Dataset\n",
    "X, y = load_breast_cancer(return_X_y=True)\n",
    "print(y.shape)\n",
    "y = y.reshape(-1, 1)\n",
    "print(y.shape)\n",
    "# X.shape, y.shape, X.dtype\n",
    "X_train, X_test, y_train, y_test = train_test_split(X, y, stratify=y, test_size=0.25, random_state=0)"
   ]
  },
  {
   "cell_type": "code",
   "execution_count": 45,
   "metadata": {
    "id": "zFL165uGIUqj"
   },
   "outputs": [],
   "source": [
    "# 전처리\n",
    "scaler = StandardScaler()\n",
    "X_train_scaled = scaler.fit_transform(X_train)\n",
    "X_test_scaled = scaler.transform(X_test)"
   ]
  },
  {
   "cell_type": "code",
   "execution_count": 46,
   "metadata": {
    "id": "KEqB9PtHIUqj"
   },
   "outputs": [],
   "source": [
    "# class name <-> class index\n",
    "classes = np.array([\"악성종양\", \"양성종양\"])\n",
    "class_to_idx = {\"악성종양\":0, \"양성종양\":1}"
   ]
  },
  {
   "cell_type": "code",
   "execution_count": 47,
   "metadata": {
    "id": "flZUWWGjIUqj"
   },
   "outputs": [],
   "source": [
    "# Dataset\n",
    "## 모델의 weight, bias -> float32. X, y는 weight, bias와 계산을 하게 되기 때문에 타입을 맞춰준다.\n",
    "trainset = TensorDataset(\n",
    "    torch.tensor(X_train_scaled, dtype=torch.float32),\n",
    "    torch.tensor(y_train, dtype=torch.float32)\n",
    ")\n",
    "testset = TensorDataset(\n",
    "    torch.tensor(X_test_scaled, dtype=torch.float32),\n",
    "    torch.tensor(y_test, dtype=torch.float32)\n",
    ")"
   ]
  },
  {
   "cell_type": "code",
   "execution_count": 49,
   "metadata": {
    "id": "lRLgIofiIUqj"
   },
   "outputs": [],
   "source": [
    "trainset.classes = classes\n",
    "trainset.class_to_idx = class_to_idx"
   ]
  },
  {
   "cell_type": "code",
   "execution_count": 51,
   "metadata": {
    "id": "k514HWtxIUqj"
   },
   "outputs": [],
   "source": [
    "# DataLoader\n",
    "train_loader = DataLoader(trainset, batch_size=200, shuffle=True, drop_last=True)\n",
    "test_loader = DataLoader(testset, batch_size=100)"
   ]
  },
  {
   "cell_type": "code",
   "execution_count": 52,
   "metadata": {},
   "outputs": [
    {
     "data": {
      "text/plain": [
       "(426, 30)"
      ]
     },
     "execution_count": 52,
     "metadata": {},
     "output_type": "execute_result"
    }
   ],
   "source": [
    "X_train.shape"
   ]
  },
  {
   "cell_type": "code",
   "execution_count": 53,
   "metadata": {
    "id": "OwjXxjpcIUqj"
   },
   "outputs": [],
   "source": [
    "######### 모델 정의\n",
    "class BreastCancerModel(nn.Module):\n",
    "\n",
    "    def __init__(self):\n",
    "        super().__init__()\n",
    "        self.lr1 = nn.Linear(30, 32)\n",
    "        self.lr2 = nn.Linear(32, 8)\n",
    "        self.lr3 = nn.Linear(8, 1) # 출력 Layer 처리하는 함수. out_features=1 : positive일 확률.\n",
    "        self.relu = nn.ReLU()\n",
    "        self.logistic = nn.Sigmoid() # 입력값을 0 ~ 1 사이 실수로 반환.\n",
    "\n",
    "    def forward(self, X):\n",
    "        X = self.lr1(X)\n",
    "        X = self.relu(X)\n",
    "        X = self.lr2(X)\n",
    "        X = self.relu(X)\n",
    "        # 출력 Layer\n",
    "        output = self.lr3(X)\n",
    "        output = self.logistic(output)\n",
    "        return output"
   ]
  },
  {
   "cell_type": "code",
   "execution_count": 54,
   "metadata": {
    "id": "npYL5Yp8IUqj"
   },
   "outputs": [
    {
     "data": {
      "text/plain": [
       "BreastCancerModel(\n",
       "  (lr1): Linear(in_features=30, out_features=32, bias=True)\n",
       "  (lr2): Linear(in_features=32, out_features=8, bias=True)\n",
       "  (lr3): Linear(in_features=8, out_features=1, bias=True)\n",
       "  (relu): ReLU()\n",
       "  (logistic): Sigmoid()\n",
       ")"
      ]
     },
     "execution_count": 54,
     "metadata": {},
     "output_type": "execute_result"
    }
   ],
   "source": [
    "b_model = BreastCancerModel()\n",
    "b_model"
   ]
  },
  {
   "cell_type": "code",
   "execution_count": 55,
   "metadata": {
    "id": "QW-EUpFvIUqj",
    "scrolled": true
   },
   "outputs": [
    {
     "data": {
      "text/plain": [
       "==========================================================================================\n",
       "Layer (type:depth-idx)                   Output Shape              Param #\n",
       "==========================================================================================\n",
       "BreastCancerModel                        [10, 1]                   --\n",
       "├─Linear: 1-1                            [10, 32]                  992\n",
       "├─ReLU: 1-2                              [10, 32]                  --\n",
       "├─Linear: 1-3                            [10, 8]                   264\n",
       "├─ReLU: 1-4                              [10, 8]                   --\n",
       "├─Linear: 1-5                            [10, 1]                   9\n",
       "├─Sigmoid: 1-6                           [10, 1]                   --\n",
       "==========================================================================================\n",
       "Total params: 1,265\n",
       "Trainable params: 1,265\n",
       "Non-trainable params: 0\n",
       "Total mult-adds (Units.MEGABYTES): 0.01\n",
       "==========================================================================================\n",
       "Input size (MB): 0.00\n",
       "Forward/backward pass size (MB): 0.00\n",
       "Params size (MB): 0.01\n",
       "Estimated Total Size (MB): 0.01\n",
       "=========================================================================================="
      ]
     },
     "execution_count": 55,
     "metadata": {},
     "output_type": "execute_result"
    }
   ],
   "source": [
    "from torchinfo import summary\n",
    "summary(b_model, (10, 30), device=device)"
   ]
  },
  {
   "cell_type": "code",
   "execution_count": 57,
   "metadata": {
    "id": "A6uuJV8wIUqj"
   },
   "outputs": [
    {
     "name": "stdout",
     "output_type": "stream",
     "text": [
      "torch.Size([10, 1])\n"
     ]
    },
    {
     "data": {
      "text/plain": [
       "tensor([[0.4373],\n",
       "        [0.4188],\n",
       "        [0.4377],\n",
       "        [0.4230],\n",
       "        [0.4423],\n",
       "        [0.4313],\n",
       "        [0.4651],\n",
       "        [0.4278],\n",
       "        [0.4373],\n",
       "        [0.4494]], grad_fn=<SigmoidBackward0>)"
      ]
     },
     "execution_count": 57,
     "metadata": {},
     "output_type": "execute_result"
    }
   ],
   "source": [
    "# dummy data로 출력\n",
    "dummy_x = torch.randn(10, 30)\n",
    "# dummy_x.shape\n",
    "result = b_model(dummy_x)\n",
    "print(result.shape)\n",
    "result"
   ]
  },
  {
   "cell_type": "code",
   "execution_count": 60,
   "metadata": {
    "id": "2vFqCMGsIUqk"
   },
   "outputs": [
    {
     "data": {
      "text/plain": [
       "tensor([[0],\n",
       "        [0],\n",
       "        [0],\n",
       "        [0],\n",
       "        [0],\n",
       "        [0],\n",
       "        [0],\n",
       "        [0],\n",
       "        [0],\n",
       "        [0]], dtype=torch.int32)"
      ]
     },
     "execution_count": 60,
     "metadata": {},
     "output_type": "execute_result"
    }
   ],
   "source": [
    "(result > 0.5).type(torch.int32)  # bool -> int (True: 1, False: 0)"
   ]
  },
  {
   "cell_type": "code",
   "execution_count": 61,
   "metadata": {
    "id": "xECcnrcyIUqk"
   },
   "outputs": [],
   "source": [
    "lr = 0.001\n",
    "epochs = 1000\n",
    "######## 학습(train)\n",
    "b_model = b_model.to(device)\n",
    "optimizer = optim.Adam(b_model.parameters(), lr=lr)\n",
    "loss_fn = nn.BCELoss()   # 함수이름: binary crossentropy"
   ]
  },
  {
   "cell_type": "code",
   "execution_count": null,
   "metadata": {
    "collapsed": true,
    "id": "93vfwS6sIUqk",
    "jupyter": {
     "outputs_hidden": true
    },
    "scrolled": true
   },
   "outputs": [
    {
     "name": "stdout",
     "output_type": "stream",
     "text": [
      "[0001/1000] train loss: 0.724372386932373, valid loss: 0.7299314439296722, valid accuracy: 0.3706293706293706\n",
      ">>>>>> 1에서 성능이 개선되어 저장합니다. 0.7299314439296722\n",
      "[0002/1000] train loss: 0.7119273543357849, valid loss: 0.720769077539444, valid accuracy: 0.3706293706293706\n",
      ">>>>>> 2에서 성능이 개선되어 저장합니다. 0.720769077539444\n",
      "[0003/1000] train loss: 0.7080086171627045, valid loss: 0.7118813097476959, valid accuracy: 0.3706293706293706\n",
      ">>>>>> 3에서 성능이 개선되어 저장합니다. 0.7118813097476959\n",
      "[0004/1000] train loss: 0.6965263187885284, valid loss: 0.7033416032791138, valid accuracy: 0.3706293706293706\n",
      ">>>>>> 4에서 성능이 개선되어 저장합니다. 0.7033416032791138\n",
      "[0005/1000] train loss: 0.6875647604465485, valid loss: 0.6950466632843018, valid accuracy: 0.3706293706293706\n",
      ">>>>>> 5에서 성능이 개선되어 저장합니다. 0.6950466632843018\n",
      "[0006/1000] train loss: 0.6800101697444916, valid loss: 0.6866016089916229, valid accuracy: 0.3706293706293706\n",
      ">>>>>> 6에서 성능이 개선되어 저장합니다. 0.6866016089916229\n",
      "[0007/1000] train loss: 0.6731688380241394, valid loss: 0.6775385439395905, valid accuracy: 0.38461538461538464\n",
      ">>>>>> 7에서 성능이 개선되어 저장합니다. 0.6775385439395905\n",
      "[0008/1000] train loss: 0.6622574627399445, valid loss: 0.6679334342479706, valid accuracy: 0.44755244755244755\n",
      ">>>>>> 8에서 성능이 개선되어 저장합니다. 0.6679334342479706\n",
      "[0009/1000] train loss: 0.6525880992412567, valid loss: 0.6579507887363434, valid accuracy: 0.5664335664335665\n",
      ">>>>>> 9에서 성능이 개선되어 저장합니다. 0.6579507887363434\n",
      "[0010/1000] train loss: 0.6435746848583221, valid loss: 0.6478294134140015, valid accuracy: 0.6293706293706294\n",
      ">>>>>> 10에서 성능이 개선되어 저장합니다. 0.6478294134140015\n",
      "[0011/1000] train loss: 0.6336948573589325, valid loss: 0.637403130531311, valid accuracy: 0.7482517482517482\n",
      ">>>>>> 11에서 성능이 개선되어 저장합니다. 0.637403130531311\n",
      "[0012/1000] train loss: 0.6230511963367462, valid loss: 0.6267796456813812, valid accuracy: 0.8041958041958042\n",
      ">>>>>> 12에서 성능이 개선되어 저장합니다. 0.6267796456813812\n",
      "[0013/1000] train loss: 0.6111548244953156, valid loss: 0.6158474087715149, valid accuracy: 0.8251748251748252\n",
      ">>>>>> 13에서 성능이 개선되어 저장합니다. 0.6158474087715149\n",
      "[0014/1000] train loss: 0.599577784538269, valid loss: 0.6046806871891022, valid accuracy: 0.8461538461538461\n",
      ">>>>>> 14에서 성능이 개선되어 저장합니다. 0.6046806871891022\n",
      "[0015/1000] train loss: 0.5857094526290894, valid loss: 0.5932759940624237, valid accuracy: 0.8601398601398601\n",
      ">>>>>> 15에서 성능이 개선되어 저장합니다. 0.5932759940624237\n",
      "[0016/1000] train loss: 0.576123982667923, valid loss: 0.5816324055194855, valid accuracy: 0.8741258741258742\n",
      ">>>>>> 16에서 성능이 개선되어 저장합니다. 0.5816324055194855\n",
      "[0017/1000] train loss: 0.5664035975933075, valid loss: 0.5696928799152374, valid accuracy: 0.8741258741258742\n",
      ">>>>>> 17에서 성능이 개선되어 저장합니다. 0.5696928799152374\n",
      "[0018/1000] train loss: 0.5515187680721283, valid loss: 0.5574518144130707, valid accuracy: 0.8741258741258742\n",
      ">>>>>> 18에서 성능이 개선되어 저장합니다. 0.5574518144130707\n",
      "[0019/1000] train loss: 0.540558785200119, valid loss: 0.5449617207050323, valid accuracy: 0.8741258741258742\n",
      ">>>>>> 19에서 성능이 개선되어 저장합니다. 0.5449617207050323\n",
      "[0020/1000] train loss: 0.5261410176753998, valid loss: 0.5321513116359711, valid accuracy: 0.8951048951048951\n",
      ">>>>>> 20에서 성능이 개선되어 저장합니다. 0.5321513116359711\n",
      "[0021/1000] train loss: 0.5110829174518585, valid loss: 0.5190902948379517, valid accuracy: 0.9090909090909091\n",
      ">>>>>> 21에서 성능이 개선되어 저장합니다. 0.5190902948379517\n",
      "[0022/1000] train loss: 0.5016482919454575, valid loss: 0.5057250261306763, valid accuracy: 0.916083916083916\n",
      ">>>>>> 22에서 성능이 개선되어 저장합니다. 0.5057250261306763\n",
      "[0023/1000] train loss: 0.4845881760120392, valid loss: 0.4917201101779938, valid accuracy: 0.916083916083916\n",
      ">>>>>> 23에서 성능이 개선되어 저장합니다. 0.4917201101779938\n",
      "[0024/1000] train loss: 0.4669090360403061, valid loss: 0.4771054983139038, valid accuracy: 0.916083916083916\n",
      ">>>>>> 24에서 성능이 개선되어 저장합니다. 0.4771054983139038\n",
      "[0025/1000] train loss: 0.45412296056747437, valid loss: 0.46224212646484375, valid accuracy: 0.916083916083916\n",
      ">>>>>> 25에서 성능이 개선되어 저장합니다. 0.46224212646484375\n",
      "[0026/1000] train loss: 0.4385755807161331, valid loss: 0.44715258479118347, valid accuracy: 0.9230769230769231\n",
      ">>>>>> 26에서 성능이 개선되어 저장합니다. 0.44715258479118347\n",
      "[0027/1000] train loss: 0.42233602702617645, valid loss: 0.4320504665374756, valid accuracy: 0.9230769230769231\n",
      ">>>>>> 27에서 성능이 개선되어 저장합니다. 0.4320504665374756\n",
      "[0028/1000] train loss: 0.4020862728357315, valid loss: 0.4171338379383087, valid accuracy: 0.9230769230769231\n",
      ">>>>>> 28에서 성능이 개선되어 저장합니다. 0.4171338379383087\n",
      "[0029/1000] train loss: 0.38822825253009796, valid loss: 0.40228012204170227, valid accuracy: 0.9230769230769231\n",
      ">>>>>> 29에서 성능이 개선되어 저장합니다. 0.40228012204170227\n",
      "[0030/1000] train loss: 0.3716118633747101, valid loss: 0.38771215081214905, valid accuracy: 0.9230769230769231\n",
      ">>>>>> 30에서 성능이 개선되어 저장합니다. 0.38771215081214905\n",
      "[0031/1000] train loss: 0.3561229705810547, valid loss: 0.3733423501253128, valid accuracy: 0.9230769230769231\n",
      ">>>>>> 31에서 성능이 개선되어 저장합니다. 0.3733423501253128\n",
      "[0032/1000] train loss: 0.33802416920661926, valid loss: 0.3592580556869507, valid accuracy: 0.9230769230769231\n",
      ">>>>>> 32에서 성능이 개선되어 저장합니다. 0.3592580556869507\n",
      "[0033/1000] train loss: 0.3327280580997467, valid loss: 0.34546010196208954, valid accuracy: 0.9230769230769231\n",
      ">>>>>> 33에서 성능이 개선되어 저장합니다. 0.34546010196208954\n",
      "[0034/1000] train loss: 0.31092338263988495, valid loss: 0.3320017606019974, valid accuracy: 0.9230769230769231\n",
      ">>>>>> 34에서 성능이 개선되어 저장합니다. 0.3320017606019974\n",
      "[0035/1000] train loss: 0.30110570788383484, valid loss: 0.31887970864772797, valid accuracy: 0.9230769230769231\n",
      ">>>>>> 35에서 성능이 개선되어 저장합니다. 0.31887970864772797\n",
      "[0036/1000] train loss: 0.28891438245773315, valid loss: 0.3062862455844879, valid accuracy: 0.9230769230769231\n",
      ">>>>>> 36에서 성능이 개선되어 저장합니다. 0.3062862455844879\n",
      "[0037/1000] train loss: 0.27194221317768097, valid loss: 0.29421569406986237, valid accuracy: 0.9230769230769231\n",
      ">>>>>> 37에서 성능이 개선되어 저장합니다. 0.29421569406986237\n",
      "[0038/1000] train loss: 0.2628202587366104, valid loss: 0.2827466130256653, valid accuracy: 0.9230769230769231\n",
      ">>>>>> 38에서 성능이 개선되어 저장합니다. 0.2827466130256653\n",
      "[0039/1000] train loss: 0.25389809161424637, valid loss: 0.2717965096235275, valid accuracy: 0.9370629370629371\n",
      ">>>>>> 39에서 성능이 개선되어 저장합니다. 0.2717965096235275\n",
      "[0040/1000] train loss: 0.24280854314565659, valid loss: 0.2614286094903946, valid accuracy: 0.9370629370629371\n",
      ">>>>>> 40에서 성능이 개선되어 저장합니다. 0.2614286094903946\n",
      "[0041/1000] train loss: 0.23190287500619888, valid loss: 0.25159965455532074, valid accuracy: 0.9370629370629371\n",
      ">>>>>> 41에서 성능이 개선되어 저장합니다. 0.25159965455532074\n",
      "[0042/1000] train loss: 0.21883543580770493, valid loss: 0.2423028200864792, valid accuracy: 0.9370629370629371\n",
      ">>>>>> 42에서 성능이 개선되어 저장합니다. 0.2423028200864792\n",
      "[0043/1000] train loss: 0.20192711800336838, valid loss: 0.23361323028802872, valid accuracy: 0.9370629370629371\n",
      ">>>>>> 43에서 성능이 개선되어 저장합니다. 0.23361323028802872\n",
      "[0044/1000] train loss: 0.20005109161138535, valid loss: 0.22545556724071503, valid accuracy: 0.9370629370629371\n",
      ">>>>>> 44에서 성능이 개선되어 저장합니다. 0.22545556724071503\n",
      "[0045/1000] train loss: 0.19350534677505493, valid loss: 0.21775516867637634, valid accuracy: 0.9370629370629371\n",
      ">>>>>> 45에서 성능이 개선되어 저장합니다. 0.21775516867637634\n",
      "[0046/1000] train loss: 0.18487218767404556, valid loss: 0.21054360270500183, valid accuracy: 0.9370629370629371\n",
      ">>>>>> 46에서 성능이 개선되어 저장합니다. 0.21054360270500183\n",
      "[0047/1000] train loss: 0.17623195052146912, valid loss: 0.20374495536088943, valid accuracy: 0.9440559440559441\n",
      ">>>>>> 47에서 성능이 개선되어 저장합니다. 0.20374495536088943\n",
      "[0048/1000] train loss: 0.1639932617545128, valid loss: 0.19736452400684357, valid accuracy: 0.9440559440559441\n",
      ">>>>>> 48에서 성능이 개선되어 저장합니다. 0.19736452400684357\n",
      "[0049/1000] train loss: 0.1644623950123787, valid loss: 0.19130226224660873, valid accuracy: 0.9440559440559441\n",
      ">>>>>> 49에서 성능이 개선되어 저장합니다. 0.19130226224660873\n",
      "[0050/1000] train loss: 0.1556476727128029, valid loss: 0.18559282273054123, valid accuracy: 0.9440559440559441\n",
      ">>>>>> 50에서 성능이 개선되어 저장합니다. 0.18559282273054123\n",
      "[0051/1000] train loss: 0.15131472796201706, valid loss: 0.18024563044309616, valid accuracy: 0.9440559440559441\n",
      ">>>>>> 51에서 성능이 개선되어 저장합니다. 0.18024563044309616\n",
      "[0052/1000] train loss: 0.14515108615159988, valid loss: 0.17533717304468155, valid accuracy: 0.9440559440559441\n",
      ">>>>>> 52에서 성능이 개선되어 저장합니다. 0.17533717304468155\n",
      "[0053/1000] train loss: 0.13282399624586105, valid loss: 0.17081017047166824, valid accuracy: 0.9440559440559441\n",
      ">>>>>> 53에서 성능이 개선되어 저장합니다. 0.17081017047166824\n",
      "[0054/1000] train loss: 0.1352345272898674, valid loss: 0.1665678471326828, valid accuracy: 0.9370629370629371\n",
      ">>>>>> 54에서 성능이 개선되어 저장합니다. 0.1665678471326828\n",
      "[0055/1000] train loss: 0.12466342747211456, valid loss: 0.16260214895009995, valid accuracy: 0.9370629370629371\n",
      ">>>>>> 55에서 성능이 개선되어 저장합니다. 0.16260214895009995\n",
      "[0056/1000] train loss: 0.12768788635730743, valid loss: 0.1589316502213478, valid accuracy: 0.9370629370629371\n",
      ">>>>>> 56에서 성능이 개선되어 저장합니다. 0.1589316502213478\n",
      "[0057/1000] train loss: 0.12365379184484482, valid loss: 0.15556498616933823, valid accuracy: 0.9370629370629371\n",
      ">>>>>> 57에서 성능이 개선되어 저장합니다. 0.15556498616933823\n",
      "[0058/1000] train loss: 0.11961201205849648, valid loss: 0.15244053304195404, valid accuracy: 0.9300699300699301\n",
      ">>>>>> 58에서 성능이 개선되어 저장합니다. 0.15244053304195404\n",
      "[0059/1000] train loss: 0.11167586222290993, valid loss: 0.14952289313077927, valid accuracy: 0.9300699300699301\n",
      ">>>>>> 59에서 성능이 개선되어 저장합니다. 0.14952289313077927\n",
      "[0060/1000] train loss: 0.11164741963148117, valid loss: 0.1468009278178215, valid accuracy: 0.9370629370629371\n",
      ">>>>>> 60에서 성능이 개선되어 저장합니다. 0.1468009278178215\n",
      "[0061/1000] train loss: 0.11054813489317894, valid loss: 0.14428798854351044, valid accuracy: 0.9370629370629371\n",
      ">>>>>> 61에서 성능이 개선되어 저장합니다. 0.14428798854351044\n",
      "[0062/1000] train loss: 0.1044924184679985, valid loss: 0.14193733036518097, valid accuracy: 0.9370629370629371\n",
      ">>>>>> 62에서 성능이 개선되어 저장합니다. 0.14193733036518097\n",
      "[0063/1000] train loss: 0.10070817917585373, valid loss: 0.13978300988674164, valid accuracy: 0.9370629370629371\n",
      ">>>>>> 63에서 성능이 개선되어 저장합니다. 0.13978300988674164\n",
      "[0064/1000] train loss: 0.09786088019609451, valid loss: 0.1377575322985649, valid accuracy: 0.9370629370629371\n",
      ">>>>>> 64에서 성능이 개선되어 저장합니다. 0.1377575322985649\n",
      "[0065/1000] train loss: 0.09752171486616135, valid loss: 0.1358911693096161, valid accuracy: 0.9370629370629371\n",
      ">>>>>> 65에서 성능이 개선되어 저장합니다. 0.1358911693096161\n",
      "[0066/1000] train loss: 0.09614427015185356, valid loss: 0.13411309570074081, valid accuracy: 0.9370629370629371\n",
      ">>>>>> 66에서 성능이 개선되어 저장합니다. 0.13411309570074081\n",
      "[0067/1000] train loss: 0.08847380802035332, valid loss: 0.13240225613117218, valid accuracy: 0.9440559440559441\n",
      ">>>>>> 67에서 성능이 개선되어 저장합니다. 0.13240225613117218\n",
      "[0068/1000] train loss: 0.08712019771337509, valid loss: 0.13077621161937714, valid accuracy: 0.9440559440559441\n",
      ">>>>>> 68에서 성능이 개선되어 저장합니다. 0.13077621161937714\n",
      "[0069/1000] train loss: 0.08665928244590759, valid loss: 0.12925028055906296, valid accuracy: 0.9440559440559441\n",
      ">>>>>> 69에서 성능이 개선되어 저장합니다. 0.12925028055906296\n",
      "[0070/1000] train loss: 0.07670937478542328, valid loss: 0.12780262157320976, valid accuracy: 0.9440559440559441\n",
      ">>>>>> 70에서 성능이 개선되어 저장합니다. 0.12780262157320976\n",
      "[0071/1000] train loss: 0.07985718920826912, valid loss: 0.12641435489058495, valid accuracy: 0.9440559440559441\n",
      ">>>>>> 71에서 성능이 개선되어 저장합니다. 0.12641435489058495\n",
      "[0072/1000] train loss: 0.08411913365125656, valid loss: 0.1251642145216465, valid accuracy: 0.9440559440559441\n",
      ">>>>>> 72에서 성능이 개선되어 저장합니다. 0.1251642145216465\n",
      "[0073/1000] train loss: 0.07670126855373383, valid loss: 0.12394192814826965, valid accuracy: 0.9440559440559441\n",
      ">>>>>> 73에서 성능이 개선되어 저장합니다. 0.12394192814826965\n",
      "[0074/1000] train loss: 0.07299224846065044, valid loss: 0.12280433252453804, valid accuracy: 0.9440559440559441\n",
      ">>>>>> 74에서 성능이 개선되어 저장합니다. 0.12280433252453804\n",
      "[0075/1000] train loss: 0.07724510133266449, valid loss: 0.12177633866667747, valid accuracy: 0.9440559440559441\n",
      ">>>>>> 75에서 성능이 개선되어 저장합니다. 0.12177633866667747\n",
      "[0076/1000] train loss: 0.0739804096519947, valid loss: 0.12083165720105171, valid accuracy: 0.9440559440559441\n",
      ">>>>>> 76에서 성능이 개선되어 저장합니다. 0.12083165720105171\n",
      "[0077/1000] train loss: 0.07528728432953358, valid loss: 0.11994940415024757, valid accuracy: 0.9440559440559441\n",
      ">>>>>> 77에서 성능이 개선되어 저장합니다. 0.11994940415024757\n",
      "[0078/1000] train loss: 0.07525392435491085, valid loss: 0.11911174654960632, valid accuracy: 0.951048951048951\n",
      ">>>>>> 78에서 성능이 개선되어 저장합니다. 0.11911174654960632\n",
      "[0079/1000] train loss: 0.06840403005480766, valid loss: 0.11830228194594383, valid accuracy: 0.951048951048951\n",
      ">>>>>> 79에서 성능이 개선되어 저장합니다. 0.11830228194594383\n",
      "[0080/1000] train loss: 0.07183615118265152, valid loss: 0.1175532266497612, valid accuracy: 0.951048951048951\n",
      ">>>>>> 80에서 성능이 개선되어 저장합니다. 0.1175532266497612\n",
      "[0081/1000] train loss: 0.07056184485554695, valid loss: 0.11680811643600464, valid accuracy: 0.951048951048951\n",
      ">>>>>> 81에서 성능이 개선되어 저장합니다. 0.11680811643600464\n",
      "[0082/1000] train loss: 0.06926699355244637, valid loss: 0.11613671854138374, valid accuracy: 0.958041958041958\n",
      ">>>>>> 82에서 성능이 개선되어 저장합니다. 0.11613671854138374\n",
      "[0083/1000] train loss: 0.06597084552049637, valid loss: 0.11552909389138222, valid accuracy: 0.958041958041958\n",
      ">>>>>> 83에서 성능이 개선되어 저장합니다. 0.11552909389138222\n",
      "[0084/1000] train loss: 0.06277157925069332, valid loss: 0.11497795209288597, valid accuracy: 0.958041958041958\n",
      ">>>>>> 84에서 성능이 개선되어 저장합니다. 0.11497795209288597\n",
      "[0085/1000] train loss: 0.06412131153047085, valid loss: 0.11447206884622574, valid accuracy: 0.958041958041958\n",
      ">>>>>> 85에서 성능이 개선되어 저장합니다. 0.11447206884622574\n",
      "[0086/1000] train loss: 0.06587905064225197, valid loss: 0.11395074799656868, valid accuracy: 0.958041958041958\n",
      ">>>>>> 86에서 성능이 개선되어 저장합니다. 0.11395074799656868\n",
      "[0087/1000] train loss: 0.060859937220811844, valid loss: 0.11350293457508087, valid accuracy: 0.958041958041958\n",
      ">>>>>> 87에서 성능이 개선되어 저장합니다. 0.11350293457508087\n",
      "[0088/1000] train loss: 0.05395061895251274, valid loss: 0.11303343623876572, valid accuracy: 0.958041958041958\n",
      ">>>>>> 88에서 성능이 개선되어 저장합니다. 0.11303343623876572\n",
      "[0089/1000] train loss: 0.061969341710209846, valid loss: 0.1126365214586258, valid accuracy: 0.958041958041958\n",
      ">>>>>> 89에서 성능이 개선되어 저장합니다. 0.1126365214586258\n",
      "[0090/1000] train loss: 0.05984719470143318, valid loss: 0.11226010322570801, valid accuracy: 0.958041958041958\n",
      ">>>>>> 90에서 성능이 개선되어 저장합니다. 0.11226010322570801\n",
      "[0091/1000] train loss: 0.06049131415784359, valid loss: 0.11192295700311661, valid accuracy: 0.965034965034965\n",
      ">>>>>> 91에서 성능이 개선되어 저장합니다. 0.11192295700311661\n",
      "[0092/1000] train loss: 0.05693278834223747, valid loss: 0.11156240850687027, valid accuracy: 0.965034965034965\n",
      ">>>>>> 92에서 성능이 개선되어 저장합니다. 0.11156240850687027\n",
      "[0093/1000] train loss: 0.0585593543946743, valid loss: 0.11123767122626305, valid accuracy: 0.965034965034965\n",
      ">>>>>> 93에서 성능이 개선되어 저장합니다. 0.11123767122626305\n",
      "[0094/1000] train loss: 0.057798316702246666, valid loss: 0.11090506613254547, valid accuracy: 0.958041958041958\n",
      ">>>>>> 94에서 성능이 개선되어 저장합니다. 0.11090506613254547\n",
      "[0095/1000] train loss: 0.0559590682387352, valid loss: 0.11060943827033043, valid accuracy: 0.958041958041958\n",
      ">>>>>> 95에서 성능이 개선되어 저장합니다. 0.11060943827033043\n",
      "[0096/1000] train loss: 0.05500954017043114, valid loss: 0.11033343151211739, valid accuracy: 0.958041958041958\n",
      ">>>>>> 96에서 성능이 개선되어 저장합니다. 0.11033343151211739\n",
      "[0097/1000] train loss: 0.05478079617023468, valid loss: 0.11008122563362122, valid accuracy: 0.958041958041958\n",
      ">>>>>> 97에서 성능이 개선되어 저장합니다. 0.11008122563362122\n",
      "[0098/1000] train loss: 0.05326689966022968, valid loss: 0.10983464494347572, valid accuracy: 0.958041958041958\n",
      ">>>>>> 98에서 성능이 개선되어 저장합니다. 0.10983464494347572\n",
      "[0099/1000] train loss: 0.05330382287502289, valid loss: 0.10956382006406784, valid accuracy: 0.958041958041958\n",
      ">>>>>> 99에서 성능이 개선되어 저장합니다. 0.10956382006406784\n",
      "[0100/1000] train loss: 0.054477252066135406, valid loss: 0.10928769037127495, valid accuracy: 0.958041958041958\n",
      ">>>>>> 100에서 성능이 개선되어 저장합니다. 0.10928769037127495\n",
      "[0101/1000] train loss: 0.05176515318453312, valid loss: 0.10903607308864594, valid accuracy: 0.958041958041958\n",
      ">>>>>> 101에서 성능이 개선되어 저장합니다. 0.10903607308864594\n",
      "[0102/1000] train loss: 0.049637679010629654, valid loss: 0.10867328569293022, valid accuracy: 0.958041958041958\n",
      ">>>>>> 102에서 성능이 개선되어 저장합니다. 0.10867328569293022\n",
      "[0103/1000] train loss: 0.05141428858041763, valid loss: 0.10835613310337067, valid accuracy: 0.958041958041958\n",
      ">>>>>> 103에서 성능이 개선되어 저장합니다. 0.10835613310337067\n",
      "[0104/1000] train loss: 0.04921778663992882, valid loss: 0.10808068886399269, valid accuracy: 0.958041958041958\n",
      ">>>>>> 104에서 성능이 개선되어 저장합니다. 0.10808068886399269\n",
      "[0105/1000] train loss: 0.05096007511019707, valid loss: 0.10775185748934746, valid accuracy: 0.958041958041958\n",
      ">>>>>> 105에서 성능이 개선되어 저장합니다. 0.10775185748934746\n",
      "[0106/1000] train loss: 0.033870561979711056, valid loss: 0.1073547825217247, valid accuracy: 0.958041958041958\n",
      ">>>>>> 106에서 성능이 개선되어 저장합니다. 0.1073547825217247\n",
      "[0107/1000] train loss: 0.04920710436999798, valid loss: 0.10703035816550255, valid accuracy: 0.958041958041958\n",
      ">>>>>> 107에서 성능이 개선되어 저장합니다. 0.10703035816550255\n",
      "[0108/1000] train loss: 0.049452370032668114, valid loss: 0.10669498890638351, valid accuracy: 0.958041958041958\n",
      ">>>>>> 108에서 성능이 개선되어 저장합니다. 0.10669498890638351\n",
      "[0109/1000] train loss: 0.0486349742859602, valid loss: 0.10640678182244301, valid accuracy: 0.958041958041958\n",
      ">>>>>> 109에서 성능이 개선되어 저장합니다. 0.10640678182244301\n",
      "[0110/1000] train loss: 0.04409688711166382, valid loss: 0.10622160136699677, valid accuracy: 0.958041958041958\n",
      ">>>>>> 110에서 성능이 개선되어 저장합니다. 0.10622160136699677\n",
      "[0111/1000] train loss: 0.04401959478855133, valid loss: 0.10600006580352783, valid accuracy: 0.958041958041958\n",
      ">>>>>> 111에서 성능이 개선되어 저장합니다. 0.10600006580352783\n",
      "[0112/1000] train loss: 0.04660168942064047, valid loss: 0.10581643506884575, valid accuracy: 0.958041958041958\n",
      ">>>>>> 112에서 성능이 개선되어 저장합니다. 0.10581643506884575\n",
      "[0113/1000] train loss: 0.03999748267233372, valid loss: 0.10565537586808205, valid accuracy: 0.958041958041958\n",
      ">>>>>> 113에서 성능이 개선되어 저장합니다. 0.10565537586808205\n",
      "[0114/1000] train loss: 0.046861919574439526, valid loss: 0.10556751117110252, valid accuracy: 0.958041958041958\n",
      ">>>>>> 114에서 성능이 개선되어 저장합니다. 0.10556751117110252\n",
      "[0115/1000] train loss: 0.04567939043045044, valid loss: 0.10543511435389519, valid accuracy: 0.958041958041958\n",
      ">>>>>> 115에서 성능이 개선되어 저장합니다. 0.10543511435389519\n",
      "[0116/1000] train loss: 0.04153498634696007, valid loss: 0.10538983345031738, valid accuracy: 0.958041958041958\n",
      ">>>>>> 116에서 성능이 개선되어 저장합니다. 0.10538983345031738\n",
      "[0117/1000] train loss: 0.045514089055359364, valid loss: 0.10535336658358574, valid accuracy: 0.958041958041958\n",
      ">>>>>> 117에서 성능이 개선되어 저장합니다. 0.10535336658358574\n",
      "[0118/1000] train loss: 0.045452915132045746, valid loss: 0.10535980761051178, valid accuracy: 0.958041958041958\n",
      "[0119/1000] train loss: 0.041801998391747475, valid loss: 0.1052858754992485, valid accuracy: 0.958041958041958\n",
      ">>>>>> 119에서 성능이 개선되어 저장합니다. 0.1052858754992485\n",
      "[0120/1000] train loss: 0.04483750835061073, valid loss: 0.105233334004879, valid accuracy: 0.958041958041958\n",
      ">>>>>> 120에서 성능이 개선되어 저장합니다. 0.105233334004879\n",
      "[0121/1000] train loss: 0.043406473472714424, valid loss: 0.10517037659883499, valid accuracy: 0.958041958041958\n",
      ">>>>>> 121에서 성능이 개선되어 저장합니다. 0.10517037659883499\n",
      "[0122/1000] train loss: 0.043082039803266525, valid loss: 0.10508808121085167, valid accuracy: 0.958041958041958\n",
      ">>>>>> 122에서 성능이 개선되어 저장합니다. 0.10508808121085167\n",
      "[0123/1000] train loss: 0.042673529125750065, valid loss: 0.10505721345543861, valid accuracy: 0.958041958041958\n",
      ">>>>>> 123에서 성능이 개선되어 저장합니다. 0.10505721345543861\n",
      "[0124/1000] train loss: 0.041200414299964905, valid loss: 0.10498001053929329, valid accuracy: 0.958041958041958\n",
      ">>>>>> 124에서 성능이 개선되어 저장합니다. 0.10498001053929329\n",
      "[0125/1000] train loss: 0.041496770456433296, valid loss: 0.1048646830022335, valid accuracy: 0.958041958041958\n",
      ">>>>>> 125에서 성능이 개선되어 저장합니다. 0.1048646830022335\n",
      "[0126/1000] train loss: 0.04111653100699186, valid loss: 0.10480635240674019, valid accuracy: 0.958041958041958\n",
      ">>>>>> 126에서 성능이 개선되어 저장합니다. 0.10480635240674019\n",
      "[0127/1000] train loss: 0.03153404779732227, valid loss: 0.10467180982232094, valid accuracy: 0.958041958041958\n",
      ">>>>>> 127에서 성능이 개선되어 저장합니다. 0.10467180982232094\n",
      "[0128/1000] train loss: 0.041453562676906586, valid loss: 0.10454203933477402, valid accuracy: 0.958041958041958\n",
      ">>>>>> 128에서 성능이 개선되어 저장합니다. 0.10454203933477402\n",
      "[0129/1000] train loss: 0.0401687091216445, valid loss: 0.10444756969809532, valid accuracy: 0.958041958041958\n",
      ">>>>>> 129에서 성능이 개선되어 저장합니다. 0.10444756969809532\n",
      "[0130/1000] train loss: 0.039626648649573326, valid loss: 0.10427456721663475, valid accuracy: 0.958041958041958\n",
      ">>>>>> 130에서 성능이 개선되어 저장합니다. 0.10427456721663475\n",
      "[0131/1000] train loss: 0.040266647934913635, valid loss: 0.10417741909623146, valid accuracy: 0.958041958041958\n",
      ">>>>>> 131에서 성능이 개선되어 저장합니다. 0.10417741909623146\n",
      "[0132/1000] train loss: 0.0359161589294672, valid loss: 0.10413315147161484, valid accuracy: 0.958041958041958\n",
      ">>>>>> 132에서 성능이 개선되어 저장합니다. 0.10413315147161484\n",
      "[0133/1000] train loss: 0.04030139371752739, valid loss: 0.10405976697802544, valid accuracy: 0.958041958041958\n",
      ">>>>>> 133에서 성능이 개선되어 저장합니다. 0.10405976697802544\n",
      "[0134/1000] train loss: 0.02837416436523199, valid loss: 0.10403011739253998, valid accuracy: 0.958041958041958\n",
      ">>>>>> 134에서 성능이 개선되어 저장합니다. 0.10403011739253998\n",
      "[0135/1000] train loss: 0.03904182091355324, valid loss: 0.10395009443163872, valid accuracy: 0.958041958041958\n",
      ">>>>>> 135에서 성능이 개선되어 저장합니다. 0.10395009443163872\n",
      "[0136/1000] train loss: 0.0388934351503849, valid loss: 0.10378256067633629, valid accuracy: 0.958041958041958\n",
      ">>>>>> 136에서 성능이 개선되어 저장합니다. 0.10378256067633629\n",
      "[0137/1000] train loss: 0.03855035826563835, valid loss: 0.10361873358488083, valid accuracy: 0.958041958041958\n",
      ">>>>>> 137에서 성능이 개선되어 저장합니다. 0.10361873358488083\n",
      "[0138/1000] train loss: 0.037897732108831406, valid loss: 0.10354386270046234, valid accuracy: 0.958041958041958\n",
      ">>>>>> 138에서 성능이 개선되어 저장합니다. 0.10354386270046234\n",
      "[0139/1000] train loss: 0.03530350513756275, valid loss: 0.10340898111462593, valid accuracy: 0.958041958041958\n",
      ">>>>>> 139에서 성능이 개선되어 저장합니다. 0.10340898111462593\n",
      "[0140/1000] train loss: 0.037593722343444824, valid loss: 0.10325596109032631, valid accuracy: 0.958041958041958\n",
      ">>>>>> 140에서 성능이 개선되어 저장합니다. 0.10325596109032631\n",
      "[0141/1000] train loss: 0.03672230616211891, valid loss: 0.10307180508971214, valid accuracy: 0.958041958041958\n",
      ">>>>>> 141에서 성능이 개선되어 저장합니다. 0.10307180508971214\n",
      "[0142/1000] train loss: 0.03696190565824509, valid loss: 0.10294056683778763, valid accuracy: 0.958041958041958\n",
      ">>>>>> 142에서 성능이 개선되어 저장합니다. 0.10294056683778763\n",
      "[0143/1000] train loss: 0.03593140468001366, valid loss: 0.10275660082697868, valid accuracy: 0.958041958041958\n",
      ">>>>>> 143에서 성능이 개선되어 저장합니다. 0.10275660082697868\n",
      "[0144/1000] train loss: 0.03713240846991539, valid loss: 0.10261773690581322, valid accuracy: 0.958041958041958\n",
      ">>>>>> 144에서 성능이 개선되어 저장합니다. 0.10261773690581322\n",
      "[0145/1000] train loss: 0.03639271855354309, valid loss: 0.1024092361330986, valid accuracy: 0.958041958041958\n",
      ">>>>>> 145에서 성능이 개선되어 저장합니다. 0.1024092361330986\n",
      "[0146/1000] train loss: 0.03517757169902325, valid loss: 0.10222692042589188, valid accuracy: 0.958041958041958\n",
      ">>>>>> 146에서 성능이 개선되어 저장합니다. 0.10222692042589188\n",
      "[0147/1000] train loss: 0.0348922424018383, valid loss: 0.10200148820877075, valid accuracy: 0.958041958041958\n",
      ">>>>>> 147에서 성능이 개선되어 저장합니다. 0.10200148820877075\n",
      "[0148/1000] train loss: 0.03504764102399349, valid loss: 0.10177006945014, valid accuracy: 0.958041958041958\n",
      ">>>>>> 148에서 성능이 개선되어 저장합니다. 0.10177006945014\n",
      "[0149/1000] train loss: 0.03268359135836363, valid loss: 0.10160533711314201, valid accuracy: 0.958041958041958\n",
      ">>>>>> 149에서 성능이 개선되어 저장합니다. 0.10160533711314201\n",
      "[0150/1000] train loss: 0.02548717614263296, valid loss: 0.10148203000426292, valid accuracy: 0.958041958041958\n",
      ">>>>>> 150에서 성능이 개선되어 저장합니다. 0.10148203000426292\n",
      "[0151/1000] train loss: 0.03428120817989111, valid loss: 0.10130735486745834, valid accuracy: 0.958041958041958\n",
      ">>>>>> 151에서 성능이 개선되어 저장합니다. 0.10130735486745834\n",
      "[0152/1000] train loss: 0.034401025623083115, valid loss: 0.1011817678809166, valid accuracy: 0.958041958041958\n",
      ">>>>>> 152에서 성능이 개선되어 저장합니다. 0.1011817678809166\n",
      "[0153/1000] train loss: 0.03391601052135229, valid loss: 0.1011737659573555, valid accuracy: 0.958041958041958\n",
      ">>>>>> 153에서 성능이 개선되어 저장합니다. 0.1011737659573555\n",
      "[0154/1000] train loss: 0.03364192694425583, valid loss: 0.10107435658574104, valid accuracy: 0.958041958041958\n",
      ">>>>>> 154에서 성능이 개선되어 저장합니다. 0.10107435658574104\n",
      "[0155/1000] train loss: 0.03348097763955593, valid loss: 0.10096731781959534, valid accuracy: 0.958041958041958\n",
      ">>>>>> 155에서 성능이 개선되어 저장합니다. 0.10096731781959534\n",
      "[0156/1000] train loss: 0.03266597352921963, valid loss: 0.1008860170841217, valid accuracy: 0.958041958041958\n",
      ">>>>>> 156에서 성능이 개선되어 저장합니다. 0.1008860170841217\n",
      "[0157/1000] train loss: 0.033353869803249836, valid loss: 0.10075793042778969, valid accuracy: 0.958041958041958\n",
      ">>>>>> 157에서 성능이 개선되어 저장합니다. 0.10075793042778969\n",
      "[0158/1000] train loss: 0.033087863586843014, valid loss: 0.10070914775133133, valid accuracy: 0.958041958041958\n",
      ">>>>>> 158에서 성능이 개선되어 저장합니다. 0.10070914775133133\n",
      "[0159/1000] train loss: 0.03290882334113121, valid loss: 0.1005181148648262, valid accuracy: 0.958041958041958\n",
      ">>>>>> 159에서 성능이 개선되어 저장합니다. 0.1005181148648262\n",
      "[0160/1000] train loss: 0.0318604726344347, valid loss: 0.10044577717781067, valid accuracy: 0.958041958041958\n",
      ">>>>>> 160에서 성능이 개선되어 저장합니다. 0.10044577717781067\n",
      "[0161/1000] train loss: 0.03252995852380991, valid loss: 0.10038500279188156, valid accuracy: 0.958041958041958\n",
      ">>>>>> 161에서 성능이 개선되어 저장합니다. 0.10038500279188156\n",
      "[0162/1000] train loss: 0.031929098069667816, valid loss: 0.1002342440187931, valid accuracy: 0.958041958041958\n",
      ">>>>>> 162에서 성능이 개선되어 저장합니다. 0.1002342440187931\n",
      "[0163/1000] train loss: 0.030170018784701824, valid loss: 0.10014909505844116, valid accuracy: 0.958041958041958\n",
      ">>>>>> 163에서 성능이 개선되어 저장합니다. 0.10014909505844116\n",
      "[0164/1000] train loss: 0.03160068020224571, valid loss: 0.10012762248516083, valid accuracy: 0.958041958041958\n",
      ">>>>>> 164에서 성능이 개선되어 저장합니다. 0.10012762248516083\n",
      "[0165/1000] train loss: 0.028721905313432217, valid loss: 0.100144162774086, valid accuracy: 0.958041958041958\n",
      "[0166/1000] train loss: 0.03084378596395254, valid loss: 0.10014157742261887, valid accuracy: 0.958041958041958\n",
      "[0167/1000] train loss: 0.029972247779369354, valid loss: 0.1001964770257473, valid accuracy: 0.958041958041958\n",
      "[0168/1000] train loss: 0.029525763355195522, valid loss: 0.10014516115188599, valid accuracy: 0.958041958041958\n",
      "[0169/1000] train loss: 0.020858563017100096, valid loss: 0.1000673957169056, valid accuracy: 0.958041958041958\n",
      ">>>>>> 169에서 성능이 개선되어 저장합니다. 0.1000673957169056\n",
      "[0170/1000] train loss: 0.029990368522703648, valid loss: 0.09999408945441246, valid accuracy: 0.958041958041958\n",
      ">>>>>> 170에서 성능이 개선되어 저장합니다. 0.09999408945441246\n",
      "[0171/1000] train loss: 0.03001611866056919, valid loss: 0.09985034167766571, valid accuracy: 0.958041958041958\n",
      ">>>>>> 171에서 성능이 개선되어 저장합니다. 0.09985034167766571\n",
      "[0172/1000] train loss: 0.02915019541978836, valid loss: 0.09987205639481544, valid accuracy: 0.958041958041958\n",
      "[0173/1000] train loss: 0.02825650619342923, valid loss: 0.09971902891993523, valid accuracy: 0.958041958041958\n",
      ">>>>>> 173에서 성능이 개선되어 저장합니다. 0.09971902891993523\n",
      "[0174/1000] train loss: 0.01513149356469512, valid loss: 0.0994129590690136, valid accuracy: 0.958041958041958\n",
      ">>>>>> 174에서 성능이 개선되어 저장합니다. 0.0994129590690136\n",
      "[0175/1000] train loss: 0.027823874726891518, valid loss: 0.0991966612637043, valid accuracy: 0.958041958041958\n",
      ">>>>>> 175에서 성능이 개선되어 저장합니다. 0.0991966612637043\n",
      "[0176/1000] train loss: 0.024776190519332886, valid loss: 0.09884801506996155, valid accuracy: 0.958041958041958\n",
      ">>>>>> 176에서 성능이 개선되어 저장합니다. 0.09884801506996155\n",
      "[0177/1000] train loss: 0.02760711871087551, valid loss: 0.0986277349293232, valid accuracy: 0.958041958041958\n",
      ">>>>>> 177에서 성능이 개선되어 저장합니다. 0.0986277349293232\n",
      "[0178/1000] train loss: 0.027196897193789482, valid loss: 0.09841885045170784, valid accuracy: 0.958041958041958\n",
      ">>>>>> 178에서 성능이 개선되어 저장합니다. 0.09841885045170784\n",
      "[0179/1000] train loss: 0.026343987323343754, valid loss: 0.09841324016451836, valid accuracy: 0.958041958041958\n",
      ">>>>>> 179에서 성능이 개선되어 저장합니다. 0.09841324016451836\n",
      "[0180/1000] train loss: 0.0276003060862422, valid loss: 0.09841831773519516, valid accuracy: 0.958041958041958\n",
      "[0181/1000] train loss: 0.02744035329669714, valid loss: 0.09841064736247063, valid accuracy: 0.958041958041958\n",
      ">>>>>> 181에서 성능이 개선되어 저장합니다. 0.09841064736247063\n",
      "[0182/1000] train loss: 0.02682699915021658, valid loss: 0.09842832013964653, valid accuracy: 0.958041958041958\n",
      "[0183/1000] train loss: 0.018173477612435818, valid loss: 0.09845812991261482, valid accuracy: 0.958041958041958\n",
      "[0184/1000] train loss: 0.026382237672805786, valid loss: 0.09846080467104912, valid accuracy: 0.958041958041958\n",
      "[0185/1000] train loss: 0.025973418727517128, valid loss: 0.09847386553883553, valid accuracy: 0.958041958041958\n",
      "[0186/1000] train loss: 0.016036180779337883, valid loss: 0.09848416224122047, valid accuracy: 0.958041958041958\n",
      "[0187/1000] train loss: 0.02611318603157997, valid loss: 0.09844008088111877, valid accuracy: 0.958041958041958\n",
      "[0188/1000] train loss: 0.025856684893369675, valid loss: 0.09854660928249359, valid accuracy: 0.958041958041958\n",
      "[0189/1000] train loss: 0.017460885923355818, valid loss: 0.09845591336488724, valid accuracy: 0.958041958041958\n",
      "[0190/1000] train loss: 0.0257948637008667, valid loss: 0.09846572950482368, valid accuracy: 0.958041958041958\n",
      "[0191/1000] train loss: 0.02547732461243868, valid loss: 0.09846213087439537, valid accuracy: 0.958041958041958\n",
      "191 에폭에서 조기종료 합니다. 0.09841064736247063에서 개선되지 않음.\n",
      "걸린시간(초): 1.4132335186004639\n"
     ]
    }
   ],
   "source": [
    "import time\n",
    "\n",
    "### 모델 학습(train) 로직 작성\n",
    "#### 검증 결과 -> train loss, valid_loss, valid_accuracy\n",
    "### 모델 성능이 개선될 때 마다 저장.\n",
    "### 조기종료 - 10 epoch 동안 성능 개선이 없으면 조기종료\n",
    "\n",
    "save_path = \"saved_models/bc_model.pt\"\n",
    "best_score = torch.inf   # validation loss 기준으로 저장/조기종료 여부 확인.\n",
    "patience = 10\n",
    "trigger_cnt = 0\n",
    "\n",
    "train_losses, valid_losses, valid_acces = [], [], []\n",
    "\n",
    "s = time.time()\n",
    "for epoch in range(epochs):\n",
    "    ################### train #######################\n",
    "    b_model.train()\n",
    "    train_loss = 0.0\n",
    "    for X_train, y_train in train_loader:\n",
    "        X_train, y_train = X_train.to(device), y_train.to(device)\n",
    "        pred = b_model(X_train)  # positive일 확률\n",
    "        loss = loss_fn(pred, y_train)\n",
    "        loss.backward()\n",
    "        optimizer.step()\n",
    "        optimizer.zero_grad()\n",
    "        train_loss += loss.item()\n",
    "    train_loss /= len(train_loader)\n",
    "    train_losses.append(train_loss)\n",
    "    ################### validation ##################\n",
    "    b_model.eval()\n",
    "    valid_loss = valid_acc = 0.0\n",
    "    with torch.no_grad():\n",
    "        for X_test, y_test in test_loader:\n",
    "            X_test, y_test = X_test.to(device), y_test.to(device)\n",
    "            pred_test = b_model(X_test) # positive일 확률\n",
    "            valid_loss += loss_fn(pred_test, y_test).item()\n",
    "            #  이진 분류에서 accuracy\n",
    "            valid_acc += torch.sum((pred_test > 0.5).type(torch.int32) == y_test).item()\n",
    "        valid_loss /= len(test_loader)\n",
    "        valid_acc /= len(test_loader.dataset)\n",
    "        valid_losses.append(valid_loss)\n",
    "        valid_acces.append(valid_acc)\n",
    "\n",
    "    log_template = \"[{:04d}/{}] train loss: {}, valid loss: {}, valid accuracy: {}\"\n",
    "    print(log_template.format(epoch+1, epochs, train_loss, valid_loss, valid_acc))\n",
    "    # 모델 저장, 조기종료\n",
    "    if valid_loss <  best_score: # 성능 개선\n",
    "        print(f\">>>>>> {epoch+1}에서 성능이 개선되어 저장합니다. {valid_loss}\")\n",
    "        torch.save(b_model, save_path)\n",
    "        best_score = valid_loss\n",
    "        trigger_cnt = 0\n",
    "    else:\n",
    "        trigger_cnt += 1\n",
    "        if patience == trigger_cnt:\n",
    "            print(f\"{epoch+1} 에폭에서 조기종료 합니다. {best_score}에서 개선되지 않음.\")\n",
    "            break\n",
    "\n",
    "e = time.time()\n",
    "print(\"걸린시간(초):\", e-s)"
   ]
  },
  {
   "cell_type": "code",
   "execution_count": 71,
   "metadata": {
    "id": "J-9VvvGBIUqk"
   },
   "outputs": [
    {
     "data": {
      "image/png": "[encoded data removed]",
      "text/plain": [
       "<Figure size 640x480 with 1 Axes>"
      ]
     },
     "metadata": {},
     "output_type": "display_data"
    }
   ],
   "source": [
    "## loss, acc 시각화\n",
    "plt.plot(range(len(train_losses)), train_losses, label='train loss')\n",
    "plt.plot(range(len(valid_losses)), valid_losses, label=\"valid loss\")\n",
    "plt.legend()\n",
    "plt.show()"
   ]
  },
  {
   "cell_type": "code",
   "execution_count": 73,
   "metadata": {},
   "outputs": [
    {
     "data": {
      "image/png": "[encoded data removed]",
      "text/plain": [
       "<Figure size 640x480 with 1 Axes>"
      ]
     },
     "metadata": {},
     "output_type": "display_data"
    }
   ],
   "source": [
    "plt.plot(range(len(valid_acces)), valid_acces)\n",
    "plt.show()"
   ]
  },
  {
   "cell_type": "code",
   "execution_count": 75,
   "metadata": {
    "collapsed": true,
    "id": "JK-udzqSIUqk",
    "jupyter": {
     "outputs_hidden": true
    },
    "scrolled": true
   },
   "outputs": [
    {
     "data": {
      "text/plain": [
       "BreastCancerModel(\n",
       "  (lr1): Linear(in_features=30, out_features=32, bias=True)\n",
       "  (lr2): Linear(in_features=32, out_features=8, bias=True)\n",
       "  (lr3): Linear(in_features=8, out_features=1, bias=True)\n",
       "  (relu): ReLU()\n",
       "  (logistic): Sigmoid()\n",
       ")"
      ]
     },
     "execution_count": 75,
     "metadata": {},
     "output_type": "execute_result"
    }
   ],
   "source": [
    "best_model = torch.load(save_path, weights_only=False)\n",
    "best_model"
   ]
  },
  {
   "cell_type": "code",
   "execution_count": 76,
   "metadata": {
    "id": "bKpGntfpIUqk"
   },
   "outputs": [],
   "source": [
    "def predict_bc(model, X, device=\"cpu\"):\n",
    "    # model로 X를 추론한 결과를 반환\n",
    "    # label, 확률\n",
    "    result = []\n",
    "    with torch.no_grad():\n",
    "        pred_proba = model(X) #[[0.8], [0.1], ...]\n",
    "        pred_class = (pred_proba > 0.5).type(torch.int32) #[[1], [0], ...]\n",
    "        for class_index, proba in zip(pred_class, pred_proba):\n",
    "            # print(class_index, proba if class_index.item() == 1 else 1-proba)\n",
    "            result.append((class_index.item(), proba if class_index.item() == 1 else 1-proba))\n",
    "            # proba if class_index.item() == 1 else 1-proba\n",
    "            ## proba: 양성일 확률\n",
    "            # 모델이 예측한 class가 1: proba값을 확률사용.\n",
    "            # 모델이 예측한 class가 0: 1-proba 값을 확률로 사용(양성확률를 음성확률로 변환.)\n",
    "        return result"
   ]
  },
  {
   "cell_type": "code",
   "execution_count": 77,
   "metadata": {
    "id": "b5qoR2wFIUqk"
   },
   "outputs": [],
   "source": [
    "new_data = torch.tensor(X_test_scaled[:5], dtype=torch.float32)\n",
    "# print(new_data.shape)\n",
    "result = predict_bc(best_model, new_data, device)"
   ]
  },
  {
   "cell_type": "code",
   "execution_count": 78,
   "metadata": {
    "id": "O7w3eaGTIUqk"
   },
   "outputs": [
    {
     "data": {
      "text/plain": [
       "[(1, tensor([0.9979])),\n",
       " (0, tensor([1.0000])),\n",
       " (0, tensor([0.9998])),\n",
       " (1, tensor([0.9998])),\n",
       " (0, tensor([0.9985]))]"
      ]
     },
     "execution_count": 78,
     "metadata": {},
     "output_type": "execute_result"
    }
   ],
   "source": [
    "result"
   ]
  },
  {
   "cell_type": "code",
   "execution_count": null,
   "metadata": {
    "id": "7NOcMLqvIUqk"
   },
   "outputs": [],
   "source": []
  },
  {
   "cell_type": "markdown",
   "metadata": {
    "id": "J6oRfRD6IUqk"
   },
   "source": [
    "# 모델 유형별 구현 정리\n",
    "\n",
    "## 공통\n",
    "\n",
    "-   Input layer(첫번째 Layer)의 in_features\n",
    "    -   입력데이터의 feature(속성) 개수에 맞춰준다.\n",
    "-   Hidden layer 수\n",
    "    -   경험적(art)으로 정한다.\n",
    "    -   Hidden layer에 Linear를 사용하는 경우 보통 feature 수를 줄여 나간다. (핵심 특성들을 추출해나가는 과정의 개념.)\n",
    "\n",
    "## 회귀 모델\n",
    "\n",
    "-   output layer의 출력 unit개수(out_features)\n",
    "    -   정답의 개수\n",
    "    -   ex\n",
    "        -   집값: 1\n",
    "        -   아파트가격, 단독가격, 빌라가격: 3 => y의 개수에 맞춘다.\n",
    "-   출력 Layer에 적용하는 activation 함수\n",
    "    -   일반적으로 **None**\n",
    "    -   값의 범위가 설정되 있고 그 범위의 값을 출력하는 함수가 있을 경우\n",
    "        -   ex) 0 ~ 1: logistic(Sigmoid), -1 ~ 1: hyperbolic tangent(Tanh)\n",
    "-   loss함수\n",
    "    -   MSELoss\n",
    "-   평가지표\n",
    "    -   MSE, RMSE, R square($R^2$)\n",
    "\n",
    "## 다중분류 모델\n",
    "\n",
    "-   output layer의 unit 개수\n",
    "    -   정답 class(고유값)의 개수\n",
    "-   출력 Layer에 적용하는 activation 함수\n",
    "    -   Softmax: 클래스별 확률을 출력\n",
    "-   loss함수\n",
    "    -   **categrocial crossentropy**\n",
    "    -   파이토치 함수\n",
    "        -   **CrossEntropyLoss** = NLLLoss(정답) + LogSoftmax(모델 예측값)\n",
    "        -   **NLLLoss**\n",
    "            -   정답을 OneHot Encoding 처리 후 Loss를 계산한다.\n",
    "            -   입력으로 LogSoftmax 처리한 모델 예측값과 onehot encoding 안 된 정답을 받는다.\n",
    "        -   **LogSoftmax**\n",
    "            -   입력값에 Softmax 계산후 그 Log를 계산한다.\n",
    "                -   NLLLoss의 모델 예측값 입력값으로 처리할 때 사용한다.\n",
    "\n",
    "```python\n",
    "pred = model(input)\n",
    "loss1 = nn.NLLLoss(nn.LogSoftmax(dim=-1)(pred), y)\n",
    "# or\n",
    "loss2 = nn.CrossEntropyLoss()(pred, y)\n",
    "```\n",
    "\n",
    "## 이진분류 모델\n",
    "\n",
    "-   output layer의 unit 개수\n",
    "    -   1개 (positive일 확률)\n",
    "-   출력 Layer에 적용하는 activation 함수\n",
    "    -   Sigmoid(Logistic)\n",
    "-   loss 함수\n",
    "    -   **Binary crossentropy**\n",
    "    -   파이토치 함수: **BCELoss**\n"
   ]
  }
 ],
 "metadata": {
  "colab": {
   "provenance": []
  },
  "kernelspec": {
   "display_name": "dl",
   "language": "python",
   "name": "python3"
  },
  "language_info": {
   "codemirror_mode": {
    "name": "ipython",
    "version": 3
   },
   "file_extension": ".py",
   "mimetype": "text/x-python",
   "name": "python",
   "nbconvert_exporter": "python",
   "pygments_lexer": "ipython3",
   "version": "3.12.10"
  },
  "toc": {
   "base_numbering": 1,
   "nav_menu": {},
   "number_sections": false,
   "sideBar": true,
   "skip_h1_title": false,
   "title_cell": "Table of Contents",
   "title_sidebar": "Contents",
   "toc_cell": false,
   "toc_position": {
    "height": "calc(100% - 180px)",
    "left": "10px",
    "top": "150px",
    "width": "512px"
   },
   "toc_section_display": true,
   "toc_window_display": false
  },
  "varInspector": {
   "cols": {
    "lenName": 16,
    "lenType": 16,
    "lenVar": 40
   },
   "kernels_config": {
    "python": {
     "delete_cmd_postfix": "",
     "delete_cmd_prefix": "del ",
     "library": "var_list.py",
     "varRefreshCmd": "print(var_dic_list())"
    },
    "r": {
     "delete_cmd_postfix": ") ",
     "delete_cmd_prefix": "rm(",
     "library": "var_list.r",
     "varRefreshCmd": "cat(var_dic_list()) "
    }
   },
   "types_to_exclude": [
    "module",
    "function",
    "builtin_function_or_method",
    "instance",
    "_Feature"
   ],
   "window_display": false
  }
 },
 "nbformat": 4,
 "nbformat_minor": 0
}
