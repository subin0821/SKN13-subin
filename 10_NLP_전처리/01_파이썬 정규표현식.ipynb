{
 "cells": [
  {
   "cell_type": "markdown",
   "metadata": {
    "slideshow": {
     "slide_type": "slide"
    }
   },
   "source": [
    "# <font size=50>정규 표현식 (Regular Expression)</font>"
   ]
  },
  {
   "cell_type": "markdown",
   "metadata": {
    "slideshow": {
     "slide_type": "fragment"
    }
   },
   "source": [
    "# 정규 표현식(Regular Expression, Regex) 개요\n",
    "\n",
    "## 정규 표현식이란\n",
    "- 정규표현식은 특정한 패턴을 가진 문자열을 검색, 추출, 또는 수정하기 위해 사용되는 기법이다.\n",
    "- 파이썬 뿐만 아니라 문자열을 다루는 모든 곳에서 사용된다.\n",
    "\n",
    "## 주요 용도\n",
    "\n",
    "- **문자열 검색**: 특정 패턴에 맞는 문자열을 찾는다.\n",
    "- **문자열 변경**: 패턴에 맞는 부분 문자열을 다른 문자열로 변경하거나 삭제한다.\n",
    "- **문자열 유효성 검사**: 이메일 주소, 전화번호와 같이 특정 형식을 확인하여 유효성을 검사합니다."
   ]
  },
  {
   "cell_type": "markdown",
   "metadata": {
    "slideshow": {
     "slide_type": "fragment"
    }
   },
   "source": [
    "## 정규표현식 구성 요소\n",
    "- **패턴** \n",
    "    - 찾으려는 문자열의 규칙을 정의한 표현식을 패턴이라고 한다.\n",
    "    - 정규표현식 패턴은 메타문자와 리터럴로 구성된다.\n",
    "- **메타문자**\n",
    "    - 패턴에서 특정 규칙이나 조건을 기술하기 위해 사용되는 특별한 의미를 가지는 문자.\n",
    "    - 예) `a*` : a가 0회 이상 반복을 뜻한다. a, aa, aaaa\n",
    "- **리터럴**\n",
    "    - 문자나 문자열을 패턴 내에서 그 자체로 사용하는 것을 말한다. \n",
    "    - 예) `a`는 `a` 자체를 의미한다.    "
   ]
  },
  {
   "cell_type": "markdown",
   "metadata": {
    "slideshow": {
     "slide_type": "fragment"
    }
   },
   "source": [
    "# 정규 표현식 메타 문자\n",
    "\n",
    "## 문자 클래스 :  [  ]\n",
    "- `[ ]` 사이의 문자들과 매칭\n",
    "    - `[abc]` : a, b, c 중 **하나의 문자**와 매치\n",
    "- `-`를 이용해 범위로 설정할 수 있다.\n",
    "    - `[a-z]` : 알파벳소문자중 하나의 문자와 매치\n",
    "    - `[a-zA-Z0-9]` : 알파벳대소문자와 숫자 중 하나의 문자와 매치\n",
    "    - `[가-힣ㄱ-ㅎㅏ-ㅣ]`: 한글중 하나와 매치\n",
    "- `[^ 패턴]` : ^ 으로 시작하는 경우 반대의 의미. 와서 안되는 패턴을 의미\n",
    "    - `[^abc]` : a, b, c를 제외한 나머지 문자들 중 하나와 매치.\n",
    "    - `[^a-z]` : 알파벳 소문자를 제외한 나머지 문자들 중 하나와 매치"
   ]
  },
  {
   "cell_type": "markdown",
   "metadata": {
    "slideshow": {
     "slide_type": "subslide"
    }
   },
   "source": [
    "## 미리 정의된 문자 클래스\n",
    "- 자주 사용되는 문자클래스를 미리 정의된 별도 표기법으로 제공한다.\n",
    "- `\\d` : 숫자와 매치. [0-9]와 동일\n",
    "- `\\D` : `\\d`의 반대. 숫자가 아닌 문자와 매치.  [^0-9]와 동일\n",
    "- `\\w` : 문자와 숫자, _(underscore)와 매치. `[a-zA-Z가-힣0-9_]`와 동일  (문자는 특수문자 제외한 일반문자-언어상관없는-들을 말한다.\n",
    "- `\\W` : `\\w`의 반대. 문자와 숫자와 _ 가 아닌 문자와 매치.  `[^a-zA-Z가-힣0-9_]`와 동일\n",
    "- `\\s` : 공백문자와 매치. tab,줄바꿈,공백문자와 일치\n",
    "- `\\S` : `\\s`와 반대. 공백을 제외한 문자열과 매치.\n",
    "- `\\b` : 단어 경계(word boundary) 표시. \\b가 매칭하는 경계문자로 공백, `,`, `.`, `\\n` 이 있다.\n",
    "    - \\b는 문자 자체와 매칭하지 않고 경계만 확인한다. 단어의 시작과 단어의 끝을 찾는 데 유용하다.\n",
    "    - `\\bcat\\b`는 \"cat\"이라는 단어가 정확히 존재하는 경우만 매칭한다. 그래서 \"**cat**egory\"나 \"con**cat**enate\" 같은 단어에는 매칭되지 않고 \"The cat is\" 에서 cat 에만 매칭된다.\n",
    "- `\\B` : `\\b`의 반대. 단어 경계로 구분된 단어가 아닌 경우\n",
    "    - `\\B가족\\B` => 우리 가족 만세(X), 우리가족만세 (O)"
   ]
  },
  {
   "cell_type": "markdown",
   "metadata": {
    "slideshow": {
     "slide_type": "subslide"
    }
   },
   "source": [
    "## 글자수와 관련된 메타문자\n",
    "- `*` : 앞의 문자(패턴)과 일치하는 문자가 0개 이상인 경우. (`a*b`)\n",
    "- `+` : 앞의 문자(패턴)과 일치하는 문자가 1개이상인 경우.  (`a+b`)\n",
    "- `?` :  앞의 문자(패턴)과 일치하는 문자가 한개 있거나 없는 경우. (`a?b`)\n",
    "- `{m}` : 앞의 문자(패턴)가 m개. (`a{3}b`)\n",
    "- `{m,}` : 앞의 문자(패턴)이 m개 이상. (`a{3,}b`)\n",
    "    - , 뒤에 공백이 들어오지 않도록 한다.\n",
    "- `{m,n}` : 앞의 문자(패턴)이 m개이상 n개 이하. (`a{2,5}b`)    \n",
    "- `.`, `*`, `+`, `?` 등 메타문자들을 리터럴로 표현할 경우 `\\`를 붙인다."
   ]
  },
  {
   "cell_type": "markdown",
   "metadata": {
    "ExecuteTime": {
     "end_time": "2019-05-15T10:08:16.413433Z",
     "start_time": "2019-05-15T10:08:16.407394Z"
    },
    "slideshow": {
     "slide_type": "subslide"
    }
   },
   "source": [
    "## 문장의 시작과 끝 표현\n",
    "- `^` 문자열의 시작 (`^abc`)\n",
    "    - 문자 클래스([ ])의 ^와는 의미가 다르다.\n",
    "- `$` : 문자열의 끝 (`abc$`)"
   ]
  },
  {
   "cell_type": "markdown",
   "metadata": {
    "ExecuteTime": {
     "end_time": "2019-05-15T10:08:16.413433Z",
     "start_time": "2019-05-15T10:08:16.407394Z"
    },
    "slideshow": {
     "slide_type": "fragment"
    }
   },
   "source": [
    "## 기타\n",
    "- `.` : 한개의 모든 문자(\\n-줄바꿈 제외) (`a.b`)\n",
    "- `|` : 둘중 하나(OR) (?:010|011|016|019)\n",
    "    - 010|016-111 : 010 또는 016-111 이 된다. \n",
    "- `(  )` : 패턴내 하위그룹을 만들때 사용"
   ]
  },
  {
   "cell_type": "markdown",
   "metadata": {
    "slideshow": {
     "slide_type": "slide"
    }
   },
   "source": [
    "# 파이썬에서 정규표현식 사용하기\n",
    "- 표준 모듈 `re` 를 사용한다.\n",
    "    - re는 정규표현식을 전용 모듈이고 다양한 패키지들이 내부적으로 정규표현식을 사용한다.\n",
    "- 파이썬에서 정규 표현식을 지원하기 위한 모듈\n",
    "- 파이썬 기본 라이브러리"
   ]
  },
  {
   "cell_type": "markdown",
   "metadata": {
    "slideshow": {
     "slide_type": "subslide"
    }
   },
   "source": [
    "## 코딩 방식\n",
    "\n",
    "1. 객체지향형\n",
    "    - 패턴 객체를 생성후 메소드를 호출해 원하는 처리를 한다.\n",
    "     ```python\n",
    "        p = re.compile(r'\\d+')\n",
    "        p.search('abc123def')\n",
    "    ```\n",
    "2. 함수형\n",
    "    - `re` 모듈의 원하는 작업을 하는 함수를 호출한다. Argument로 패턴과 처리할 값을 전달한다.\n",
    "    ```python\n",
    "        re.search(r'\\d+', 'abc123def')\n",
    "    ```\n",
    "    \n",
    "> ### raw string\n",
    "> - 파이썬은 문자열에 `\\` 가 있으면 우선적으로 escape 문자로 처리한다. 그런데 메타문자 중 \"미리 정의된 문자클래스\" 들은 다 `\\`로 시작한다.  그래서 이들을 사용할 경우 `escape` 문자와의 구분을 위해 `\\\\` 두개씩 작성해야한다.  이를 피하기 위해 패턴을 작성할 때는 raw string을 사용하는 것이 편리하다.\n",
    ">    - `re.compile('\\b가족\\b')` : `\\b`를 escape 문자 b(백스페이스)로 인식\n",
    ">    - `re.compile(r'\\b가족\\b')` : `\\b`가 일반문자가 되어 컴파일시 정규식 메타문자로 처리된다.\n"
   ]
  },
  {
   "cell_type": "markdown",
   "metadata": {
    "slideshow": {
     "slide_type": "slide"
    }
   },
   "source": [
    "## 검색함수\n",
    "- match(), search() : 패턴과 일치하는 문장이 **있는지 여부**를 확인할 때 사용\n",
    "- findall(), finditer(s) : 패턴과 일치하는 문장을 **찾을 때** 사용"
   ]
  },
  {
   "cell_type": "markdown",
   "metadata": {
    "slideshow": {
     "slide_type": "subslide"
    }
   },
   "source": [
    "### Match class\n",
    "- **검색 결과를** 담는 class\n",
    "    - match(), search() 의 반환타입으로 검색결과를 담는다.\n",
    "- 패턴과 일치한 문자열과 그 문자열의 위치를 가진다.\n",
    "- 주요 메소드\n",
    "    - **group()** : 매치된 문자열들을 튜플로 반환\n",
    "    - **group(subgroup 번호)** : 패턴에 하위그룹이 지정된 경우 특정 그룹의 문자열 반환\n",
    "    - **start(), end()** : 대상 문자열내에서 시작, 끝 index 반환\n",
    "    - **span()** : 대상 문자열 내에서 시작, 끝 index를 tuple로 반환"
   ]
  },
  {
   "cell_type": "markdown",
   "metadata": {
    "slideshow": {
     "slide_type": "subslide"
    }
   },
   "source": [
    "### match(대상문자열 [, pos=0])\n",
    "- 대상 문자열의 시작이 정규식과 일치하는지를 조회.\n",
    "- pos : 시작 index 지정\n",
    "- 반환값\n",
    "    - Match 객체: 일치하는 문자열이 있는 경우\n",
    "    - None: 일치하는 문자열이 없는 경우"
   ]
  },
  {
   "cell_type": "markdown",
   "metadata": {
    "slideshow": {
     "slide_type": "subslide"
    }
   },
   "source": [
    "### search(대상문자열 [, pos=0])\n",
    "- 대상문자열 전체 안에서 정규식과 일치하는 것이 있는지 조회\n",
    "- pos: 찾기 시작하는 index 지정\n",
    "- 반환값\n",
    "    - Match 객체: 일치하는 문자열이 있는 경우\n",
    "    - None: 일치하는 문자열이 없는 경우|"
   ]
  },
  {
   "cell_type": "code",
   "execution_count": 9,
   "metadata": {},
   "outputs": [
    {
     "name": "stdout",
     "output_type": "stream",
     "text": [
      "지정한 패턴으로 시작하지 않습니다.\n"
     ]
    }
   ],
   "source": [
    "import re\n",
    "\n",
    "txt = \"반갑습니다. 안녕하세요. 오늘 날씨는 25도 입니다. 좋은 하루되세요.\" # 검색 대상\n",
    "txt2 = \"안녕하세요. 반갑습니다. 오늘 날씨는 25도 입니다. 좋은 하루되세요.\"\n",
    "# 정규표현식 패턴 객체 생성\n",
    "p = re.compile(r\"[가-힣]+습니다\\.\") # ~~~습니다.\n",
    "\n",
    "result = p.match(txt)\n",
    "result = p.match(txt2)\n",
    "\n",
    "# txt에서 pattern의 문자열로 **시작하는 지를** 찾는다. 찾은 결과가 있으면 Match객체 반환. 없으면 None반환.\n",
    "if result is not None:\n",
    "    print(result)\n",
    "    print(result.group()) # 찾은 문자열\n",
    "    print(result.start()) # 찾은 문자열의 시작 위치(index)\n",
    "    print(result.end())   # 찾은 문자열의 끝 위치(index)+1\n",
    "    print(result.span())  # (start, end)\n",
    "else:\n",
    "    print(\"지정한 패턴으로 시작하지 않습니다.\")"
   ]
  },
  {
   "cell_type": "code",
   "execution_count": null,
   "metadata": {},
   "outputs": [
    {
     "name": "stdout",
     "output_type": "stream",
     "text": [
      "<re.Match object; span=(7, 13), match='반갑습니다.'>\n"
     ]
    }
   ],
   "source": [
    "result = p.search(txt)  # 패턴의 문자열이 txt에 있는지 검색.\n",
    "result = p.search(txt2)\n",
    "print(result)\n",
    "\n",
    "# 패턴으로 시작하는지: match(), 패턴이 있는지: search()\n",
    "# 있다-> 반환값: Match객체, 없다->반환값: None\n",
    "if result is not None: #있는 경우 처리\n",
    "    pass\n",
    "else: # 없는 경우 처리.\n",
    "    pass"
   ]
  },
  {
   "cell_type": "code",
   "execution_count": 16,
   "metadata": {},
   "outputs": [
    {
     "name": "stdout",
     "output_type": "stream",
     "text": [
      "<re.Match object; span=(25, 30), match='40000'>\n"
     ]
    }
   ],
   "source": [
    "txt = \"가격은 각각 1000, 2000, 3000, 400000원 입니다.\"\n",
    "# 함수\n",
    "result = re.search(r\"\\d+\", txt)\n",
    "result = re.search(r\"\\d{2}\", txt) # 숫자2개\n",
    "result = re.search(r\"\\d{5}\", txt) # 만단위 이상이 있나?\n",
    "print(result)"
   ]
  },
  {
   "cell_type": "markdown",
   "metadata": {
    "slideshow": {
     "slide_type": "subslide"
    }
   },
   "source": [
    "### findall(대상문자열)\n",
    "- 대상문자열에서 정규식과 매칭되는 문자열들을 리스트로 반환\n",
    "- 반환값\n",
    "    - 리스트(List) : 일치하는 문자열들을 가진 리스트를 반환\n",
    "    - 일치하는 패턴이 없을 경우 빈 리스트를 반환한다.\n",
    "    \n",
    "### finditer(대상문자열)\n",
    "- 대상문자열에서 정규식과 매칭되는 결과들을 조회할 수있는 Iterator를 반환한다.\n",
    "- 반환값\n",
    "    - callable_iterator\n",
    "    - 일치하는 패턴이 없어도 iterator객체는 반환되는데 next()시 StopIteration Exception발생한다."
   ]
  },
  {
   "cell_type": "code",
   "execution_count": 18,
   "metadata": {},
   "outputs": [
    {
     "name": "stdout",
     "output_type": "stream",
     "text": [
      "<class 'list'> 2\n"
     ]
    },
    {
     "data": {
      "text/plain": [
       "['안녕하세요', '식사하세요']"
      ]
     },
     "execution_count": 18,
     "metadata": {},
     "output_type": "execute_result"
    }
   ],
   "source": [
    "txt = \"안녕하세요. 반갑습니다. 식사하세요. 잘가세요.\"\n",
    "# \"~~~하세요\" 들을 찾기.\n",
    "p = re.compile(r\"\\w{2}+하세요\") # \\w: 일반문자열/숫자/`_`\n",
    "result = p.findall(txt)   # re.findall(r\"\\w{2}+하세요\", txt)\n",
    "print(type(result), len(result))\n",
    "result"
   ]
  },
  {
   "cell_type": "code",
   "execution_count": 33,
   "metadata": {},
   "outputs": [
    {
     "name": "stdout",
     "output_type": "stream",
     "text": [
      "<class 'callable_iterator'>\n"
     ]
    }
   ],
   "source": [
    "result = p.finditer(txt) # re.finditer(r\"패턴\", txt)\n",
    "print(type(result))"
   ]
  },
  {
   "cell_type": "code",
   "execution_count": 34,
   "metadata": {},
   "outputs": [
    {
     "name": "stdout",
     "output_type": "stream",
     "text": [
      "안녕하세요 0 5 (0, 5)\n",
      "식사하세요 14 19 (14, 19)\n"
     ]
    }
   ],
   "source": [
    "for r in result:\n",
    "    print(r.group(), r.start(), r.end(), r.span())"
   ]
  },
  {
   "cell_type": "markdown",
   "metadata": {
    "slideshow": {
     "slide_type": "subslide"
    }
   },
   "source": [
    "### TODO\n",
    "- info 변수는 한줄에 한사람의 data가 있고 구성은 **`이름 이메일주소 주민번호`** 순서로 되어있다."
   ]
  },
  {
   "cell_type": "code",
   "execution_count": null,
   "metadata": {
    "ExecuteTime": {
     "end_time": "2020-05-17T13:22:23.684099Z",
     "start_time": "2020-05-17T13:22:23.679112Z"
    },
    "slideshow": {
     "slide_type": "skip"
    }
   },
   "outputs": [
    {
     "name": "stdout",
     "output_type": "stream",
     "text": [
      "김정수 kjs@gmail.com 801023-1010221\n",
      "박영수 pys.abc@gmail.com 700121-1120212\n",
      "이민영 lmy-abc@naver.com 820301-2020122\n",
      "김순희 ksh@daum.net 781223-2012212\n",
      "오주연 ojy@daum.net 900522-1023218\n",
      "\n"
     ]
    }
   ],
   "source": [
    "info ='''김정수 kjs@gmail.com 801023-1010221\n",
    "박영수 pys.abc@gmail.com 700121-1120212\n",
    "이민영 lmy-abc@naver.com 820301-2020122\n",
    "김순희 ksh@daum.net 781223-2012212\n",
    "오주연 ojy@daum.net 900522-1023218\n",
    "'''\n",
    "print(info)"
   ]
  },
  {
   "cell_type": "code",
   "execution_count": null,
   "metadata": {
    "slideshow": {
     "slide_type": "skip"
    }
   },
   "outputs": [
    {
     "data": {
      "text/plain": [
       "['801023-1010221',\n",
       " '700121-1120212',\n",
       " '820301-2020122',\n",
       " '781223-2012212',\n",
       " '900522-1023218']"
      ]
     },
     "execution_count": 37,
     "metadata": {},
     "output_type": "execute_result"
    }
   ],
   "source": [
    "# 주민번호들만 조회해서 출력\n",
    "p = re.compile(r\"\\d{6}-[12349]\\d{6}\")\n",
    "result = p.findall(info)\n",
    "result"
   ]
  },
  {
   "cell_type": "code",
   "execution_count": 39,
   "metadata": {},
   "outputs": [
    {
     "data": {
      "text/plain": [
       "[<re.Match object; span=(18, 32), match='801023-1010221'>,\n",
       " <re.Match object; span=(55, 69), match='700121-1120212'>,\n",
       " <re.Match object; span=(92, 106), match='820301-2020122'>,\n",
       " <re.Match object; span=(124, 138), match='781223-2012212'>,\n",
       " <re.Match object; span=(156, 170), match='900522-1023218'>]"
      ]
     },
     "execution_count": 39,
     "metadata": {},
     "output_type": "execute_result"
    }
   ],
   "source": [
    "list(p.finditer(info))"
   ]
  },
  {
   "cell_type": "code",
   "execution_count": 40,
   "metadata": {
    "slideshow": {
     "slide_type": "skip"
    }
   },
   "outputs": [
    {
     "name": "stdout",
     "output_type": "stream",
     "text": [
      "['kjs@gmail.com', 'pys.abc@gmail.com', 'lmy-abc@naver.com', 'ksh@daum.net', 'ojy@daum.net']\n"
     ]
    }
   ],
   "source": [
    "# Email 주소만 추출 해서 출력\n",
    "# 계정@도메인주소\n",
    "p = re.compile(r\"[\\w\\.\\-]+@[\\w\\.\\-]+\\.\\w{2,4}\")   # \\w{2,4} -> .com, .kr\n",
    "result = p.findall(info)\n",
    "print(result)\n",
    "# \\w: 일반문자, 숫자, `_`\n",
    "# \\. : `.`\n",
    "# \\- : `-`\n",
    "# +: 한글자 이상."
   ]
  },
  {
   "cell_type": "code",
   "execution_count": null,
   "metadata": {},
   "outputs": [],
   "source": [
    "# https://regexr.com"
   ]
  },
  {
   "cell_type": "markdown",
   "metadata": {
    "slideshow": {
     "slide_type": "slide"
    }
   },
   "source": [
    "## 문자열 변경\n",
    "- sub(): 변경된 문자열 반환\n",
    "- subn(): 변경된 문자열, 변경개수 반환"
   ]
  },
  {
   "cell_type": "markdown",
   "metadata": {
    "slideshow": {
     "slide_type": "subslide"
    }
   },
   "source": [
    "### sub(바꿀문자열, 대상문자열 [, count=양수])\n",
    "- 대상문자열에서 패턴과 일치하는 것을 바꿀문자열로 변경한다.\n",
    "- count: 변경할 개수를 지정. 기본: 매칭되는 문자열은 다 변경\n",
    "- 반환값: 변경된 문자열\n",
    "\n",
    "### subn(바꿀문자열, 대상문자열 [, count=양수])\n",
    "- sub()와 동일한 역할.\n",
    "- 반환값 : (변경된 문자열, 변경된문자열개수) 를 tuple로 반환"
   ]
  },
  {
   "cell_type": "code",
   "execution_count": 44,
   "metadata": {
    "slideshow": {
     "slide_type": "fragment"
    }
   },
   "outputs": [
    {
     "name": "stdout",
     "output_type": "stream",
     "text": [
      "     오늘은         월요일          입니다.       \n"
     ]
    },
    {
     "data": {
      "text/plain": [
       "'오늘은 월요일 입니다.'"
      ]
     },
     "execution_count": 44,
     "metadata": {},
     "output_type": "execute_result"
    }
   ],
   "source": [
    "import re\n",
    "txt = \"     오늘은         월요일          입니다.       \"\n",
    "# txt.strip() # 좌우공백 제거\n",
    "# txt.replace(\"    \", \" \") # 개수가 일치해야한다.\n",
    "result = re.sub(r\" +\", \" \",txt.strip()) # 공백들을 한개공백으로 변경. (패턴, 바꿀문자열, 대상상)\n",
    "print(txt)\n",
    "result"
   ]
  },
  {
   "cell_type": "code",
   "execution_count": 46,
   "metadata": {
    "slideshow": {
     "slide_type": "fragment"
    }
   },
   "outputs": [
    {
     "name": "stdout",
     "output_type": "stream",
     "text": [
      "<class 'tuple'> 2\n"
     ]
    },
    {
     "data": {
      "text/plain": [
       "('오늘은 월요일 입니다.', 2)"
      ]
     },
     "execution_count": 46,
     "metadata": {},
     "output_type": "execute_result"
    }
   ],
   "source": [
    "p = re.compile(r\" +\")\n",
    "result = p.subn(\" \", txt.strip())\n",
    "print(type(result), len(result))\n",
    "\n",
    "result"
   ]
  },
  {
   "cell_type": "markdown",
   "metadata": {
    "slideshow": {
     "slide_type": "slide"
    }
   },
   "source": [
    "# Grouping - 패턴내 하위 패턴 만들기\n",
    "- 패턴의 일부를 하나의 그룹으로 묶는 기능으로, 매칭된 패턴의 일부를 재사용하거나, 특정 패턴이 일치하는지 확인할 때 유용.\n",
    "    - 보통 패턴이 여러개의 하위 패턴(속성)들로 구성되 있고 전체 내용에서 일부 속성들을 매칭 시켜야 할 때 사용한다.\n",
    "    - 예를 들어, 전화번호는 \"지역번호/010-국번-번호\" 형식으로 구성된다. 이때 패턴을 만들면서 국번 부분을 그룹화하면, 전화번호를 찾은 후 국번만 쉽게 추출하여 조회할 수 있다.\n",
    "\n",
    "- 구문: 하위 패턴을 **소괄호**로 묶어준다.\n",
    "    - `(\\d{4})/([01]\\d)/([0123]\\d)`  \n",
    "    - (년도)/(월)/(일)"
   ]
  },
  {
   "cell_type": "markdown",
   "metadata": {
    "ExecuteTime": {
     "end_time": "2019-05-16T00:56:13.966065Z",
     "start_time": "2019-05-16T00:56:13.960644Z"
    },
    "slideshow": {
     "slide_type": "subslide"
    }
   },
   "source": [
    "## 그룹핑 예\n",
    "\n",
    "### 전체 패턴과 매칭된 결과에서 하위 패턴을 조회"
   ]
  },
  {
   "cell_type": "code",
   "execution_count": 51,
   "metadata": {},
   "outputs": [
    {
     "name": "stdout",
     "output_type": "stream",
     "text": [
      "010-1234-5678\n"
     ]
    },
    {
     "data": {
      "text/plain": [
       "'1234'"
      ]
     },
     "execution_count": 51,
     "metadata": {},
     "output_type": "execute_result"
    }
   ],
   "source": [
    "txt = \"tel)010-1234-5678\"\n",
    "# 전화번호만 추출하는 패턴\n",
    "p = re.compile(r\"0\\d{1,2}-\\d{3,4}-\\d{4}\")\n",
    "result = p.findall(txt)[0]\n",
    "print(result)\n",
    "# 국번\n",
    "result.split('-')[1]"
   ]
  },
  {
   "cell_type": "code",
   "execution_count": null,
   "metadata": {},
   "outputs": [
    {
     "name": "stdout",
     "output_type": "stream",
     "text": [
      "전체번호: 010-1234-5678\n",
      "지역/HP식별번호: 010\n",
      "국번: 1234\n",
      "번호: 5678\n"
     ]
    }
   ],
   "source": [
    "# grouping\n",
    "txt = \"tel)010-1234-5678\"\n",
    "# 전화번호만 추출하는 패턴\n",
    "p = re.compile(r\"(0\\d{1,2})-(\\d{3,4})-(\\d{4})\")\n",
    "# search 로 조회\n",
    "result = p.search(txt)\n",
    "if result is not None:\n",
    "    print('전체번호:', result.group())\n",
    "    print('지역/HP식별번호:', result.group(1)) # 첫번째 ()에 묶인 값만 조회.\n",
    "    print(\"국번:\", result.group(2))\n",
    "    print(\"번호:\", result.group(3))"
   ]
  },
  {
   "cell_type": "code",
   "execution_count": null,
   "metadata": {},
   "outputs": [
    {
     "data": {
      "text/plain": [
       "[('010', '1234', '5678')]"
      ]
     },
     "execution_count": 56,
     "metadata": {},
     "output_type": "execute_result"
    }
   ],
   "source": [
    "p.findall(txt) # 전체조회결과를 sub그룹을 원소로 가지는 tuple로 반환. "
   ]
  },
  {
   "cell_type": "code",
   "execution_count": 60,
   "metadata": {},
   "outputs": [
    {
     "name": "stdout",
     "output_type": "stream",
     "text": [
      "[('010', '1111-2222', '1111', '2222'), ('02', '3333-4444', '3333', '4444'), ('031', '2020-6060', '2020', '6060')]\n",
      "010-1111-2222\n",
      "010\n",
      "1111-2222\n",
      "1111\n",
      "2222\n",
      "============================\n",
      "02-3333-4444\n",
      "02\n",
      "3333-4444\n",
      "3333\n",
      "4444\n",
      "============================\n",
      "031-2020-6060\n",
      "031\n",
      "2020-6060\n",
      "2020\n",
      "6060\n",
      "============================\n"
     ]
    }
   ],
   "source": [
    "txt = \"010-1111-2222, 02-3333-4444, 031-2020-6060\"\n",
    "p = re.compile(r\"(0\\d{1,2})-((\\d{3,4})-(\\d{4}))\")\n",
    "# (1) - (2 (3) - (4))\n",
    "# (1(2)-(3))-(4(5)-(6(7)-(8)))\n",
    "\n",
    "result = p.findall(txt)\n",
    "print(result)\n",
    "\n",
    "result = p.finditer(txt)\n",
    "# print(result)    \n",
    "for r in result:\n",
    "    print(r.group()) # 전체\n",
    "    print(r.group(1))\n",
    "    print(r.group(2))\n",
    "    print(r.group(3))\n",
    "    print(r.group(4))\n",
    "    print(\"============================\")\n"
   ]
  },
  {
   "cell_type": "markdown",
   "metadata": {
    "slideshow": {
     "slide_type": "subslide"
    }
   },
   "source": [
    "### 패턴 안에서 하위 패턴 참조 지정\n",
    "- `\\번호`\n",
    "- 지정한 '번호' 번째 패턴으로 매칭된 문자열과 같은 문자열을 의미"
   ]
  },
  {
   "cell_type": "code",
   "execution_count": 62,
   "metadata": {},
   "outputs": [
    {
     "name": "stdout",
     "output_type": "stream",
     "text": [
      "010-2222-2222\n",
      "051-5151-5151\n"
     ]
    }
   ],
   "source": [
    "txt = \"010-1111-2222, 010-2222-2222, 02-3232-9090, 051-5151-5151\"\n",
    "p = r\"0\\d{1,2}-(\\d{3,4})-\\1\"  \n",
    "# 국번과 번호가 같은 전화번호를 찾는 패턴. 1번 sub group과 같은 값인 것.\n",
    "# result = re.findall(p, txt)\n",
    "# result\n",
    "result = re.finditer(p, txt)\n",
    "for r in result:\n",
    "    print(r.group())"
   ]
  },
  {
   "cell_type": "markdown",
   "metadata": {
    "slideshow": {
     "slide_type": "slide"
    }
   },
   "source": [
    "### 패턴과 매칭된 결과의 일부분만 변경"
   ]
  },
  {
   "cell_type": "code",
   "execution_count": null,
   "metadata": {
    "slideshow": {
     "slide_type": "fragment"
    }
   },
   "outputs": [
    {
     "name": "stdout",
     "output_type": "stream",
     "text": [
      "김정수 kjs@gmail.com 801023-1######1\n",
      "박영수 pys.abc@gmail.com 700121-1######1\n",
      "이민영 lmy-abc@naver.com 820301-2######2\n",
      "김순희 ksh@daum.net 781223-2######2\n",
      "오주연 ojy@daum.net 900522-1######1\n",
      "\n"
     ]
    }
   ],
   "source": [
    "p = r\"(\\d{6}-([12349]))\\d{6}\"  # 주민번호 패턴 -> 변경하지 않을 부분을 ( ) 묶는다.\n",
    "result = re.sub(p, r\"\\g<1>######\", info) \n",
    "                    # 변경할 문자열: \\g<1> group 1에 속한 문자열을 위치시킨다.\n",
    "print(result)\n",
    "# print(info)"
   ]
  },
  {
   "cell_type": "code",
   "execution_count": 84,
   "metadata": {},
   "outputs": [
    {
     "name": "stdout",
     "output_type": "stream",
     "text": [
      "김정수 kjs@gmail.com 1010221-801023\n",
      "박영수 pys.abc@gmail.com 1120212-700121\n",
      "이민영 lmy-abc@naver.com 2020122-820301\n",
      "김순희 ksh@daum.net 2012212-781223\n",
      "오주연 ojy@daum.net 1023218-900522\n",
      "\n"
     ]
    }
   ],
   "source": [
    "p = r\"(\\d{6})-([12349]\\d{6})\"  # ( )-( )\n",
    "r = re.sub(p, r\"\\g<2>-\\g<1>\", info)\n",
    "print(r)"
   ]
  },
  {
   "cell_type": "markdown",
   "metadata": {
    "slideshow": {
     "slide_type": "fragment"
    }
   },
   "source": [
    "### group으로 묶인 것 참조(조회)\n",
    "- **패턴 안에서 참조**\n",
    "    - `\\번호` , `r'(\\d{3}) \\1'` => 중복되는 것을 패턴으로 표현할 때.\n",
    "- **match 조회**\n",
    "    - match객체.group(번호)\n",
    "- **sub() 함수에서 대체 문자로 참조**\n",
    "    - `\\g<번호>`"
   ]
  },
  {
   "cell_type": "markdown",
   "metadata": {
    "slideshow": {
     "slide_type": "slide"
    }
   },
   "source": [
    "# Greedy 와 Non-Greedy(Lazy) Matching\n",
    "- **Greedy** matching\n",
    "    - 주어진 패턴에 만족하는 문자열을 최대한 넓게(길게) 잡아 찾는다.\n",
    "    - 매칭시 기본 방식\n",
    "- **Non-Greedy(Lazy)** matching\n",
    "    - 주어진 패턴에 만족하는 문자열을 최초의 일치하는 위치까지 찾는다\n",
    "    - 개수를 나타내는 메타문자(수량자)에 `?`를 붙인다.\n",
    "        - `*?`\n",
    "        - `+?`\n",
    "        - `{m,n}?`"
   ]
  },
  {
   "cell_type": "code",
   "execution_count": null,
   "metadata": {
    "slideshow": {
     "slide_type": "fragment"
    }
   },
   "outputs": [
    {
     "name": "stdout",
     "output_type": "stream",
     "text": [
      "['<ul>', '<li>', '</li>', '<li>', '</li>', '</ul>']\n"
     ]
    }
   ],
   "source": [
    "txt = \"\"\"\n",
    "<ul>\n",
    "   <li>Python</li>\n",
    "   <li>Java</li>\n",
    "</ul>\n",
    "\"\"\"\n",
    "# txt(html) 에서 태그들을 조회 <ul>,<li>,</li>,<li>,</li>,</ul>\n",
    "# p = r\"<.+>\"  # <a>, <ul>, <section class='c1'>\n",
    "p = r\"<.+?>\" # .+ 뒤 패턴의 문자를 처음 만나면 수량사 처리를 끝내라.\n",
    "\n",
    "result = re.findall(p, txt)\n",
    "print(result)"
   ]
  },
  {
   "cell_type": "code",
   "execution_count": null,
   "metadata": {},
   "outputs": [],
   "source": []
  },
  {
   "cell_type": "markdown",
   "metadata": {
    "slideshow": {
     "slide_type": "fragment"
    }
   },
   "source": [
    "# 전방/후방 탐색\n",
    "- 찾을 때는 포함시키지만 조회할 때는 제외시키는 패턴을 정의하는 방법이다. 조회하는 부분이 앞에 정의되면 전방 탐색, 뒤에 정의되면 후방탐색이라고 한다.\n",
    "    - 이 기능을 통해 문자열 내에서 특정 조건이 충족되는지 확인하면서, 실제 매칭에서는 그 조건을 포함하지 않도록 할 수 있다.\n",
    "- **전방탐색**\n",
    "    - 매칭(반환)될 문자열들이 앞에 있는 경우.\n",
    "    - 긍정 전방탐색\n",
    "        - %%%(?=패턴) : 괄호안의 패턴이 뒤에 오는 경우를 찾는다. 매칭(반환)는 %%%부분만 한다.\n",
    "            - `\\d(?=abc)`: 숫자 뒤에 abc가 오는 패턴을 찾고 숫자만 매칭한다.\n",
    "    - 부정 전방탐색\n",
    "        - %%%(?!패턴)  : 괄호 안의 패턴이 오지 않는 경우를 찾는다. 매칭(반환)은 %%%부분만 한다.\n",
    "            - - `\\d(?!abc)`: 숫자 뒤에 abc가 오지 않는 패턴을 찾고 숫자만 매칭한다.\n",
    "- **후방탐색**\n",
    "    - 매칭(반환)될 문자열이 뒤에 있는 경우.\n",
    "    - 긍정 후방탐색\n",
    "        - (?<=패턴)%%%\n",
    "    - 부정 후방탐색\n",
    "        - (?<!패턴)%%%"
   ]
  },
  {
   "cell_type": "code",
   "execution_count": 91,
   "metadata": {},
   "outputs": [
    {
     "data": {
      "text/plain": [
       "['30000', '32000', '15000']"
      ]
     },
     "execution_count": 91,
     "metadata": {},
     "output_type": "execute_result"
    }
   ],
   "source": [
    "info1 = \"\"\"TV 30000원 30개\n",
    "컴퓨터 32000원 50개\n",
    "모니터 15000원 70개\"\"\"\n",
    "\n",
    "p = r\"\\d{2,}(?=원)\"  # (?=원): `원` 은 검색할 때만 사용. 조회결과에는 포함시키지 않는다.\n",
    "re.findall(p, info1)\n",
    "# 가격(숫자)만 추출 "
   ]
  },
  {
   "cell_type": "code",
   "execution_count": 95,
   "metadata": {},
   "outputs": [
    {
     "data": {
      "text/plain": [
       "['30000', '32000', '15000']"
      ]
     },
     "execution_count": 95,
     "metadata": {},
     "output_type": "execute_result"
    }
   ],
   "source": [
    "info2 = \"\"\"TV $30000 30개\n",
    "컴퓨터 $32000 50개\n",
    "모니터 $15000 70개\"\"\"\n",
    "\n",
    "p = r\"(?<=\\$)\\d+\"  # (?<=\\$) (?<= ) 후방탐색 괄호. $는 검색할 때만 사용. \n",
    "re.findall(p, info2)"
   ]
  },
  {
   "cell_type": "code",
   "execution_count": null,
   "metadata": {},
   "outputs": [],
   "source": []
  }
 ],
 "metadata": {
  "kernelspec": {
   "display_name": "base",
   "language": "python",
   "name": "python3"
  },
  "language_info": {
   "codemirror_mode": {
    "name": "ipython",
    "version": 3
   },
   "file_extension": ".py",
   "mimetype": "text/x-python",
   "name": "python",
   "nbconvert_exporter": "python",
   "pygments_lexer": "ipython3",
   "version": "3.12.9"
  },
  "toc": {
   "base_numbering": 1,
   "nav_menu": {},
   "number_sections": false,
   "sideBar": false,
   "skip_h1_title": false,
   "title_cell": "Table of Contents",
   "title_sidebar": "Contents",
   "toc_cell": false,
   "toc_position": {
    "height": "606.319px",
    "left": "10px",
    "top": "150px",
    "width": "336.889px"
   },
   "toc_section_display": false,
   "toc_window_display": false
  },
  "varInspector": {
   "cols": {
    "lenName": 16,
    "lenType": 16,
    "lenVar": 40
   },
   "kernels_config": {
    "python": {
     "delete_cmd_postfix": "",
     "delete_cmd_prefix": "del ",
     "library": "var_list.py",
     "varRefreshCmd": "print(var_dic_list())"
    },
    "r": {
     "delete_cmd_postfix": ") ",
     "delete_cmd_prefix": "rm(",
     "library": "var_list.r",
     "varRefreshCmd": "cat(var_dic_list()) "
    }
   },
   "types_to_exclude": [
    "module",
    "function",
    "builtin_function_or_method",
    "instance",
    "_Feature"
   ],
   "window_display": false
  }
 },
 "nbformat": 4,
 "nbformat_minor": 4
}
